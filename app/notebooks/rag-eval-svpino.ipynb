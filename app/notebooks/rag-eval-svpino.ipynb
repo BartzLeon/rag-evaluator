{
 "cells": [
  {
   "cell_type": "markdown",
   "metadata": {},
   "source": [
    "# How to evaluate a RAG application\n",
    "\n",
    "This example uses [Langchain](https://www.langchain.com) and [Giskard](https://github.com/Giskard-AI/giskard) to evaluate the quality of a RAG application."
   ]
  },
  {
   "metadata": {
    "ExecuteTime": {
     "end_time": "2025-01-17T06:52:11.070113Z",
     "start_time": "2025-01-17T06:51:47.743870Z"
    }
   },
   "cell_type": "code",
   "source": [
    "#!pip install -r requirements.txt\n",
    "!pip install \"langchain-chroma>=0.1.2\""
   ],
   "outputs": [
    {
     "name": "stdout",
     "output_type": "stream",
     "text": [
      "Collecting langchain-chroma>=0.1.2\r\n",
      "  Downloading langchain_chroma-0.2.0-py3-none-any.whl.metadata (1.7 kB)\r\n",
      "Collecting chromadb!=0.5.10,!=0.5.11,!=0.5.12,!=0.5.4,!=0.5.5,!=0.5.7,!=0.5.9,<0.6.0,>=0.4.0 (from langchain-chroma>=0.1.2)\r\n",
      "  Downloading chromadb-0.5.23-py3-none-any.whl.metadata (6.8 kB)\r\n",
      "Collecting fastapi<1,>=0.95.2 (from langchain-chroma>=0.1.2)\r\n",
      "  Downloading fastapi-0.115.6-py3-none-any.whl.metadata (27 kB)\r\n",
      "Requirement already satisfied: langchain-core!=0.3.0,!=0.3.1,!=0.3.10,!=0.3.11,!=0.3.12,!=0.3.13,!=0.3.14,!=0.3.2,!=0.3.3,!=0.3.4,!=0.3.5,!=0.3.6,!=0.3.7,!=0.3.8,!=0.3.9,<0.4.0,>=0.2.43 in /opt/homebrew/anaconda3/lib/python3.11/site-packages (from langchain-chroma>=0.1.2) (0.3.29)\r\n",
      "Requirement already satisfied: numpy<2.0.0,>=1.22.4 in /opt/homebrew/anaconda3/lib/python3.11/site-packages (from langchain-chroma>=0.1.2) (1.26.4)\r\n",
      "Collecting build>=1.0.3 (from chromadb!=0.5.10,!=0.5.11,!=0.5.12,!=0.5.4,!=0.5.5,!=0.5.7,!=0.5.9,<0.6.0,>=0.4.0->langchain-chroma>=0.1.2)\r\n",
      "  Using cached build-1.2.2.post1-py3-none-any.whl.metadata (6.5 kB)\r\n",
      "Requirement already satisfied: pydantic>=1.9 in /opt/homebrew/anaconda3/lib/python3.11/site-packages (from chromadb!=0.5.10,!=0.5.11,!=0.5.12,!=0.5.4,!=0.5.5,!=0.5.7,!=0.5.9,<0.6.0,>=0.4.0->langchain-chroma>=0.1.2) (2.10.5)\r\n",
      "Collecting chroma-hnswlib==0.7.6 (from chromadb!=0.5.10,!=0.5.11,!=0.5.12,!=0.5.4,!=0.5.5,!=0.5.7,!=0.5.9,<0.6.0,>=0.4.0->langchain-chroma>=0.1.2)\r\n",
      "  Downloading chroma_hnswlib-0.7.6-cp311-cp311-macosx_11_0_arm64.whl.metadata (252 bytes)\r\n",
      "Collecting uvicorn>=0.18.3 (from uvicorn[standard]>=0.18.3->chromadb!=0.5.10,!=0.5.11,!=0.5.12,!=0.5.4,!=0.5.5,!=0.5.7,!=0.5.9,<0.6.0,>=0.4.0->langchain-chroma>=0.1.2)\r\n",
      "  Downloading uvicorn-0.34.0-py3-none-any.whl.metadata (6.5 kB)\r\n",
      "Collecting posthog>=2.4.0 (from chromadb!=0.5.10,!=0.5.11,!=0.5.12,!=0.5.4,!=0.5.5,!=0.5.7,!=0.5.9,<0.6.0,>=0.4.0->langchain-chroma>=0.1.2)\r\n",
      "  Downloading posthog-3.8.3-py2.py3-none-any.whl.metadata (2.7 kB)\r\n",
      "Requirement already satisfied: typing_extensions>=4.5.0 in /opt/homebrew/anaconda3/lib/python3.11/site-packages (from chromadb!=0.5.10,!=0.5.11,!=0.5.12,!=0.5.4,!=0.5.5,!=0.5.7,!=0.5.9,<0.6.0,>=0.4.0->langchain-chroma>=0.1.2) (4.12.2)\r\n",
      "Collecting onnxruntime>=1.14.1 (from chromadb!=0.5.10,!=0.5.11,!=0.5.12,!=0.5.4,!=0.5.5,!=0.5.7,!=0.5.9,<0.6.0,>=0.4.0->langchain-chroma>=0.1.2)\r\n",
      "  Downloading onnxruntime-1.20.1-cp311-cp311-macosx_13_0_universal2.whl.metadata (4.5 kB)\r\n",
      "Requirement already satisfied: opentelemetry-api>=1.2.0 in /opt/homebrew/anaconda3/lib/python3.11/site-packages (from chromadb!=0.5.10,!=0.5.11,!=0.5.12,!=0.5.4,!=0.5.5,!=0.5.7,!=0.5.9,<0.6.0,>=0.4.0->langchain-chroma>=0.1.2) (1.29.0)\r\n",
      "Collecting opentelemetry-exporter-otlp-proto-grpc>=1.2.0 (from chromadb!=0.5.10,!=0.5.11,!=0.5.12,!=0.5.4,!=0.5.5,!=0.5.7,!=0.5.9,<0.6.0,>=0.4.0->langchain-chroma>=0.1.2)\r\n",
      "  Downloading opentelemetry_exporter_otlp_proto_grpc-1.29.0-py3-none-any.whl.metadata (2.2 kB)\r\n",
      "Collecting opentelemetry-instrumentation-fastapi>=0.41b0 (from chromadb!=0.5.10,!=0.5.11,!=0.5.12,!=0.5.4,!=0.5.5,!=0.5.7,!=0.5.9,<0.6.0,>=0.4.0->langchain-chroma>=0.1.2)\r\n",
      "  Downloading opentelemetry_instrumentation_fastapi-0.50b0-py3-none-any.whl.metadata (2.1 kB)\r\n",
      "Requirement already satisfied: opentelemetry-sdk>=1.2.0 in /opt/homebrew/anaconda3/lib/python3.11/site-packages (from chromadb!=0.5.10,!=0.5.11,!=0.5.12,!=0.5.4,!=0.5.5,!=0.5.7,!=0.5.9,<0.6.0,>=0.4.0->langchain-chroma>=0.1.2) (1.29.0)\r\n",
      "Collecting tokenizers<=0.20.3,>=0.13.2 (from chromadb!=0.5.10,!=0.5.11,!=0.5.12,!=0.5.4,!=0.5.5,!=0.5.7,!=0.5.9,<0.6.0,>=0.4.0->langchain-chroma>=0.1.2)\r\n",
      "  Downloading tokenizers-0.20.3-cp311-cp311-macosx_11_0_arm64.whl.metadata (6.7 kB)\r\n",
      "Collecting pypika>=0.48.9 (from chromadb!=0.5.10,!=0.5.11,!=0.5.12,!=0.5.4,!=0.5.5,!=0.5.7,!=0.5.9,<0.6.0,>=0.4.0->langchain-chroma>=0.1.2)\r\n",
      "  Downloading PyPika-0.48.9.tar.gz (67 kB)\r\n",
      "\u001B[2K     \u001B[90m━━━━━━━━━━━━━━━━━━━━━━━━━━━━━━━━━━━━━━━━\u001B[0m \u001B[32m67.3/67.3 kB\u001B[0m \u001B[31m1.6 MB/s\u001B[0m eta \u001B[36m0:00:00\u001B[0ma \u001B[36m0:00:01\u001B[0m\r\n",
      "\u001B[?25h  Installing build dependencies ... \u001B[?25ldone\r\n",
      "\u001B[?25h  Getting requirements to build wheel ... \u001B[?25ldone\r\n",
      "\u001B[?25h  Preparing metadata (pyproject.toml) ... \u001B[?25ldone\r\n",
      "\u001B[?25hRequirement already satisfied: tqdm>=4.65.0 in /opt/homebrew/anaconda3/lib/python3.11/site-packages (from chromadb!=0.5.10,!=0.5.11,!=0.5.12,!=0.5.4,!=0.5.5,!=0.5.7,!=0.5.9,<0.6.0,>=0.4.0->langchain-chroma>=0.1.2) (4.67.1)\r\n",
      "Requirement already satisfied: overrides>=7.3.1 in /opt/homebrew/anaconda3/lib/python3.11/site-packages (from chromadb!=0.5.10,!=0.5.11,!=0.5.12,!=0.5.4,!=0.5.5,!=0.5.7,!=0.5.9,<0.6.0,>=0.4.0->langchain-chroma>=0.1.2) (7.4.0)\r\n",
      "Collecting importlib-resources (from chromadb!=0.5.10,!=0.5.11,!=0.5.12,!=0.5.4,!=0.5.5,!=0.5.7,!=0.5.9,<0.6.0,>=0.4.0->langchain-chroma>=0.1.2)\r\n",
      "  Downloading importlib_resources-6.5.2-py3-none-any.whl.metadata (3.9 kB)\r\n",
      "Collecting grpcio>=1.58.0 (from chromadb!=0.5.10,!=0.5.11,!=0.5.12,!=0.5.4,!=0.5.5,!=0.5.7,!=0.5.9,<0.6.0,>=0.4.0->langchain-chroma>=0.1.2)\r\n",
      "  Downloading grpcio-1.69.0-cp311-cp311-macosx_10_14_universal2.whl.metadata (3.9 kB)\r\n",
      "Collecting bcrypt>=4.0.1 (from chromadb!=0.5.10,!=0.5.11,!=0.5.12,!=0.5.4,!=0.5.5,!=0.5.7,!=0.5.9,<0.6.0,>=0.4.0->langchain-chroma>=0.1.2)\r\n",
      "  Downloading bcrypt-4.2.1-cp39-abi3-macosx_10_12_universal2.whl.metadata (9.8 kB)\r\n",
      "Collecting typer>=0.9.0 (from chromadb!=0.5.10,!=0.5.11,!=0.5.12,!=0.5.4,!=0.5.5,!=0.5.7,!=0.5.9,<0.6.0,>=0.4.0->langchain-chroma>=0.1.2)\r\n",
      "  Downloading typer-0.15.1-py3-none-any.whl.metadata (15 kB)\r\n",
      "Collecting kubernetes>=28.1.0 (from chromadb!=0.5.10,!=0.5.11,!=0.5.12,!=0.5.4,!=0.5.5,!=0.5.7,!=0.5.9,<0.6.0,>=0.4.0->langchain-chroma>=0.1.2)\r\n",
      "  Downloading kubernetes-31.0.0-py2.py3-none-any.whl.metadata (1.5 kB)\r\n",
      "Collecting tenacity>=8.2.3 (from chromadb!=0.5.10,!=0.5.11,!=0.5.12,!=0.5.4,!=0.5.5,!=0.5.7,!=0.5.9,<0.6.0,>=0.4.0->langchain-chroma>=0.1.2)\r\n",
      "  Using cached tenacity-9.0.0-py3-none-any.whl.metadata (1.2 kB)\r\n",
      "Requirement already satisfied: PyYAML>=6.0.0 in /opt/homebrew/anaconda3/lib/python3.11/site-packages (from chromadb!=0.5.10,!=0.5.11,!=0.5.12,!=0.5.4,!=0.5.5,!=0.5.7,!=0.5.9,<0.6.0,>=0.4.0->langchain-chroma>=0.1.2) (6.0.2)\r\n",
      "Collecting mmh3>=4.0.1 (from chromadb!=0.5.10,!=0.5.11,!=0.5.12,!=0.5.4,!=0.5.5,!=0.5.7,!=0.5.9,<0.6.0,>=0.4.0->langchain-chroma>=0.1.2)\r\n",
      "  Downloading mmh3-5.0.1-cp311-cp311-macosx_11_0_arm64.whl.metadata (14 kB)\r\n",
      "Requirement already satisfied: orjson>=3.9.12 in /opt/homebrew/anaconda3/lib/python3.11/site-packages (from chromadb!=0.5.10,!=0.5.11,!=0.5.12,!=0.5.4,!=0.5.5,!=0.5.7,!=0.5.9,<0.6.0,>=0.4.0->langchain-chroma>=0.1.2) (3.10.13)\r\n",
      "Requirement already satisfied: httpx>=0.27.0 in /opt/homebrew/anaconda3/lib/python3.11/site-packages (from chromadb!=0.5.10,!=0.5.11,!=0.5.12,!=0.5.4,!=0.5.5,!=0.5.7,!=0.5.9,<0.6.0,>=0.4.0->langchain-chroma>=0.1.2) (0.27.2)\r\n",
      "Requirement already satisfied: rich>=10.11.0 in /opt/homebrew/anaconda3/lib/python3.11/site-packages (from chromadb!=0.5.10,!=0.5.11,!=0.5.12,!=0.5.4,!=0.5.5,!=0.5.7,!=0.5.9,<0.6.0,>=0.4.0->langchain-chroma>=0.1.2) (13.3.5)\r\n",
      "Collecting starlette<0.42.0,>=0.40.0 (from fastapi<1,>=0.95.2->langchain-chroma>=0.1.2)\r\n",
      "  Downloading starlette-0.41.3-py3-none-any.whl.metadata (6.0 kB)\r\n",
      "Requirement already satisfied: jsonpatch<2.0,>=1.33 in /opt/homebrew/anaconda3/lib/python3.11/site-packages (from langchain-core!=0.3.0,!=0.3.1,!=0.3.10,!=0.3.11,!=0.3.12,!=0.3.13,!=0.3.14,!=0.3.2,!=0.3.3,!=0.3.4,!=0.3.5,!=0.3.6,!=0.3.7,!=0.3.8,!=0.3.9,<0.4.0,>=0.2.43->langchain-chroma>=0.1.2) (1.33)\r\n",
      "Requirement already satisfied: langsmith<0.3,>=0.1.125 in /opt/homebrew/anaconda3/lib/python3.11/site-packages (from langchain-core!=0.3.0,!=0.3.1,!=0.3.10,!=0.3.11,!=0.3.12,!=0.3.13,!=0.3.14,!=0.3.2,!=0.3.3,!=0.3.4,!=0.3.5,!=0.3.6,!=0.3.7,!=0.3.8,!=0.3.9,<0.4.0,>=0.2.43->langchain-chroma>=0.1.2) (0.1.147)\r\n",
      "Requirement already satisfied: packaging<25,>=23.2 in /opt/homebrew/anaconda3/lib/python3.11/site-packages (from langchain-core!=0.3.0,!=0.3.1,!=0.3.10,!=0.3.11,!=0.3.12,!=0.3.13,!=0.3.14,!=0.3.2,!=0.3.3,!=0.3.4,!=0.3.5,!=0.3.6,!=0.3.7,!=0.3.8,!=0.3.9,<0.4.0,>=0.2.43->langchain-chroma>=0.1.2) (24.2)\r\n",
      "Collecting pyproject_hooks (from build>=1.0.3->chromadb!=0.5.10,!=0.5.11,!=0.5.12,!=0.5.4,!=0.5.5,!=0.5.7,!=0.5.9,<0.6.0,>=0.4.0->langchain-chroma>=0.1.2)\r\n",
      "  Using cached pyproject_hooks-1.2.0-py3-none-any.whl.metadata (1.3 kB)\r\n",
      "Requirement already satisfied: anyio in /opt/homebrew/anaconda3/lib/python3.11/site-packages (from httpx>=0.27.0->chromadb!=0.5.10,!=0.5.11,!=0.5.12,!=0.5.4,!=0.5.5,!=0.5.7,!=0.5.9,<0.6.0,>=0.4.0->langchain-chroma>=0.1.2) (4.7.0)\r\n",
      "Requirement already satisfied: certifi in /opt/homebrew/anaconda3/lib/python3.11/site-packages (from httpx>=0.27.0->chromadb!=0.5.10,!=0.5.11,!=0.5.12,!=0.5.4,!=0.5.5,!=0.5.7,!=0.5.9,<0.6.0,>=0.4.0->langchain-chroma>=0.1.2) (2024.12.14)\r\n",
      "Requirement already satisfied: httpcore==1.* in /opt/homebrew/anaconda3/lib/python3.11/site-packages (from httpx>=0.27.0->chromadb!=0.5.10,!=0.5.11,!=0.5.12,!=0.5.4,!=0.5.5,!=0.5.7,!=0.5.9,<0.6.0,>=0.4.0->langchain-chroma>=0.1.2) (1.0.7)\r\n",
      "Requirement already satisfied: idna in /opt/homebrew/anaconda3/lib/python3.11/site-packages (from httpx>=0.27.0->chromadb!=0.5.10,!=0.5.11,!=0.5.12,!=0.5.4,!=0.5.5,!=0.5.7,!=0.5.9,<0.6.0,>=0.4.0->langchain-chroma>=0.1.2) (3.10)\r\n",
      "Requirement already satisfied: sniffio in /opt/homebrew/anaconda3/lib/python3.11/site-packages (from httpx>=0.27.0->chromadb!=0.5.10,!=0.5.11,!=0.5.12,!=0.5.4,!=0.5.5,!=0.5.7,!=0.5.9,<0.6.0,>=0.4.0->langchain-chroma>=0.1.2) (1.3.1)\r\n",
      "Requirement already satisfied: h11<0.15,>=0.13 in /opt/homebrew/anaconda3/lib/python3.11/site-packages (from httpcore==1.*->httpx>=0.27.0->chromadb!=0.5.10,!=0.5.11,!=0.5.12,!=0.5.4,!=0.5.5,!=0.5.7,!=0.5.9,<0.6.0,>=0.4.0->langchain-chroma>=0.1.2) (0.14.0)\r\n",
      "Requirement already satisfied: jsonpointer>=1.9 in /opt/homebrew/anaconda3/lib/python3.11/site-packages (from jsonpatch<2.0,>=1.33->langchain-core!=0.3.0,!=0.3.1,!=0.3.10,!=0.3.11,!=0.3.12,!=0.3.13,!=0.3.14,!=0.3.2,!=0.3.3,!=0.3.4,!=0.3.5,!=0.3.6,!=0.3.7,!=0.3.8,!=0.3.9,<0.4.0,>=0.2.43->langchain-chroma>=0.1.2) (2.1)\r\n",
      "Requirement already satisfied: six>=1.9.0 in /opt/homebrew/anaconda3/lib/python3.11/site-packages (from kubernetes>=28.1.0->chromadb!=0.5.10,!=0.5.11,!=0.5.12,!=0.5.4,!=0.5.5,!=0.5.7,!=0.5.9,<0.6.0,>=0.4.0->langchain-chroma>=0.1.2) (1.16.0)\r\n",
      "Requirement already satisfied: python-dateutil>=2.5.3 in /opt/homebrew/anaconda3/lib/python3.11/site-packages (from kubernetes>=28.1.0->chromadb!=0.5.10,!=0.5.11,!=0.5.12,!=0.5.4,!=0.5.5,!=0.5.7,!=0.5.9,<0.6.0,>=0.4.0->langchain-chroma>=0.1.2) (2.8.2)\r\n",
      "Requirement already satisfied: google-auth>=1.0.1 in /opt/homebrew/anaconda3/lib/python3.11/site-packages (from kubernetes>=28.1.0->chromadb!=0.5.10,!=0.5.11,!=0.5.12,!=0.5.4,!=0.5.5,!=0.5.7,!=0.5.9,<0.6.0,>=0.4.0->langchain-chroma>=0.1.2) (2.37.0)\r\n",
      "Requirement already satisfied: websocket-client!=0.40.0,!=0.41.*,!=0.42.*,>=0.32.0 in /opt/homebrew/anaconda3/lib/python3.11/site-packages (from kubernetes>=28.1.0->chromadb!=0.5.10,!=0.5.11,!=0.5.12,!=0.5.4,!=0.5.5,!=0.5.7,!=0.5.9,<0.6.0,>=0.4.0->langchain-chroma>=0.1.2) (0.58.0)\r\n",
      "Requirement already satisfied: requests in /opt/homebrew/anaconda3/lib/python3.11/site-packages (from kubernetes>=28.1.0->chromadb!=0.5.10,!=0.5.11,!=0.5.12,!=0.5.4,!=0.5.5,!=0.5.7,!=0.5.9,<0.6.0,>=0.4.0->langchain-chroma>=0.1.2) (2.32.3)\r\n",
      "Collecting requests-oauthlib (from kubernetes>=28.1.0->chromadb!=0.5.10,!=0.5.11,!=0.5.12,!=0.5.4,!=0.5.5,!=0.5.7,!=0.5.9,<0.6.0,>=0.4.0->langchain-chroma>=0.1.2)\r\n",
      "  Using cached requests_oauthlib-2.0.0-py2.py3-none-any.whl.metadata (11 kB)\r\n",
      "Collecting oauthlib>=3.2.2 (from kubernetes>=28.1.0->chromadb!=0.5.10,!=0.5.11,!=0.5.12,!=0.5.4,!=0.5.5,!=0.5.7,!=0.5.9,<0.6.0,>=0.4.0->langchain-chroma>=0.1.2)\r\n",
      "  Using cached oauthlib-3.2.2-py3-none-any.whl.metadata (7.5 kB)\r\n",
      "Requirement already satisfied: urllib3>=1.24.2 in /opt/homebrew/anaconda3/lib/python3.11/site-packages (from kubernetes>=28.1.0->chromadb!=0.5.10,!=0.5.11,!=0.5.12,!=0.5.4,!=0.5.5,!=0.5.7,!=0.5.9,<0.6.0,>=0.4.0->langchain-chroma>=0.1.2) (2.3.0)\r\n",
      "Collecting durationpy>=0.7 (from kubernetes>=28.1.0->chromadb!=0.5.10,!=0.5.11,!=0.5.12,!=0.5.4,!=0.5.5,!=0.5.7,!=0.5.9,<0.6.0,>=0.4.0->langchain-chroma>=0.1.2)\r\n",
      "  Downloading durationpy-0.9-py3-none-any.whl.metadata (338 bytes)\r\n",
      "Requirement already satisfied: requests-toolbelt<2.0.0,>=1.0.0 in /opt/homebrew/anaconda3/lib/python3.11/site-packages (from langsmith<0.3,>=0.1.125->langchain-core!=0.3.0,!=0.3.1,!=0.3.10,!=0.3.11,!=0.3.12,!=0.3.13,!=0.3.14,!=0.3.2,!=0.3.3,!=0.3.4,!=0.3.5,!=0.3.6,!=0.3.7,!=0.3.8,!=0.3.9,<0.4.0,>=0.2.43->langchain-chroma>=0.1.2) (1.0.0)\r\n",
      "Collecting coloredlogs (from onnxruntime>=1.14.1->chromadb!=0.5.10,!=0.5.11,!=0.5.12,!=0.5.4,!=0.5.5,!=0.5.7,!=0.5.9,<0.6.0,>=0.4.0->langchain-chroma>=0.1.2)\r\n",
      "  Using cached coloredlogs-15.0.1-py2.py3-none-any.whl.metadata (12 kB)\r\n",
      "Collecting flatbuffers (from onnxruntime>=1.14.1->chromadb!=0.5.10,!=0.5.11,!=0.5.12,!=0.5.4,!=0.5.5,!=0.5.7,!=0.5.9,<0.6.0,>=0.4.0->langchain-chroma>=0.1.2)\r\n",
      "  Downloading flatbuffers-24.12.23-py2.py3-none-any.whl.metadata (876 bytes)\r\n",
      "Requirement already satisfied: protobuf in /opt/homebrew/anaconda3/lib/python3.11/site-packages (from onnxruntime>=1.14.1->chromadb!=0.5.10,!=0.5.11,!=0.5.12,!=0.5.4,!=0.5.5,!=0.5.7,!=0.5.9,<0.6.0,>=0.4.0->langchain-chroma>=0.1.2) (3.20.3)\r\n",
      "Requirement already satisfied: sympy in /opt/homebrew/anaconda3/lib/python3.11/site-packages (from onnxruntime>=1.14.1->chromadb!=0.5.10,!=0.5.11,!=0.5.12,!=0.5.4,!=0.5.5,!=0.5.7,!=0.5.9,<0.6.0,>=0.4.0->langchain-chroma>=0.1.2) (1.13.1)\r\n",
      "Requirement already satisfied: deprecated>=1.2.6 in /opt/homebrew/anaconda3/lib/python3.11/site-packages (from opentelemetry-api>=1.2.0->chromadb!=0.5.10,!=0.5.11,!=0.5.12,!=0.5.4,!=0.5.5,!=0.5.7,!=0.5.9,<0.6.0,>=0.4.0->langchain-chroma>=0.1.2) (1.2.15)\r\n",
      "Requirement already satisfied: importlib-metadata<=8.5.0,>=6.0 in /opt/homebrew/anaconda3/lib/python3.11/site-packages (from opentelemetry-api>=1.2.0->chromadb!=0.5.10,!=0.5.11,!=0.5.12,!=0.5.4,!=0.5.5,!=0.5.7,!=0.5.9,<0.6.0,>=0.4.0->langchain-chroma>=0.1.2) (8.5.0)\r\n",
      "Collecting googleapis-common-protos~=1.52 (from opentelemetry-exporter-otlp-proto-grpc>=1.2.0->chromadb!=0.5.10,!=0.5.11,!=0.5.12,!=0.5.4,!=0.5.5,!=0.5.7,!=0.5.9,<0.6.0,>=0.4.0->langchain-chroma>=0.1.2)\r\n",
      "  Downloading googleapis_common_protos-1.66.0-py2.py3-none-any.whl.metadata (1.5 kB)\r\n",
      "Collecting opentelemetry-exporter-otlp-proto-common==1.29.0 (from opentelemetry-exporter-otlp-proto-grpc>=1.2.0->chromadb!=0.5.10,!=0.5.11,!=0.5.12,!=0.5.4,!=0.5.5,!=0.5.7,!=0.5.9,<0.6.0,>=0.4.0->langchain-chroma>=0.1.2)\r\n",
      "  Downloading opentelemetry_exporter_otlp_proto_common-1.29.0-py3-none-any.whl.metadata (1.8 kB)\r\n",
      "Collecting opentelemetry-proto==1.29.0 (from opentelemetry-exporter-otlp-proto-grpc>=1.2.0->chromadb!=0.5.10,!=0.5.11,!=0.5.12,!=0.5.4,!=0.5.5,!=0.5.7,!=0.5.9,<0.6.0,>=0.4.0->langchain-chroma>=0.1.2)\r\n",
      "  Downloading opentelemetry_proto-1.29.0-py3-none-any.whl.metadata (2.3 kB)\r\n",
      "Collecting protobuf (from onnxruntime>=1.14.1->chromadb!=0.5.10,!=0.5.11,!=0.5.12,!=0.5.4,!=0.5.5,!=0.5.7,!=0.5.9,<0.6.0,>=0.4.0->langchain-chroma>=0.1.2)\r\n",
      "  Downloading protobuf-5.29.3-cp38-abi3-macosx_10_9_universal2.whl.metadata (592 bytes)\r\n",
      "Collecting opentelemetry-instrumentation-asgi==0.50b0 (from opentelemetry-instrumentation-fastapi>=0.41b0->chromadb!=0.5.10,!=0.5.11,!=0.5.12,!=0.5.4,!=0.5.5,!=0.5.7,!=0.5.9,<0.6.0,>=0.4.0->langchain-chroma>=0.1.2)\r\n",
      "  Downloading opentelemetry_instrumentation_asgi-0.50b0-py3-none-any.whl.metadata (1.9 kB)\r\n",
      "Collecting opentelemetry-instrumentation==0.50b0 (from opentelemetry-instrumentation-fastapi>=0.41b0->chromadb!=0.5.10,!=0.5.11,!=0.5.12,!=0.5.4,!=0.5.5,!=0.5.7,!=0.5.9,<0.6.0,>=0.4.0->langchain-chroma>=0.1.2)\r\n",
      "  Downloading opentelemetry_instrumentation-0.50b0-py3-none-any.whl.metadata (6.1 kB)\r\n",
      "Requirement already satisfied: opentelemetry-semantic-conventions==0.50b0 in /opt/homebrew/anaconda3/lib/python3.11/site-packages (from opentelemetry-instrumentation-fastapi>=0.41b0->chromadb!=0.5.10,!=0.5.11,!=0.5.12,!=0.5.4,!=0.5.5,!=0.5.7,!=0.5.9,<0.6.0,>=0.4.0->langchain-chroma>=0.1.2) (0.50b0)\r\n",
      "Collecting opentelemetry-util-http==0.50b0 (from opentelemetry-instrumentation-fastapi>=0.41b0->chromadb!=0.5.10,!=0.5.11,!=0.5.12,!=0.5.4,!=0.5.5,!=0.5.7,!=0.5.9,<0.6.0,>=0.4.0->langchain-chroma>=0.1.2)\r\n",
      "  Downloading opentelemetry_util_http-0.50b0-py3-none-any.whl.metadata (2.5 kB)\r\n",
      "Requirement already satisfied: wrapt<2.0.0,>=1.0.0 in /opt/homebrew/anaconda3/lib/python3.11/site-packages (from opentelemetry-instrumentation==0.50b0->opentelemetry-instrumentation-fastapi>=0.41b0->chromadb!=0.5.10,!=0.5.11,!=0.5.12,!=0.5.4,!=0.5.5,!=0.5.7,!=0.5.9,<0.6.0,>=0.4.0->langchain-chroma>=0.1.2) (1.14.1)\r\n",
      "Collecting asgiref~=3.0 (from opentelemetry-instrumentation-asgi==0.50b0->opentelemetry-instrumentation-fastapi>=0.41b0->chromadb!=0.5.10,!=0.5.11,!=0.5.12,!=0.5.4,!=0.5.5,!=0.5.7,!=0.5.9,<0.6.0,>=0.4.0->langchain-chroma>=0.1.2)\r\n",
      "  Using cached asgiref-3.8.1-py3-none-any.whl.metadata (9.3 kB)\r\n",
      "Collecting monotonic>=1.5 (from posthog>=2.4.0->chromadb!=0.5.10,!=0.5.11,!=0.5.12,!=0.5.4,!=0.5.5,!=0.5.7,!=0.5.9,<0.6.0,>=0.4.0->langchain-chroma>=0.1.2)\r\n",
      "  Using cached monotonic-1.6-py2.py3-none-any.whl.metadata (1.5 kB)\r\n",
      "Collecting backoff>=1.10.0 (from posthog>=2.4.0->chromadb!=0.5.10,!=0.5.11,!=0.5.12,!=0.5.4,!=0.5.5,!=0.5.7,!=0.5.9,<0.6.0,>=0.4.0->langchain-chroma>=0.1.2)\r\n",
      "  Using cached backoff-2.2.1-py3-none-any.whl.metadata (14 kB)\r\n",
      "Requirement already satisfied: annotated-types>=0.6.0 in /opt/homebrew/anaconda3/lib/python3.11/site-packages (from pydantic>=1.9->chromadb!=0.5.10,!=0.5.11,!=0.5.12,!=0.5.4,!=0.5.5,!=0.5.7,!=0.5.9,<0.6.0,>=0.4.0->langchain-chroma>=0.1.2) (0.7.0)\r\n",
      "Requirement already satisfied: pydantic-core==2.27.2 in /opt/homebrew/anaconda3/lib/python3.11/site-packages (from pydantic>=1.9->chromadb!=0.5.10,!=0.5.11,!=0.5.12,!=0.5.4,!=0.5.5,!=0.5.7,!=0.5.9,<0.6.0,>=0.4.0->langchain-chroma>=0.1.2) (2.27.2)\r\n",
      "Requirement already satisfied: markdown-it-py<3.0.0,>=2.2.0 in /opt/homebrew/anaconda3/lib/python3.11/site-packages (from rich>=10.11.0->chromadb!=0.5.10,!=0.5.11,!=0.5.12,!=0.5.4,!=0.5.5,!=0.5.7,!=0.5.9,<0.6.0,>=0.4.0->langchain-chroma>=0.1.2) (2.2.0)\r\n",
      "Requirement already satisfied: pygments<3.0.0,>=2.13.0 in /opt/homebrew/anaconda3/lib/python3.11/site-packages (from rich>=10.11.0->chromadb!=0.5.10,!=0.5.11,!=0.5.12,!=0.5.4,!=0.5.5,!=0.5.7,!=0.5.9,<0.6.0,>=0.4.0->langchain-chroma>=0.1.2) (2.15.1)\r\n",
      "Requirement already satisfied: huggingface-hub<1.0,>=0.16.4 in /opt/homebrew/anaconda3/lib/python3.11/site-packages (from tokenizers<=0.20.3,>=0.13.2->chromadb!=0.5.10,!=0.5.11,!=0.5.12,!=0.5.4,!=0.5.5,!=0.5.7,!=0.5.9,<0.6.0,>=0.4.0->langchain-chroma>=0.1.2) (0.27.0)\r\n",
      "Requirement already satisfied: click>=8.0.0 in /opt/homebrew/anaconda3/lib/python3.11/site-packages (from typer>=0.9.0->chromadb!=0.5.10,!=0.5.11,!=0.5.12,!=0.5.4,!=0.5.5,!=0.5.7,!=0.5.9,<0.6.0,>=0.4.0->langchain-chroma>=0.1.2) (8.1.8)\r\n",
      "Collecting shellingham>=1.3.0 (from typer>=0.9.0->chromadb!=0.5.10,!=0.5.11,!=0.5.12,!=0.5.4,!=0.5.5,!=0.5.7,!=0.5.9,<0.6.0,>=0.4.0->langchain-chroma>=0.1.2)\r\n",
      "  Using cached shellingham-1.5.4-py2.py3-none-any.whl.metadata (3.5 kB)\r\n",
      "Collecting httptools>=0.6.3 (from uvicorn[standard]>=0.18.3->chromadb!=0.5.10,!=0.5.11,!=0.5.12,!=0.5.4,!=0.5.5,!=0.5.7,!=0.5.9,<0.6.0,>=0.4.0->langchain-chroma>=0.1.2)\r\n",
      "  Downloading httptools-0.6.4-cp311-cp311-macosx_11_0_arm64.whl.metadata (3.6 kB)\r\n",
      "Requirement already satisfied: python-dotenv>=0.13 in /opt/homebrew/anaconda3/lib/python3.11/site-packages (from uvicorn[standard]>=0.18.3->chromadb!=0.5.10,!=0.5.11,!=0.5.12,!=0.5.4,!=0.5.5,!=0.5.7,!=0.5.9,<0.6.0,>=0.4.0->langchain-chroma>=0.1.2) (1.0.1)\r\n",
      "Collecting uvloop!=0.15.0,!=0.15.1,>=0.14.0 (from uvicorn[standard]>=0.18.3->chromadb!=0.5.10,!=0.5.11,!=0.5.12,!=0.5.4,!=0.5.5,!=0.5.7,!=0.5.9,<0.6.0,>=0.4.0->langchain-chroma>=0.1.2)\r\n",
      "  Downloading uvloop-0.21.0-cp311-cp311-macosx_10_9_universal2.whl.metadata (4.9 kB)\r\n",
      "Collecting watchfiles>=0.13 (from uvicorn[standard]>=0.18.3->chromadb!=0.5.10,!=0.5.11,!=0.5.12,!=0.5.4,!=0.5.5,!=0.5.7,!=0.5.9,<0.6.0,>=0.4.0->langchain-chroma>=0.1.2)\r\n",
      "  Downloading watchfiles-1.0.4-cp311-cp311-macosx_11_0_arm64.whl.metadata (4.9 kB)\r\n",
      "Collecting websockets>=10.4 (from uvicorn[standard]>=0.18.3->chromadb!=0.5.10,!=0.5.11,!=0.5.12,!=0.5.4,!=0.5.5,!=0.5.7,!=0.5.9,<0.6.0,>=0.4.0->langchain-chroma>=0.1.2)\r\n",
      "  Downloading websockets-14.1-cp311-cp311-macosx_11_0_arm64.whl.metadata (6.7 kB)\r\n",
      "Requirement already satisfied: cachetools<6.0,>=2.0.0 in /opt/homebrew/anaconda3/lib/python3.11/site-packages (from google-auth>=1.0.1->kubernetes>=28.1.0->chromadb!=0.5.10,!=0.5.11,!=0.5.12,!=0.5.4,!=0.5.5,!=0.5.7,!=0.5.9,<0.6.0,>=0.4.0->langchain-chroma>=0.1.2) (5.5.0)\r\n",
      "Requirement already satisfied: pyasn1-modules>=0.2.1 in /opt/homebrew/anaconda3/lib/python3.11/site-packages (from google-auth>=1.0.1->kubernetes>=28.1.0->chromadb!=0.5.10,!=0.5.11,!=0.5.12,!=0.5.4,!=0.5.5,!=0.5.7,!=0.5.9,<0.6.0,>=0.4.0->langchain-chroma>=0.1.2) (0.2.8)\r\n",
      "Requirement already satisfied: rsa<5,>=3.1.4 in /opt/homebrew/anaconda3/lib/python3.11/site-packages (from google-auth>=1.0.1->kubernetes>=28.1.0->chromadb!=0.5.10,!=0.5.11,!=0.5.12,!=0.5.4,!=0.5.5,!=0.5.7,!=0.5.9,<0.6.0,>=0.4.0->langchain-chroma>=0.1.2) (4.9)\r\n",
      "Requirement already satisfied: filelock in /opt/homebrew/anaconda3/lib/python3.11/site-packages (from huggingface-hub<1.0,>=0.16.4->tokenizers<=0.20.3,>=0.13.2->chromadb!=0.5.10,!=0.5.11,!=0.5.12,!=0.5.4,!=0.5.5,!=0.5.7,!=0.5.9,<0.6.0,>=0.4.0->langchain-chroma>=0.1.2) (3.16.1)\r\n",
      "Requirement already satisfied: fsspec>=2023.5.0 in /opt/homebrew/anaconda3/lib/python3.11/site-packages (from huggingface-hub<1.0,>=0.16.4->tokenizers<=0.20.3,>=0.13.2->chromadb!=0.5.10,!=0.5.11,!=0.5.12,!=0.5.4,!=0.5.5,!=0.5.7,!=0.5.9,<0.6.0,>=0.4.0->langchain-chroma>=0.1.2) (2024.9.0)\r\n",
      "Requirement already satisfied: zipp>=3.20 in /opt/homebrew/anaconda3/lib/python3.11/site-packages (from importlib-metadata<=8.5.0,>=6.0->opentelemetry-api>=1.2.0->chromadb!=0.5.10,!=0.5.11,!=0.5.12,!=0.5.4,!=0.5.5,!=0.5.7,!=0.5.9,<0.6.0,>=0.4.0->langchain-chroma>=0.1.2) (3.21.0)\r\n",
      "Requirement already satisfied: mdurl~=0.1 in /opt/homebrew/anaconda3/lib/python3.11/site-packages (from markdown-it-py<3.0.0,>=2.2.0->rich>=10.11.0->chromadb!=0.5.10,!=0.5.11,!=0.5.12,!=0.5.4,!=0.5.5,!=0.5.7,!=0.5.9,<0.6.0,>=0.4.0->langchain-chroma>=0.1.2) (0.1.0)\r\n",
      "Requirement already satisfied: charset_normalizer<4,>=2 in /opt/homebrew/anaconda3/lib/python3.11/site-packages (from requests->kubernetes>=28.1.0->chromadb!=0.5.10,!=0.5.11,!=0.5.12,!=0.5.4,!=0.5.5,!=0.5.7,!=0.5.9,<0.6.0,>=0.4.0->langchain-chroma>=0.1.2) (3.4.1)\r\n",
      "Collecting humanfriendly>=9.1 (from coloredlogs->onnxruntime>=1.14.1->chromadb!=0.5.10,!=0.5.11,!=0.5.12,!=0.5.4,!=0.5.5,!=0.5.7,!=0.5.9,<0.6.0,>=0.4.0->langchain-chroma>=0.1.2)\r\n",
      "  Using cached humanfriendly-10.0-py2.py3-none-any.whl.metadata (9.2 kB)\r\n",
      "Requirement already satisfied: mpmath<1.4,>=1.1.0 in /opt/homebrew/anaconda3/lib/python3.11/site-packages (from sympy->onnxruntime>=1.14.1->chromadb!=0.5.10,!=0.5.11,!=0.5.12,!=0.5.4,!=0.5.5,!=0.5.7,!=0.5.9,<0.6.0,>=0.4.0->langchain-chroma>=0.1.2) (1.3.0)\r\n",
      "Requirement already satisfied: pyasn1<0.5.0,>=0.4.6 in /opt/homebrew/anaconda3/lib/python3.11/site-packages (from pyasn1-modules>=0.2.1->google-auth>=1.0.1->kubernetes>=28.1.0->chromadb!=0.5.10,!=0.5.11,!=0.5.12,!=0.5.4,!=0.5.5,!=0.5.7,!=0.5.9,<0.6.0,>=0.4.0->langchain-chroma>=0.1.2) (0.4.8)\r\n",
      "Downloading langchain_chroma-0.2.0-py3-none-any.whl (11 kB)\r\n",
      "Downloading chromadb-0.5.23-py3-none-any.whl (628 kB)\r\n",
      "\u001B[2K   \u001B[90m━━━━━━━━━━━━━━━━━━━━━━━━━━━━━━━━━━━━━━━━\u001B[0m \u001B[32m628.3/628.3 kB\u001B[0m \u001B[31m7.1 MB/s\u001B[0m eta \u001B[36m0:00:00\u001B[0ma \u001B[36m0:00:01\u001B[0m\r\n",
      "\u001B[?25hDownloading chroma_hnswlib-0.7.6-cp311-cp311-macosx_11_0_arm64.whl (185 kB)\r\n",
      "\u001B[2K   \u001B[90m━━━━━━━━━━━━━━━━━━━━━━━━━━━━━━━━━━━━━━━━\u001B[0m \u001B[32m185.0/185.0 kB\u001B[0m \u001B[31m13.4 MB/s\u001B[0m eta \u001B[36m0:00:00\u001B[0m\r\n",
      "\u001B[?25hDownloading fastapi-0.115.6-py3-none-any.whl (94 kB)\r\n",
      "\u001B[2K   \u001B[90m━━━━━━━━━━━━━━━━━━━━━━━━━━━━━━━━━━━━━━━━\u001B[0m \u001B[32m94.8/94.8 kB\u001B[0m \u001B[31m6.8 MB/s\u001B[0m eta \u001B[36m0:00:00\u001B[0m\r\n",
      "\u001B[?25hDownloading bcrypt-4.2.1-cp39-abi3-macosx_10_12_universal2.whl (489 kB)\r\n",
      "\u001B[2K   \u001B[90m━━━━━━━━━━━━━━━━━━━━━━━━━━━━━━━━━━━━━━━━\u001B[0m \u001B[32m489.8/489.8 kB\u001B[0m \u001B[31m9.1 MB/s\u001B[0m eta \u001B[36m0:00:00\u001B[0ma \u001B[36m0:00:01\u001B[0m\r\n",
      "\u001B[?25hUsing cached build-1.2.2.post1-py3-none-any.whl (22 kB)\r\n",
      "Downloading grpcio-1.69.0-cp311-cp311-macosx_10_14_universal2.whl (11.1 MB)\r\n",
      "\u001B[2K   \u001B[90m━━━━━━━━━━━━━━━━━━━━━━━━━━━━━━━━━━━━━━━━\u001B[0m \u001B[32m11.1/11.1 MB\u001B[0m \u001B[31m15.9 MB/s\u001B[0m eta \u001B[36m0:00:00\u001B[0m00:01\u001B[0m00:01\u001B[0m\r\n",
      "\u001B[?25hDownloading kubernetes-31.0.0-py2.py3-none-any.whl (1.9 MB)\r\n",
      "\u001B[2K   \u001B[90m━━━━━━━━━━━━━━━━━━━━━━━━━━━━━━━━━━━━━━━━\u001B[0m \u001B[32m1.9/1.9 MB\u001B[0m \u001B[31m16.2 MB/s\u001B[0m eta \u001B[36m0:00:00\u001B[0m00:01\u001B[0m00:01\u001B[0m\r\n",
      "\u001B[?25hDownloading mmh3-5.0.1-cp311-cp311-macosx_11_0_arm64.whl (38 kB)\r\n",
      "Downloading onnxruntime-1.20.1-cp311-cp311-macosx_13_0_universal2.whl (31.0 MB)\r\n",
      "\u001B[2K   \u001B[90m━━━━━━━━━━━━━━━━━━━━━━━━━━━━━━━━━━━━━━━━\u001B[0m \u001B[32m31.0/31.0 MB\u001B[0m \u001B[31m16.1 MB/s\u001B[0m eta \u001B[36m0:00:00\u001B[0m00:01\u001B[0m00:01\u001B[0m\r\n",
      "\u001B[?25hDownloading opentelemetry_exporter_otlp_proto_grpc-1.29.0-py3-none-any.whl (18 kB)\r\n",
      "Downloading opentelemetry_exporter_otlp_proto_common-1.29.0-py3-none-any.whl (18 kB)\r\n",
      "Downloading opentelemetry_proto-1.29.0-py3-none-any.whl (55 kB)\r\n",
      "\u001B[2K   \u001B[90m━━━━━━━━━━━━━━━━━━━━━━━━━━━━━━━━━━━━━━━━\u001B[0m \u001B[32m55.8/55.8 kB\u001B[0m \u001B[31m4.7 MB/s\u001B[0m eta \u001B[36m0:00:00\u001B[0m\r\n",
      "\u001B[?25hDownloading opentelemetry_instrumentation_fastapi-0.50b0-py3-none-any.whl (12 kB)\r\n",
      "Downloading opentelemetry_instrumentation-0.50b0-py3-none-any.whl (30 kB)\r\n",
      "Downloading opentelemetry_instrumentation_asgi-0.50b0-py3-none-any.whl (16 kB)\r\n",
      "Downloading opentelemetry_util_http-0.50b0-py3-none-any.whl (6.9 kB)\r\n",
      "Downloading posthog-3.8.3-py2.py3-none-any.whl (64 kB)\r\n",
      "\u001B[2K   \u001B[90m━━━━━━━━━━━━━━━━━━━━━━━━━━━━━━━━━━━━━━━━\u001B[0m \u001B[32m64.7/64.7 kB\u001B[0m \u001B[31m6.7 MB/s\u001B[0m eta \u001B[36m0:00:00\u001B[0m\r\n",
      "\u001B[?25hDownloading starlette-0.41.3-py3-none-any.whl (73 kB)\r\n",
      "\u001B[2K   \u001B[90m━━━━━━━━━━━━━━━━━━━━━━━━━━━━━━━━━━━━━━━━\u001B[0m \u001B[32m73.2/73.2 kB\u001B[0m \u001B[31m9.0 MB/s\u001B[0m eta \u001B[36m0:00:00\u001B[0m\r\n",
      "\u001B[?25hUsing cached tenacity-9.0.0-py3-none-any.whl (28 kB)\r\n",
      "Downloading tokenizers-0.20.3-cp311-cp311-macosx_11_0_arm64.whl (2.6 MB)\r\n",
      "\u001B[2K   \u001B[90m━━━━━━━━━━━━━━━━━━━━━━━━━━━━━━━━━━━━━━━━\u001B[0m \u001B[32m2.6/2.6 MB\u001B[0m \u001B[31m16.6 MB/s\u001B[0m eta \u001B[36m0:00:00\u001B[0m00:01\u001B[0m00:01\u001B[0m\r\n",
      "\u001B[?25hDownloading typer-0.15.1-py3-none-any.whl (44 kB)\r\n",
      "\u001B[2K   \u001B[90m━━━━━━━━━━━━━━━━━━━━━━━━━━━━━━━━━━━━━━━━\u001B[0m \u001B[32m44.9/44.9 kB\u001B[0m \u001B[31m3.9 MB/s\u001B[0m eta \u001B[36m0:00:00\u001B[0m\r\n",
      "\u001B[?25hDownloading uvicorn-0.34.0-py3-none-any.whl (62 kB)\r\n",
      "\u001B[2K   \u001B[90m━━━━━━━━━━━━━━━━━━━━━━━━━━━━━━━━━━━━━━━━\u001B[0m \u001B[32m62.3/62.3 kB\u001B[0m \u001B[31m5.7 MB/s\u001B[0m eta \u001B[36m0:00:00\u001B[0m\r\n",
      "\u001B[?25hDownloading importlib_resources-6.5.2-py3-none-any.whl (37 kB)\r\n",
      "Using cached backoff-2.2.1-py3-none-any.whl (15 kB)\r\n",
      "Downloading durationpy-0.9-py3-none-any.whl (3.5 kB)\r\n",
      "Downloading googleapis_common_protos-1.66.0-py2.py3-none-any.whl (221 kB)\r\n",
      "\u001B[2K   \u001B[90m━━━━━━━━━━━━━━━━━━━━━━━━━━━━━━━━━━━━━━━━\u001B[0m \u001B[32m221.7/221.7 kB\u001B[0m \u001B[31m10.8 MB/s\u001B[0m eta \u001B[36m0:00:00\u001B[0m\r\n",
      "\u001B[?25hDownloading httptools-0.6.4-cp311-cp311-macosx_11_0_arm64.whl (103 kB)\r\n",
      "\u001B[2K   \u001B[90m━━━━━━━━━━━━━━━━━━━━━━━━━━━━━━━━━━━━━━━━\u001B[0m \u001B[32m103.5/103.5 kB\u001B[0m \u001B[31m9.4 MB/s\u001B[0m eta \u001B[36m0:00:00\u001B[0m\r\n",
      "\u001B[?25hUsing cached monotonic-1.6-py2.py3-none-any.whl (8.2 kB)\r\n",
      "Using cached oauthlib-3.2.2-py3-none-any.whl (151 kB)\r\n",
      "Downloading protobuf-5.29.3-cp38-abi3-macosx_10_9_universal2.whl (417 kB)\r\n",
      "\u001B[2K   \u001B[90m━━━━━━━━━━━━━━━━━━━━━━━━━━━━━━━━━━━━━━━━\u001B[0m \u001B[32m417.8/417.8 kB\u001B[0m \u001B[31m13.8 MB/s\u001B[0m eta \u001B[36m0:00:00\u001B[0m\r\n",
      "\u001B[?25hUsing cached shellingham-1.5.4-py2.py3-none-any.whl (9.8 kB)\r\n",
      "Downloading uvloop-0.21.0-cp311-cp311-macosx_10_9_universal2.whl (1.4 MB)\r\n",
      "\u001B[2K   \u001B[90m━━━━━━━━━━━━━━━━━━━━━━━━━━━━━━━━━━━━━━━━\u001B[0m \u001B[32m1.4/1.4 MB\u001B[0m \u001B[31m15.6 MB/s\u001B[0m eta \u001B[36m0:00:00\u001B[0ma \u001B[36m0:00:01\u001B[0m\r\n",
      "\u001B[?25hDownloading watchfiles-1.0.4-cp311-cp311-macosx_11_0_arm64.whl (384 kB)\r\n",
      "\u001B[2K   \u001B[90m━━━━━━━━━━━━━━━━━━━━━━━━━━━━━━━━━━━━━━━━\u001B[0m \u001B[32m384.9/384.9 kB\u001B[0m \u001B[31m14.0 MB/s\u001B[0m eta \u001B[36m0:00:00\u001B[0m\r\n",
      "\u001B[?25hDownloading websockets-14.1-cp311-cp311-macosx_11_0_arm64.whl (159 kB)\r\n",
      "\u001B[2K   \u001B[90m━━━━━━━━━━━━━━━━━━━━━━━━━━━━━━━━━━━━━━━━\u001B[0m \u001B[32m159.9/159.9 kB\u001B[0m \u001B[31m6.4 MB/s\u001B[0m eta \u001B[36m0:00:00\u001B[0m\r\n",
      "\u001B[?25hUsing cached coloredlogs-15.0.1-py2.py3-none-any.whl (46 kB)\r\n",
      "Downloading flatbuffers-24.12.23-py2.py3-none-any.whl (30 kB)\r\n",
      "Using cached pyproject_hooks-1.2.0-py3-none-any.whl (10 kB)\r\n",
      "Using cached requests_oauthlib-2.0.0-py2.py3-none-any.whl (24 kB)\r\n",
      "Using cached asgiref-3.8.1-py3-none-any.whl (23 kB)\r\n",
      "Using cached humanfriendly-10.0-py2.py3-none-any.whl (86 kB)\r\n",
      "Building wheels for collected packages: pypika\r\n",
      "  Building wheel for pypika (pyproject.toml) ... \u001B[?25ldone\r\n",
      "\u001B[?25h  Created wheel for pypika: filename=PyPika-0.48.9-py2.py3-none-any.whl size=53771 sha256=63115a78e2926cdc8f50f88295c086f1c45c0d57ca875c3132079f51e494eb28\r\n",
      "  Stored in directory: /Users/leonbartz/Library/Caches/pip/wheels/a3/01/bd/4c40ceb9d5354160cb186dcc153360f4ab7eb23e2b24daf96d\r\n",
      "Successfully built pypika\r\n",
      "Installing collected packages: pypika, monotonic, flatbuffers, durationpy, websockets, uvloop, uvicorn, tenacity, shellingham, pyproject_hooks, protobuf, opentelemetry-util-http, oauthlib, mmh3, importlib-resources, humanfriendly, httptools, grpcio, chroma-hnswlib, bcrypt, backoff, asgiref, watchfiles, starlette, requests-oauthlib, posthog, opentelemetry-proto, googleapis-common-protos, coloredlogs, build, typer, tokenizers, opentelemetry-exporter-otlp-proto-common, onnxruntime, kubernetes, fastapi, opentelemetry-instrumentation, opentelemetry-instrumentation-asgi, opentelemetry-exporter-otlp-proto-grpc, opentelemetry-instrumentation-fastapi, chromadb, langchain-chroma\r\n",
      "  Attempting uninstall: tenacity\r\n",
      "    Found existing installation: tenacity 8.2.2\r\n",
      "    Uninstalling tenacity-8.2.2:\r\n",
      "      Successfully uninstalled tenacity-8.2.2\r\n",
      "  Attempting uninstall: protobuf\r\n",
      "    Found existing installation: protobuf 3.20.3\r\n",
      "    Uninstalling protobuf-3.20.3:\r\n",
      "      Successfully uninstalled protobuf-3.20.3\r\n",
      "  Attempting uninstall: bcrypt\r\n",
      "    Found existing installation: bcrypt 3.2.0\r\n",
      "    Uninstalling bcrypt-3.2.0:\r\n",
      "      Successfully uninstalled bcrypt-3.2.0\r\n",
      "  Attempting uninstall: tokenizers\r\n",
      "    Found existing installation: tokenizers 0.21.0\r\n",
      "    Uninstalling tokenizers-0.21.0:\r\n",
      "      Successfully uninstalled tokenizers-0.21.0\r\n",
      "\u001B[31mERROR: pip's dependency resolver does not currently take into account all the packages that are installed. This behaviour is the source of the following dependency conflicts.\r\n",
      "streamlit 1.30.0 requires importlib-metadata<8,>=1.4, but you have importlib-metadata 8.5.0 which is incompatible.\r\n",
      "streamlit 1.30.0 requires packaging<24,>=16.8, but you have packaging 24.2 which is incompatible.\r\n",
      "streamlit 1.30.0 requires protobuf<5,>=3.20, but you have protobuf 5.29.3 which is incompatible.\r\n",
      "streamlit 1.30.0 requires tenacity<9,>=8.1.0, but you have tenacity 9.0.0 which is incompatible.\r\n",
      "transformers 4.48.0 requires tokenizers<0.22,>=0.21, but you have tokenizers 0.20.3 which is incompatible.\u001B[0m\u001B[31m\r\n",
      "\u001B[0mSuccessfully installed asgiref-3.8.1 backoff-2.2.1 bcrypt-4.2.1 build-1.2.2.post1 chroma-hnswlib-0.7.6 chromadb-0.5.23 coloredlogs-15.0.1 durationpy-0.9 fastapi-0.115.6 flatbuffers-24.12.23 googleapis-common-protos-1.66.0 grpcio-1.69.0 httptools-0.6.4 humanfriendly-10.0 importlib-resources-6.5.2 kubernetes-31.0.0 langchain-chroma-0.2.0 mmh3-5.0.1 monotonic-1.6 oauthlib-3.2.2 onnxruntime-1.20.1 opentelemetry-exporter-otlp-proto-common-1.29.0 opentelemetry-exporter-otlp-proto-grpc-1.29.0 opentelemetry-instrumentation-0.50b0 opentelemetry-instrumentation-asgi-0.50b0 opentelemetry-instrumentation-fastapi-0.50b0 opentelemetry-proto-1.29.0 opentelemetry-util-http-0.50b0 posthog-3.8.3 protobuf-5.29.3 pypika-0.48.9 pyproject_hooks-1.2.0 requests-oauthlib-2.0.0 shellingham-1.5.4 starlette-0.41.3 tenacity-9.0.0 tokenizers-0.20.3 typer-0.15.1 uvicorn-0.34.0 uvloop-0.21.0 watchfiles-1.0.4 websockets-14.1\r\n"
     ]
    }
   ],
   "execution_count": 18
  },
  {
   "cell_type": "code",
   "metadata": {
    "ExecuteTime": {
     "end_time": "2025-01-18T17:35:45.352173Z",
     "start_time": "2025-01-18T17:35:45.339372Z"
    }
   },
   "source": [
    "import os\n",
    "from dotenv import load_dotenv\n",
    "\n",
    "load_dotenv()\n",
    "\n",
    "OPENAI_API_KEY = os.getenv(\"OPENAI_API_KEY\")\n",
    "MODEL = \"gpt-4-turbo\""
   ],
   "outputs": [],
   "execution_count": 27
  },
  {
   "cell_type": "markdown",
   "metadata": {},
   "source": [
    "## Scrape the Website and Split the Content"
   ]
  },
  {
   "cell_type": "code",
   "metadata": {
    "ExecuteTime": {
     "end_time": "2025-01-17T06:39:00.845451Z",
     "start_time": "2025-01-17T06:38:58.639992Z"
    }
   },
   "source": [
    "from langchain_community.document_loaders import WebBaseLoader\n",
    "from langchain.text_splitter import RecursiveCharacterTextSplitter\n",
    "\n",
    "text_splitter = RecursiveCharacterTextSplitter(chunk_size=1000, chunk_overlap=20)\n",
    "\n",
    "loader = WebBaseLoader(\"https://www.ml.school/\")\n",
    "documents = loader.load_and_split(text_splitter)\n",
    "documents"
   ],
   "outputs": [
    {
     "name": "stderr",
     "output_type": "stream",
     "text": [
      "USER_AGENT environment variable not set, consider setting it to identify your requests.\n"
     ]
    },
    {
     "data": {
      "text/plain": [
       "[Document(metadata={'source': 'https://www.ml.school/', 'title': \"Building Machine Learning Systems That Don't Suck\", 'description': \"A live, interactive program that'll help you build production-ready machine learning systems from the ground up.\", 'language': 'en'}, page_content='Building Machine Learning Systems That Don\\'t Suck\"This is the best machine learning course I\\'ve done. Worth every cent.\"Jose Reyes, AI/ML at Cevo AustraliaBuilding Machine Learning Systems That Don\\'t SuckA live, interactive program that\\'ll help you build production-ready machine learning systems from the ground up.Next cohort:\\xa0February 3 - 20, 2025Check the schedule for more details about upcoming cohorts.I want to join!Sign inLearn how to design, build, deploy, and scale machine learning systems to solve real-world problems.I\\'ll lose my mind if I see another book or course teaching people the same basic ideas for the hundredth time. Most people are stuck in beginner mode, and finding help to solve real-world problems is hard.I want to change that.I started writing software 30 years ago. I\\'ve written pipelines and trained models for some of the largest companies in the world. I want to show you how to do the same.This is the class I wish I had taken when I started.This program will'),\n",
       " Document(metadata={'source': 'https://www.ml.school/', 'title': \"Building Machine Learning Systems That Don't Suck\", 'description': \"A live, interactive program that'll help you build production-ready machine learning systems from the ground up.\", 'language': 'en'}, page_content=\"program will help you unlearn what you think machine learning is. It's a practical, hands-on class where you'll learn from years of experience and real-world examples.When you join, you get lifetime access to the following:18 hours of live, interactive sessions. We'll use this time to discuss the first principles behind building machine learning systems.10 hours of step-by-step coding instructions. These practical sessions will show you how to build an end-to-end system from scratch.A final project where you'll build a complete solution and receive direct feedback on your work.100 coding assignments and practice questions.The entire source code of a working production system. It's yours. You can change and use it as you see fit.A private community where you'll collaborate with thousands of people from different backgrounds.Direct access to your instructor.Lifetime access to every past and future cohort.Program certificate upon completion.And the best part is that you only pay once to\"),\n",
       " Document(metadata={'source': 'https://www.ml.school/', 'title': \"Building Machine Learning Systems That Don't Suck\", 'description': \"A live, interactive program that'll help you build production-ready machine learning systems from the ground up.\", 'language': 'en'}, page_content=\"only pay once to join. There are no monthly fees. No annual fees. No hidden costs. You pay once to join and benefit forever until the end of time.The program won't be easy. It'll take time and effort. But if you want to use machine learning to solve real-world problems, this is the class you don't want to miss.Who Is This Program For?This is a practical, hands-on program for technical professionals who are ready to put in the work.This program is for software engineers, data scientists, data analysts, machine learning engineers, technical managers, and anyone anyone who wants to use machine learning to solve real-world problems.Here are the criteria to succeed in the program:You have experience writing code. We'll use Python throughout the class, but you won't have any problems if you know any other language.You are familiar with basic machine learning terminology. This is not an introductory class. We'll move quickly over the basics to focus on the fundamental ideas that make systems\"),\n",
       " Document(metadata={'source': 'https://www.ml.school/', 'title': \"Building Machine Learning Systems That Don't Suck\", 'description': \"A live, interactive program that'll help you build production-ready machine learning systems from the ground up.\", 'language': 'en'}, page_content='that make systems work.You are ready to put in the work to succeed.\"I have learned a ton from Santiago in his class and it was actually what helped inspire me and get into the MLOps work that I\\'m doing now. Truly one of the most helpful online courses for doing real, full-scale machine learning.\"Brian H. HoughSoftware EngineerWhat Will You Learn?You\\'ll come out with practical skills and insights into what it takes to build systems that work in the real world.Here is a summary of what makes this program unique:You\\'ll design and write the code to build an end-to-end machine learning system starting from scratch.You\\'ll learn best practices to tackle the most significant challenges machine learning engineers face to build, evaluate, run, monitor, and maintain machine learning systems in real-world scenarios.You\\'ll learn how to use techniques like active learning, distributed training, adversarial validation, human-in-the-loop deployments, model compression, test-time augmentation, testing'),\n",
       " Document(metadata={'source': 'https://www.ml.school/', 'title': \"Building Machine Learning Systems That Don't Suck\", 'description': \"A live, interactive program that'll help you build production-ready machine learning systems from the ground up.\", 'language': 'en'}, page_content=\"testing in production, among many others.You'll learn how to create training, deploying, monitoring, and inference pipelines using Amazon SageMaker and open-source tools.Forget about theoretical concepts. This program will show you some of the things I've learned from real-life examples I've built during more than 30 years in the industry.Check the program syllabus\\xa0→Real-life examples and case studiesLearn from practical experience building machine learning systems that work in the real world.Live, interactive sessionsAsk questions and interact with the instructor and other students in real time.Code walkthroughsStep by step coding instructions to help you build a production system from scratch.Upcoming ScheduleEvery iteration of the program gives you 18 hours of hands-on, live training spread over 3 weeks.Here are the upcoming cohorts:Cohort 17: February 3 - February 20, 2025. 10:00 AM ESTLive sessions will take place every Monday and Thursday at the same time. On Wednesdays, we'll\"),\n",
       " Document(metadata={'source': 'https://www.ml.school/', 'title': \"Building Machine Learning Systems That Don't Suck\", 'description': \"A live, interactive program that'll help you build production-ready machine learning systems from the ground up.\", 'language': 'en'}, page_content='Wednesdays, we\\'ll host office hours when you can bring your questions projects or anything else you want to discuss.Monday: Live session. 2 hours.Tuesday: Individual work.Wednesday: Optional office hours.Thursday: Live session. 2 hours.Friday: Individual work.Do not wait for a specific cohort to join the program. You have lifetime access to every past and future cohort, and the sooner you join, the more time you have to prepare.Every session is recorded. You can attend live or watch the recorded version later.\"This is one of the best classes I\\'ve ever purchased over the internet. Santiago is a terrific teacher. The ability he has to share knowledge is fantastic. I recommend this course. Worth 10x what he\\'s charging.\"Sal DiStefanoReady To Join The Program?You\\'ll get lifetime access. No monthly fees. No annual fees. No hidden costs.$500Pay once. Access forever.Pay once to join the program and get lifetime access. You can participate in as many iterations as you\\'d like. No'),\n",
       " Document(metadata={'source': 'https://www.ml.school/', 'title': \"Building Machine Learning Systems That Don't Suck\", 'description': \"A live, interactive program that'll help you build production-ready machine learning systems from the ground up.\", 'language': 'en'}, page_content=\"as you'd like. No restrictions.Enjoy 18 hours of live, interactive sessionsWatch 10 hours of step-by-step coding instructionsPractice with 100 coding assignmentsAccess the complete source code of a production systemLearn how to start freelancing on UpworkGet feedback and support from the communityGet direct feedback from your instructorJoin nowProgram SyllabusThis program will teach you the practical skills and insights that will help you build machine learning systems.Here are the contents of the six live sessions of the program:Session 1 - How To Start (Almost) Any ProjectWhat makes production machine learning different from what you've learned.The strategy to solve the right problem using the right solution.Critical questions to ask before starting any project.Problem framing, inversion, and the haystack principle for building successful applications.The first rule of machine learning engineering and how to start building.Data collection strategies. A technique to determine how\"),\n",
       " Document(metadata={'source': 'https://www.ml.school/', 'title': \"Building Machine Learning Systems That Don't Suck\", 'description': \"A live, interactive program that'll help you build production-ready machine learning systems from the ground up.\", 'language': 'en'}, page_content='to determine how much data you need.The problem of selection bias and how to deal with it.Labeling data. Human annotations, natural labels and weak supervision.Active learning using the uncertainty and diversity sampling strategies.Session 2 - How to Build a ModelThe role of data cleaning and feature engineering to build better models.Turning data into numbers using vectorization techniques.Producing homogeneous features using normalization and standardization.Handling and interpreting missing values using imputation techniques.The approach to choosing the best model to solve any problem.Random baselines and the zero-rule algorithm.How to use overfitting to build models that don\\'t suck.Hyperparameter tuning and experiment tracking.Measuring the quality of your holdout set.An introduction to distributed training using data parallelism and model parallelism.See the remaining sessions\"This is an awesome course! This is my second round and I continue learning. I recommend it with complete'),\n",
       " Document(metadata={'source': 'https://www.ml.school/', 'title': \"Building Machine Learning Systems That Don't Suck\", 'description': \"A live, interactive program that'll help you build production-ready machine learning systems from the ground up.\", 'language': 'en'}, page_content='it with complete confidence.\"Juan OlanoMachine Learning EngineerFrequently Asked QuestionsIf you can\\'t find the answer to your question, please reach out on social media and I\\'ll be happy to help.How long will it take to complete the program?If you are attending the live sessions, you should set aside a minimum of 4 hours every week during the three weeks of the program. This commitment will be enough for engineer leaders or anyone not interested in the coding portion of the program.Those interested in implementing the concepts discussed in class should set aside 2 to 4 hours weekly to complete the code walkthroughs and work on the assignments.Are live sessions recorded?Yes, we record every live session. You can decide when to attend classes live or catch up asynchronously later using the recording.I\\'m a complete beginner. Is this program helpful for me?This program is not an introduction to machine learning.While we\\'ll discuss many fundamental ideas behind machine learning, beginners'),\n",
       " Document(metadata={'source': 'https://www.ml.school/', 'title': \"Building Machine Learning Systems That Don't Suck\", 'description': \"A live, interactive program that'll help you build production-ready machine learning systems from the ground up.\", 'language': 'en'}, page_content='learning, beginners will find the sessions go much faster than what\\'s optimal for them.What does \"lifetime access\" mean?You only pay once to join the program and get immediate access to every past, present, and future cohort.Every new iteration of the program is better than the ones before. Many students take classes once and then join a later cohort to benefit from the updates.The lifetime access removes any pressure from having to complete the program when life gets in the way.Hey! I\\'m Santiago.I\\'m the instructor of the program.I\\'m a machine learning engineer with over two decades of experience building and scaling enterprise software and machine learning systems.I love neural networks. I love to make them work at scale.From 2009 to 2023, I built products for Disney, Boston Dynamics, IBM, Dell, G4S, Anheuser-Busch, and NextEra Energy, among other clients. I learned about trade-offs and how to create products that work.I started this program in March 2023. Since then, thousands of'),\n",
       " Document(metadata={'source': 'https://www.ml.school/', 'title': \"Building Machine Learning Systems That Don't Suck\", 'description': \"A live, interactive program that'll help you build production-ready machine learning systems from the ground up.\", 'language': 'en'}, page_content=\"then, thousands of students have graduated, and I can't wait to meet you in class.Copyright © 2025 Tideily LLC.All rights reserved - svpino@gmail.com\")]"
      ]
     },
     "execution_count": 3,
     "metadata": {},
     "output_type": "execute_result"
    }
   ],
   "execution_count": 3
  },
  {
   "metadata": {
    "ExecuteTime": {
     "end_time": "2025-01-17T09:34:52.577165Z",
     "start_time": "2025-01-17T09:34:52.570562Z"
    }
   },
   "cell_type": "code",
   "source": [
    "import pickle\n",
    "\n",
    "# Save the documents to a file\n",
    "with open('../../backup/ml-school.pkl', 'wb') as f:\n",
    "    pickle.dump(documents, f)"
   ],
   "outputs": [],
   "execution_count": 25
  },
  {
   "cell_type": "markdown",
   "metadata": {},
   "source": [
    "## Load the Content in a Vector Store"
   ]
  },
  {
   "cell_type": "code",
   "metadata": {
    "ExecuteTime": {
     "end_time": "2025-01-17T06:40:37.602958Z",
     "start_time": "2025-01-17T06:40:31.232861Z"
    }
   },
   "source": [
    "from langchain_openai.embeddings import OpenAIEmbeddings\n",
    "from langchain_community.vectorstores import DocArrayInMemorySearch\n",
    "\n",
    "vectorstore = DocArrayInMemorySearch.from_documents(\n",
    "    documents, embedding=OpenAIEmbeddings()\n",
    ")"
   ],
   "outputs": [
    {
     "name": "stderr",
     "output_type": "stream",
     "text": [
      "/opt/homebrew/anaconda3/lib/python3.11/site-packages/pydantic/_migration.py:283: UserWarning: `pydantic.error_wrappers:ValidationError` has been moved to `pydantic:ValidationError`.\n",
      "  warnings.warn(f'`{import_path}` has been moved to `{new_location}`.')\n"
     ]
    }
   ],
   "execution_count": 9
  },
  {
   "metadata": {
    "ExecuteTime": {
     "end_time": "2025-01-17T06:41:59.844014Z",
     "start_time": "2025-01-17T06:41:59.838617Z"
    }
   },
   "cell_type": "code",
   "source": [
    "embeddings = vectorstore.embeddings\n",
    "with open('../../backup/embeddings.pkl', 'wb') as f:\n",
    "    pickle.dump(embeddings, f)"
   ],
   "outputs": [],
   "execution_count": 11
  },
  {
   "metadata": {
    "ExecuteTime": {
     "end_time": "2025-01-18T17:36:18.281315Z",
     "start_time": "2025-01-18T17:36:17.041074Z"
    }
   },
   "cell_type": "code",
   "source": [
    "import pickle\n",
    "from langchain_openai.embeddings import OpenAIEmbeddings\n",
    "from langchain_community.vectorstores import DocArrayInMemorySearch\n",
    "\n",
    "# Load the documents from a file\n",
    "with open('../../backup/documents.pkl', 'rb') as f:\n",
    "    documents = pickle.load(f)\n",
    "\n",
    "# Load the embeddings from a file\n",
    "#with open('embeddings.pkl', 'rb') as f:\n",
    "    #embeddings = pickle.load(f)\n",
    "\n",
    "# Reconstruct the vector store\n",
    "vectorstore = DocArrayInMemorySearch.from_documents(\n",
    "    documents, embedding=embeddings\n",
    ")"
   ],
   "outputs": [],
   "execution_count": 28
  },
  {
   "metadata": {
    "ExecuteTime": {
     "end_time": "2025-01-18T17:36:50.051383Z",
     "start_time": "2025-01-18T17:36:50.034154Z"
    }
   },
   "cell_type": "code",
   "source": [
    "from langchain_chroma import Chroma\n",
    "from langchain_openai import OpenAIEmbeddings\n",
    "from langchain_core.documents import Document\n",
    "\n",
    "embeddings = OpenAIEmbeddings(model=\"text-embedding-3-small\")"
   ],
   "outputs": [],
   "execution_count": 29
  },
  {
   "metadata": {
    "ExecuteTime": {
     "end_time": "2025-01-18T17:37:04.686562Z",
     "start_time": "2025-01-18T17:37:04.677095Z"
    }
   },
   "cell_type": "code",
   "source": [
    "vector_store = Chroma(\n",
    "    collection_name=\"default\",\n",
    "    embedding_function=embeddings,\n",
    "    persist_directory=\"./chroma_storage\"  # This is where the data will be saved\n",
    ")"
   ],
   "outputs": [],
   "execution_count": 30
  },
  {
   "metadata": {
    "ExecuteTime": {
     "end_time": "2025-01-17T09:29:02.366762Z",
     "start_time": "2025-01-17T09:29:01.050266Z"
    }
   },
   "cell_type": "code",
   "source": "vector_store.add_documents(documents)",
   "outputs": [
    {
     "data": {
      "text/plain": [
       "['845fb055-65fe-45dd-85a6-e85d41fdf445',\n",
       " 'bbafc25a-cf53-4d2f-ba96-306c074547e1',\n",
       " '3e477676-6999-4846-a3d7-ebc44d36d215',\n",
       " '40402df6-27e4-4556-aea7-dfcacb3b6057',\n",
       " '654cf320-5d7d-4090-9388-cf5c0ebfe8b7',\n",
       " '32bfdc14-13c2-4072-b5ea-a416ffd58f51',\n",
       " '2f363aba-4b48-4290-b6df-65ce396fdb0a',\n",
       " 'd488d7b3-e46a-4fea-9e5e-9008c6228250',\n",
       " '0cdaeb2b-5e0d-4d3f-9321-49919cb596a5',\n",
       " '91b0428e-620d-4f1a-8680-93acafce3109',\n",
       " '1ea42bb0-e95a-436e-a391-7ac521012a69']"
      ]
     },
     "execution_count": 24,
     "metadata": {},
     "output_type": "execute_result"
    }
   ],
   "execution_count": 24
  },
  {
   "cell_type": "markdown",
   "metadata": {},
   "source": [
    "## Create a Knowledge Base"
   ]
  },
  {
   "cell_type": "markdown",
   "metadata": {},
   "source": [
    "Let's start by loading the content in a pandas DataFrame."
   ]
  },
  {
   "cell_type": "code",
   "metadata": {
    "ExecuteTime": {
     "end_time": "2025-01-11T20:00:58.778681Z",
     "start_time": "2025-01-11T20:00:58.556958Z"
    }
   },
   "source": [
    "import pandas as pd\n",
    "\n",
    "df = pd.DataFrame([d.page_content for d in documents], columns=[\"text\"])\n",
    "df.head(10)"
   ],
   "outputs": [
    {
     "data": {
      "text/plain": [
       "                                                text\n",
       "0  Building Machine Learning Systems That Don't S...\n",
       "1  program will help you unlearn what you think m...\n",
       "2  only pay once to join. There are no monthly fe...\n",
       "3  that make systems work.You are ready to put in...\n",
       "4  testing in production, among many others.You'l...\n",
       "5  Wednesdays, we'll host office hours when you c...\n",
       "6  as you'd like. No restrictions.Enjoy 18 hours ...\n",
       "7  to determine how much data you need.The proble...\n",
       "8  it with complete confidence.\"Juan OlanoMachine...\n",
       "9  learning, beginners will find the sessions go ..."
      ],
      "text/html": [
       "<div>\n",
       "<style scoped>\n",
       "    .dataframe tbody tr th:only-of-type {\n",
       "        vertical-align: middle;\n",
       "    }\n",
       "\n",
       "    .dataframe tbody tr th {\n",
       "        vertical-align: top;\n",
       "    }\n",
       "\n",
       "    .dataframe thead th {\n",
       "        text-align: right;\n",
       "    }\n",
       "</style>\n",
       "<table border=\"1\" class=\"dataframe\">\n",
       "  <thead>\n",
       "    <tr style=\"text-align: right;\">\n",
       "      <th></th>\n",
       "      <th>text</th>\n",
       "    </tr>\n",
       "  </thead>\n",
       "  <tbody>\n",
       "    <tr>\n",
       "      <th>0</th>\n",
       "      <td>Building Machine Learning Systems That Don't S...</td>\n",
       "    </tr>\n",
       "    <tr>\n",
       "      <th>1</th>\n",
       "      <td>program will help you unlearn what you think m...</td>\n",
       "    </tr>\n",
       "    <tr>\n",
       "      <th>2</th>\n",
       "      <td>only pay once to join. There are no monthly fe...</td>\n",
       "    </tr>\n",
       "    <tr>\n",
       "      <th>3</th>\n",
       "      <td>that make systems work.You are ready to put in...</td>\n",
       "    </tr>\n",
       "    <tr>\n",
       "      <th>4</th>\n",
       "      <td>testing in production, among many others.You'l...</td>\n",
       "    </tr>\n",
       "    <tr>\n",
       "      <th>5</th>\n",
       "      <td>Wednesdays, we'll host office hours when you c...</td>\n",
       "    </tr>\n",
       "    <tr>\n",
       "      <th>6</th>\n",
       "      <td>as you'd like. No restrictions.Enjoy 18 hours ...</td>\n",
       "    </tr>\n",
       "    <tr>\n",
       "      <th>7</th>\n",
       "      <td>to determine how much data you need.The proble...</td>\n",
       "    </tr>\n",
       "    <tr>\n",
       "      <th>8</th>\n",
       "      <td>it with complete confidence.\"Juan OlanoMachine...</td>\n",
       "    </tr>\n",
       "    <tr>\n",
       "      <th>9</th>\n",
       "      <td>learning, beginners will find the sessions go ...</td>\n",
       "    </tr>\n",
       "  </tbody>\n",
       "</table>\n",
       "</div>"
      ]
     },
     "execution_count": 5,
     "metadata": {},
     "output_type": "execute_result"
    }
   ],
   "execution_count": 5
  },
  {
   "cell_type": "markdown",
   "metadata": {},
   "source": [
    "We can now create a Knowledge Base using the DataFrame we created before."
   ]
  },
  {
   "cell_type": "code",
   "metadata": {
    "ExecuteTime": {
     "end_time": "2025-01-11T20:01:08.336999Z",
     "start_time": "2025-01-11T20:01:04.864105Z"
    }
   },
   "source": [
    "from giskard.llm.client.litellm import LiteLLMClient\n",
    "from giskard.rag import KnowledgeBase\n",
    "\n",
    "knowledge_base = KnowledgeBase(\n",
    "    df,\n",
    "    llm_client=LiteLLMClient(model=MODEL)\n",
    ")"
   ],
   "outputs": [
    {
     "name": "stdout",
     "output_type": "stream",
     "text": [
      "2025-01-11 21:01:08,076 pid:49127 MainThread giskard.llm.embeddings INFO     No embedding model set though giskard.llm.set_embedding_model. Defaulting to openai/text-embedding-3-small since OPENAI_API_KEY is set.\n"
     ]
    }
   ],
   "execution_count": 6
  },
  {
   "cell_type": "markdown",
   "metadata": {},
   "source": [
    "## Generate the Test Set"
   ]
  },
  {
   "cell_type": "code",
   "metadata": {
    "ExecuteTime": {
     "end_time": "2025-01-11T19:47:27.498934Z",
     "start_time": "2025-01-11T19:44:51.012789Z"
    }
   },
   "source": [
    "from giskard.rag import generate_testset\n",
    "\n",
    "testset = generate_testset(\n",
    "    knowledge_base,\n",
    "    num_questions=60,\n",
    "    agent_description=\"A chatbot answering questions about the Machine Learning School Website\",\n",
    ")"
   ],
   "outputs": [
    {
     "name": "stdout",
     "output_type": "stream",
     "text": [
      "2025-01-11 20:44:51,013 pid:45906 MainThread giskard.rag  INFO     Finding topics in the knowledge base.\n"
     ]
    },
    {
     "name": "stderr",
     "output_type": "stream",
     "text": [
      "/opt/homebrew/anaconda3/lib/python3.11/site-packages/sklearn/utils/deprecation.py:151: FutureWarning: 'force_all_finite' was renamed to 'ensure_all_finite' in 1.6 and will be removed in 1.8.\n",
      "  warnings.warn(\n",
      "/opt/homebrew/anaconda3/lib/python3.11/site-packages/umap/umap_.py:2462: UserWarning: n_neighbors is larger than the dataset size; truncating to X.shape[0] - 1\n",
      "  warn(\n"
     ]
    },
    {
     "name": "stdout",
     "output_type": "stream",
     "text": [
      "2025-01-11 20:44:53,890 pid:45906 MainThread giskard.rag  INFO     Found 1 topics in the knowledge base.\n"
     ]
    },
    {
     "data": {
      "text/plain": [
       "Generating questions:   0%|          | 0/60 [00:00<?, ?it/s]"
      ],
      "application/vnd.jupyter.widget-view+json": {
       "version_major": 2,
       "version_minor": 0,
       "model_id": "e028a395422f4aa2887335d6d7362983"
      }
     },
     "metadata": {},
     "output_type": "display_data"
    }
   ],
   "execution_count": 9
  },
  {
   "metadata": {
    "ExecuteTime": {
     "end_time": "2025-01-11T20:01:11.413637Z",
     "start_time": "2025-01-11T20:01:11.405599Z"
    }
   },
   "cell_type": "code",
   "source": [
    "from giskard.rag import QATestset\n",
    "testset = QATestset.load(\"../../backup/test-set.jsonl\")"
   ],
   "outputs": [],
   "execution_count": 7
  },
  {
   "metadata": {
    "ExecuteTime": {
     "end_time": "2025-01-18T17:57:13.332026Z",
     "start_time": "2025-01-18T17:57:09.445640Z"
    }
   },
   "cell_type": "code",
   "source": "!pip install ragas",
   "outputs": [
    {
     "name": "stdout",
     "output_type": "stream",
     "text": [
      "Collecting ragas\r\n",
      "  Downloading ragas-0.2.11-py3-none-any.whl.metadata (8.1 kB)\r\n",
      "Requirement already satisfied: numpy in /opt/homebrew/anaconda3/lib/python3.11/site-packages (from ragas) (1.26.4)\r\n",
      "Requirement already satisfied: datasets in /opt/homebrew/anaconda3/lib/python3.11/site-packages (from ragas) (3.2.0)\r\n",
      "Requirement already satisfied: tiktoken in /opt/homebrew/anaconda3/lib/python3.11/site-packages (from ragas) (0.8.0)\r\n",
      "Requirement already satisfied: langchain in /opt/homebrew/anaconda3/lib/python3.11/site-packages (from ragas) (0.3.14)\r\n",
      "Requirement already satisfied: langchain-core in /opt/homebrew/anaconda3/lib/python3.11/site-packages (from ragas) (0.3.29)\r\n",
      "Requirement already satisfied: langchain-community in /opt/homebrew/anaconda3/lib/python3.11/site-packages (from ragas) (0.3.14)\r\n",
      "Requirement already satisfied: langchain_openai in /opt/homebrew/anaconda3/lib/python3.11/site-packages (from ragas) (0.3.0)\r\n",
      "Requirement already satisfied: nest-asyncio in /opt/homebrew/anaconda3/lib/python3.11/site-packages (from ragas) (1.6.0)\r\n",
      "Requirement already satisfied: appdirs in /opt/homebrew/anaconda3/lib/python3.11/site-packages (from ragas) (1.4.4)\r\n",
      "Requirement already satisfied: pydantic>=2 in /opt/homebrew/anaconda3/lib/python3.11/site-packages (from ragas) (2.10.5)\r\n",
      "Requirement already satisfied: openai>1 in /opt/homebrew/anaconda3/lib/python3.11/site-packages (from ragas) (1.59.2)\r\n",
      "Collecting diskcache>=5.6.3 (from ragas)\r\n",
      "  Downloading diskcache-5.6.3-py3-none-any.whl.metadata (20 kB)\r\n",
      "Requirement already satisfied: anyio<5,>=3.5.0 in /opt/homebrew/anaconda3/lib/python3.11/site-packages (from openai>1->ragas) (4.7.0)\r\n",
      "Requirement already satisfied: distro<2,>=1.7.0 in /opt/homebrew/anaconda3/lib/python3.11/site-packages (from openai>1->ragas) (1.9.0)\r\n",
      "Requirement already satisfied: httpx<1,>=0.23.0 in /opt/homebrew/anaconda3/lib/python3.11/site-packages (from openai>1->ragas) (0.27.2)\r\n",
      "Requirement already satisfied: jiter<1,>=0.4.0 in /opt/homebrew/anaconda3/lib/python3.11/site-packages (from openai>1->ragas) (0.8.2)\r\n",
      "Requirement already satisfied: sniffio in /opt/homebrew/anaconda3/lib/python3.11/site-packages (from openai>1->ragas) (1.3.1)\r\n",
      "Requirement already satisfied: tqdm>4 in /opt/homebrew/anaconda3/lib/python3.11/site-packages (from openai>1->ragas) (4.67.1)\r\n",
      "Requirement already satisfied: typing-extensions<5,>=4.11 in /opt/homebrew/anaconda3/lib/python3.11/site-packages (from openai>1->ragas) (4.12.2)\r\n",
      "Requirement already satisfied: annotated-types>=0.6.0 in /opt/homebrew/anaconda3/lib/python3.11/site-packages (from pydantic>=2->ragas) (0.7.0)\r\n",
      "Requirement already satisfied: pydantic-core==2.27.2 in /opt/homebrew/anaconda3/lib/python3.11/site-packages (from pydantic>=2->ragas) (2.27.2)\r\n",
      "Requirement already satisfied: filelock in /opt/homebrew/anaconda3/lib/python3.11/site-packages (from datasets->ragas) (3.16.1)\r\n",
      "Requirement already satisfied: pyarrow>=15.0.0 in /opt/homebrew/anaconda3/lib/python3.11/site-packages (from datasets->ragas) (18.1.0)\r\n",
      "Requirement already satisfied: dill<0.3.9,>=0.3.0 in /opt/homebrew/anaconda3/lib/python3.11/site-packages (from datasets->ragas) (0.3.8)\r\n",
      "Requirement already satisfied: pandas in /opt/homebrew/anaconda3/lib/python3.11/site-packages (from datasets->ragas) (2.1.4)\r\n",
      "Requirement already satisfied: requests>=2.32.2 in /opt/homebrew/anaconda3/lib/python3.11/site-packages (from datasets->ragas) (2.32.3)\r\n",
      "Requirement already satisfied: xxhash in /opt/homebrew/anaconda3/lib/python3.11/site-packages (from datasets->ragas) (3.5.0)\r\n",
      "Requirement already satisfied: multiprocess<0.70.17 in /opt/homebrew/anaconda3/lib/python3.11/site-packages (from datasets->ragas) (0.70.16)\r\n",
      "Requirement already satisfied: fsspec<=2024.9.0,>=2023.1.0 in /opt/homebrew/anaconda3/lib/python3.11/site-packages (from fsspec[http]<=2024.9.0,>=2023.1.0->datasets->ragas) (2024.9.0)\r\n",
      "Requirement already satisfied: aiohttp in /opt/homebrew/anaconda3/lib/python3.11/site-packages (from datasets->ragas) (3.11.11)\r\n",
      "Requirement already satisfied: huggingface-hub>=0.23.0 in /opt/homebrew/anaconda3/lib/python3.11/site-packages (from datasets->ragas) (0.27.0)\r\n",
      "Requirement already satisfied: packaging in /opt/homebrew/anaconda3/lib/python3.11/site-packages (from datasets->ragas) (24.2)\r\n",
      "Requirement already satisfied: pyyaml>=5.1 in /opt/homebrew/anaconda3/lib/python3.11/site-packages (from datasets->ragas) (6.0.2)\r\n",
      "Requirement already satisfied: SQLAlchemy<3,>=1.4 in /opt/homebrew/anaconda3/lib/python3.11/site-packages (from langchain->ragas) (2.0.25)\r\n",
      "Requirement already satisfied: langchain-text-splitters<0.4.0,>=0.3.3 in /opt/homebrew/anaconda3/lib/python3.11/site-packages (from langchain->ragas) (0.3.5)\r\n",
      "Requirement already satisfied: langsmith<0.3,>=0.1.17 in /opt/homebrew/anaconda3/lib/python3.11/site-packages (from langchain->ragas) (0.1.147)\r\n",
      "Requirement already satisfied: tenacity!=8.4.0,<10,>=8.1.0 in /opt/homebrew/anaconda3/lib/python3.11/site-packages (from langchain->ragas) (9.0.0)\r\n",
      "Requirement already satisfied: jsonpatch<2.0,>=1.33 in /opt/homebrew/anaconda3/lib/python3.11/site-packages (from langchain-core->ragas) (1.33)\r\n",
      "Requirement already satisfied: dataclasses-json<0.7,>=0.5.7 in /opt/homebrew/anaconda3/lib/python3.11/site-packages (from langchain-community->ragas) (0.6.7)\r\n",
      "Requirement already satisfied: httpx-sse<0.5.0,>=0.4.0 in /opt/homebrew/anaconda3/lib/python3.11/site-packages (from langchain-community->ragas) (0.4.0)\r\n",
      "Requirement already satisfied: pydantic-settings<3.0.0,>=2.4.0 in /opt/homebrew/anaconda3/lib/python3.11/site-packages (from langchain-community->ragas) (2.7.1)\r\n",
      "Requirement already satisfied: regex>=2022.1.18 in /opt/homebrew/anaconda3/lib/python3.11/site-packages (from tiktoken->ragas) (2024.11.6)\r\n",
      "Requirement already satisfied: aiohappyeyeballs>=2.3.0 in /opt/homebrew/anaconda3/lib/python3.11/site-packages (from aiohttp->datasets->ragas) (2.4.4)\r\n",
      "Requirement already satisfied: aiosignal>=1.1.2 in /opt/homebrew/anaconda3/lib/python3.11/site-packages (from aiohttp->datasets->ragas) (1.3.2)\r\n",
      "Requirement already satisfied: attrs>=17.3.0 in /opt/homebrew/anaconda3/lib/python3.11/site-packages (from aiohttp->datasets->ragas) (24.3.0)\r\n",
      "Requirement already satisfied: frozenlist>=1.1.1 in /opt/homebrew/anaconda3/lib/python3.11/site-packages (from aiohttp->datasets->ragas) (1.5.0)\r\n",
      "Requirement already satisfied: multidict<7.0,>=4.5 in /opt/homebrew/anaconda3/lib/python3.11/site-packages (from aiohttp->datasets->ragas) (6.1.0)\r\n",
      "Requirement already satisfied: propcache>=0.2.0 in /opt/homebrew/anaconda3/lib/python3.11/site-packages (from aiohttp->datasets->ragas) (0.2.1)\r\n",
      "Requirement already satisfied: yarl<2.0,>=1.17.0 in /opt/homebrew/anaconda3/lib/python3.11/site-packages (from aiohttp->datasets->ragas) (1.18.3)\r\n",
      "Requirement already satisfied: idna>=2.8 in /opt/homebrew/anaconda3/lib/python3.11/site-packages (from anyio<5,>=3.5.0->openai>1->ragas) (3.10)\r\n",
      "Requirement already satisfied: marshmallow<4.0.0,>=3.18.0 in /opt/homebrew/anaconda3/lib/python3.11/site-packages (from dataclasses-json<0.7,>=0.5.7->langchain-community->ragas) (3.23.2)\r\n",
      "Requirement already satisfied: typing-inspect<1,>=0.4.0 in /opt/homebrew/anaconda3/lib/python3.11/site-packages (from dataclasses-json<0.7,>=0.5.7->langchain-community->ragas) (0.9.0)\r\n",
      "Requirement already satisfied: certifi in /opt/homebrew/anaconda3/lib/python3.11/site-packages (from httpx<1,>=0.23.0->openai>1->ragas) (2024.12.14)\r\n",
      "Requirement already satisfied: httpcore==1.* in /opt/homebrew/anaconda3/lib/python3.11/site-packages (from httpx<1,>=0.23.0->openai>1->ragas) (1.0.7)\r\n",
      "Requirement already satisfied: h11<0.15,>=0.13 in /opt/homebrew/anaconda3/lib/python3.11/site-packages (from httpcore==1.*->httpx<1,>=0.23.0->openai>1->ragas) (0.14.0)\r\n",
      "Requirement already satisfied: jsonpointer>=1.9 in /opt/homebrew/anaconda3/lib/python3.11/site-packages (from jsonpatch<2.0,>=1.33->langchain-core->ragas) (2.1)\r\n",
      "Requirement already satisfied: orjson<4.0.0,>=3.9.14 in /opt/homebrew/anaconda3/lib/python3.11/site-packages (from langsmith<0.3,>=0.1.17->langchain->ragas) (3.10.13)\r\n",
      "Requirement already satisfied: requests-toolbelt<2.0.0,>=1.0.0 in /opt/homebrew/anaconda3/lib/python3.11/site-packages (from langsmith<0.3,>=0.1.17->langchain->ragas) (1.0.0)\r\n",
      "Requirement already satisfied: python-dotenv>=0.21.0 in /opt/homebrew/anaconda3/lib/python3.11/site-packages (from pydantic-settings<3.0.0,>=2.4.0->langchain-community->ragas) (1.0.1)\r\n",
      "Requirement already satisfied: charset_normalizer<4,>=2 in /opt/homebrew/anaconda3/lib/python3.11/site-packages (from requests>=2.32.2->datasets->ragas) (3.4.1)\r\n",
      "Requirement already satisfied: urllib3<3,>=1.21.1 in /opt/homebrew/anaconda3/lib/python3.11/site-packages (from requests>=2.32.2->datasets->ragas) (2.3.0)\r\n",
      "Requirement already satisfied: python-dateutil>=2.8.2 in /opt/homebrew/anaconda3/lib/python3.11/site-packages (from pandas->datasets->ragas) (2.8.2)\r\n",
      "Requirement already satisfied: pytz>=2020.1 in /opt/homebrew/anaconda3/lib/python3.11/site-packages (from pandas->datasets->ragas) (2023.3.post1)\r\n",
      "Requirement already satisfied: tzdata>=2022.1 in /opt/homebrew/anaconda3/lib/python3.11/site-packages (from pandas->datasets->ragas) (2023.3)\r\n",
      "Requirement already satisfied: six>=1.5 in /opt/homebrew/anaconda3/lib/python3.11/site-packages (from python-dateutil>=2.8.2->pandas->datasets->ragas) (1.16.0)\r\n",
      "Requirement already satisfied: mypy-extensions>=0.3.0 in /opt/homebrew/anaconda3/lib/python3.11/site-packages (from typing-inspect<1,>=0.4.0->dataclasses-json<0.7,>=0.5.7->langchain-community->ragas) (1.0.0)\r\n",
      "Downloading ragas-0.2.11-py3-none-any.whl (176 kB)\r\n",
      "\u001B[2K   \u001B[90m━━━━━━━━━━━━━━━━━━━━━━━━━━━━━━━━━━━━━━━━\u001B[0m \u001B[32m176.9/176.9 kB\u001B[0m \u001B[31m2.3 MB/s\u001B[0m eta \u001B[36m0:00:00\u001B[0m00:01\u001B[0m0:01\u001B[0m\r\n",
      "\u001B[?25hDownloading diskcache-5.6.3-py3-none-any.whl (45 kB)\r\n",
      "\u001B[2K   \u001B[90m━━━━━━━━━━━━━━━━━━━━━━━━━━━━━━━━━━━━━━━━\u001B[0m \u001B[32m45.5/45.5 kB\u001B[0m \u001B[31m3.6 MB/s\u001B[0m eta \u001B[36m0:00:00\u001B[0m\r\n",
      "\u001B[?25hInstalling collected packages: diskcache, ragas\r\n",
      "Successfully installed diskcache-5.6.3 ragas-0.2.11\r\n"
     ]
    }
   ],
   "execution_count": 37
  },
  {
   "metadata": {
    "ExecuteTime": {
     "end_time": "2025-01-18T17:57:34.366699Z",
     "start_time": "2025-01-18T17:57:26.421967Z"
    }
   },
   "cell_type": "code",
   "source": [
    "from ragas.testset.persona import generate_personas_from_kg\n",
    "from ragas.testset.graph import KnowledgeGraph\n",
    "from ragas.llms import llm_factory\n",
    "\n",
    "\n",
    "personas = generate_personas_from_kg(kg=kg, llm=llm, num_personas=5)"
   ],
   "outputs": [
    {
     "ename": "NameError",
     "evalue": "name 'kg' is not defined",
     "output_type": "error",
     "traceback": [
      "\u001B[0;31m---------------------------------------------------------------------------\u001B[0m",
      "\u001B[0;31mNameError\u001B[0m                                 Traceback (most recent call last)",
      "Cell \u001B[0;32mIn[38], line 6\u001B[0m\n\u001B[1;32m      2\u001B[0m \u001B[38;5;28;01mfrom\u001B[39;00m \u001B[38;5;21;01mragas\u001B[39;00m\u001B[38;5;21;01m.\u001B[39;00m\u001B[38;5;21;01mtestset\u001B[39;00m\u001B[38;5;21;01m.\u001B[39;00m\u001B[38;5;21;01mgraph\u001B[39;00m \u001B[38;5;28;01mimport\u001B[39;00m KnowledgeGraph\n\u001B[1;32m      3\u001B[0m \u001B[38;5;28;01mfrom\u001B[39;00m \u001B[38;5;21;01mragas\u001B[39;00m\u001B[38;5;21;01m.\u001B[39;00m\u001B[38;5;21;01mllms\u001B[39;00m \u001B[38;5;28;01mimport\u001B[39;00m llm_factory\n\u001B[0;32m----> 6\u001B[0m personas \u001B[38;5;241m=\u001B[39m generate_personas_from_kg(kg\u001B[38;5;241m=\u001B[39mkg, llm\u001B[38;5;241m=\u001B[39mllm, num_personas\u001B[38;5;241m=\u001B[39m\u001B[38;5;241m5\u001B[39m)\n",
      "\u001B[0;31mNameError\u001B[0m: name 'kg' is not defined"
     ]
    }
   ],
   "execution_count": 38
  },
  {
   "metadata": {
    "ExecuteTime": {
     "end_time": "2025-01-18T18:39:46.673120Z",
     "start_time": "2025-01-18T18:39:46.670785Z"
    }
   },
   "cell_type": "code",
   "source": [
    "class Base:\n",
    "    pass\n",
    "\n",
    "class Child(Base):\n",
    "    pass\n",
    "\n",
    "print(Child.__name__)"
   ],
   "outputs": [
    {
     "name": "stdout",
     "output_type": "stream",
     "text": [
      "Child\n"
     ]
    }
   ],
   "execution_count": 43
  },
  {
   "cell_type": "markdown",
   "metadata": {},
   "source": [
    "Let's display a few samples from the test set."
   ]
  },
  {
   "cell_type": "code",
   "metadata": {
    "ExecuteTime": {
     "end_time": "2025-01-11T20:01:14.063009Z",
     "start_time": "2025-01-11T20:01:14.059674Z"
    }
   },
   "source": [
    "test_set_df = testset.to_pandas()\n",
    "\n",
    "for index, row in enumerate(test_set_df.head(3).iterrows()):\n",
    "    print(f\"Question {index + 1}: {row[1]['question']}\")\n",
    "    print(f\"Reference answer: {row[1]['reference_answer']}\")\n",
    "    print(\"Reference context:\")\n",
    "    print(row[1]['reference_context'])\n",
    "    print(\"******************\", end=\"\\n\\n\")\n"
   ],
   "outputs": [
    {
     "name": "stdout",
     "output_type": "stream",
     "text": [
      "Question 1: What do participants receive upon joining the machine learning program?\n",
      "Reference answer: Participants receive lifetime access to 18 hours of live, interactive sessions, 10 hours of step-by-step coding instructions, a final project with feedback, 100 coding assignments and practice questions, the entire source code of a working production system, a private community, direct access to the instructor, lifetime access to every past and future cohort, and a program certificate upon completion.\n",
      "Reference context:\n",
      "Document 1: program will help you unlearn what you think machine learning is. It's a practical, hands-on class where you'll learn from years of experience and real-world examples.When you join, you get lifetime access to the following:18 hours of live, interactive sessions. We'll use this time to discuss the first principles behind building machine learning systems.10 hours of step-by-step coding instructions. These practical sessions will show you how to build an end-to-end system from scratch.A final project where you'll build a complete solution and receive direct feedback on your work.100 coding assignments and practice questions.The entire source code of a working production system. It's yours. You can change and use it as you see fit.A private community where you'll collaborate with thousands of people from different backgrounds.Direct access to your instructor.Lifetime access to every past and future cohort.Program certificate upon completion.And the best part is that you only pay once to\n",
      "******************\n",
      "\n",
      "Question 2: Are live sessions of the program recorded?\n",
      "Reference answer: Yes, we record every live session. You can decide when to attend classes live or catch up asynchronously later using the recording.\n",
      "Reference context:\n",
      "Document 8: it with complete confidence.\"Juan OlanoMachine Learning EngineerFrequently Asked QuestionsIf you can't find the answer to your question, please reach out on social media and I'll be happy to help.How long will it take to complete the program?If you are attending the live sessions, you should set aside a minimum of 4 hours every week during the three weeks of the program. This commitment will be enough for engineer leaders or anyone not interested in the coding portion of the program.Those interested in implementing the concepts discussed in class should set aside 2 to 4 hours weekly to complete the code walkthroughs and work on the assignments.Are live sessions recorded?Yes, we record every live session. You can decide when to attend classes live or catch up asynchronously later using the recording.I'm a complete beginner. Is this program helpful for me?This program is not an introduction to machine learning.While we'll discuss many fundamental ideas behind machine learning, beginners\n",
      "******************\n",
      "\n",
      "Question 3: What is the cost to join the program and what does it include?\n",
      "Reference answer: $500. Pay once to join the program and get lifetime access. You can participate in as many iterations as you'd like.\n",
      "Reference context:\n",
      "Document 5: Wednesdays, we'll host office hours when you can bring your questions projects or anything else you want to discuss.Monday: Live session. 2 hours.Tuesday: Individual work.Wednesday: Optional office hours.Thursday: Live session. 2 hours.Friday: Individual work.Do not wait for a specific cohort to join the program. You have lifetime access to every past and future cohort, and the sooner you join, the more time you have to prepare.Every session is recorded. You can attend live or watch the recorded version later.\"This is one of the best classes I've ever purchased over the internet. Santiago is a terrific teacher. The ability he has to share knowledge is fantastic. I recommend this course. Worth 10x what he's charging.\"Sal DiStefanoReady To Join The Program?You'll get lifetime access. No monthly fees. No annual fees. No hidden costs.$500Pay once. Access forever.Pay once to join the program and get lifetime access. You can participate in as many iterations as you'd like. No\n",
      "******************\n",
      "\n"
     ]
    }
   ],
   "execution_count": 8
  },
  {
   "cell_type": "markdown",
   "metadata": {},
   "source": [
    "Let's now save the test set to a file:"
   ]
  },
  {
   "cell_type": "code",
   "metadata": {
    "ExecuteTime": {
     "end_time": "2025-01-11T19:14:47.818057Z",
     "start_time": "2025-01-11T19:14:47.812690Z"
    }
   },
   "source": [
    "testset.save(\"test-set.jsonl\")"
   ],
   "outputs": [],
   "execution_count": 8
  },
  {
   "cell_type": "markdown",
   "metadata": {},
   "source": [
    "## Prepare the Prompt Template"
   ]
  },
  {
   "cell_type": "code",
   "metadata": {
    "ExecuteTime": {
     "end_time": "2025-01-18T17:38:22.547508Z",
     "start_time": "2025-01-18T17:38:22.541201Z"
    }
   },
   "source": [
    "from langchain.prompts import PromptTemplate\n",
    "\n",
    "template = \"\"\"\n",
    "Answer the question based on the context below. If you can't \n",
    "answer the question, reply \"I don't know\".\n",
    "\n",
    "Context: {context}\n",
    "\n",
    "Question: {question}\n",
    "\"\"\"\n",
    "\n",
    "prompt = PromptTemplate.from_template(template)\n",
    "print(prompt.format(context=\"Here is some context\", question=\"Here is a question\"))"
   ],
   "outputs": [
    {
     "name": "stdout",
     "output_type": "stream",
     "text": [
      "\n",
      "Answer the question based on the context below. If you can't \n",
      "answer the question, reply \"I don't know\".\n",
      "\n",
      "Context: Here is some context\n",
      "\n",
      "Question: Here is a question\n",
      "\n"
     ]
    }
   ],
   "execution_count": 33
  },
  {
   "cell_type": "markdown",
   "metadata": {},
   "source": [
    "## Create the RAG Chain"
   ]
  },
  {
   "cell_type": "markdown",
   "metadata": {},
   "source": [
    "Create a retriever from the Vector Store that will allow us to get the top similar documents to a given question."
   ]
  },
  {
   "cell_type": "code",
   "metadata": {
    "ExecuteTime": {
     "end_time": "2025-01-18T17:37:47.075171Z",
     "start_time": "2025-01-18T17:37:46.216447Z"
    }
   },
   "source": [
    "retriever = vectorstore.as_retriever()\n",
    "retriever.get_relevant_documents(\"What is the Machine Learning School?\")"
   ],
   "outputs": [
    {
     "name": "stderr",
     "output_type": "stream",
     "text": [
      "/var/folders/xt/mj52lxfd1fd9j29gs0q1pdjc0000gn/T/ipykernel_97959/2472551473.py:2: LangChainDeprecationWarning: The method `BaseRetriever.get_relevant_documents` was deprecated in langchain-core 0.1.46 and will be removed in 1.0. Use :meth:`~invoke` instead.\n",
      "  retriever.get_relevant_documents(\"What is the Machine Learning School?\")\n"
     ]
    },
    {
     "data": {
      "text/plain": [
       "[Document(metadata={'source': 'https://www.ml.school/', 'title': \"Building Machine Learning Systems That Don't Suck\", 'description': \"A live, interactive program that'll help you build production-ready machine learning systems from the ground up.\", 'language': 'en'}, page_content=\"program will help you unlearn what you think machine learning is. It's a practical, hands-on class where you'll learn from years of experience and real-world examples.When you join, you get lifetime access to the following:18 hours of live, interactive sessions. We'll use this time to discuss the first principles behind building machine learning systems.10 hours of step-by-step coding instructions. These practical sessions will show you how to build an end-to-end system from scratch.A final project where you'll build a complete solution and receive direct feedback on your work.100 coding assignments and practice questions.The entire source code of a working production system. It's yours. You can change and use it as you see fit.A private community where you'll collaborate with thousands of people from different backgrounds.Direct access to your instructor.Lifetime access to every past and future cohort.Program certificate upon completion.And the best part is that you only pay once to\"),\n",
       " Document(metadata={'source': 'https://www.ml.school/', 'title': \"Building Machine Learning Systems That Don't Suck\", 'description': \"A live, interactive program that'll help you build production-ready machine learning systems from the ground up.\", 'language': 'en'}, page_content='Building Machine Learning Systems That Don\\'t Suck\"This is the best machine learning course I\\'ve done. Worth every cent.\"Jose Reyes, AI/ML at Cevo AustraliaBuilding Machine Learning Systems That Don\\'t SuckA live, interactive program that\\'ll help you build production-ready machine learning systems from the ground up.Next cohort:\\xa0February 3 - 20, 2025Check the schedule for more details about upcoming cohorts.I want to join!Sign inLearn how to design, build, deploy, and scale machine learning systems to solve real-world problems.I\\'ll lose my mind if I see another book or course teaching people the same basic ideas for the hundredth time. Most people are stuck in beginner mode, and finding help to solve real-world problems is hard.I want to change that.I started writing software 30 years ago. I\\'ve written pipelines and trained models for some of the largest companies in the world. I want to show you how to do the same.This is the class I wish I had taken when I started.This program will'),\n",
       " Document(metadata={'source': 'https://www.ml.school/', 'title': \"Building Machine Learning Systems That Don't Suck\", 'description': \"A live, interactive program that'll help you build production-ready machine learning systems from the ground up.\", 'language': 'en'}, page_content='learning, beginners will find the sessions go much faster than what\\'s optimal for them.What does \"lifetime access\" mean?You only pay once to join the program and get immediate access to every past, present, and future cohort.Every new iteration of the program is better than the ones before. Many students take classes once and then join a later cohort to benefit from the updates.The lifetime access removes any pressure from having to complete the program when life gets in the way.Hey! I\\'m Santiago.I\\'m the instructor of the program.I\\'m a machine learning engineer with over two decades of experience building and scaling enterprise software and machine learning systems.I love neural networks. I love to make them work at scale.From 2009 to 2023, I built products for Disney, Boston Dynamics, IBM, Dell, G4S, Anheuser-Busch, and NextEra Energy, among other clients. I learned about trade-offs and how to create products that work.I started this program in March 2023. Since then, thousands of'),\n",
       " Document(metadata={'source': 'https://www.ml.school/', 'title': \"Building Machine Learning Systems That Don't Suck\", 'description': \"A live, interactive program that'll help you build production-ready machine learning systems from the ground up.\", 'language': 'en'}, page_content=\"only pay once to join. There are no monthly fees. No annual fees. No hidden costs. You pay once to join and benefit forever until the end of time.The program won't be easy. It'll take time and effort. But if you want to use machine learning to solve real-world problems, this is the class you don't want to miss.Who Is This Program For?This is a practical, hands-on program for technical professionals who are ready to put in the work.This program is for software engineers, data scientists, data analysts, machine learning engineers, technical managers, and anyone anyone who wants to use machine learning to solve real-world problems.Here are the criteria to succeed in the program:You have experience writing code. We'll use Python throughout the class, but you won't have any problems if you know any other language.You are familiar with basic machine learning terminology. This is not an introductory class. We'll move quickly over the basics to focus on the fundamental ideas that make systems\")]"
      ]
     },
     "execution_count": 31,
     "metadata": {},
     "output_type": "execute_result"
    }
   ],
   "execution_count": 31
  },
  {
   "cell_type": "markdown",
   "metadata": {},
   "source": [
    "We can now create our chain."
   ]
  },
  {
   "cell_type": "code",
   "metadata": {
    "ExecuteTime": {
     "end_time": "2025-01-18T17:37:58.539221Z",
     "start_time": "2025-01-18T17:37:58.521655Z"
    }
   },
   "source": [
    "from langchain_openai.chat_models import ChatOpenAI\n",
    "\n",
    "modelOpenAi = ChatOpenAI(openai_api_key=OPENAI_API_KEY, model=MODEL)"
   ],
   "outputs": [],
   "execution_count": 32
  },
  {
   "metadata": {
    "ExecuteTime": {
     "end_time": "2025-01-11T20:01:30.093688Z",
     "start_time": "2025-01-11T20:01:30.091940Z"
    }
   },
   "cell_type": "code",
   "source": [
    "#!pip install -qU langchain_mistralai\n",
    "#!pip install --upgrade langchain_mistralai\n",
    "#!pip install --upgrade langchain-core\n",
    "#!pip install \"pydantic<2.0,>=1.10.2\"\n",
    "#!pip show pydantic\n",
    "#!pip install \"pydantic<2.0\""
   ],
   "outputs": [],
   "execution_count": 12
  },
  {
   "metadata": {
    "ExecuteTime": {
     "end_time": "2025-01-11T20:01:31.670457Z",
     "start_time": "2025-01-11T20:01:31.639404Z"
    }
   },
   "cell_type": "code",
   "source": [
    "from langchain_mistralai.chat_models import ChatMistralAI\n",
    "import os\n",
    "\n",
    "model = ChatMistralAI(\n",
    "    model=\"mistral-large-latest\",\n",
    "    temperature=0.7,   # Usually between 0.0 - 1.0\n",
    "    max_retries=2,\n",
    "    api_key=os.getenv(\"MISTRAL_API_KEY\"),  # Required in most cases\n",
    ")"
   ],
   "outputs": [],
   "execution_count": 13
  },
  {
   "metadata": {
    "ExecuteTime": {
     "end_time": "2025-01-11T20:07:34.885008Z",
     "start_time": "2025-01-11T20:07:14.188546Z"
    }
   },
   "cell_type": "code",
   "source": "!pip install --upgrade --quiet  langchain-huggingface text-generation transformers google-search-results numexpr langchainhub sentencepiece jinja2 bitsandbytes accelerate",
   "outputs": [],
   "execution_count": 18
  },
  {
   "metadata": {
    "ExecuteTime": {
     "end_time": "2025-01-17T10:51:16.851334Z",
     "start_time": "2025-01-17T10:51:15.927141Z"
    }
   },
   "cell_type": "code",
   "source": [
    "from langchain_huggingface import ChatHuggingFace, HuggingFaceEndpoint\n",
    "# meta-llama/Llama-3.1-8B-Instruct\n",
    "llm = HuggingFaceEndpoint(\n",
    "    repo_id=\"HuggingFaceH4/zephyr-7b-beta\",\n",
    "    task=\"text-generation\",\n",
    "    max_new_tokens=512,\n",
    "    do_sample=False,\n",
    "    repetition_penalty=1.03,\n",
    ")\n",
    "\n",
    "chat_model = ChatHuggingFace(llm=llm)"
   ],
   "outputs": [
    {
     "ename": "ImportError",
     "evalue": "tokenizers>=0.21,<0.22 is required for a normal functioning of this module, but found tokenizers==0.20.3.\nTry: `pip install transformers -U` or `pip install -e '.[dev]'` if you're working with git main",
     "output_type": "error",
     "traceback": [
      "\u001B[0;31m---------------------------------------------------------------------------\u001B[0m",
      "\u001B[0;31mImportError\u001B[0m                               Traceback (most recent call last)",
      "Cell \u001B[0;32mIn[26], line 11\u001B[0m\n\u001B[1;32m      2\u001B[0m \u001B[38;5;66;03m# meta-llama/Llama-3.1-8B-Instruct\u001B[39;00m\n\u001B[1;32m      3\u001B[0m llm \u001B[38;5;241m=\u001B[39m HuggingFaceEndpoint(\n\u001B[1;32m      4\u001B[0m     repo_id\u001B[38;5;241m=\u001B[39m\u001B[38;5;124m\"\u001B[39m\u001B[38;5;124mHuggingFaceH4/zephyr-7b-beta\u001B[39m\u001B[38;5;124m\"\u001B[39m,\n\u001B[1;32m      5\u001B[0m     task\u001B[38;5;241m=\u001B[39m\u001B[38;5;124m\"\u001B[39m\u001B[38;5;124mtext-generation\u001B[39m\u001B[38;5;124m\"\u001B[39m,\n\u001B[0;32m   (...)\u001B[0m\n\u001B[1;32m      8\u001B[0m     repetition_penalty\u001B[38;5;241m=\u001B[39m\u001B[38;5;241m1.03\u001B[39m,\n\u001B[1;32m      9\u001B[0m )\n\u001B[0;32m---> 11\u001B[0m chat_model \u001B[38;5;241m=\u001B[39m ChatHuggingFace(llm\u001B[38;5;241m=\u001B[39mllm)\n",
      "File \u001B[0;32m/opt/homebrew/anaconda3/lib/python3.11/site-packages/langchain_huggingface/chat_models/huggingface.py:319\u001B[0m, in \u001B[0;36mChatHuggingFace.__init__\u001B[0;34m(self, **kwargs)\u001B[0m\n\u001B[1;32m    316\u001B[0m \u001B[38;5;28;01mdef\u001B[39;00m \u001B[38;5;21m__init__\u001B[39m(\u001B[38;5;28mself\u001B[39m, \u001B[38;5;241m*\u001B[39m\u001B[38;5;241m*\u001B[39mkwargs: Any):\n\u001B[1;32m    317\u001B[0m     \u001B[38;5;28msuper\u001B[39m()\u001B[38;5;241m.\u001B[39m\u001B[38;5;21m__init__\u001B[39m(\u001B[38;5;241m*\u001B[39m\u001B[38;5;241m*\u001B[39mkwargs)\n\u001B[0;32m--> 319\u001B[0m     \u001B[38;5;28;01mfrom\u001B[39;00m \u001B[38;5;21;01mtransformers\u001B[39;00m \u001B[38;5;28;01mimport\u001B[39;00m AutoTokenizer  \u001B[38;5;66;03m# type: ignore[import]\u001B[39;00m\n\u001B[1;32m    321\u001B[0m     \u001B[38;5;28mself\u001B[39m\u001B[38;5;241m.\u001B[39m_resolve_model_id()\n\u001B[1;32m    323\u001B[0m     \u001B[38;5;28mself\u001B[39m\u001B[38;5;241m.\u001B[39mtokenizer \u001B[38;5;241m=\u001B[39m (\n\u001B[1;32m    324\u001B[0m         AutoTokenizer\u001B[38;5;241m.\u001B[39mfrom_pretrained(\u001B[38;5;28mself\u001B[39m\u001B[38;5;241m.\u001B[39mmodel_id)\n\u001B[1;32m    325\u001B[0m         \u001B[38;5;28;01mif\u001B[39;00m \u001B[38;5;28mself\u001B[39m\u001B[38;5;241m.\u001B[39mtokenizer \u001B[38;5;129;01mis\u001B[39;00m \u001B[38;5;28;01mNone\u001B[39;00m\n\u001B[1;32m    326\u001B[0m         \u001B[38;5;28;01melse\u001B[39;00m \u001B[38;5;28mself\u001B[39m\u001B[38;5;241m.\u001B[39mtokenizer\n\u001B[1;32m    327\u001B[0m     )\n",
      "File \u001B[0;32m/opt/homebrew/anaconda3/lib/python3.11/site-packages/transformers/__init__.py:26\u001B[0m\n\u001B[1;32m     23\u001B[0m \u001B[38;5;28;01mfrom\u001B[39;00m \u001B[38;5;21;01mtyping\u001B[39;00m \u001B[38;5;28;01mimport\u001B[39;00m TYPE_CHECKING\n\u001B[1;32m     25\u001B[0m \u001B[38;5;66;03m# Check the dependencies satisfy the minimal versions required.\u001B[39;00m\n\u001B[0;32m---> 26\u001B[0m \u001B[38;5;28;01mfrom\u001B[39;00m \u001B[38;5;21;01m.\u001B[39;00m \u001B[38;5;28;01mimport\u001B[39;00m dependency_versions_check\n\u001B[1;32m     27\u001B[0m \u001B[38;5;28;01mfrom\u001B[39;00m \u001B[38;5;21;01m.\u001B[39;00m\u001B[38;5;21;01mutils\u001B[39;00m \u001B[38;5;28;01mimport\u001B[39;00m (\n\u001B[1;32m     28\u001B[0m     OptionalDependencyNotAvailable,\n\u001B[1;32m     29\u001B[0m     _LazyModule,\n\u001B[0;32m   (...)\u001B[0m\n\u001B[1;32m     48\u001B[0m     logging,\n\u001B[1;32m     49\u001B[0m )\n\u001B[1;32m     52\u001B[0m logger \u001B[38;5;241m=\u001B[39m logging\u001B[38;5;241m.\u001B[39mget_logger(\u001B[38;5;18m__name__\u001B[39m)  \u001B[38;5;66;03m# pylint: disable=invalid-name\u001B[39;00m\n",
      "File \u001B[0;32m/opt/homebrew/anaconda3/lib/python3.11/site-packages/transformers/dependency_versions_check.py:57\u001B[0m\n\u001B[1;32m     54\u001B[0m         \u001B[38;5;28;01mif\u001B[39;00m \u001B[38;5;129;01mnot\u001B[39;00m is_accelerate_available():\n\u001B[1;32m     55\u001B[0m             \u001B[38;5;28;01mcontinue\u001B[39;00m  \u001B[38;5;66;03m# not required, check version only if installed\u001B[39;00m\n\u001B[0;32m---> 57\u001B[0m     require_version_core(deps[pkg])\n\u001B[1;32m     58\u001B[0m \u001B[38;5;28;01melse\u001B[39;00m:\n\u001B[1;32m     59\u001B[0m     \u001B[38;5;28;01mraise\u001B[39;00m \u001B[38;5;167;01mValueError\u001B[39;00m(\u001B[38;5;124mf\u001B[39m\u001B[38;5;124m\"\u001B[39m\u001B[38;5;124mcan\u001B[39m\u001B[38;5;124m'\u001B[39m\u001B[38;5;124mt find \u001B[39m\u001B[38;5;132;01m{\u001B[39;00mpkg\u001B[38;5;132;01m}\u001B[39;00m\u001B[38;5;124m in \u001B[39m\u001B[38;5;132;01m{\u001B[39;00mdeps\u001B[38;5;241m.\u001B[39mkeys()\u001B[38;5;132;01m}\u001B[39;00m\u001B[38;5;124m, check dependency_versions_table.py\u001B[39m\u001B[38;5;124m\"\u001B[39m)\n",
      "File \u001B[0;32m/opt/homebrew/anaconda3/lib/python3.11/site-packages/transformers/utils/versions.py:117\u001B[0m, in \u001B[0;36mrequire_version_core\u001B[0;34m(requirement)\u001B[0m\n\u001B[1;32m    115\u001B[0m \u001B[38;5;250m\u001B[39m\u001B[38;5;124;03m\"\"\"require_version wrapper which emits a core-specific hint on failure\"\"\"\u001B[39;00m\n\u001B[1;32m    116\u001B[0m hint \u001B[38;5;241m=\u001B[39m \u001B[38;5;124m\"\u001B[39m\u001B[38;5;124mTry: `pip install transformers -U` or `pip install -e \u001B[39m\u001B[38;5;124m'\u001B[39m\u001B[38;5;124m.[dev]\u001B[39m\u001B[38;5;124m'\u001B[39m\u001B[38;5;124m` if you\u001B[39m\u001B[38;5;124m'\u001B[39m\u001B[38;5;124mre working with git main\u001B[39m\u001B[38;5;124m\"\u001B[39m\n\u001B[0;32m--> 117\u001B[0m \u001B[38;5;28;01mreturn\u001B[39;00m require_version(requirement, hint)\n",
      "File \u001B[0;32m/opt/homebrew/anaconda3/lib/python3.11/site-packages/transformers/utils/versions.py:111\u001B[0m, in \u001B[0;36mrequire_version\u001B[0;34m(requirement, hint)\u001B[0m\n\u001B[1;32m    109\u001B[0m \u001B[38;5;28;01mif\u001B[39;00m want_ver \u001B[38;5;129;01mis\u001B[39;00m \u001B[38;5;129;01mnot\u001B[39;00m \u001B[38;5;28;01mNone\u001B[39;00m:\n\u001B[1;32m    110\u001B[0m     \u001B[38;5;28;01mfor\u001B[39;00m op, want_ver \u001B[38;5;129;01min\u001B[39;00m wanted\u001B[38;5;241m.\u001B[39mitems():\n\u001B[0;32m--> 111\u001B[0m         _compare_versions(op, got_ver, want_ver, requirement, pkg, hint)\n",
      "File \u001B[0;32m/opt/homebrew/anaconda3/lib/python3.11/site-packages/transformers/utils/versions.py:44\u001B[0m, in \u001B[0;36m_compare_versions\u001B[0;34m(op, got_ver, want_ver, requirement, pkg, hint)\u001B[0m\n\u001B[1;32m     39\u001B[0m     \u001B[38;5;28;01mraise\u001B[39;00m \u001B[38;5;167;01mValueError\u001B[39;00m(\n\u001B[1;32m     40\u001B[0m         \u001B[38;5;124mf\u001B[39m\u001B[38;5;124m\"\u001B[39m\u001B[38;5;124mUnable to compare versions for \u001B[39m\u001B[38;5;132;01m{\u001B[39;00mrequirement\u001B[38;5;132;01m}\u001B[39;00m\u001B[38;5;124m: need=\u001B[39m\u001B[38;5;132;01m{\u001B[39;00mwant_ver\u001B[38;5;132;01m}\u001B[39;00m\u001B[38;5;124m found=\u001B[39m\u001B[38;5;132;01m{\u001B[39;00mgot_ver\u001B[38;5;132;01m}\u001B[39;00m\u001B[38;5;124m. This is unusual. Consider\u001B[39m\u001B[38;5;124m\"\u001B[39m\n\u001B[1;32m     41\u001B[0m         \u001B[38;5;124mf\u001B[39m\u001B[38;5;124m\"\u001B[39m\u001B[38;5;124m reinstalling \u001B[39m\u001B[38;5;132;01m{\u001B[39;00mpkg\u001B[38;5;132;01m}\u001B[39;00m\u001B[38;5;124m.\u001B[39m\u001B[38;5;124m\"\u001B[39m\n\u001B[1;32m     42\u001B[0m     )\n\u001B[1;32m     43\u001B[0m \u001B[38;5;28;01mif\u001B[39;00m \u001B[38;5;129;01mnot\u001B[39;00m ops[op](version\u001B[38;5;241m.\u001B[39mparse(got_ver), version\u001B[38;5;241m.\u001B[39mparse(want_ver)):\n\u001B[0;32m---> 44\u001B[0m     \u001B[38;5;28;01mraise\u001B[39;00m \u001B[38;5;167;01mImportError\u001B[39;00m(\n\u001B[1;32m     45\u001B[0m         \u001B[38;5;124mf\u001B[39m\u001B[38;5;124m\"\u001B[39m\u001B[38;5;132;01m{\u001B[39;00mrequirement\u001B[38;5;132;01m}\u001B[39;00m\u001B[38;5;124m is required for a normal functioning of this module, but found \u001B[39m\u001B[38;5;132;01m{\u001B[39;00mpkg\u001B[38;5;132;01m}\u001B[39;00m\u001B[38;5;124m==\u001B[39m\u001B[38;5;132;01m{\u001B[39;00mgot_ver\u001B[38;5;132;01m}\u001B[39;00m\u001B[38;5;124m.\u001B[39m\u001B[38;5;132;01m{\u001B[39;00mhint\u001B[38;5;132;01m}\u001B[39;00m\u001B[38;5;124m\"\u001B[39m\n\u001B[1;32m     46\u001B[0m     )\n",
      "\u001B[0;31mImportError\u001B[0m: tokenizers>=0.21,<0.22 is required for a normal functioning of this module, but found tokenizers==0.20.3.\nTry: `pip install transformers -U` or `pip install -e '.[dev]'` if you're working with git main"
     ]
    }
   ],
   "execution_count": 26
  },
  {
   "metadata": {
    "ExecuteTime": {
     "end_time": "2025-01-18T17:39:07.370770Z",
     "start_time": "2025-01-18T17:39:07.368251Z"
    }
   },
   "cell_type": "code",
   "source": [
    "from langchain_core.output_parsers import StrOutputParser\n",
    "from operator import itemgetter\n",
    "\n",
    "chain = (\n",
    "        {\n",
    "            \"context\": itemgetter(\"question\") | retriever,\n",
    "            \"question\": itemgetter(\"question\"),\n",
    "        }\n",
    "        | prompt\n",
    "        | modelOpenAi\n",
    "        | StrOutputParser()\n",
    ")"
   ],
   "outputs": [],
   "execution_count": 35
  },
  {
   "cell_type": "markdown",
   "metadata": {},
   "source": [
    "Let's make sure the chain works by testing it with a simple question."
   ]
  },
  {
   "cell_type": "code",
   "metadata": {
    "ExecuteTime": {
     "end_time": "2025-01-18T17:39:15.685175Z",
     "start_time": "2025-01-18T17:39:13.906019Z"
    }
   },
   "source": [
    "chain.invoke({\"question\": \"What is the Machine Learning School?\"})"
   ],
   "outputs": [
    {
     "data": {
      "text/plain": [
       "'The Machine Learning School is a live, interactive program that helps individuals build production-ready machine learning systems from the ground up.'"
      ]
     },
     "execution_count": 36,
     "metadata": {},
     "output_type": "execute_result"
    }
   ],
   "execution_count": 36
  },
  {
   "cell_type": "markdown",
   "metadata": {},
   "source": [
    "## Evaluating the Model on the Test Set"
   ]
  },
  {
   "cell_type": "markdown",
   "metadata": {},
   "source": [
    "We need to create a function that invokes the chain with a specific question and returns the answer."
   ]
  },
  {
   "cell_type": "code",
   "metadata": {
    "ExecuteTime": {
     "end_time": "2025-01-11T20:08:17.677341Z",
     "start_time": "2025-01-11T20:08:17.675303Z"
    }
   },
   "source": [
    "def answer_fn(question, history=None):\n",
    "    return chain.invoke({\"question\": question})"
   ],
   "outputs": [],
   "execution_count": 22
  },
  {
   "cell_type": "markdown",
   "metadata": {},
   "source": [
    "We can now use the `evaluate()` function to evaluate the model on the test set. This function will compare the answers from the chain with the reference answers in the test set."
   ]
  },
  {
   "cell_type": "code",
   "metadata": {
    "ExecuteTime": {
     "end_time": "2025-01-11T20:11:35.637048Z",
     "start_time": "2025-01-11T20:08:20.440282Z"
    }
   },
   "source": [
    "from giskard.rag import evaluate\n",
    "\n",
    "report = evaluate(answer_fn, testset=testset, knowledge_base=knowledge_base)"
   ],
   "outputs": [
    {
     "data": {
      "text/plain": [
       "Asking questions to the agent:   0%|          | 0/60 [00:00<?, ?it/s]"
      ],
      "application/vnd.jupyter.widget-view+json": {
       "version_major": 2,
       "version_minor": 0,
       "model_id": "7c1ac7d10ebd475abb9148713bd62739"
      }
     },
     "metadata": {},
     "output_type": "display_data"
    },
    {
     "data": {
      "text/plain": [
       "CorrectnessMetric evaluation:   0%|          | 0/60 [00:00<?, ?it/s]"
      ],
      "application/vnd.jupyter.widget-view+json": {
       "version_major": 2,
       "version_minor": 0,
       "model_id": "2f11e7d4ca5b4e31a83ec811b29b642f"
      }
     },
     "metadata": {},
     "output_type": "display_data"
    }
   ],
   "execution_count": 23
  },
  {
   "cell_type": "markdown",
   "metadata": {},
   "source": [
    "Let now display the report.\n",
    "\n",
    "Here are the five components of our RAG application:\n",
    "\n",
    "* **Generator**: This is the LLM used in the chain to generate the answers.\n",
    "* **Retriever**: This is the retriever that fetches relevant documents from the knowledge base according to a query.\n",
    "* **Rewriter**: This is a component that rewrites the user query to make it more relevant to the knowledge base or to account for chat history.\n",
    "* **Router**: This is a component that filters the query of the user based on his intentions.\n",
    "* **Knowledge Base**: This is the set of documents given to the RAG to generate the answers."
   ]
  },
  {
   "cell_type": "code",
   "metadata": {
    "ExecuteTime": {
     "end_time": "2025-01-11T20:11:58.018191Z",
     "start_time": "2025-01-11T20:11:55.084433Z"
    }
   },
   "source": [
    "display(report)"
   ],
   "outputs": [
    {
     "data": {
      "text/html": [
       "    <style>\n",
       "        .bk-notebook-logo {\n",
       "            display: block;\n",
       "            width: 20px;\n",
       "            height: 20px;\n",
       "            background-image: url(data:image/png;base64,iVBORw0KGgoAAAANSUhEUgAAABQAAAAUCAYAAACNiR0NAAAABHNCSVQICAgIfAhkiAAAAAlwSFlzAAALEgAACxIB0t1+/AAAABx0RVh0U29mdHdhcmUAQWRvYmUgRmlyZXdvcmtzIENTNui8sowAAAOkSURBVDiNjZRtaJVlGMd/1/08zzln5zjP1LWcU9N0NkN8m2CYjpgQYQXqSs0I84OLIC0hkEKoPtiH3gmKoiJDU7QpLgoLjLIQCpEsNJ1vqUOdO7ppbuec5+V+rj4ctwzd8IIbbi6u+8f1539dt3A78eXC7QizUF7gyV1fD1Yqg4JWz84yffhm0qkFqBogB9rM8tZdtwVsPUhWhGcFJngGeWrPzHm5oaMmkfEg1usvLFyc8jLRqDOMru7AyC8saQr7GG7f5fvDeH7Ej8CM66nIF+8yngt6HWaKh7k49Soy9nXurCi1o3qUbS3zWfrYeQDTB/Qj6kX6Ybhw4B+bOYoLKCC9H3Nu/leUTZ1JdRWkkn2ldcCamzrcf47KKXdAJllSlxAOkRgyHsGC/zRday5Qld9DyoM4/q/rUoy/CXh3jzOu3bHUVZeU+DEn8FInkPBFlu3+nW3Nw0mk6vCDiWg8CeJaxEwuHS3+z5RgY+YBR6V1Z1nxSOfoaPa4LASWxxdNp+VWTk7+4vzaou8v8PN+xo+KY2xsw6une2frhw05CTYOmQvsEhjhWjn0bmXPjpE1+kplmmkP3suftwTubK9Vq22qKmrBhpY4jvd5afdRA3wGjFAgcnTK2s4hY0/GPNIb0nErGMCRxWOOX64Z8RAC4oCXdklmEvcL8o0BfkNK4lUg9HTl+oPlQxdNo3Mg4Nv175e/1LDGzZen30MEjRUtmXSfiTVu1kK8W4txyV6BMKlbgk3lMwYCiusNy9fVfvvwMxv8Ynl6vxoByANLTWplvuj/nF9m2+PDtt1eiHPBr1oIfhCChQMBw6Aw0UulqTKZdfVvfG7VcfIqLG9bcldL/+pdWTLxLUy8Qq38heUIjh4XlzZxzQm19lLFlr8vdQ97rjZVOLf8nclzckbcD4wxXMidpX30sFd37Fv/GtwwhzhxGVAprjbg0gCAEeIgwCZyTV2Z1REEW8O4py0wsjeloKoMr6iCY6dP92H6Vw/oTyICIthibxjm/DfN9lVz8IqtqKYLUXfoKVMVQVVJOElGjrnnUt9T9wbgp8AyYKaGlqingHZU/uG2NTZSVqwHQTWkx9hxjkpWDaCg6Ckj5qebgBVbT3V3NNXMSiWSDdGV3hrtzla7J+duwPOToIg42ChPQOQjspnSlp1V+Gjdged7+8UN5CRAV7a5EdFNwCjEaBR27b3W890TE7g24NAP/mMDXRWrGoFPQI9ls/MWO2dWFAar/xcOIImbbpA3zgAAAABJRU5ErkJggg==);\n",
       "        }\n",
       "    </style>\n",
       "    <div>\n",
       "        <a href=\"https://bokeh.org\" target=\"_blank\" class=\"bk-notebook-logo\"></a>\n",
       "        <span id=\"f4f3fb74-8b1d-4552-a765-d42b29b822ec\">Loading BokehJS ...</span>\n",
       "    </div>\n"
      ]
     },
     "metadata": {},
     "output_type": "display_data"
    },
    {
     "data": {
      "application/javascript": "(function(root) {\n  function now() {\n    return new Date();\n  }\n\n  const force = true;\n\n  if (typeof root._bokeh_onload_callbacks === \"undefined\" || force === true) {\n    root._bokeh_onload_callbacks = [];\n    root._bokeh_is_loading = undefined;\n  }\n\nconst JS_MIME_TYPE = 'application/javascript';\n  const HTML_MIME_TYPE = 'text/html';\n  const EXEC_MIME_TYPE = 'application/vnd.bokehjs_exec.v0+json';\n  const CLASS_NAME = 'output_bokeh rendered_html';\n\n  /**\n   * Render data to the DOM node\n   */\n  function render(props, node) {\n    const script = document.createElement(\"script\");\n    node.appendChild(script);\n  }\n\n  /**\n   * Handle when an output is cleared or removed\n   */\n  function handleClearOutput(event, handle) {\n    function drop(id) {\n      const view = Bokeh.index.get_by_id(id)\n      if (view != null) {\n        view.model.document.clear()\n        Bokeh.index.delete(view)\n      }\n    }\n\n    const cell = handle.cell;\n\n    const id = cell.output_area._bokeh_element_id;\n    const server_id = cell.output_area._bokeh_server_id;\n\n    // Clean up Bokeh references\n    if (id != null) {\n      drop(id)\n    }\n\n    if (server_id !== undefined) {\n      // Clean up Bokeh references\n      const cmd_clean = \"from bokeh.io.state import curstate; print(curstate().uuid_to_server['\" + server_id + \"'].get_sessions()[0].document.roots[0]._id)\";\n      cell.notebook.kernel.execute(cmd_clean, {\n        iopub: {\n          output: function(msg) {\n            const id = msg.content.text.trim()\n            drop(id)\n          }\n        }\n      });\n      // Destroy server and session\n      const cmd_destroy = \"import bokeh.io.notebook as ion; ion.destroy_server('\" + server_id + \"')\";\n      cell.notebook.kernel.execute(cmd_destroy);\n    }\n  }\n\n  /**\n   * Handle when a new output is added\n   */\n  function handleAddOutput(event, handle) {\n    const output_area = handle.output_area;\n    const output = handle.output;\n\n    // limit handleAddOutput to display_data with EXEC_MIME_TYPE content only\n    if ((output.output_type != \"display_data\") || (!Object.prototype.hasOwnProperty.call(output.data, EXEC_MIME_TYPE))) {\n      return\n    }\n\n    const toinsert = output_area.element.find(\".\" + CLASS_NAME.split(' ')[0]);\n\n    if (output.metadata[EXEC_MIME_TYPE][\"id\"] !== undefined) {\n      toinsert[toinsert.length - 1].firstChild.textContent = output.data[JS_MIME_TYPE];\n      // store reference to embed id on output_area\n      output_area._bokeh_element_id = output.metadata[EXEC_MIME_TYPE][\"id\"];\n    }\n    if (output.metadata[EXEC_MIME_TYPE][\"server_id\"] !== undefined) {\n      const bk_div = document.createElement(\"div\");\n      bk_div.innerHTML = output.data[HTML_MIME_TYPE];\n      const script_attrs = bk_div.children[0].attributes;\n      for (let i = 0; i < script_attrs.length; i++) {\n        toinsert[toinsert.length - 1].firstChild.setAttribute(script_attrs[i].name, script_attrs[i].value);\n        toinsert[toinsert.length - 1].firstChild.textContent = bk_div.children[0].textContent\n      }\n      // store reference to server id on output_area\n      output_area._bokeh_server_id = output.metadata[EXEC_MIME_TYPE][\"server_id\"];\n    }\n  }\n\n  function register_renderer(events, OutputArea) {\n\n    function append_mime(data, metadata, element) {\n      // create a DOM node to render to\n      const toinsert = this.create_output_subarea(\n        metadata,\n        CLASS_NAME,\n        EXEC_MIME_TYPE\n      );\n      this.keyboard_manager.register_events(toinsert);\n      // Render to node\n      const props = {data: data, metadata: metadata[EXEC_MIME_TYPE]};\n      render(props, toinsert[toinsert.length - 1]);\n      element.append(toinsert);\n      return toinsert\n    }\n\n    /* Handle when an output is cleared or removed */\n    events.on('clear_output.CodeCell', handleClearOutput);\n    events.on('delete.Cell', handleClearOutput);\n\n    /* Handle when a new output is added */\n    events.on('output_added.OutputArea', handleAddOutput);\n\n    /**\n     * Register the mime type and append_mime function with output_area\n     */\n    OutputArea.prototype.register_mime_type(EXEC_MIME_TYPE, append_mime, {\n      /* Is output safe? */\n      safe: true,\n      /* Index of renderer in `output_area.display_order` */\n      index: 0\n    });\n  }\n\n  // register the mime type if in Jupyter Notebook environment and previously unregistered\n  if (root.Jupyter !== undefined) {\n    const events = require('base/js/events');\n    const OutputArea = require('notebook/js/outputarea').OutputArea;\n\n    if (OutputArea.prototype.mime_types().indexOf(EXEC_MIME_TYPE) == -1) {\n      register_renderer(events, OutputArea);\n    }\n  }\n  if (typeof (root._bokeh_timeout) === \"undefined\" || force === true) {\n    root._bokeh_timeout = Date.now() + 5000;\n    root._bokeh_failed_load = false;\n  }\n\n  const NB_LOAD_WARNING = {'data': {'text/html':\n     \"<div style='background-color: #fdd'>\\n\"+\n     \"<p>\\n\"+\n     \"BokehJS does not appear to have successfully loaded. If loading BokehJS from CDN, this \\n\"+\n     \"may be due to a slow or bad network connection. Possible fixes:\\n\"+\n     \"</p>\\n\"+\n     \"<ul>\\n\"+\n     \"<li>re-rerun `output_notebook()` to attempt to load from CDN again, or</li>\\n\"+\n     \"<li>use INLINE resources instead, as so:</li>\\n\"+\n     \"</ul>\\n\"+\n     \"<code>\\n\"+\n     \"from bokeh.resources import INLINE\\n\"+\n     \"output_notebook(resources=INLINE)\\n\"+\n     \"</code>\\n\"+\n     \"</div>\"}};\n\n  function display_loaded() {\n    const el = document.getElementById(\"f4f3fb74-8b1d-4552-a765-d42b29b822ec\");\n    if (el != null) {\n      el.textContent = \"BokehJS is loading...\";\n    }\n    if (root.Bokeh !== undefined) {\n      if (el != null) {\n        el.textContent = \"BokehJS \" + root.Bokeh.version + \" successfully loaded.\";\n      }\n    } else if (Date.now() < root._bokeh_timeout) {\n      setTimeout(display_loaded, 100)\n    }\n  }\n\n  function run_callbacks() {\n    try {\n      root._bokeh_onload_callbacks.forEach(function(callback) {\n        if (callback != null)\n          callback();\n      });\n    } finally {\n      delete root._bokeh_onload_callbacks\n    }\n    console.debug(\"Bokeh: all callbacks have finished\");\n  }\n\n  function load_libs(css_urls, js_urls, callback) {\n    if (css_urls == null) css_urls = [];\n    if (js_urls == null) js_urls = [];\n\n    root._bokeh_onload_callbacks.push(callback);\n    if (root._bokeh_is_loading > 0) {\n      console.debug(\"Bokeh: BokehJS is being loaded, scheduling callback at\", now());\n      return null;\n    }\n    if (js_urls == null || js_urls.length === 0) {\n      run_callbacks();\n      return null;\n    }\n    console.debug(\"Bokeh: BokehJS not loaded, scheduling load and callback at\", now());\n    root._bokeh_is_loading = css_urls.length + js_urls.length;\n\n    function on_load() {\n      root._bokeh_is_loading--;\n      if (root._bokeh_is_loading === 0) {\n        console.debug(\"Bokeh: all BokehJS libraries/stylesheets loaded\");\n        run_callbacks()\n      }\n    }\n\n    function on_error(url) {\n      console.error(\"failed to load \" + url);\n    }\n\n    for (let i = 0; i < css_urls.length; i++) {\n      const url = css_urls[i];\n      const element = document.createElement(\"link\");\n      element.onload = on_load;\n      element.onerror = on_error.bind(null, url);\n      element.rel = \"stylesheet\";\n      element.type = \"text/css\";\n      element.href = url;\n      console.debug(\"Bokeh: injecting link tag for BokehJS stylesheet: \", url);\n      document.body.appendChild(element);\n    }\n\n    for (let i = 0; i < js_urls.length; i++) {\n      const url = js_urls[i];\n      const element = document.createElement('script');\n      element.onload = on_load;\n      element.onerror = on_error.bind(null, url);\n      element.async = false;\n      element.src = url;\n      console.debug(\"Bokeh: injecting script tag for BokehJS library: \", url);\n      document.head.appendChild(element);\n    }\n  };\n\n  function inject_raw_css(css) {\n    const element = document.createElement(\"style\");\n    element.appendChild(document.createTextNode(css));\n    document.body.appendChild(element);\n  }\n\n  const js_urls = [\"https://cdn.bokeh.org/bokeh/release/bokeh-3.3.4.min.js\", \"https://cdn.bokeh.org/bokeh/release/bokeh-gl-3.3.4.min.js\", \"https://cdn.bokeh.org/bokeh/release/bokeh-widgets-3.3.4.min.js\", \"https://cdn.bokeh.org/bokeh/release/bokeh-tables-3.3.4.min.js\", \"https://cdn.bokeh.org/bokeh/release/bokeh-mathjax-3.3.4.min.js\"];\n  const css_urls = [];\n\n  const inline_js = [    function(Bokeh) {\n      Bokeh.set_log_level(\"info\");\n    },\nfunction(Bokeh) {\n    }\n  ];\n\n  function run_inline_js() {\n    if (root.Bokeh !== undefined || force === true) {\n          for (let i = 0; i < inline_js.length; i++) {\n      inline_js[i].call(root, root.Bokeh);\n    }\nif (force === true) {\n        display_loaded();\n      }} else if (Date.now() < root._bokeh_timeout) {\n      setTimeout(run_inline_js, 100);\n    } else if (!root._bokeh_failed_load) {\n      console.log(\"Bokeh: BokehJS failed to load within specified timeout.\");\n      root._bokeh_failed_load = true;\n    } else if (force !== true) {\n      const cell = $(document.getElementById(\"f4f3fb74-8b1d-4552-a765-d42b29b822ec\")).parents('.cell').data().cell;\n      cell.output_area.append_execute_result(NB_LOAD_WARNING)\n    }\n  }\n\n  if (root._bokeh_is_loading === 0) {\n    console.debug(\"Bokeh: BokehJS loaded, going straight to plotting\");\n    run_inline_js();\n  } else {\n    load_libs(css_urls, js_urls, function() {\n      console.debug(\"Bokeh: BokehJS plotting callback run at\", now());\n      run_inline_js();\n    });\n  }\n}(window));",
      "application/vnd.bokehjs_load.v0+json": "(function(root) {\n  function now() {\n    return new Date();\n  }\n\n  const force = true;\n\n  if (typeof root._bokeh_onload_callbacks === \"undefined\" || force === true) {\n    root._bokeh_onload_callbacks = [];\n    root._bokeh_is_loading = undefined;\n  }\n\n\n  if (typeof (root._bokeh_timeout) === \"undefined\" || force === true) {\n    root._bokeh_timeout = Date.now() + 5000;\n    root._bokeh_failed_load = false;\n  }\n\n  const NB_LOAD_WARNING = {'data': {'text/html':\n     \"<div style='background-color: #fdd'>\\n\"+\n     \"<p>\\n\"+\n     \"BokehJS does not appear to have successfully loaded. If loading BokehJS from CDN, this \\n\"+\n     \"may be due to a slow or bad network connection. Possible fixes:\\n\"+\n     \"</p>\\n\"+\n     \"<ul>\\n\"+\n     \"<li>re-rerun `output_notebook()` to attempt to load from CDN again, or</li>\\n\"+\n     \"<li>use INLINE resources instead, as so:</li>\\n\"+\n     \"</ul>\\n\"+\n     \"<code>\\n\"+\n     \"from bokeh.resources import INLINE\\n\"+\n     \"output_notebook(resources=INLINE)\\n\"+\n     \"</code>\\n\"+\n     \"</div>\"}};\n\n  function display_loaded() {\n    const el = document.getElementById(\"f4f3fb74-8b1d-4552-a765-d42b29b822ec\");\n    if (el != null) {\n      el.textContent = \"BokehJS is loading...\";\n    }\n    if (root.Bokeh !== undefined) {\n      if (el != null) {\n        el.textContent = \"BokehJS \" + root.Bokeh.version + \" successfully loaded.\";\n      }\n    } else if (Date.now() < root._bokeh_timeout) {\n      setTimeout(display_loaded, 100)\n    }\n  }\n\n  function run_callbacks() {\n    try {\n      root._bokeh_onload_callbacks.forEach(function(callback) {\n        if (callback != null)\n          callback();\n      });\n    } finally {\n      delete root._bokeh_onload_callbacks\n    }\n    console.debug(\"Bokeh: all callbacks have finished\");\n  }\n\n  function load_libs(css_urls, js_urls, callback) {\n    if (css_urls == null) css_urls = [];\n    if (js_urls == null) js_urls = [];\n\n    root._bokeh_onload_callbacks.push(callback);\n    if (root._bokeh_is_loading > 0) {\n      console.debug(\"Bokeh: BokehJS is being loaded, scheduling callback at\", now());\n      return null;\n    }\n    if (js_urls == null || js_urls.length === 0) {\n      run_callbacks();\n      return null;\n    }\n    console.debug(\"Bokeh: BokehJS not loaded, scheduling load and callback at\", now());\n    root._bokeh_is_loading = css_urls.length + js_urls.length;\n\n    function on_load() {\n      root._bokeh_is_loading--;\n      if (root._bokeh_is_loading === 0) {\n        console.debug(\"Bokeh: all BokehJS libraries/stylesheets loaded\");\n        run_callbacks()\n      }\n    }\n\n    function on_error(url) {\n      console.error(\"failed to load \" + url);\n    }\n\n    for (let i = 0; i < css_urls.length; i++) {\n      const url = css_urls[i];\n      const element = document.createElement(\"link\");\n      element.onload = on_load;\n      element.onerror = on_error.bind(null, url);\n      element.rel = \"stylesheet\";\n      element.type = \"text/css\";\n      element.href = url;\n      console.debug(\"Bokeh: injecting link tag for BokehJS stylesheet: \", url);\n      document.body.appendChild(element);\n    }\n\n    for (let i = 0; i < js_urls.length; i++) {\n      const url = js_urls[i];\n      const element = document.createElement('script');\n      element.onload = on_load;\n      element.onerror = on_error.bind(null, url);\n      element.async = false;\n      element.src = url;\n      console.debug(\"Bokeh: injecting script tag for BokehJS library: \", url);\n      document.head.appendChild(element);\n    }\n  };\n\n  function inject_raw_css(css) {\n    const element = document.createElement(\"style\");\n    element.appendChild(document.createTextNode(css));\n    document.body.appendChild(element);\n  }\n\n  const js_urls = [\"https://cdn.bokeh.org/bokeh/release/bokeh-3.3.4.min.js\", \"https://cdn.bokeh.org/bokeh/release/bokeh-gl-3.3.4.min.js\", \"https://cdn.bokeh.org/bokeh/release/bokeh-widgets-3.3.4.min.js\", \"https://cdn.bokeh.org/bokeh/release/bokeh-tables-3.3.4.min.js\", \"https://cdn.bokeh.org/bokeh/release/bokeh-mathjax-3.3.4.min.js\"];\n  const css_urls = [];\n\n  const inline_js = [    function(Bokeh) {\n      Bokeh.set_log_level(\"info\");\n    },\nfunction(Bokeh) {\n    }\n  ];\n\n  function run_inline_js() {\n    if (root.Bokeh !== undefined || force === true) {\n          for (let i = 0; i < inline_js.length; i++) {\n      inline_js[i].call(root, root.Bokeh);\n    }\nif (force === true) {\n        display_loaded();\n      }} else if (Date.now() < root._bokeh_timeout) {\n      setTimeout(run_inline_js, 100);\n    } else if (!root._bokeh_failed_load) {\n      console.log(\"Bokeh: BokehJS failed to load within specified timeout.\");\n      root._bokeh_failed_load = true;\n    } else if (force !== true) {\n      const cell = $(document.getElementById(\"f4f3fb74-8b1d-4552-a765-d42b29b822ec\")).parents('.cell').data().cell;\n      cell.output_area.append_execute_result(NB_LOAD_WARNING)\n    }\n  }\n\n  if (root._bokeh_is_loading === 0) {\n    console.debug(\"Bokeh: BokehJS loaded, going straight to plotting\");\n    run_inline_js();\n  } else {\n    load_libs(css_urls, js_urls, function() {\n      console.debug(\"Bokeh: BokehJS plotting callback run at\", now());\n      run_inline_js();\n    });\n  }\n}(window));"
     },
     "metadata": {},
     "output_type": "display_data"
    },
    {
     "name": "stdout",
     "output_type": "stream",
     "text": [
      "2025-01-11 21:11:55,098 pid:49127 MainThread giskard.rag  INFO     Finding topics in the knowledge base.\n"
     ]
    },
    {
     "name": "stderr",
     "output_type": "stream",
     "text": [
      "/opt/homebrew/anaconda3/lib/python3.11/site-packages/sklearn/utils/deprecation.py:151: FutureWarning: 'force_all_finite' was renamed to 'ensure_all_finite' in 1.6 and will be removed in 1.8.\n",
      "  warnings.warn(\n",
      "/opt/homebrew/anaconda3/lib/python3.11/site-packages/umap/umap_.py:2462: UserWarning: n_neighbors is larger than the dataset size; truncating to X.shape[0] - 1\n",
      "  warn(\n"
     ]
    },
    {
     "name": "stdout",
     "output_type": "stream",
     "text": [
      "2025-01-11 21:11:57,921 pid:49127 MainThread giskard.rag  INFO     Found 1 topics in the knowledge base.\n"
     ]
    },
    {
     "data": {
      "text/plain": [
       "<giskard.rag.report.RAGReport at 0x33573eb90>"
      ],
      "text/html": [
       "<!DOCTYPE html>\n",
       "\n",
       "\n",
       "<style>\n",
       "    body{\n",
       "  background: #18181B;\n",
       "}\n",
       "\n",
       ".main{\n",
       "  font-family: \"Noto Sans\", ui-sans-serif, system-ui, -apple-system, BlinkMacSystemFont, \"Segoe UI\", Roboto, \"Helvetica Neue\", Arial, sans-serif, \"Apple Color Emoji\", \"Segoe UI Emoji\", \"Segoe UI Symbol\", \"Noto Color Emoji\";\n",
       "  color: #FDFDFD;\n",
       "}\n",
       "\n",
       "h1 {\n",
       "  font-size: 2.5rem;\n",
       "  color: white;\n",
       "}\n",
       "\n",
       "h3 {\n",
       "  font-size: 1.5rem;\n",
       "  background: #0c087c;\n",
       "  padding: 10px;\n",
       "  margin: 0px;\n",
       "  border: 1px solid #6b7280;}\n",
       "\n",
       ".extended-title{\n",
       "  width:100%;\n",
       "}\n",
       "\n",
       "#gsk-overview{\n",
       "  display:flex;\n",
       "}\n",
       "\n",
       "h4 {\n",
       "  font-size: 1rem;\n",
       "  background: #27272A;\n",
       "  padding: 10px;\n",
       "  margin: 0px;\n",
       "  border-bottom: 1px solid #6b7280;\n",
       "}\n",
       "\n",
       "h2 {\n",
       "  font-size: 1.5rem;\n",
       "  margin-top: 3px;\n",
       "  color:#000000;\n",
       "}\n",
       "\n",
       ".header{\n",
       "  display: flex;\n",
       "  justify-content: center;\n",
       "  align-items: center;\n",
       "}\n",
       ".header > * {\n",
       "  margin-inline: 20px;\n",
       "}\n",
       "\n",
       ".flex-row {\n",
       "  display: flex;\n",
       "  flex-direction: row;\n",
       "  padding:10px;\n",
       "  border: 1px solid #27272A;\n",
       "}\n",
       "\n",
       ".flex-row>div {\n",
       "  flex: auto;\n",
       "  box-sizing: border-box;\n",
       "  display: flex;\n",
       "  flex-direction: column;\n",
       "  justify-content: center;\n",
       "  align-items: center;\n",
       "}\n",
       "\n",
       "progress[value] {\n",
       "  --background: #6D6D6D;\n",
       "  -webkit-appearance: none;\n",
       "  -moz-appearance: none;\n",
       "  appearance: none;\n",
       "  border: none;\n",
       "  height: 4px;\n",
       "  margin: 0 10px;\n",
       "  border-radius: 10em;\n",
       "  background: var(--background);\n",
       "}\n",
       "\n",
       "progress[value]::-webkit-progress-bar {\n",
       "  border-radius: 10em;\n",
       "  background: var(--background);\n",
       "}\n",
       "\n",
       "progress[value]::-webkit-progress-value {\n",
       "  border-radius: 10em;\n",
       "  background: var(--color);\n",
       "}\n",
       "\n",
       "progress[value]::-moz-progress-bar {\n",
       "  border-radius: 10em;\n",
       "  background: var(--color);\n",
       "}\n",
       "\n",
       "label {\n",
       "  font-size: 20px;\n",
       "  font-weight: bold;\n",
       "  display: block;\n",
       "  margin: 20px 0;\n",
       "}\n",
       "\n",
       ".tab {\n",
       "  overflow: hidden;\n",
       "  border: 1px solid #27272A;\n",
       "  background-color: #27272A;\n",
       "}\n",
       "\n",
       ".tab button {\n",
       "  background-color: inherit;\n",
       "  float: left;\n",
       "  border: none;\n",
       "  outline: none;\n",
       "  cursor: pointer;\n",
       "  padding: 14px 16px;\n",
       "  transition: 0.3s;\n",
       "  color: #ffffff;\n",
       "  font-size:1.2rem;\n",
       "}\n",
       "\n",
       ".tab div {\n",
       "  background-color: inherit;\n",
       "  float: left;\n",
       "  border: none;\n",
       "  outline: none;\n",
       "  cursor: pointer;\n",
       "  padding: 14px 16px;\n",
       "  transition: 0.3s;\n",
       "  color: #ffffff;\n",
       "  font-size: 1.2rem;\n",
       "}\n",
       "\n",
       ".tab button:hover {\n",
       "  background-color: #18181B;\n",
       "}\n",
       "\n",
       ".tab-title{\n",
       "  font-size: 1.5rem;\n",
       "  font-weight: bold;\n",
       "  margin-bottom:-5px;\n",
       "}\n",
       "\n",
       ".tab button.active {\n",
       "  background-color: #18181B;\n",
       "  border-top: 1px solid #6b7280;\n",
       "  border-bottom: 1px solid #18181B;\n",
       "  border-left: 1px solid #6b7280;\n",
       "  border-right: 1px solid #6b7280;\n",
       "}\n",
       "\n",
       ".tabcontent {\n",
       "  display: none;\n",
       "  padding: 6px 12px;\n",
       "  background: #18181B;\n",
       "  border: 1px solid #27272A;\n",
       "  border-top: 1px solid #6b7280;\n",
       "  margin-top: -2px;\n",
       "}\n",
       "\n",
       "#gsk-advice {\n",
       "  display: flex;\n",
       "  justify-content: center;\n",
       "}\n",
       "\n",
       "#gsk-metrics{\n",
       "  width:100%;\n",
       "}\n",
       "\n",
       "#recommendation {\n",
       "  margin-top: 20px;\n",
       "  padding: 20px;\n",
       "  border-radius: 10px;\n",
       "  background-color: #e1ce86;\n",
       "  color: #27272A;\n",
       "  width:95%;\n",
       "  box-shadow: 0 4px 8px 0 #000000, 0 6px 20px 0 #000000;\n",
       "  font-size: 12pt;\n",
       "}\n",
       "\n",
       ".separator {\n",
       "  margin: 20px 0;\n",
       "}\n",
       "\n",
       ".separator-border {\n",
       "  margin: 20px 0;\n",
       "  border-bottom: 1px solid #6b7280;\n",
       "}\n",
       "\n",
       "#gsk-rag{\n",
       "  margin: 32px 28px;\n",
       "  padding: 12px 24px;\n",
       "  background-color: #111516;\n",
       "}\n",
       "\n",
       ".section-container {\n",
       "  margin-bottom: 32px;\n",
       "}\n",
       "\n",
       "  .components-container {\n",
       "    display: flex;\n",
       "    flex-flow: row wrap;\n",
       "    align-items: flex-start;\n",
       "    gap: 0 32px;\n",
       "  }\n",
       "\n",
       "    .component-card {\n",
       "      background-color: #14191B;\n",
       "      border-radius: 16px;\n",
       "      padding: 28px 32px 32px 32px;\n",
       "      display: flex;\n",
       "      flex-flow: column;\n",
       "      align-items: center;\n",
       "      margin-top: 32px;\n",
       "      flex-grow: 1;\n",
       "    }\n",
       "\n",
       "    .component-title {\n",
       "      font-size: 12px;\n",
       "      font-weight: 500;\n",
       "      color: #B1B1B1;\n",
       "      padding-bottom: 8px;\n",
       "    }\n",
       "\n",
       "    .component-value {\n",
       "      font-size: 32px;\n",
       "      font-weight: 500;\n",
       "      padding-bottom: 12px;\n",
       "    }\n",
       "      \n",
       "      .text-green {\n",
       "        color: #04B543;\n",
       "      }\n",
       "      \n",
       "      .text-orange {\n",
       "        color: #E76E0F;\n",
       "      }\n",
       "      \n",
       "      .text-red {\n",
       "        color: #EA3829;\n",
       "      }\n",
       "\n",
       "      .tooltip {\n",
       "        position: relative;\n",
       "        display: inline-block;\n",
       "      }\n",
       "\n",
       "      .tooltip .tooltiptext {\n",
       "        visibility: hidden;\n",
       "        width: 120px;\n",
       "        background-color: #464646;\n",
       "        color: #E6E6E6;\n",
       "        text-align: center;\n",
       "        border-radius: 6px;\n",
       "        position: absolute;\n",
       "        z-index: 1;\n",
       "        top: 150%;\n",
       "        left: 50%;\n",
       "        margin-left: -60px;\n",
       "        font-size: 12px;\n",
       "        padding: 12px;\n",
       "      }\n",
       "      \n",
       "      .tooltip .tooltiptext::after {\n",
       "        content: \"\";\n",
       "        position: absolute;\n",
       "        bottom: 100%;\n",
       "        left: 50%;\n",
       "        margin-left: -5px;\n",
       "        border-width: 5px;\n",
       "        border-style: solid;\n",
       "        border-color: transparent transparent black transparent;\n",
       "      }\n",
       "      \n",
       "      .tooltip:hover .tooltiptext {\n",
       "        visibility: visible;\n",
       "      }\n",
       "\n",
       "    .overall-card {\n",
       "      background-color: #026836;\n",
       "      border-radius: 16px;\n",
       "      padding: 28px 32px 32px 32px;\n",
       "      display: flex;\n",
       "      flex-flow: column;\n",
       "      align-items: center;\n",
       "      justify-content: center;\n",
       "      margin-top: 32px;\n",
       "      flex-grow: 1;\n",
       "    }\n",
       "  \n",
       "    .overall-title {\n",
       "      font-size: 12px;\n",
       "      font-weight: 500;\n",
       "      color: #E6E6E6;\n",
       "      padding: 14px 0 8px 0;\n",
       "      text-transform: uppercase;\n",
       "     }\n",
       "  \n",
       "    .overall-value {\n",
       "      font-size: 32px;\n",
       "      font-weight: 500;\n",
       "      padding-bottom: 12px;\n",
       "      color: #E6E6E6;\n",
       "    }\n",
       "\n",
       ".section-title {\n",
       "  font-size: 12px;\n",
       "  color: #B1B1B1;\n",
       "  margin-bottom: 20px;\n",
       "  text-align: left;\n",
       "  width: 100%;\n",
       "}\n",
       "\n",
       ".section-content {\n",
       "  color: #E6E6E6;\n",
       "  font-size: 20px;\n",
       "  line-height: 1.5;\n",
       "}\n",
       "\n",
       ".section-card {\n",
       "  background-color: #14191B;\n",
       "  border-radius: 16px;\n",
       "  padding: 28px 32px 32px 32px;\n",
       "  display: flex;\n",
       "  flex-flow: column;\n",
       "  align-items: center;\n",
       "}\n",
       "\n",
       ".correctness-indicator{\n",
       "  padding: 20px;\n",
       "  border-radius: 50px;\n",
       "  font-size: 16pt;\n",
       "  box-shadow: 0 4px 8px 0 #000000, 0 6px 20px 0 #000000;\n",
       "  text-align: center;\n",
       "}\n",
       "\n",
       ".metric-title{\n",
       "  margin: -2px;\n",
       "  border-bottom: none;\n",
       "}\n",
       "\n",
       ".hist-row {\n",
       "  display: flex;\n",
       "  flex-direction: row;\n",
       "  padding: 10px;\n",
       "  justify-content: space-around;\n",
       "  width: 85%;\n",
       "}\n",
       "\n",
       ".hist-row>div {\n",
       "  flex: auto;\n",
       "  box-sizing: border-box;\n",
       "  display: flex;\n",
       "  flex-direction: column;\n",
       "  justify-content: center;\n",
       "  align-items: center;\n",
       "  padding-left: 1%;\n",
       "  padding-right: 1%;\n",
       "}\n",
       "\n",
       ".tab-row{\n",
       "  display: flex;\n",
       "  flex-direction: column;\n",
       "  align-items: center;\n",
       "}\n",
       "\n",
       "#component-table{\n",
       "  width:50%;\n",
       "  margin-top: 10px;\n",
       "}\n",
       "\n",
       ".green{\n",
       "  background-color: #0a980a;\n",
       "}\n",
       "\n",
       ".orange {\n",
       "  background-color: #e5b62a;\n",
       "}\n",
       "\n",
       ".red {\n",
       "  background-color: #ba0e0e;\n",
       "}\n",
       "\n",
       ".progress-green {\n",
       "  --color: #04B543;\n",
       "}\n",
       "\n",
       ".progress-orange {\n",
       "  --color: #E76E0F;\n",
       "}\n",
       "\n",
       ".progress-red {\n",
       "  --color: #EA3829;\n",
       "}\n",
       "\n",
       ".corr-plot{\n",
       "  flex: 1;\n",
       "  padding-left: 2%;\n",
       "}\n",
       "\n",
       ".tooltip-text {\n",
       "  position: absolute;\n",
       "  display: none;\n",
       "  visibility: hidden;\n",
       "  z-index: 1;\n",
       "  top: 100%;\n",
       "  left: 0%;\n",
       "  width: 100%;\n",
       "  color: white;\n",
       "  font-size: 12px;\n",
       "  background-color: #2d3d4c;\n",
       "  border-radius: 10px;\n",
       "  padding: 10px 15px 10px 15px;\n",
       "}\n",
       "\n",
       "#fade {\n",
       "  opacity: 1;\n",
       "  transition: opacity 0.5s;\n",
       "}\n",
       "\n",
       "#delay {\n",
       "  opacity: 0;\n",
       "  transition: opacity 0.2s;\n",
       "  transition-delay: 1s;\n",
       "}\n",
       "\n",
       "td {\n",
       "  position: relative;\n",
       "}\n",
       "\n",
       "tr:hover .tooltip-text {\n",
       "  display: block;\n",
       "  visibility: visible;\n",
       "}\n",
       "\n",
       ".tr:hover #fade {\n",
       "  opacity: 1;\n",
       "}\n",
       "\n",
       ".tr:hover #delay {\n",
       "  opacity: 1;\n",
       "}\n",
       "\n",
       ".callout {\n",
       "  padding: 0.5rem 1rem 0.5rem 3rem;\n",
       "  background: #D9EDF9;\n",
       "  border: 3px solid #0088D1;\n",
       "  color: #272eb5;\n",
       "  position: relative;\n",
       "  max-width: 40rem;\n",
       "  border-radius: 10px;\n",
       "  margin-top: 10%;\n",
       "  font-size: 11pt;\n",
       "}\n",
       "\n",
       ".callout-icon {\n",
       "  content: \"\";\n",
       "\n",
       "  /* SVG via a data URI! */\n",
       "  background-size: cover;\n",
       "  width: 1.5rem;\n",
       "  height: 1.5rem;\n",
       "  display: block;\n",
       "  position: absolute;\n",
       "  left: 0.9rem;\n",
       "  top: 1.1rem;\n",
       "}\n",
       "\n",
       ".callout-icon svg{\n",
       "  fill: #016ca7;\n",
       "}\n",
       ".callout p+p {\n",
       "  margin-top: 1em;\n",
       "}\n",
       "\n",
       ".callout a {\n",
       "  color: #272eb5;\n",
       "  font-weight: bold;\n",
       "}\n",
       "\n",
       "#gsk-logo {\n",
       "  padding-top: 10px;\n",
       "}\n",
       "</style>\n",
       "<script src=\"https://cdn.bokeh.org/bokeh/release/bokeh-3.3.4.min.js\" integrity=\"sha384-5QIrjQuyo4I/x6DK/Sau33lcA3hT2TCZGr9vbk+2ebd7Da6FnR1amdM+9B5xOrSf\" crossorigin=\"anonymous\"></script>\n",
       "<script src=\"https://cdn.bokeh.org/bokeh/release/bokeh-gl-3.3.4.min.js\" integrity=\"sha384-tXTWPp/bAKa+K9RPuXh7DNvye0Mv+P+6y4rAMVy+pWapsnXg9UG7g20WZ0N4i28A\" crossorigin=\"anonymous\"></script>\n",
       "\n",
       "\n",
       "\n",
       "\n",
       "\n",
       "<div class=\"main\">\n",
       "    <div id=\"gsk-rag\" class=\"dark:text-white dark:bg-zinc-800 rounded border border-gray-500\">\n",
       "        <div class=\"header border-b border-b-gray-500\">\n",
       "            \n",
       "                <svg xmlns=\"http://www.w3.org/2000/svg\" width=\"60\" height=\"30\" viewBox=\"0 0 30 15\" fill=\"none\" id=\"gsk-logo\">\n",
       "                    <path fill=\"#fff\" fill-rule=\"evenodd\"\n",
       "                        d=\"M22.504 1.549a4.196 4.196 0 0 1 2.573-.887v.002a3.783 3.783 0 0 1 2.706 1.086 3.783 3.783 0 0 1 1.126 2.69 3.771 3.771 0 0 1-1.126 2.69 3.77 3.77 0 0 1-2.706 1.085l-4.794.011-2.533 3.467L8.203 15l2.881-3.335a9.829 9.829 0 0 1-4.663-1.68H3.185L0 7.163h3.934C4.263 3.165 8.187 0 12.96 0c2.24 0 4.489.696 6.175 1.909a7.423 7.423 0 0 1 1.882 1.919 4.194 4.194 0 0 1 1.487-2.28ZM7.05 3.249l3.91 3.915h1.505L7.89 2.584a7.773 7.773 0 0 0-.84.665Zm4.079-2.008 5.923 5.923h1.503l-6.086-6.087c-.45.023-.898.078-1.34.164ZM4.574 8.226h-1.77l.784.693h1.584a8.454 8.454 0 0 1-.598-.693Zm9.479 0H5.984c1.469 1.477 3.656 2.377 5.977 2.422l2.092-2.422Zm-2.458 4.472 5.492-1.902 1.878-2.569h-3.508l-3.862 4.47Zm10.361-5.552h3.265a2.714 2.714 0 0 0 1.747-4.648 2.711 2.711 0 0 0-1.888-.773 3.127 3.127 0 0 0-3.123 3.124v2.297Zm3.659-3.73a.677.677 0 1 1-.134 1.348.677.677 0 0 1 .134-1.348Z\"\n",
       "                        clip-rule=\"evenodd\" />\n",
       "                </svg>\n",
       "            <h1>RAG Evaluation Toolkit</h1>\n",
       "        </div>\n",
       "        \n",
       "        <div class=\"section-container\">\n",
       "            <div class=\"components-container\">\n",
       "                \n",
       "                <div class=\"component-card\">\n",
       "                    <div class=\"component-title\">GENERATOR</div>\n",
       "                    <div class=\"component-value tooltip  text-orange \">\n",
       "                        58.0%\n",
       "                            <span class=\"tooltiptext\" id=\"fade\">The Generator is the LLM inside the RAG to generate the answers.</span>\n",
       "                    </div>\n",
       "                    <div class=\"component-bar\">\n",
       "                        <progress max=\"100\" value=58.00000000000001 class=\" progress-orange \">58.0%</progress>\n",
       "                    </div>\n",
       "                </div>\n",
       "                \n",
       "                <div class=\"component-card\">\n",
       "                    <div class=\"component-title\">RETRIEVER</div>\n",
       "                    <div class=\"component-value tooltip  text-orange \">\n",
       "                        55.0%\n",
       "                            <span class=\"tooltiptext\" id=\"fade\">The Retriever fetches relevant documents from the knowledge base according to a user query.</span>\n",
       "                    </div>\n",
       "                    <div class=\"component-bar\">\n",
       "                        <progress max=\"100\" value=55.00000000000001 class=\" progress-orange \">55.0%</progress>\n",
       "                    </div>\n",
       "                </div>\n",
       "                \n",
       "                <div class=\"component-card\">\n",
       "                    <div class=\"component-title\">REWRITER</div>\n",
       "                    <div class=\"component-value tooltip  text-orange \">\n",
       "                        36.67%\n",
       "                            <span class=\"tooltiptext\" id=\"fade\">The Rewriter modifies the user query to match a predefined format or to include the context from the chat history.</span>\n",
       "                    </div>\n",
       "                    <div class=\"component-bar\">\n",
       "                        <progress max=\"100\" value=36.666666666666664 class=\" progress-orange \">36.67%</progress>\n",
       "                    </div>\n",
       "                </div>\n",
       "                \n",
       "                <div class=\"component-card\">\n",
       "                    <div class=\"component-title\">ROUTING</div>\n",
       "                    <div class=\"component-value tooltip  text-green \">\n",
       "                        100.0%\n",
       "                            <span class=\"tooltiptext\" id=\"fade\">The Router filters the query of the user based on his intentions (intentions detection).</span>\n",
       "                    </div>\n",
       "                    <div class=\"component-bar\">\n",
       "                        <progress max=\"100\" value=100.0 class=\" progress-green \">100.0%</progress>\n",
       "                    </div>\n",
       "                </div>\n",
       "                \n",
       "                <div class=\"component-card\">\n",
       "                    <div class=\"component-title\">KNOWLEDGE_BASE</div>\n",
       "                    <div class=\"component-value tooltip  text-green \">\n",
       "                        100.0%\n",
       "                            <span class=\"tooltiptext\" id=\"fade\">The knowledge base is the set of documents given to the RAG to generate the answers. Its scores is computed differently from the other components: it is the difference between the maximum and minimum correctness score across all the topics of the knowledge base.</span>\n",
       "                    </div>\n",
       "                    <div class=\"component-bar\">\n",
       "                        <progress max=\"100\" value=100.0 class=\" progress-green \">100.0%</progress>\n",
       "                    </div>\n",
       "                </div>\n",
       "                \n",
       "                <div class=\"overall-card\">\n",
       "                    <div class=\"overall-title\">Overall Correctness Score</div>\n",
       "                    <div class=\"overall-value\">51%</div>\n",
       "                </div>\n",
       "            </div>\n",
       "        </div>\n",
       "\n",
       "        <div class=\"section-container\">\n",
       "            <div class=\"section-card\">\n",
       "                <div class=\"section-title\">RECOMMENDATION</div>\n",
       "                <span class=\"section-content\">Focus on enhancing the Rewriter component to improve the RAG&#39;s performance on conversational and distracting questions, given the low scores in those areas. This enhancement can provide a more cohesive understanding of context and lessen the confusion caused by extraneous information.</span>\n",
       "            </div>\n",
       "        </div>\n",
       "\n",
       "        <div class=\"section-container\">\n",
       "            <div class=\"section-card\">\n",
       "                <div class=\"section-title\">CORRECTNESS BY TOPIC</div>\n",
       "                    <script type=\"text/javascript\">\n",
       "        (function() {\n",
       "  const fn = function() {\n",
       "    Bokeh.safely(function() {\n",
       "      (function(root) {\n",
       "        function embed_document(root) {\n",
       "        const docs_json = '{\"35b99586-7c3e-4f83-a22c-fdb79c0ae429\":{\"version\":\"3.3.4\",\"title\":\"Bokeh Application\",\"roots\":[{\"type\":\"object\",\"name\":\"Figure\",\"id\":\"p1179\",\"attributes\":{\"height\":350,\"width_policy\":\"max\",\"x_range\":{\"type\":\"object\",\"name\":\"DataRange1d\",\"id\":\"p1181\",\"attributes\":{\"start\":0}},\"y_range\":{\"type\":\"object\",\"name\":\"FactorRange\",\"id\":\"p1188\",\"attributes\":{\"factors\":[\"Others\"]}},\"x_scale\":{\"type\":\"object\",\"name\":\"LinearScale\",\"id\":\"p1189\"},\"y_scale\":{\"type\":\"object\",\"name\":\"CategoricalScale\",\"id\":\"p1190\"},\"title\":{\"type\":\"object\",\"name\":\"Title\",\"id\":\"p1186\",\"attributes\":{\"text_color\":\"#E0E0E0\",\"text_font\":\"Helvetica\",\"text_font_size\":\"14pt\"}},\"outline_line_color\":\"#E0E0E0\",\"outline_line_alpha\":0.25,\"renderers\":[{\"type\":\"object\",\"name\":\"GlyphRenderer\",\"id\":\"p1208\",\"attributes\":{\"data_source\":{\"type\":\"object\",\"name\":\"ColumnDataSource\",\"id\":\"p1176\",\"attributes\":{\"selected\":{\"type\":\"object\",\"name\":\"Selection\",\"id\":\"p1177\",\"attributes\":{\"indices\":[],\"line_indices\":[]}},\"selection_policy\":{\"type\":\"object\",\"name\":\"UnionRenderers\",\"id\":\"p1178\"},\"data\":{\"type\":\"map\",\"entries\":[[\"correctness\",{\"type\":\"ndarray\",\"array\":{\"type\":\"bytes\",\"data\":\"VlVVVVXVSUA=\"},\"shape\":[1],\"dtype\":\"float64\",\"order\":\"little\"}],[\"metadata_values\",[\"Others\"]],[\"colors\",[\"#a50026\"]]]}}},\"view\":{\"type\":\"object\",\"name\":\"CDSView\",\"id\":\"p1209\",\"attributes\":{\"filter\":{\"type\":\"object\",\"name\":\"AllIndices\",\"id\":\"p1210\"}}},\"glyph\":{\"type\":\"object\",\"name\":\"HBar\",\"id\":\"p1205\",\"attributes\":{\"y\":{\"type\":\"field\",\"field\":\"metadata_values\"},\"height\":{\"type\":\"value\",\"value\":0.85},\"right\":{\"type\":\"field\",\"field\":\"correctness\"},\"line_color\":{\"type\":\"value\",\"value\":\"#1f77b4\"},\"fill_color\":{\"type\":\"value\",\"value\":\"#14191B\"}}},\"nonselection_glyph\":{\"type\":\"object\",\"name\":\"HBar\",\"id\":\"p1206\",\"attributes\":{\"y\":{\"type\":\"field\",\"field\":\"metadata_values\"},\"height\":{\"type\":\"value\",\"value\":0.85},\"right\":{\"type\":\"field\",\"field\":\"correctness\"},\"line_color\":{\"type\":\"value\",\"value\":\"#1f77b4\"},\"line_alpha\":{\"type\":\"value\",\"value\":0.1},\"fill_color\":{\"type\":\"value\",\"value\":\"#14191B\"},\"fill_alpha\":{\"type\":\"value\",\"value\":0.1},\"hatch_alpha\":{\"type\":\"value\",\"value\":0.1}}},\"muted_glyph\":{\"type\":\"object\",\"name\":\"HBar\",\"id\":\"p1207\",\"attributes\":{\"y\":{\"type\":\"field\",\"field\":\"metadata_values\"},\"height\":{\"type\":\"value\",\"value\":0.85},\"right\":{\"type\":\"field\",\"field\":\"correctness\"},\"line_color\":{\"type\":\"value\",\"value\":\"#1f77b4\"},\"line_alpha\":{\"type\":\"value\",\"value\":0.2},\"fill_color\":{\"type\":\"value\",\"value\":\"#14191B\"},\"fill_alpha\":{\"type\":\"value\",\"value\":0.2},\"hatch_alpha\":{\"type\":\"value\",\"value\":0.2}}}}},{\"type\":\"object\",\"name\":\"GlyphRenderer\",\"id\":\"p1217\",\"attributes\":{\"data_source\":{\"id\":\"p1176\"},\"view\":{\"type\":\"object\",\"name\":\"CDSView\",\"id\":\"p1218\",\"attributes\":{\"filter\":{\"type\":\"object\",\"name\":\"AllIndices\",\"id\":\"p1219\"}}},\"glyph\":{\"type\":\"object\",\"name\":\"HBar\",\"id\":\"p1214\",\"attributes\":{\"y\":{\"type\":\"field\",\"field\":\"metadata_values\"},\"height\":{\"type\":\"value\",\"value\":0.85},\"right\":{\"type\":\"field\",\"field\":\"correctness\"},\"line_color\":{\"type\":\"value\",\"value\":\"white\"},\"line_width\":{\"type\":\"value\",\"value\":2},\"fill_color\":{\"type\":\"value\",\"value\":\"#78BBFA\"},\"fill_alpha\":{\"type\":\"value\",\"value\":0.7}}},\"nonselection_glyph\":{\"type\":\"object\",\"name\":\"HBar\",\"id\":\"p1215\",\"attributes\":{\"y\":{\"type\":\"field\",\"field\":\"metadata_values\"},\"height\":{\"type\":\"value\",\"value\":0.85},\"right\":{\"type\":\"field\",\"field\":\"correctness\"},\"line_color\":{\"type\":\"value\",\"value\":\"white\"},\"line_alpha\":{\"type\":\"value\",\"value\":0.1},\"line_width\":{\"type\":\"value\",\"value\":2},\"fill_color\":{\"type\":\"value\",\"value\":\"#78BBFA\"},\"fill_alpha\":{\"type\":\"value\",\"value\":0.1},\"hatch_alpha\":{\"type\":\"value\",\"value\":0.1}}},\"muted_glyph\":{\"type\":\"object\",\"name\":\"HBar\",\"id\":\"p1216\",\"attributes\":{\"y\":{\"type\":\"field\",\"field\":\"metadata_values\"},\"height\":{\"type\":\"value\",\"value\":0.85},\"right\":{\"type\":\"field\",\"field\":\"correctness\"},\"line_color\":{\"type\":\"value\",\"value\":\"white\"},\"line_alpha\":{\"type\":\"value\",\"value\":0.2},\"line_width\":{\"type\":\"value\",\"value\":2},\"fill_color\":{\"type\":\"value\",\"value\":\"#78BBFA\"},\"fill_alpha\":{\"type\":\"value\",\"value\":0.2},\"hatch_alpha\":{\"type\":\"value\",\"value\":0.2}}}}},{\"type\":\"object\",\"name\":\"GlyphRenderer\",\"id\":\"p1227\",\"attributes\":{\"visible\":false,\"data_source\":{\"type\":\"object\",\"name\":\"ColumnDataSource\",\"id\":\"p1221\",\"attributes\":{\"selected\":{\"type\":\"object\",\"name\":\"Selection\",\"id\":\"p1222\",\"attributes\":{\"indices\":[],\"line_indices\":[]}},\"selection_policy\":{\"type\":\"object\",\"name\":\"UnionRenderers\",\"id\":\"p1223\"},\"data\":{\"type\":\"map\",\"entries\":[[\"x\",[0]],[\"y\",[0]]]}}},\"view\":{\"type\":\"object\",\"name\":\"CDSView\",\"id\":\"p1228\",\"attributes\":{\"filter\":{\"type\":\"object\",\"name\":\"AllIndices\",\"id\":\"p1229\"}}},\"glyph\":{\"type\":\"object\",\"name\":\"Line\",\"id\":\"p1224\",\"attributes\":{\"x\":{\"type\":\"field\",\"field\":\"x\"},\"y\":{\"type\":\"field\",\"field\":\"y\"},\"line_color\":\"#EA3829\",\"line_width\":2,\"line_dash\":[6]}},\"nonselection_glyph\":{\"type\":\"object\",\"name\":\"Line\",\"id\":\"p1225\",\"attributes\":{\"x\":{\"type\":\"field\",\"field\":\"x\"},\"y\":{\"type\":\"field\",\"field\":\"y\"},\"line_color\":\"#EA3829\",\"line_alpha\":0.1,\"line_width\":2,\"line_dash\":[6]}},\"muted_glyph\":{\"type\":\"object\",\"name\":\"Line\",\"id\":\"p1226\",\"attributes\":{\"x\":{\"type\":\"field\",\"field\":\"x\"},\"y\":{\"type\":\"field\",\"field\":\"y\"},\"line_color\":\"#EA3829\",\"line_alpha\":0.2,\"line_width\":2,\"line_dash\":[6]}}}}],\"toolbar\":{\"type\":\"object\",\"name\":\"Toolbar\",\"id\":\"p1187\",\"attributes\":{\"tools\":[{\"type\":\"object\",\"name\":\"HoverTool\",\"id\":\"p1201\",\"attributes\":{\"renderers\":\"auto\",\"tooltips\":[[\"topic\",\"@metadata_values\"],[\"Correctness\",\"@correctness{0.00}\"]]}}]}},\"toolbar_location\":null,\"left\":[{\"type\":\"object\",\"name\":\"CategoricalAxis\",\"id\":\"p1196\",\"attributes\":{\"ticker\":{\"type\":\"object\",\"name\":\"CategoricalTicker\",\"id\":\"p1197\"},\"formatter\":{\"type\":\"object\",\"name\":\"CategoricalTickFormatter\",\"id\":\"p1198\"},\"axis_label_standoff\":10,\"axis_label_text_color\":\"#E0E0E0\",\"axis_label_text_font\":\"Helvetica\",\"axis_label_text_font_size\":\"1.25em\",\"axis_label_text_font_style\":\"normal\",\"major_label_policy\":{\"type\":\"object\",\"name\":\"AllLabels\",\"id\":\"p1199\"},\"major_label_text_color\":\"#E0E0E0\",\"major_label_text_font\":\"Helvetica\",\"major_label_text_font_size\":\"1.025em\",\"axis_line_color\":\"#E0E0E0\",\"axis_line_alpha\":0,\"major_tick_line_color\":\"#E0E0E0\",\"major_tick_line_alpha\":0,\"minor_tick_line_color\":\"#E0E0E0\",\"minor_tick_line_alpha\":0}}],\"below\":[{\"type\":\"object\",\"name\":\"LinearAxis\",\"id\":\"p1191\",\"attributes\":{\"ticker\":{\"type\":\"object\",\"name\":\"BasicTicker\",\"id\":\"p1192\",\"attributes\":{\"mantissas\":[1,2,5]}},\"formatter\":{\"type\":\"object\",\"name\":\"BasicTickFormatter\",\"id\":\"p1193\"},\"axis_label\":\"Correctness (%)\",\"axis_label_standoff\":10,\"axis_label_text_color\":\"#E0E0E0\",\"axis_label_text_font\":\"Helvetica\",\"axis_label_text_font_size\":\"1.25em\",\"axis_label_text_font_style\":\"normal\",\"major_label_policy\":{\"type\":\"object\",\"name\":\"AllLabels\",\"id\":\"p1194\"},\"major_label_text_color\":\"#E0E0E0\",\"major_label_text_font\":\"Helvetica\",\"major_label_text_font_size\":\"1.025em\",\"axis_line_color\":\"#E0E0E0\",\"axis_line_alpha\":0,\"major_tick_line_color\":\"#E0E0E0\",\"major_tick_line_alpha\":0,\"minor_tick_line_color\":\"#E0E0E0\",\"minor_tick_line_alpha\":0}}],\"center\":[{\"type\":\"object\",\"name\":\"Grid\",\"id\":\"p1195\",\"attributes\":{\"axis\":{\"id\":\"p1191\"},\"grid_line_color\":\"#E0E0E0\",\"grid_line_alpha\":0.25}},{\"type\":\"object\",\"name\":\"Grid\",\"id\":\"p1200\",\"attributes\":{\"dimension\":1,\"axis\":{\"id\":\"p1196\"},\"grid_line_color\":\"#E0E0E0\",\"grid_line_alpha\":0.25}},{\"type\":\"object\",\"name\":\"Span\",\"id\":\"p1220\",\"attributes\":{\"location\":51.66666666666667,\"dimension\":\"height\",\"line_color\":\"#EA3829\",\"line_width\":2,\"line_dash\":[6]}},{\"type\":\"object\",\"name\":\"Legend\",\"id\":\"p1230\",\"attributes\":{\"border_line_alpha\":0,\"background_fill_color\":\"#111516\",\"background_fill_alpha\":0.5,\"label_text_color\":\"#E0E0E0\",\"label_text_font\":\"Helvetica\",\"label_text_font_size\":\"1.025em\",\"label_standoff\":8,\"glyph_width\":15,\"spacing\":8,\"items\":[{\"type\":\"object\",\"name\":\"LegendItem\",\"id\":\"p1231\",\"attributes\":{\"label\":{\"type\":\"value\",\"value\":\"Correctness on the entire Testset\"},\"renderers\":[{\"id\":\"p1227\"}]}}]}}],\"background_fill_color\":\"#14191B\",\"border_fill_color\":\"#15191C\"}}]}}';\n",
       "        const render_items = [{\"docid\":\"35b99586-7c3e-4f83-a22c-fdb79c0ae429\",\"roots\":{\"p1179\":\"a53725fd-5548-4a27-ae36-fe6ff4062b66\"},\"root_ids\":[\"p1179\"]}];\n",
       "        root.Bokeh.embed.embed_items(docs_json, render_items);\n",
       "        }\n",
       "        if (root.Bokeh !== undefined) {\n",
       "          embed_document(root);\n",
       "        } else {\n",
       "          let attempts = 0;\n",
       "          const timer = setInterval(function(root) {\n",
       "            if (root.Bokeh !== undefined) {\n",
       "              clearInterval(timer);\n",
       "              embed_document(root);\n",
       "            } else {\n",
       "              attempts++;\n",
       "              if (attempts > 100) {\n",
       "                clearInterval(timer);\n",
       "                console.log(\"Bokeh: ERROR: Unable to run BokehJS code because BokehJS library is missing\");\n",
       "              }\n",
       "            }\n",
       "          }, 10, root)\n",
       "        }\n",
       "      })(window);\n",
       "    });\n",
       "  };\n",
       "  if (document.readyState != \"loading\") fn();\n",
       "  else document.addEventListener(\"DOMContentLoaded\", fn);\n",
       "})();\n",
       "    </script>\n",
       "\n",
       "                <div id=\"a53725fd-5548-4a27-ae36-fe6ff4062b66\" data-root-id=\"p1179\" style=\"display: contents;\"></div>\n",
       "            </div>\n",
       "        </div>\n",
       "\n",
       "        <div class=\"section-container\">\n",
       "            <div class=\"section-card\">\n",
       "                <div class=\"section-title\">KNOWLEDGE BASE OVERVIEW</div>\n",
       "                    <script type=\"text/javascript\">\n",
       "        (function() {\n",
       "  const fn = function() {\n",
       "    Bokeh.safely(function() {\n",
       "      (function(root) {\n",
       "        function embed_document(root) {\n",
       "        const docs_json = '{\"7b50eeda-eb89-4b11-a199-b9e91d3d1515\":{\"version\":\"3.3.4\",\"title\":\"Bokeh Application\",\"roots\":[{\"type\":\"object\",\"name\":\"Tabs\",\"id\":\"p1112\",\"attributes\":{\"sizing_mode\":\"stretch_width\",\"tabs\":[{\"type\":\"object\",\"name\":\"TabPanel\",\"id\":\"p1049\",\"attributes\":{\"title\":\"Topic exploration\",\"child\":{\"type\":\"object\",\"name\":\"Figure\",\"id\":\"p1004\",\"attributes\":{\"sizing_mode\":\"stretch_width\",\"x_range\":{\"type\":\"object\",\"name\":\"Range1d\",\"id\":\"p1013\",\"attributes\":{\"start\":3.5351926445961,\"end\":8.6885657787323}},\"y_range\":{\"type\":\"object\",\"name\":\"Range1d\",\"id\":\"p1014\",\"attributes\":{\"start\":15.798789501190186,\"end\":21.230913639068604}},\"x_scale\":{\"type\":\"object\",\"name\":\"LinearScale\",\"id\":\"p1015\"},\"y_scale\":{\"type\":\"object\",\"name\":\"LinearScale\",\"id\":\"p1016\"},\"title\":{\"type\":\"object\",\"name\":\"Title\",\"id\":\"p1011\",\"attributes\":{\"text_color\":\"#E0E0E0\",\"text_font\":\"Helvetica\",\"text_font_size\":\"14pt\"}},\"outline_line_color\":\"#E0E0E0\",\"outline_line_alpha\":0.25,\"renderers\":[{\"type\":\"object\",\"name\":\"GlyphRenderer\",\"id\":\"p1044\",\"attributes\":{\"data_source\":{\"type\":\"object\",\"name\":\"ColumnDataSource\",\"id\":\"p1001\",\"attributes\":{\"selected\":{\"type\":\"object\",\"name\":\"Selection\",\"id\":\"p1002\",\"attributes\":{\"indices\":[],\"line_indices\":[]}},\"selection_policy\":{\"type\":\"object\",\"name\":\"UnionRenderers\",\"id\":\"p1003\"},\"data\":{\"type\":\"map\",\"entries\":[[\"x\",{\"type\":\"ndarray\",\"array\":{\"type\":\"bytes\",\"data\":\"Kz9sQCh8m0B0psVAVBGWQKIGs0C1N7RA9sLBQCribUBNEdpA6XOjQOuWkEA=\"},\"shape\":[11],\"dtype\":\"float32\",\"order\":\"little\"}],[\"y\",{\"type\":\"ndarray\",\"array\":{\"type\":\"bytes\",\"data\":\"/cuWQfFOiEHstJVBGCOTQUn+jUHyxaFBFqKFQSn7jEGM341BW3aaQb+aokE=\"},\"shape\":[11],\"dtype\":\"float32\",\"order\":\"little\"}],[\"topic\",[\"Others\",\"Others\",\"Others\",\"Others\",\"Others\",\"Others\",\"Others\",\"Others\",\"Others\",\"Others\",\"Others\"]],[\"id\",[0,1,2,3,4,5,6,7,8,9,10]],[\"content\",[\"Building Machine Learning Systems That Don&#x27;t Suck\\\\\"This is the best machine learning course I&#x27;ve done. Worth every cent.\\\\\"Jose Reyes, AI/ML at Cevo AustraliaBuilding Machine Learning Systems That Don&#x27;t SuckA live, interactive program that&#x27;ll help you build production-ready machine learning systems from the ground up.Next cohort:\\\\u00a0February 3 - 20, 2025Check the schedule for more details about upcoming cohorts.I want to join!Sign inLearn how to design, build, deploy, and scale machine learning system...\",\"program will help you unlearn what you think machine learning is. It&#x27;s a practical, hands-on class where you&#x27;ll learn from years of experience and real-world examples.When you join, you get lifetime access to the following:18 hours of live, interactive sessions. We&#x27;ll use this time to discuss the first principles behind building machine learning systems.10 hours of step-by-step coding instructions. These practical sessions will show you how to build an end-to-end system from scratch.A final proj...\",\"only pay once to join. There are no monthly fees. No annual fees. No hidden costs. You pay once to join and benefit forever until the end of time.The program won&#x27;t be easy. It&#x27;ll take time and effort. But if you want to use machine learning to solve real-world problems, this is the class you don&#x27;t want to miss.Who Is This Program For?This is a practical, hands-on program for technical professionals who are ready to put in the work.This program is for software engineers, data scientists, data ana...\",\"that make systems work.You are ready to put in the work to succeed.\\\\\"I have learned a ton from Santiago in his class and it was actually what helped inspire me and get into the MLOps work that I&#x27;m doing now. Truly one of the most helpful online courses for doing real, full-scale machine learning.\\\\\"Brian H. HoughSoftware EngineerWhat Will You Learn?You&#x27;ll come out with practical skills and insights into what it takes to build systems that work in the real world.Here is a summary of what makes this ...\",\"testing in production, among many others.You&#x27;ll learn how to create training, deploying, monitoring, and inference pipelines using Amazon SageMaker and open-source tools.Forget about theoretical concepts. This program will show you some of the things I&#x27;ve learned from real-life examples I&#x27;ve built during more than 30 years in the industry.Check the program syllabus\\\\u00a0\\\\u2192Real-life examples and case studiesLearn from practical experience building machine learning systems that work in the real world.Li...\",\"Wednesdays, we&#x27;ll host office hours when you can bring your questions projects or anything else you want to discuss.Monday: Live session. 2 hours.Tuesday: Individual work.Wednesday: Optional office hours.Thursday: Live session. 2 hours.Friday: Individual work.Do not wait for a specific cohort to join the program. You have lifetime access to every past and future cohort, and the sooner you join, the more time you have to prepare.Every session is recorded. You can attend live or watch the recorded...\",\"as you&#x27;d like. No restrictions.Enjoy 18 hours of live, interactive sessionsWatch 10 hours of step-by-step coding instructionsPractice with 100 coding assignmentsAccess the complete source code of a production systemLearn how to start freelancing on UpworkGet feedback and support from the communityGet direct feedback from your instructorJoin nowProgram SyllabusThis program will teach you the practical skills and insights that will help you build machine learning systems.Here are the contents of t...\",\"to determine how much data you need.The problem of selection bias and how to deal with it.Labeling data. Human annotations, natural labels and weak supervision.Active learning using the uncertainty and diversity sampling strategies.Session 2 - How to Build a ModelThe role of data cleaning and feature engineering to build better models.Turning data into numbers using vectorization techniques.Producing homogeneous features using normalization and standardization.Handling and interpreting missing v...\",\"it with complete confidence.\\\\\"Juan OlanoMachine Learning EngineerFrequently Asked QuestionsIf you can&#x27;t find the answer to your question, please reach out on social media and I&#x27;ll be happy to help.How long will it take to complete the program?If you are attending the live sessions, you should set aside a minimum of 4 hours every week during the three weeks of the program. This commitment will be enough for engineer leaders or anyone not interested in the coding portion of the program.Those intere...\",\"learning, beginners will find the sessions go much faster than what&#x27;s optimal for them.What does \\\\\"lifetime access\\\\\" mean?You only pay once to join the program and get immediate access to every past, present, and future cohort.Every new iteration of the program is better than the ones before. Many students take classes once and then join a later cohort to benefit from the updates.The lifetime access removes any pressure from having to complete the program when life gets in the way.Hey! I&#x27;m Santiag...\",\"then, thousands of students have graduated, and I can&#x27;t wait to meet you in class.Copyright \\\\u00a9 2025 Tideily LLC.All rights reserved - svpino@gmail.com\"]],[\"color\",{\"type\":\"ndarray\",\"array\":[\"#999\",\"#999\",\"#999\",\"#999\",\"#999\",\"#999\",\"#999\",\"#999\",\"#999\",\"#999\",\"#999\"],\"shape\":[11],\"dtype\":\"object\",\"order\":\"little\"}]]}}},\"view\":{\"type\":\"object\",\"name\":\"CDSView\",\"id\":\"p1045\",\"attributes\":{\"filter\":{\"type\":\"object\",\"name\":\"AllIndices\",\"id\":\"p1046\"}}},\"glyph\":{\"type\":\"object\",\"name\":\"Scatter\",\"id\":\"p1041\",\"attributes\":{\"x\":{\"type\":\"field\",\"field\":\"x\"},\"y\":{\"type\":\"field\",\"field\":\"y\"},\"size\":{\"type\":\"value\",\"value\":6},\"line_color\":{\"type\":\"field\",\"field\":\"color\"},\"line_width\":{\"type\":\"value\",\"value\":2},\"fill_color\":{\"type\":\"field\",\"field\":\"color\"},\"fill_alpha\":{\"type\":\"value\",\"value\":0.7},\"hatch_color\":{\"type\":\"field\",\"field\":\"color\"},\"hatch_alpha\":{\"type\":\"value\",\"value\":0.7}}},\"nonselection_glyph\":{\"type\":\"object\",\"name\":\"Scatter\",\"id\":\"p1042\",\"attributes\":{\"x\":{\"type\":\"field\",\"field\":\"x\"},\"y\":{\"type\":\"field\",\"field\":\"y\"},\"size\":{\"type\":\"value\",\"value\":6},\"line_color\":{\"type\":\"field\",\"field\":\"color\"},\"line_alpha\":{\"type\":\"value\",\"value\":0.1},\"line_width\":{\"type\":\"value\",\"value\":2},\"fill_color\":{\"type\":\"field\",\"field\":\"color\"},\"fill_alpha\":{\"type\":\"value\",\"value\":0.1},\"hatch_color\":{\"type\":\"field\",\"field\":\"color\"},\"hatch_alpha\":{\"type\":\"value\",\"value\":0.1}}},\"muted_glyph\":{\"type\":\"object\",\"name\":\"Scatter\",\"id\":\"p1043\",\"attributes\":{\"x\":{\"type\":\"field\",\"field\":\"x\"},\"y\":{\"type\":\"field\",\"field\":\"y\"},\"size\":{\"type\":\"value\",\"value\":6},\"line_color\":{\"type\":\"field\",\"field\":\"color\"},\"line_alpha\":{\"type\":\"value\",\"value\":0.2},\"line_width\":{\"type\":\"value\",\"value\":2},\"fill_color\":{\"type\":\"field\",\"field\":\"color\"},\"fill_alpha\":{\"type\":\"value\",\"value\":0.2},\"hatch_color\":{\"type\":\"field\",\"field\":\"color\"},\"hatch_alpha\":{\"type\":\"value\",\"value\":0.2}}}}}],\"toolbar\":{\"type\":\"object\",\"name\":\"Toolbar\",\"id\":\"p1012\",\"attributes\":{\"logo\":\"grey\",\"tools\":[{\"type\":\"object\",\"name\":\"HoverTool\",\"id\":\"p1027\",\"attributes\":{\"renderers\":\"auto\",\"tooltips\":\"\\\\n    &lt;div style=\\\\\"width:400px;\\\\\"&gt;\\\\n    &lt;b&gt;Document id:&lt;/b&gt; @id &lt;br&gt;\\\\n    &lt;b&gt;Topic:&lt;/b&gt; @topic &lt;br&gt;\\\\n    &lt;b&gt;Document Content:&lt;/b&gt; @content\\\\n    &lt;/div&gt;\\\\n    \"}},{\"type\":\"object\",\"name\":\"PanTool\",\"id\":\"p1028\"},{\"type\":\"object\",\"name\":\"WheelZoomTool\",\"id\":\"p1029\",\"attributes\":{\"renderers\":\"auto\"}},{\"type\":\"object\",\"name\":\"BoxZoomTool\",\"id\":\"p1030\",\"attributes\":{\"overlay\":{\"type\":\"object\",\"name\":\"BoxAnnotation\",\"id\":\"p1031\",\"attributes\":{\"syncable\":false,\"level\":\"overlay\",\"visible\":false,\"left\":{\"type\":\"number\",\"value\":\"nan\"},\"right\":{\"type\":\"number\",\"value\":\"nan\"},\"top\":{\"type\":\"number\",\"value\":\"nan\"},\"bottom\":{\"type\":\"number\",\"value\":\"nan\"},\"left_units\":\"canvas\",\"right_units\":\"canvas\",\"top_units\":\"canvas\",\"bottom_units\":\"canvas\",\"line_color\":\"black\",\"line_alpha\":1.0,\"line_width\":2,\"line_dash\":[4,4],\"fill_color\":\"lightgrey\",\"fill_alpha\":0.5}}}},{\"type\":\"object\",\"name\":\"ResetTool\",\"id\":\"p1036\"},{\"type\":\"object\",\"name\":\"SaveTool\",\"id\":\"p1037\"}]}},\"left\":[{\"type\":\"object\",\"name\":\"LinearAxis\",\"id\":\"p1022\",\"attributes\":{\"ticker\":{\"type\":\"object\",\"name\":\"BasicTicker\",\"id\":\"p1023\",\"attributes\":{\"mantissas\":[1,2,5]}},\"formatter\":{\"type\":\"object\",\"name\":\"BasicTickFormatter\",\"id\":\"p1024\"},\"axis_label_standoff\":10,\"axis_label_text_color\":\"#E0E0E0\",\"axis_label_text_font\":\"Helvetica\",\"axis_label_text_font_size\":\"1.25em\",\"axis_label_text_font_style\":\"normal\",\"major_label_policy\":{\"type\":\"object\",\"name\":\"AllLabels\",\"id\":\"p1025\"},\"major_label_text_color\":\"#E0E0E0\",\"major_label_text_font\":\"Helvetica\",\"major_label_text_font_size\":\"1.025em\",\"axis_line_color\":\"#E0E0E0\",\"axis_line_alpha\":0,\"major_tick_line_color\":\"#E0E0E0\",\"major_tick_line_alpha\":0,\"minor_tick_line_color\":\"#E0E0E0\",\"minor_tick_line_alpha\":0}}],\"below\":[{\"type\":\"object\",\"name\":\"LinearAxis\",\"id\":\"p1017\",\"attributes\":{\"ticker\":{\"type\":\"object\",\"name\":\"BasicTicker\",\"id\":\"p1018\",\"attributes\":{\"mantissas\":[1,2,5]}},\"formatter\":{\"type\":\"object\",\"name\":\"BasicTickFormatter\",\"id\":\"p1019\"},\"axis_label_standoff\":10,\"axis_label_text_color\":\"#E0E0E0\",\"axis_label_text_font\":\"Helvetica\",\"axis_label_text_font_size\":\"1.25em\",\"axis_label_text_font_style\":\"normal\",\"major_label_policy\":{\"type\":\"object\",\"name\":\"AllLabels\",\"id\":\"p1020\"},\"major_label_text_color\":\"#E0E0E0\",\"major_label_text_font\":\"Helvetica\",\"major_label_text_font_size\":\"1.025em\",\"axis_line_color\":\"#E0E0E0\",\"axis_line_alpha\":0,\"major_tick_line_color\":\"#E0E0E0\",\"major_tick_line_alpha\":0,\"minor_tick_line_color\":\"#E0E0E0\",\"minor_tick_line_alpha\":0}}],\"center\":[{\"type\":\"object\",\"name\":\"Grid\",\"id\":\"p1021\",\"attributes\":{\"axis\":{\"id\":\"p1017\"},\"grid_line_color\":\"white\",\"grid_line_alpha\":0.25}},{\"type\":\"object\",\"name\":\"Grid\",\"id\":\"p1026\",\"attributes\":{\"dimension\":1,\"axis\":{\"id\":\"p1022\"},\"grid_line_color\":\"white\",\"grid_line_alpha\":0.25}},{\"type\":\"object\",\"name\":\"Legend\",\"id\":\"p1047\",\"attributes\":{\"title\":\"Knowledge Base Tospics\",\"title_text_color\":\"#B1B1B1\",\"title_text_font_style\":\"bold\",\"border_line_alpha\":0,\"background_fill_color\":\"#111516\",\"background_fill_alpha\":0.5,\"label_text_color\":\"#E0E0E0\",\"label_text_font\":\"Helvetica\",\"label_text_font_size\":\"1.025em\",\"label_standoff\":8,\"glyph_width\":15,\"spacing\":8,\"items\":[{\"type\":\"object\",\"name\":\"LegendItem\",\"id\":\"p1048\",\"attributes\":{\"label\":{\"type\":\"value\",\"value\":\"Others\"},\"renderers\":[{\"id\":\"p1044\"}],\"index\":0}}]}}],\"background_fill_color\":\"#14191B\",\"border_fill_color\":\"#15191C\"}}}},{\"type\":\"object\",\"name\":\"TabPanel\",\"id\":\"p1111\",\"attributes\":{\"title\":\"Failures\",\"child\":{\"type\":\"object\",\"name\":\"Figure\",\"id\":\"p1054\",\"attributes\":{\"sizing_mode\":\"stretch_width\",\"x_range\":{\"type\":\"object\",\"name\":\"Range1d\",\"id\":\"p1063\",\"attributes\":{\"start\":3.5351926445961,\"end\":8.6885657787323}},\"y_range\":{\"type\":\"object\",\"name\":\"Range1d\",\"id\":\"p1064\",\"attributes\":{\"start\":15.798789501190186,\"end\":21.230913639068604}},\"x_scale\":{\"type\":\"object\",\"name\":\"LinearScale\",\"id\":\"p1065\"},\"y_scale\":{\"type\":\"object\",\"name\":\"LinearScale\",\"id\":\"p1066\"},\"title\":{\"type\":\"object\",\"name\":\"Title\",\"id\":\"p1061\",\"attributes\":{\"text_color\":\"#E0E0E0\",\"text_font\":\"Helvetica\",\"text_font_size\":\"14pt\"}},\"outline_line_color\":\"#E0E0E0\",\"outline_line_alpha\":0.25,\"renderers\":[{\"type\":\"object\",\"name\":\"GlyphRenderer\",\"id\":\"p1093\",\"attributes\":{\"data_source\":{\"type\":\"object\",\"name\":\"ColumnDataSource\",\"id\":\"p1050\",\"attributes\":{\"selected\":{\"type\":\"object\",\"name\":\"Selection\",\"id\":\"p1051\",\"attributes\":{\"indices\":[],\"line_indices\":[]}},\"selection_policy\":{\"type\":\"object\",\"name\":\"UnionRenderers\",\"id\":\"p1052\"},\"data\":{\"type\":\"map\",\"entries\":[[\"x\",{\"type\":\"ndarray\",\"array\":{\"type\":\"bytes\",\"data\":\"KHybQE0R2kC1N7RAdKbFQCs/bEAq4m1AVBGWQOuWkEDpc6NA9sLBQHSmxUAofJtAVBGWQKIGs0DrlpBA9sLBQE0R2kAq4m1AKz9sQOlzo0BNEdpAVBGWQCribUDpc6NAogazQLU3tEAofJtAKz9sQPbCwUB0psVA6XOjQHSmxUDrlpBATRHaQCh8m0CiBrNAVBGWQCs/bEAq4m1AtTe0QCh8m0D2wsFAKz9sQOuWkEBUEZZAKuJtQHSmxUC1N7RA6XOjQE0R2kB0psVAVBGWQLU3tEDpc6NAKz9sQE0R2kAq4m1AogazQCh8m0D2wsFA\"},\"shape\":[60],\"dtype\":\"float32\",\"order\":\"little\"}],[\"y\",{\"type\":\"ndarray\",\"array\":{\"type\":\"bytes\",\"data\":\"8U6IQYzfjUHyxaFB7LSVQf3LlkEp+4xBGCOTQb+aokFbdppBFqKFQey0lUHxTohBGCOTQUn+jUG/mqJBFqKFQYzfjUEp+4xB/cuWQVt2mkGM341BGCOTQSn7jEFbdppBSf6NQfLFoUHxTohB/cuWQRaihUHstJVBW3aaQey0lUG/mqJBjN+NQfFOiEFJ/o1BGCOTQf3LlkEp+4xB8sWhQfFOiEEWooVB/cuWQb+aokEYI5NBKfuMQey0lUHyxaFBW3aaQYzfjUHstJVBGCOTQfLFoUFbdppB/cuWQYzfjUEp+4xBSf6NQfFOiEEWooVB\"},\"shape\":[60],\"dtype\":\"float32\",\"order\":\"little\"}],[\"topic\",[\"Others\",\"Others\",\"Others\",\"Others\",\"Others\",\"Others\",\"Others\",\"Others\",\"Others\",\"Others\",\"Others\",\"Others\",\"Others\",\"Others\",\"Others\",\"Others\",\"Others\",\"Others\",\"Others\",\"Others\",\"Others\",\"Others\",\"Others\",\"Others\",\"Others\",\"Others\",\"Others\",\"Others\",\"Others\",\"Others\",\"Others\",\"Others\",\"Others\",\"Others\",\"Others\",\"Others\",\"Others\",\"Others\",\"Others\",\"Others\",\"Others\",\"Others\",\"Others\",\"Others\",\"Others\",\"Others\",\"Others\",\"Others\",\"Others\",\"Others\",\"Others\",\"Others\",\"Others\",\"Others\",\"Others\",\"Others\",\"Others\",\"Others\",\"Others\",\"Others\"]],[\"correctness\",[false,true,true,true,true,true,true,true,true,false,true,false,true,true,false,false,true,true,false,true,false,false,true,true,false,false,false,false,true,false,true,true,true,true,false,false,true,false,false,true,false,false,true,false,true,true,true,false,true,true,false,false,false,false,true,true,false,false,false,false]],[\"questions\",[\"What do participants receive upon joining the machine learning program?\",\"Are live sessions of the program recorded?\",\"What is the cost to join the program and what does it include?\",\"What are the costs associated with joining the program?\",\"When is the next cohort for the &#x27;Building Machine Learning Systems That Don&#x27;t Suck&#x27; program?\",\"What are some strategies mentioned for active learning in the course?\",\"What practical skills will you gain from the machine learning program?\",\"Who is the contact person mentioned in the context?\",\"What does &#x27;lifetime access&#x27; mean in the context of the program?\",\"What is included in the program&#x27;s live sessions for building machine learning systems?\",\"Could you detail the financial obligations, if any, that one must fulfill to enroll in the program, considering there are no recurring fees?\",\"Could you enumerate all the resources and benefits, including any unique or exclusive materials, that are provided upon enrollment in the machine learning program, while considering that the program emphasizes practical, hands-on learning?\",\"Under specific conditions, what are the practical skills you will acquire from the program described, especially those that are applicable to real-world machine learning systems?\",\"Could you specify the exact start and end dates, along with the weekly schedule, including days and times, for the upcoming Cohort 17 of the program?\",\"Under what entity or individual&#x27;s name is the copyright registered for the materials made available, and are there any specific rights reserved or contact details mentioned?\",\"Could you elaborate on the main subjects discussed in Session 1 of the program, while considering the focus on production machine learning and project initiation strategies?\",\"Under what circumstances can I access recordings of the live sessions from the Machine Learning School program, if they are indeed recorded?\",\"Could you list some of the strategies for active learning that are specifically highlighted in the course, considering any constraints or conditions that might be applicable?\",\"Under what conditions can you tell me the exact start date for the upcoming cohort of the &#x27;Building Machine Learning Systems That Don&#x27;t Suck&#x27; program, and how does it fit into the overall schedule of the course?\",\"In the context of the program, what does &#x27;lifetime access&#x27; imply, especially considering the possibility of updates and new cohorts being introduced over time?\",\"Considering the program&#x27;s focus on building production-ready machine learning systems, how many hours per week should someone interested in coding set aside to effectively participate in the course and implement the concepts discussed in class?\",\"Considering the program&#x27;s emphasis on inclusivity and accessibility, what practical skills will participants, including those with disabilities, gain from the program mentioned in the context?\",\"What strategies are covered in the course for active learning, specifically in the context of addressing selection bias and ensuring data diversity?\",\"In the context of the program, does &#x27;lifetime access&#x27; mean that participants will have ongoing access to all course materials and updates, even if they are unable to complete the program due to unforeseen circumstances?\",\"Could you provide the schedule for Cohort 17 of the program, specifically focusing on how it accommodates students who are interested in learning about active learning and distributed training techniques?\",\"Considering the comprehensive curriculum that includes topics such as data labeling, model building, and hyperparameter tuning, what is the cost to join the program and what specific benefits or resources does the fee include?\",\"Considering the focus on handling selection bias and data labeling in the machine learning program, what specific resources or materials do you receive upon joining that address these topics?\",\"Considering that the program requires a one-time payment with no additional fees and is aimed at technical professionals ready to tackle real-world problems, when is the next cohort for the &#x27;Building Machine Learning Systems That Don&#x27;t Suck&#x27; program scheduled to begin?\",\"Considering the flexible schedule and lifetime access to the program, could you elaborate on the specific topics covered in the first session of the machine learning program, especially for someone who prefers to watch recorded sessions at their own pace?\",\"Considering the comprehensive nature of the program and its focus on real-world machine learning applications, what is the one-time payment structure for joining the program, and are there any additional costs associated with accessing advanced modules or resources?\",\"Hi, I&#x27;m considering enrolling in Santiago&#x27;s program at the Machine Learning School, and I&#x27;m curious about what &#x27;lifetime access&#x27; actually means in this context. Could you explain it to me?\",\"Hi there, as a software engineer looking to join the Machine Learning School to improve my skills, could you tell me about the payment structure for enrolling in the program?\",\"Hi there, I&#x27;m considering enrolling in the Machine Learning School and I&#x27;m trying to gather some information. Could you tell me what the email contact provided for Tideily LLC is?\",\"Hi, I&#x27;m considering enrolling in the Machine Learning program but I&#x27;m worried about fitting the live sessions into my schedule. Are the live sessions recorded so I can watch them later?\",\"Hi there, I&#x27;m really eager to join a program that offers lifetime access to resources and a vibrant community. Could you tell me what I would receive upon joining the machine learning program?\",\"Hi, I&#x27;m considering enrolling in the next cohort to gain practical machine learning experience. Could you tell me when Cohort 17 starts and what the schedule looks like?\",\"Hi, I&#x27;m really excited about transitioning into machine learning operations and I&#x27;m exploring the Machine Learning School website. Could you tell me what techniques I would learn in the machine learning program that offer practical, real-world skills?\",\"Hi, I&#x27;m interested in advancing my skills in machine learning. Could you tell me when the next cohort for the &#x27;Building Machine Learning Systems That Don&#x27;t Suck&#x27; program is scheduled?\",\"Hi, I&#x27;m exploring courses to enhance my data science skills, particularly in feature engineering and hyperparameter tuning. Could you tell me what topics are covered in Session 2 of the course on the Machine Learning School Website?\",\"Hi there, I&#x27;m really interested in enhancing my skills and I&#x27;m considering the lifetime access option for all past and future cohorts at the Machine Learning School. Could you tell me what the cost structure is for joining the program?\",\"What type of learning approach does the program offer for machine learning and what resources and support are provided to participants?\",\"What are some of the key benefits offered by the program and what topics are covered in the first session?\",\"What is the focus of the &#x27;Building Machine Learning Systems That Don&#x27;t Suck&#x27; course and when is the next cohort scheduled to start?\",\"Who is the contact person and what is the name of the company mentioned in the context?\",\"What practical skills will you gain and what unique aspects does the Machine Learning School program offer?\",\"What strategies are discussed for active learning in the course and what techniques does the course cover for handling missing values?\",\"What is the cost structure for joining the machine learning program and who is it designed for?\",\"What is the schedule for the program&#x27;s weekly activities and what is the cost and access policy for joining the program?\",\"What does &#x27;lifetime access&#x27; mean in the context of the machine learning program and who is the instructor?\",\"How long will it take to complete the Machine Learning School program and are live sessions recorded?\",\"What is it like?\",\"What will you gain from it?\",\"What are the details?\",\"What does that mean?\",\"When is that happening?\",\"Are these recorded?\",\"What are they?\",\"When will that happen?\",\"What do they receive upon completion?\",\"What will be covered in that?\"]],[\"agent_answer\",[\"Participants receive lifetime access to the following upon joining the machine learning program:\\\\n\\\\n1. 18 hours of live, interactive sessions focusing on the first principles behind building machine learning systems.\\\\n2. 10 hours of step-by-step coding instructions for building an end-to-end system from scratch.\\\\n3. A final project where participants can build a complete solution and receive direct feedback on their work.\\\\n4. 100 coding assignments and practice questions\",\"Yes, according to the FAQ section provided, live sessions of the program are recorded and made available for students to watch at their convenience. The FAQ also mentions that the instructor recommends attending sessions live, but students can still access the recordings if they are unable to attend in real time.\",\"The cost to join the program is $500, and it includes lifetime access to the program, including 18 hours of live, interactive sessions, 10 hours of step-by-step coding instructions, a final project with direct feedback, 100 coding assignments and practice questions, the entire source code of a working production system, a private community, direct access to the instructor, lifetime access to every past and future cohort, and a program certificate upon completion.\",\"The costs associated with joining the program are $500, which is a one-time payment. There are no monthly fees, annual fees, or hidden costs. Once you join, you have lifetime access to every past and future cohort of the program, with no further payment required.\",\"The next cohort for the &#x27;Building Machine Learning Systems That Don&#x27;t Suck&#x27; program is on February 3 - 20, 2025, as stated in the context provided.\",\"The course mentions two strategies for active learning: uncertainty sampling and diversity sampling. These strategies are discussed in Session 2 - How to Build a Model, which covers topics such as selecting the best model, handling missing values, feature engineering, overfitting, and hyperparameter tuning. The session also touches on distributed training using data and model parallelism, and the course provides a final project where students can apply their learnings and receive direct feedback on their work. Overall, the course emphasizes\",\"You will gain practical skills in designing and writing the code to build an end-to-end machine learning system from scratch, tackling the most significant challenges machine learning engineers face to build, evaluate, run, monitor, and maintain machine learning systems in real-world scenarios, and using techniques like active learning, distributed training, adversarial validation, human-in-the-loop deployments, model compression, test-time augmentation, and testing to ensure system reliability and functionality.\",\"The contact person mentioned in the context is svpino@gmail.com, as it can be found in the metadata of one of the Document objects. However, it is not explicitly stated what role this email address plays or if it is for general inquiries or specific concerns related to the program.\",\"&#x27;Lifetime access&#x27; in the context of this program means that once the student pays the one-time fee, they have permanent access to every past, present, and future iteration of the program. This allows the student to complete the program at their own pace and benefit from any updates or improvements made to future cohorts. The student does not have to pay any monthly or annual fees, and there are no hidden costs. The concept of &#x27;lifetime access&#x27; removes any pressure from having\",\"The program&#x27;s live sessions for building machine learning systems include discussions on the first principles behind building such systems, critical questions to ask before starting any project, problem framing, data collection strategies, real-life examples and case studies, and updates on testing in production, among many others. Additionally, there are live coding instructions, step-by-step coding instructions, a final project with direct feedback, and 100 coding assignments and practice questions. The entire source code of a working production\",\"Yes, the financial obligation to enroll in the program is a one-time payment of $500. This fee grants lifetime access to every past, present, and future iteration of the program, with no monthly, annual, or hidden costs. It&#x27;s important to note that this program is not an introductory course, and basic machine learning terminology is assumed. Candidates are expected to have experience writing code and are encouraged to attend live sessions or watch recorded versions at their\",\"Yes, based on the context provided, here is a comprehensive list of resources and benefits offered in the machine learning program:\\\\n\\\\n1. Live, interactive sessions: The program offers 18 hours of live, interactive classes where learners can discuss the fundamentals of building machine learning systems with the instructor.\\\\n\\\\n2. Step-by-step coding instructions: Learners will receive access to 10 hours of practical sessions, which will guide them through the process of building an end-\",\"Under the specific conditions described, the practical skills you will acquire from the program \\\\\"Building Machine Learning Systems That Don&#x27;t Suck\\\\\" include:\\\\n\\\\n1. Designing and writing the code to build an end-to-end machine learning system from scratch, following best practices to tackle the most significant challenges machine learning engineers face in building, evaluating, running, monitoring, and maintaining machine learning systems in real-world scenarios.\\\\n2. Learning strategies to solve the right problem using the\",\"Answer: Yes, based on the context provided, the exact start and end dates for the upcoming Cohort 17 of the program are February 3 - February 20, 2025. The live sessions will take place every Monday and Thursday at 10:00 AM EST. On Wednesdays, there will be optional office hours. The author suggests setting aside a minimum of 4 hours every week during the three weeks of the program for individuals\",\"The copyright for the materials is registered under the name \\\\\"Tideily LLC\\\\\", and there is a contact email provided for the copyright holder, which is \\\\\"svpino@gmail.com\\\\\". The specific rights reserved are all rights reserved, and the materials cannot be reproduced without permission.\",\"In Session 1 of the \\\\\"Building Machine Learning Systems That Don&#x27;t Suck\\\\\" program, the focus is on how production machine learning differs from what is typically taught in academic settings and provides strategies for project initiation. Some of the main subjects discussed in this session include:\\\\n\\\\n1. Understanding the differences between production machine learning and academic settings: The program will highlight the unique challenges of building production-ready machine learning systems, such as dealing with large datasets, hardware limitations,\",\"According to the frequently asked questions section provided, live sessions from the Machine Learning School program are recorded, and participants can decide whether to attend classes live or catch up asynchronously later using the recording. Therefore, the circumstances for accessing the recordings would be to choose to watch the recorded sessions instead of attending them live, or to review the recorded sessions as a recap or revision after attending them live. The recordings also provide flexibility for participants who are unable to attend the live sessions due\",\"The course \\\\\"Building Machine Learning Systems That Don&#x27;t Suck\\\\\" at ML.school covers active learning using the uncertainty and diversity sampling strategies. This technique helps address the problem of selection bias and how to deal with it. Active learning is important in machine learning because it allows for more efficient use of labeled data, reducing the need for expensive manual labeling. The course likely explains how to implement these sampling strategies in practical applications and when they are most appropriate, considering factors such as the type and\",\"The exact start date for the upcoming cohort of the &#x27;Building Machine Learning Systems That Don&#x27;t Suck&#x27; program is February 3, 2025. It will be a three-week program with live sessions taking place every Monday and Thursday at 10:00 AM EST. On Wednesdays, there will be coding assignments and activities provided. Students can choose to attend the live sessions or watch the recorded versions at their convenience. The program offers \",\"In the context of the program, \\\\\"lifetime access\\\\\" means that once a student pays the one-time fee, they have unlimited access to all current and future iterations of the program. This includes access to all live sessions, past recordings, step-by-step coding instructions, final projects, coding assignments, and the private community. The lifetime access also allows students to participate in as many cohorts as they want, and they can revisit the program at any time as\",\"Someone interested in coding should set aside 2 to 4 hours weekly to complete the code walkthroughs and work on the assignments in addition to the minimum of 4 hours set aside for attending the live sessions during the three weeks of the program. This will provide enough time for engineer leaders or anyone not interested in coding to effectively participate in the class and engage in the hands-on coding portions. (Source: FAQ section on the course website)\",\"Participants with disabilities, along with all other participants, will gain practical skills in building production-ready machine learning systems that are more inclusive and accessible. The program emphasizes learning best practices to tackle the most significant challenges machine learning engineers face to build, evaluate, run, monitor, and maintain machine learning systems in real-world scenarios. Some specific practical skills that participants will learn include how to unlearn what they think machine learning is and learn from real-world examples through a live, interactive\",\"The strategies covered in the course for active learning that address selection bias and ensure data diversity are uncertainty sampling and diversity sampling. These techniques are discussed in the context of Session 2 - How to Build a Model, where the course explains how to use them to select new data points to label in the face of selection bias and to ensure a diverse set of examples for training the model. Specifically, uncertainty sampling involves selecting data points that are most uncertain or uncertain in the predictions made by the model, while\",\"Yes, based on the context provided, &#x27;lifetime access&#x27; in this program means that participants will have ongoing access to all course materials and updates, even if they are unable to complete the program due to unforeseen circumstances. The program offers immediate access to every past, present, and future cohort once a participant pays the one-time fee, and there are no monthly, annual, or hidden costs. The program&#x27;s founder, Santiago, emphasizes that the lifetime access removes\",\"According to the information provided, Cohort 17 of the program has the following schedule:\\\\n\\\\n- February 3 - February 20, 2025\\\\n  - Live sessions will take place every Monday and Thursday at 10:00 AM EST\\\\n  - Wednesdays will host office hours (optional) where you can bring questions, projects, or anything else you want to discuss\\\\n\\\\nRegarding active learning and distributed training techniques, here\",\"The cost to join the program is not explicitly stated in the provided context. However, it is mentioned that there are no monthly or annual fees, and the program is paid for once to join with lifetime access. The fee includes 18 hours of live, interactive sessions, 10 hours of step-by-step coding instructions, a final project with direct feedback, 100 coding assignments and practice questions, the entire source code of a working production system, a private community, direct\",\"Upon joining the program \\\\\"Building Machine Learning Systems That Don&#x27;t Suck\\\\\" at ml.school, you will have access to two specific resources or materials that address the topics of handling selection bias and data labeling. These resources are:\\\\n\\\\n1. Session 2 - How to Build a Model: this live and interactive session will cover the approach to choosing the best model to solve any problem, including the role of data cleaning and feature engineering to build better models. It will also\",\"The next cohort for the &#x27;Building Machine Learning Systems That Don&#x27;t Suck&#x27; program is scheduled to begin on February 3, 2025, at 10:00 AM EST. The program offers live, interactive sessions every Monday and Thursday during the three-week iteration, with an additional session on Wednesdays for coding walkthroughs. Students have lifetime access to every past, present, and future iteration of the program, which allows them to\",\"The first session of the machine learning program covers the practical aspects of starting almost any project in the production context. It highlights the differences between machine learning in an academic setting and what is required for production-ready machine learning systems. The session explains critical questions to ask before starting any project, problem framing, inversion, and the haystack principle for building successful applications. The first rule of machine learning engineering and how to start building are also discussed. This session also touches upon data collection strategies. For\",\"Based on the context provided, the one-time payment structure for joining the \\\\\"Building Machine Learning Systems That Don&#x27;t Suck\\\\\" program is described as follows: \\\\\"only pay once to join. There are no monthly fees. No annual fees. No hidden costs. You pay once to join and benefit forever until the end of time.\\\\\" Therefore, there is no mention of any additional costs associated with accessing advanced modules or resources within the program. It seems that the $1800\",\"Yes, based on the context provided, lifetime access in this context means that you have immediate access to every past, present, and future iteration of Santiago&#x27;s program at the Machine Learning School, and you only need to pay a one-time fee of $500. This means that you can participate in as many cohorts as you like, and there are no monthly or annual fees, or any hidden costs. You&#x27;ll also have access to the program&#x27;s various resources,\",\"Based on the context provided, the answer to the question would be:\\\\n\\\\nThe program has a one-time payment structure for enrollment. There are no monthly, annual, or hidden fees. You pay once to join and have lifetime access to the program materials including live sessions, coding instructions, practice assignments, source code, community access, instructor support, and certification upon completion. This structure eliminates the need for ongoing payments and provides flexibility in learning at your own pace.\",\"The email contact provided for Tideily LLC is svpino@gmail.com. This information can be found in the metadata of the first Document object in the context provided. However, it&#x27;s important to note that using this email address for any purpose other than directly relating to the product or service offered by Tideily LLC may not result in a response. It&#x27;s always best to use the appropriate methods of contact, such as the support channels provided on the official website or social media\",\"Yes, the live sessions are recorded and you can decide whether to attend them live or watch the recordings later. This is mentioned in the frequently asked questions section of the program&#x27;s website. The commitment for attending live sessions is a minimum of 4 hours every week for three weeks, but beginners are also welcome and can set aside 2 to 4 hours weekly for the coding portion of the program. The program also offers optional office hours on Wednesdays for additional support and collaboration with\",\"Yes, based on the context you provided, if you join the machine learning program mentioned, here&#x27;s what you would receive:\\\\n\\\\n1. Lifetime access to the following resources:\\\\n   a. 18 hours of live, interactive sessions focused on the fundamentals of building production-ready machine learning systems.\\\\n   b. 10 hours of step-by-step coding instructions to help you build an end-to-end system from scratch.\\\\n   c.\",\"The person you are addressing does not explicitly state their identity in this context. However, based on the context, the person likely represents ML.school, the organization offering the \\\\\"Building Machine Learning Systems That Don&#x27;t Suck\\\\\" program.\\\\n\\\\nAnswer: Sure, Cohort 17 will begin on February 3, 2025, and run for three weeks. The live sessions will take place every Monday and Thursday at 10:00 AM E\",\"Certainly! In the Machine Learning School program \\\\\"Building Machine Learning Systems That Don&#x27;t Suck,\\\\\" you will learn best practices to tackle the most significant challenges machine learning engineers face when building, evaluating, running, monitoring, and maintaining machine learning systems in real-world scenarios. Some specific techniques you&#x27;ll learn about include active learning, distributed training, adversarial validation, human-in-the-loop deployments, model compression, test-time augmentation, and testing\",\"The next cohort for the &#x27;Building Machine Learning Systems That Don&#x27;t Suck&#x27; program is scheduled for February 3 - 20, 2025, as mentioned in the context provided. The program offers live, interactive sessions, coding walkthroughs, and real-life examples to help participants learn how to design, build, deploy, and scale machine learning systems. The schedule also includes sessions on Mondays and Thursdays at 10:00\",\"Answer: Session 2 of the course on the Machine Learning School website, titled \\\\\"How to Build a Model\\\\\", covers the following topics related to feature engineering and hyperparameter tuning:\\\\n\\\\n- The role of data cleaning and feature engineering to build better models\\\\n- Turning data into numbers using vectorization techniques\\\\n- Producing homogeneous features using normalization and standardization\\\\n- Handling and interpreting missing values using imputation techniques\\\\n- Choosing the best model to\",\"Answer: Yes, the cost structure for joining the Machine Learning School&#x27;s \\\\\"Building Machine Learning Systems That Don&#x27;t Suck\\\\\" program is as follows: you only need to pay a one-time fee of $500 to get lifetime access. There are no monthly fees, annual fees, or hidden costs. This means that once you pay and enroll, you will have access to all past, present, and future cohorts of the program forever.\",\"The program offers a practic-focused learning approach for building production-ready machine learning systems. Participants will receive 18 hours of live, interactive sessions, 10 hours of step-by-step coding instructions, a final project, 100 coding assignments, and practice questions. They will also receive the entire source code of a working production system, access to a private community, direct access to the instructor, lifetime access to every past and future cohort, a\",\"Some key benefits offered by the program include lifetime access to every past, present, and future cohort, no monthly or annual fees, no hidden costs, and direct feedback from the instructor. The first session, \\\\\"How To Start (Almost) Any Project,\\\\\" covers what makes production machine learning different from what is learned, critical questions to ask before starting any project, problem framing, inversion, and the haystack principle for building successful applications, the first rule of machine learning engineering,\",\"The focus of the &#x27;Building Machine Learning Systems That Don&#x27;t Suck&#x27; course is on how to build production-ready machine learning systems that solve real-world problems. The course offers practical skills and insights for tackling the most significant challenges machine learning engineers face during the various stages of building, evaluating, running, monitoring, and maintaining machine learning systems. The next cohort is scheduled to start on February 3, 2025.\",\"The contact person is not explicitly mentioned in the context. The name of the company is Tideily LLC, mentioned in the metadata under the \\\\\"source\\\\\" key for one of the documents. However, the company&#x27;s contact information is not provided in the context.\",\"Answer: The Machine Learning School program offers practical skills in building production-ready machine learning systems from the ground up. Some of the skills you will gain include designing and implementing end-to-end machine learning systems, tackling the challenges of building, evaluating, running, monitoring, and maintaining machine learning systems in real-world scenarios, and using techniques like active learning, distributed training, adversarial validation, human-in-the-loop deployments, model compression, test-time\",\"Answer: The course discusses two sampling strategies for active learning, which are uncertainty sampling and diversity sampling. For handling missing values, the course covers imputation techniques for missing data, which are approaches used to replace missing values in a dataset with estimated values based on the available data. The specific techniques covered in the course are not specified in the given context, but the course materials may provide further details on the specific techniques covered.\",\"The cost structure for joining the machine learning program is described as \\\\\"only pay once to join. There are no monthly fees. No annual fees. No hidden costs. You pay once to join and benefit forever until the end of time.\\\\\" It is designed for technical professionals such as software engineers, data scientists, data analysts, machine learning engineers, technical managers, and anyone else who wants to use machine learning to solve real-world problems. However, the program is not an introduction to machine learning,\",\"The program consists of live sessions on Mondays and Thursdays for two hours each, as well as individual work on Tuesdays, Wednesdays, and Fridays. Optional office hours are also available on Wednesdays. The cost of joining the program is $500, and it includes lifetime access to every past and future cohort without any monthly, annual, or hidden fees. Access is granted immediately upon payment, and students can attend live sessions or watch recorded versions at\",\"&#x27;Lifetime access&#x27; in the context of the machine learning program means that once you pay to join the program, you will have immediate access to every past, present, and future iteration of the program. This essentially gives you unlimited access to the program&#x27;s resources and updates without any additional fees.\\\\n\\\\nThe instructor of the program is named Santiago. He is a machine learning engineer with over two decades of experience building and scaling enterprise software and machine learning systems. Some of his notable clients include\",\"If you are attending the live sessions, it is recommended to set aside a minimum of 4 hours per week for 3 weeks to complete the program. However, for engineer leaders or those not interested in the coding portion, a commitment of at least 4 hours per week should be sufficient. Yes, live sessions are recorded, and you can choose to attend live sessions or watch the recordings at a later time. This program offers lifetime access to 18 hours of live, interactive sessions,\",\"Based on the context provided, the answer to the question \\\\\"What is it like?\\\\\" could refer to the program \\\\\"Building Machine Learning Systems That Don&#x27;t Suck\\\\\". Some statements that shed light on what it&#x27;s like are:\\\\n\\\\n- \\\\\"A live, interactive program that&#x27;ll help you build production-ready machine learning systems from the ground up.\\\\\"\\\\n- \\\\\"The sooner you join, the more time you have to prepare.\\\\\"\\\\n- \\\\\"Santiago is a terrific\",\"From \\\\\"Building Machine Learning Systems That Don&#x27;t Suck,\\\\\" you will gain practical skills and insights into how to build production-ready machine learning systems from scratch, including how to design and write code, tackle significant challenges, build, evaluate, run, monitor, and maintain machine learning systems in real-world scenarios. You will also have lifetime access to every past, present, and future cohort, no monthly or annual fees, and access to optional office hours. Previous students have\",\"The details provided in the context include information about a program called \\\\\"Building Machine Learning Systems That Don&#x27;t Suck.\\\\\" It is described as a live, interactive program that will help participants build production-ready machine learning systems from the ground up. The program covers topics such as determining the amount of needed data, dealing with selection bias, labeling data, building models, data cleaning, feature engineering, distributed training, adversarial validation, human-in-the-loop deployments, model\",\"The text mentions, \\\\\"Every new iteration of the program is better than the ones before. Many students take classes once and then join a later cohort to benefit from the updates.\\\\\" This refers to the fact that the course material is continuously being improved and updated, and students who have already completed the program can join a subsequent cohort to benefit from the updates and improvements made to the course content. In other words, \\\\\"lifetime access\\\\\" does not mean that the content will remain static\",\"Answer: The next iteration of the program, Cohort 17, is happening from February 3 - February 20, 2025. Live sessions will take place every Monday and Thursday at 10:00 AM EST, and there will be optional office hours on Wednesdays. It&#x27;s recommended not to wait for a specific cohort to join the program as lifetime access is included, and every session is recorded.\",\"Yes, the live sessions are recorded and can be watched later. This is mentioned in the FAQ section of the program.\",\"The author mentions receiving an email from a student named Alex telling them that their program \\\\\"Building Machine Learning Systems That Don&#x27;t Suck\\\\\" has transformed their career. The author discusses the unique aspects and curriculum of the program, including practical skills and insights into building production-ready machine learning systems, how to tackle common challenges, and hands-on exercises. The program is designed for technical professionals with coding experience and familiarity with basic machine learning terminology, and covers topics such as data\",\"Answer: The upcoming cohort for the \\\\\"Building Machine Learning Systems That Don&#x27;t Suck\\\\\" program will begin on February 3, 2025, and continue for 3 weeks until February 20, 2025. The live sessions will take place on Mondays and Thursdays at 10:00 AM EST, and there will be a coding walkthrough on Wednesdays. The recorded sessions will also be available for\",\"The text provided does not specify what students receive upon completion. However, it does mention that every new iteration of the program is better than the previous ones, and many students join later cohorts to benefit from updates. Additionally, the lifetime access removes pressure to complete the program under tight timelines. So, it can be inferred that upon completion, students continue to have access to updated versions of the program. However, the text does not explicitly state what other benefits, if any, students\",\"The response to the person&#x27;s message, based on the context provided, is:\\\\n\\\\nThe program \\\\\"Building Machine Learning Systems That Don&#x27;t Suck\\\\\" will cover the following topics:\\\\n\\\\n1. Understanding what makes production machine learning different from traditional learning and how to solve the right problem using the right solution.\\\\n2. Designing and building an end-to-end machine learning system starting from scratch.\\\\n3. Learning best practices for tackling the most significant challenges\"]],[\"reference_answer\",[\"Participants receive lifetime access to 18 hours of live, interactive sessions, 10 hours of step-by-step coding instructions, a final project with feedback, 100 coding assignments and practice questions, the entire source code of a working production system, a private community, direct access to the instructor, lifetime access to every past and future cohort, and a program certificate upon completion.\",\"Yes, we record every live session. You can decide when to attend classes live or catch up asynchronously later using the recording.\",\"$500. Pay once to join the program and get lifetime access. You can participate in as many iterations as you&#x27;d like.\",\"You only pay once to join. There are no monthly fees, no annual fees, and no hidden costs.\",\"The next cohort is from February 3 - 20, 2025.\",\"Active learning using the uncertainty and diversity sampling strategies.\",\"You&#x27;ll design and write the code to build an end-to-end machine learning system starting from scratch and learn best practices to tackle significant challenges in building, evaluating, running, monitoring, and maintaining machine learning systems in real-world scenarios.\",\"svpino@gmail.com\",\"You only pay once to join the program and get immediate access to every past, present, and future cohort. The lifetime access removes any pressure from having to complete the program when life gets in the way.\",\"The program includes 18 hours of live, interactive sessions, 10 hours of step-by-step coding instructions, 100 coding assignments, access to the complete source code of a production system, and feedback and support from the community and instructor.\",\"You only pay once to join. There are no monthly fees, no annual fees, and no hidden costs.\",\"When you join, you get lifetime access to 18 hours of live, interactive sessions, 10 hours of step-by-step coding instructions, a final project with feedback, 100 coding assignments and practice questions, the entire source code of a working production system, a private community, direct access to your instructor, lifetime access to every past and future cohort, and a program certificate upon completion.\",\"You&#x27;ll come out with practical skills and insights into what it takes to build systems that work in the real world, including designing and writing code to build an end-to-end machine learning system from scratch, and learning best practices to tackle challenges in building, evaluating, running, monitoring, and maintaining machine learning systems.\",\"Cohort 17 runs from February 3 to February 20, 2025, with live sessions every Monday and Thursday at 10:00 AM EST.\",\"Copyright \\\\u00a9 2025 Tideily LLC.\",\"Session 1 covers how to start (almost) any project, what makes production machine learning different, the strategy to solve the right problem using the right solution, critical questions to ask before starting any project, problem framing, inversion, the haystack principle for building successful applications, the first rule of machine learning engineering, and data collection strategies.\",\"Yes, we record every live session. You can decide when to attend classes live or catch up asynchronously later using the recording.\",\"Active learning using the uncertainty and diversity sampling strategies.\",\"The next cohort is from February 3 - 20, 2025.\",\"You only pay once to join the program and get immediate access to every past, present, and future cohort. Lifetime access removes any pressure from having to complete the program when life gets in the way.\",\"Those interested in implementing the concepts discussed in class should set aside 2 to 4 hours weekly to complete the code walkthroughs and work on the assignments.\",\"You&#x27;ll design and write the code to build an end-to-end machine learning system starting from scratch, learn best practices to tackle challenges in building, evaluating, running, monitoring, and maintaining machine learning systems, and use techniques like active learning, distributed training, adversarial validation, human-in-the-loop deployments, model compression, test-time augmentation, and testing.\",\"Active learning using the uncertainty and diversity sampling strategies.\",\"You only pay once to join the program and get immediate access to every past, present, and future cohort. The lifetime access removes any pressure from having to complete the program when life gets in the way.\",\"Cohort 17 is scheduled from February 3 to February 20, 2025, with live sessions every Monday and Thursday at 10:00 AM EST.\",\"$500. Pay once to join the program and get lifetime access. You can participate in as many iterations as you&#x27;d like. No monthly fees, no annual fees, no hidden costs.\",\"Upon joining the machine learning program, you receive lifetime access to 18 hours of live, interactive sessions, 10 hours of step-by-step coding instructions, a final project with feedback, 100 coding assignments and practice questions, the entire source code of a working production system, a private community, direct access to your instructor, lifetime access to every past and future cohort, and a program certificate upon completion.\",\"The next cohort is from February 3 - 20, 2025.\",\"Session 1 covers topics such as what makes production machine learning different, the strategy to solve the right problem using the right solution, critical questions to ask before starting any project, problem framing, inversion, and the haystack principle for building successful applications, the first rule of machine learning engineering, and data collection strategies.\",\"You only pay once to join. There are no monthly fees, no annual fees, and no hidden costs.\",\"You only pay once to join the program and get immediate access to every past, present, and future cohort. Lifetime access removes any pressure from having to complete the program when life gets in the way.\",\"You only pay once to join. There are no monthly fees, no annual fees, and no hidden costs.\",\"svpino@gmail.com\",\"Yes, we record every live session. You can decide when to attend classes live or catch up asynchronously later using the recording.\",\"Upon joining the machine learning program, you receive lifetime access to 18 hours of live, interactive sessions, 10 hours of step-by-step coding instructions, a final project with direct feedback, 100 coding assignments and practice questions, the entire source code of a working production system, a private community, direct access to your instructor, lifetime access to every past and future cohort, and a program certificate upon completion.\",\"Cohort 17 starts on February 3, 2025, and ends on February 20, 2025. Live sessions will take place every Monday and Thursday at 10:00 AM EST.\",\"You will learn techniques like active learning, distributed training, adversarial validation, human-in-the-loop deployments, model compression, test-time augmentation, and testing.\",\"The next cohort is from February 3 - 20, 2025.\",\"Session 2 covers the role of data cleaning and feature engineering, turning data into numbers using vectorization techniques, producing homogeneous features using normalization and standardization, handling and interpreting missing values using imputation techniques, choosing the best model to solve any problem, random baselines and the zero-rule algorithm, using overfitting to build models, hyperparameter tuning and experiment tracking, measuring the quality of your holdout set, and an introduction to distributed training using data parallelism and model parallelism.\",\"The program costs $500 with a one-time payment, granting lifetime access with no monthly, annual, or hidden fees.\",\"The program offers a practical, hands-on class where you&#x27;ll learn from years of experience and real-world examples, and participants receive lifetime access to live sessions, coding instructions, a final project, coding assignments, a private community, direct instructor access, and a program certificate.\",\"The program offers 18 hours of live, interactive sessions, 10 hours of step-by-step coding instructions, 100 coding assignments, access to the complete source code of a production system, guidance on freelancing on Upwork, and feedback and support from the community and instructors. The first session covers how to start almost any project, differences in production machine learning, strategies to solve the right problem, critical questions to ask before starting, problem framing, inversion, the haystack principle, the first rule of machine learning engineering, and data collection strategies.\",\"The course focuses on helping participants build production-ready machine learning systems from the ground up, with an emphasis on solving real-world problems, and the next cohort is scheduled to start on February 3 and will run until February 20, 2025.\",\"The contact person mentioned is svpino@gmail.com and the name of the company is Tideily LLC.\",\"You&#x27;ll come out with practical skills and insights into building systems that work in the real world, including designing and writing code to build an end-to-end machine learning system from scratch, while the program offers best practices to tackle significant challenges faced by machine learning engineers, such as building, evaluating, running, monitoring, and maintaining machine learning systems in real-world scenarios.\",\"The course discusses active learning using the uncertainty and diversity sampling strategies, and it covers handling and interpreting missing values using imputation techniques.\",\"You only pay once to join the machine learning program with no monthly, annual, or hidden fees, and it is designed for software engineers, data scientists, data analysts, machine learning engineers, technical managers, and anyone interested in using machine learning to solve real-world problems.\",\"The weekly schedule includes live sessions on Monday and Thursday for 2 hours each, individual work on Tuesday and Friday, and optional office hours on Wednesday. The program costs $500 for lifetime access with no monthly, annual, or hidden fees, allowing participation in as many iterations as you&#x27;d like.\",\"&#x27;Lifetime access&#x27; means you only pay once to join the program and get immediate access to every past, present, and future cohort, allowing students to join later cohorts for updates without pressure to complete the program immediately; the instructor of the program is Santiago, a machine learning engineer with over two decades of experience building and scaling enterprise software and machine learning systems.\",\"If you are attending the live sessions, you should set aside a minimum of 4 hours every week during the three weeks of the program, with additional time for coding if desired. Yes, every live session is recorded, allowing you to attend classes live or catch up asynchronously later using the recording.\",\"You only pay once to join. There are no monthly fees, no annual fees, and no hidden costs.\",\"You&#x27;ll learn to design and write the code to build an end-to-end machine learning system from scratch, tackle significant challenges faced by machine learning engineers, and use techniques like active learning, distributed training, adversarial validation, human-in-the-loop deployments, model compression, test-time augmentation, and testing.\",\"$500. Pay once to join the program and get lifetime access. You can participate in as many iterations as you&#x27;d like.\",\"You only pay once to join the program and get immediate access to every past, present, and future cohort. Lifetime access removes any pressure from having to complete the program when life gets in the way.\",\"The next cohort is scheduled for February 3 - 20, 2025.\",\"Yes, we record every live session. You can decide when to attend classes live or catch up asynchronously later using the recording.\",\"Active learning using the uncertainty and diversity sampling strategies.\",\"Cohort 17 will take place from February 3 to February 20, 2025.\",\"Participants receive a program certificate upon completion.\",\"In Session 1, you will learn about starting (almost) any project, what makes production machine learning different, the strategy to solve the right problem using the right solution, critical questions to ask before starting any project, problem framing, inversion, and the haystack principle for building successful applications, the first rule of machine learning engineering, and data collection strategies.\"]],[\"id\",[1,8,5,2,0,7,3,10,9,6,2,1,3,4,10,6,8,7,0,9,8,3,7,9,4,5,1,0,6,2,9,2,10,8,1,4,3,0,7,5,1,6,0,10,3,7,2,5,9,8,2,3,5,9,0,8,7,4,1,6]],[\"content\",[\"program will help you unlearn what you think machine learning is. It&#x27;s a practical, hands-on class where you&#x27;ll learn from years of experience and real-world examples.When you join, you get lifetime access to the following:18 hours of live, interactive sessions. We&#x27;ll use this time to discuss the first principles behind building machine learning systems.10 hours of step-by-step coding instructions. These practical sessions will show you how to build an end-to-end system from scratch.A final proj...\",\"it with complete confidence.\\\\\"Juan OlanoMachine Learning EngineerFrequently Asked QuestionsIf you can&#x27;t find the answer to your question, please reach out on social media and I&#x27;ll be happy to help.How long will it take to complete the program?If you are attending the live sessions, you should set aside a minimum of 4 hours every week during the three weeks of the program. This commitment will be enough for engineer leaders or anyone not interested in the coding portion of the program.Those intere...\",\"Wednesdays, we&#x27;ll host office hours when you can bring your questions projects or anything else you want to discuss.Monday: Live session. 2 hours.Tuesday: Individual work.Wednesday: Optional office hours.Thursday: Live session. 2 hours.Friday: Individual work.Do not wait for a specific cohort to join the program. You have lifetime access to every past and future cohort, and the sooner you join, the more time you have to prepare.Every session is recorded. You can attend live or watch the recorded...\",\"only pay once to join. There are no monthly fees. No annual fees. No hidden costs. You pay once to join and benefit forever until the end of time.The program won&#x27;t be easy. It&#x27;ll take time and effort. But if you want to use machine learning to solve real-world problems, this is the class you don&#x27;t want to miss.Who Is This Program For?This is a practical, hands-on program for technical professionals who are ready to put in the work.This program is for software engineers, data scientists, data ana...\",\"Building Machine Learning Systems That Don&#x27;t Suck\\\\\"This is the best machine learning course I&#x27;ve done. Worth every cent.\\\\\"Jose Reyes, AI/ML at Cevo AustraliaBuilding Machine Learning Systems That Don&#x27;t SuckA live, interactive program that&#x27;ll help you build production-ready machine learning systems from the ground up.Next cohort:\\\\u00a0February 3 - 20, 2025Check the schedule for more details about upcoming cohorts.I want to join!Sign inLearn how to design, build, deploy, and scale machine learning system...\",\"to determine how much data you need.The problem of selection bias and how to deal with it.Labeling data. Human annotations, natural labels and weak supervision.Active learning using the uncertainty and diversity sampling strategies.Session 2 - How to Build a ModelThe role of data cleaning and feature engineering to build better models.Turning data into numbers using vectorization techniques.Producing homogeneous features using normalization and standardization.Handling and interpreting missing v...\",\"that make systems work.You are ready to put in the work to succeed.\\\\\"I have learned a ton from Santiago in his class and it was actually what helped inspire me and get into the MLOps work that I&#x27;m doing now. Truly one of the most helpful online courses for doing real, full-scale machine learning.\\\\\"Brian H. HoughSoftware EngineerWhat Will You Learn?You&#x27;ll come out with practical skills and insights into what it takes to build systems that work in the real world.Here is a summary of what makes this ...\",\"then, thousands of students have graduated, and I can&#x27;t wait to meet you in class.Copyright \\\\u00a9 2025 Tideily LLC.All rights reserved - svpino@gmail.com\",\"learning, beginners will find the sessions go much faster than what&#x27;s optimal for them.What does \\\\\"lifetime access\\\\\" mean?You only pay once to join the program and get immediate access to every past, present, and future cohort.Every new iteration of the program is better than the ones before. Many students take classes once and then join a later cohort to benefit from the updates.The lifetime access removes any pressure from having to complete the program when life gets in the way.Hey! I&#x27;m Santiag...\",\"as you&#x27;d like. No restrictions.Enjoy 18 hours of live, interactive sessionsWatch 10 hours of step-by-step coding instructionsPractice with 100 coding assignmentsAccess the complete source code of a production systemLearn how to start freelancing on UpworkGet feedback and support from the communityGet direct feedback from your instructorJoin nowProgram SyllabusThis program will teach you the practical skills and insights that will help you build machine learning systems.Here are the contents of t...\",\"only pay once to join. There are no monthly fees. No annual fees. No hidden costs. You pay once to join and benefit forever until the end of time.The program won&#x27;t be easy. It&#x27;ll take time and effort. But if you want to use machine learning to solve real-world problems, this is the class you don&#x27;t want to miss.Who Is This Program For?This is a practical, hands-on program for technical professionals who are ready to put in the work.This program is for software engineers, data scientists, data ana...\",\"program will help you unlearn what you think machine learning is. It&#x27;s a practical, hands-on class where you&#x27;ll learn from years of experience and real-world examples.When you join, you get lifetime access to the following:18 hours of live, interactive sessions. We&#x27;ll use this time to discuss the first principles behind building machine learning systems.10 hours of step-by-step coding instructions. These practical sessions will show you how to build an end-to-end system from scratch.A final proj...\",\"that make systems work.You are ready to put in the work to succeed.\\\\\"I have learned a ton from Santiago in his class and it was actually what helped inspire me and get into the MLOps work that I&#x27;m doing now. Truly one of the most helpful online courses for doing real, full-scale machine learning.\\\\\"Brian H. HoughSoftware EngineerWhat Will You Learn?You&#x27;ll come out with practical skills and insights into what it takes to build systems that work in the real world.Here is a summary of what makes this ...\",\"testing in production, among many others.You&#x27;ll learn how to create training, deploying, monitoring, and inference pipelines using Amazon SageMaker and open-source tools.Forget about theoretical concepts. This program will show you some of the things I&#x27;ve learned from real-life examples I&#x27;ve built during more than 30 years in the industry.Check the program syllabus\\\\u00a0\\\\u2192Real-life examples and case studiesLearn from practical experience building machine learning systems that work in the real world.Li...\",\"then, thousands of students have graduated, and I can&#x27;t wait to meet you in class.Copyright \\\\u00a9 2025 Tideily LLC.All rights reserved - svpino@gmail.com\",\"as you&#x27;d like. No restrictions.Enjoy 18 hours of live, interactive sessionsWatch 10 hours of step-by-step coding instructionsPractice with 100 coding assignmentsAccess the complete source code of a production systemLearn how to start freelancing on UpworkGet feedback and support from the communityGet direct feedback from your instructorJoin nowProgram SyllabusThis program will teach you the practical skills and insights that will help you build machine learning systems.Here are the contents of t...\",\"it with complete confidence.\\\\\"Juan OlanoMachine Learning EngineerFrequently Asked QuestionsIf you can&#x27;t find the answer to your question, please reach out on social media and I&#x27;ll be happy to help.How long will it take to complete the program?If you are attending the live sessions, you should set aside a minimum of 4 hours every week during the three weeks of the program. This commitment will be enough for engineer leaders or anyone not interested in the coding portion of the program.Those intere...\",\"to determine how much data you need.The problem of selection bias and how to deal with it.Labeling data. Human annotations, natural labels and weak supervision.Active learning using the uncertainty and diversity sampling strategies.Session 2 - How to Build a ModelThe role of data cleaning and feature engineering to build better models.Turning data into numbers using vectorization techniques.Producing homogeneous features using normalization and standardization.Handling and interpreting missing v...\",\"Building Machine Learning Systems That Don&#x27;t Suck\\\\\"This is the best machine learning course I&#x27;ve done. Worth every cent.\\\\\"Jose Reyes, AI/ML at Cevo AustraliaBuilding Machine Learning Systems That Don&#x27;t SuckA live, interactive program that&#x27;ll help you build production-ready machine learning systems from the ground up.Next cohort:\\\\u00a0February 3 - 20, 2025Check the schedule for more details about upcoming cohorts.I want to join!Sign inLearn how to design, build, deploy, and scale machine learning system...\",\"learning, beginners will find the sessions go much faster than what&#x27;s optimal for them.What does \\\\\"lifetime access\\\\\" mean?You only pay once to join the program and get immediate access to every past, present, and future cohort.Every new iteration of the program is better than the ones before. Many students take classes once and then join a later cohort to benefit from the updates.The lifetime access removes any pressure from having to complete the program when life gets in the way.Hey! I&#x27;m Santiag...\",\"it with complete confidence.\\\\\"Juan OlanoMachine Learning EngineerFrequently Asked QuestionsIf you can&#x27;t find the answer to your question, please reach out on social media and I&#x27;ll be happy to help.How long will it take to complete the program?If you are attending the live sessions, you should set aside a minimum of 4 hours every week during the three weeks of the program. This commitment will be enough for engineer leaders or anyone not interested in the coding portion of the program.Those intere...\",\"that make systems work.You are ready to put in the work to succeed.\\\\\"I have learned a ton from Santiago in his class and it was actually what helped inspire me and get into the MLOps work that I&#x27;m doing now. Truly one of the most helpful online courses for doing real, full-scale machine learning.\\\\\"Brian H. HoughSoftware EngineerWhat Will You Learn?You&#x27;ll come out with practical skills and insights into what it takes to build systems that work in the real world.Here is a summary of what makes this ...\",\"to determine how much data you need.The problem of selection bias and how to deal with it.Labeling data. Human annotations, natural labels and weak supervision.Active learning using the uncertainty and diversity sampling strategies.Session 2 - How to Build a ModelThe role of data cleaning and feature engineering to build better models.Turning data into numbers using vectorization techniques.Producing homogeneous features using normalization and standardization.Handling and interpreting missing v...\",\"learning, beginners will find the sessions go much faster than what&#x27;s optimal for them.What does \\\\\"lifetime access\\\\\" mean?You only pay once to join the program and get immediate access to every past, present, and future cohort.Every new iteration of the program is better than the ones before. Many students take classes once and then join a later cohort to benefit from the updates.The lifetime access removes any pressure from having to complete the program when life gets in the way.Hey! I&#x27;m Santiag...\",\"testing in production, among many others.You&#x27;ll learn how to create training, deploying, monitoring, and inference pipelines using Amazon SageMaker and open-source tools.Forget about theoretical concepts. This program will show you some of the things I&#x27;ve learned from real-life examples I&#x27;ve built during more than 30 years in the industry.Check the program syllabus\\\\u00a0\\\\u2192Real-life examples and case studiesLearn from practical experience building machine learning systems that work in the real world.Li...\",\"Wednesdays, we&#x27;ll host office hours when you can bring your questions projects or anything else you want to discuss.Monday: Live session. 2 hours.Tuesday: Individual work.Wednesday: Optional office hours.Thursday: Live session. 2 hours.Friday: Individual work.Do not wait for a specific cohort to join the program. You have lifetime access to every past and future cohort, and the sooner you join, the more time you have to prepare.Every session is recorded. You can attend live or watch the recorded...\",\"program will help you unlearn what you think machine learning is. It&#x27;s a practical, hands-on class where you&#x27;ll learn from years of experience and real-world examples.When you join, you get lifetime access to the following:18 hours of live, interactive sessions. We&#x27;ll use this time to discuss the first principles behind building machine learning systems.10 hours of step-by-step coding instructions. These practical sessions will show you how to build an end-to-end system from scratch.A final proj...\",\"Building Machine Learning Systems That Don&#x27;t Suck\\\\\"This is the best machine learning course I&#x27;ve done. Worth every cent.\\\\\"Jose Reyes, AI/ML at Cevo AustraliaBuilding Machine Learning Systems That Don&#x27;t SuckA live, interactive program that&#x27;ll help you build production-ready machine learning systems from the ground up.Next cohort:\\\\u00a0February 3 - 20, 2025Check the schedule for more details about upcoming cohorts.I want to join!Sign inLearn how to design, build, deploy, and scale machine learning system...\",\"as you&#x27;d like. No restrictions.Enjoy 18 hours of live, interactive sessionsWatch 10 hours of step-by-step coding instructionsPractice with 100 coding assignmentsAccess the complete source code of a production systemLearn how to start freelancing on UpworkGet feedback and support from the communityGet direct feedback from your instructorJoin nowProgram SyllabusThis program will teach you the practical skills and insights that will help you build machine learning systems.Here are the contents of t...\",\"only pay once to join. There are no monthly fees. No annual fees. No hidden costs. You pay once to join and benefit forever until the end of time.The program won&#x27;t be easy. It&#x27;ll take time and effort. But if you want to use machine learning to solve real-world problems, this is the class you don&#x27;t want to miss.Who Is This Program For?This is a practical, hands-on program for technical professionals who are ready to put in the work.This program is for software engineers, data scientists, data ana...\",\"learning, beginners will find the sessions go much faster than what&#x27;s optimal for them.What does \\\\\"lifetime access\\\\\" mean?You only pay once to join the program and get immediate access to every past, present, and future cohort.Every new iteration of the program is better than the ones before. Many students take classes once and then join a later cohort to benefit from the updates.The lifetime access removes any pressure from having to complete the program when life gets in the way.Hey! I&#x27;m Santiag...\",\"only pay once to join. There are no monthly fees. No annual fees. No hidden costs. You pay once to join and benefit forever until the end of time.The program won&#x27;t be easy. It&#x27;ll take time and effort. But if you want to use machine learning to solve real-world problems, this is the class you don&#x27;t want to miss.Who Is This Program For?This is a practical, hands-on program for technical professionals who are ready to put in the work.This program is for software engineers, data scientists, data ana...\",\"then, thousands of students have graduated, and I can&#x27;t wait to meet you in class.Copyright \\\\u00a9 2025 Tideily LLC.All rights reserved - svpino@gmail.com\",\"it with complete confidence.\\\\\"Juan OlanoMachine Learning EngineerFrequently Asked QuestionsIf you can&#x27;t find the answer to your question, please reach out on social media and I&#x27;ll be happy to help.How long will it take to complete the program?If you are attending the live sessions, you should set aside a minimum of 4 hours every week during the three weeks of the program. This commitment will be enough for engineer leaders or anyone not interested in the coding portion of the program.Those intere...\",\"program will help you unlearn what you think machine learning is. It&#x27;s a practical, hands-on class where you&#x27;ll learn from years of experience and real-world examples.When you join, you get lifetime access to the following:18 hours of live, interactive sessions. We&#x27;ll use this time to discuss the first principles behind building machine learning systems.10 hours of step-by-step coding instructions. These practical sessions will show you how to build an end-to-end system from scratch.A final proj...\",\"testing in production, among many others.You&#x27;ll learn how to create training, deploying, monitoring, and inference pipelines using Amazon SageMaker and open-source tools.Forget about theoretical concepts. This program will show you some of the things I&#x27;ve learned from real-life examples I&#x27;ve built during more than 30 years in the industry.Check the program syllabus\\\\u00a0\\\\u2192Real-life examples and case studiesLearn from practical experience building machine learning systems that work in the real world.Li...\",\"that make systems work.You are ready to put in the work to succeed.\\\\\"I have learned a ton from Santiago in his class and it was actually what helped inspire me and get into the MLOps work that I&#x27;m doing now. Truly one of the most helpful online courses for doing real, full-scale machine learning.\\\\\"Brian H. HoughSoftware EngineerWhat Will You Learn?You&#x27;ll come out with practical skills and insights into what it takes to build systems that work in the real world.Here is a summary of what makes this ...\",\"Building Machine Learning Systems That Don&#x27;t Suck\\\\\"This is the best machine learning course I&#x27;ve done. Worth every cent.\\\\\"Jose Reyes, AI/ML at Cevo AustraliaBuilding Machine Learning Systems That Don&#x27;t SuckA live, interactive program that&#x27;ll help you build production-ready machine learning systems from the ground up.Next cohort:\\\\u00a0February 3 - 20, 2025Check the schedule for more details about upcoming cohorts.I want to join!Sign inLearn how to design, build, deploy, and scale machine learning system...\",\"to determine how much data you need.The problem of selection bias and how to deal with it.Labeling data. Human annotations, natural labels and weak supervision.Active learning using the uncertainty and diversity sampling strategies.Session 2 - How to Build a ModelThe role of data cleaning and feature engineering to build better models.Turning data into numbers using vectorization techniques.Producing homogeneous features using normalization and standardization.Handling and interpreting missing v...\",\"Wednesdays, we&#x27;ll host office hours when you can bring your questions projects or anything else you want to discuss.Monday: Live session. 2 hours.Tuesday: Individual work.Wednesday: Optional office hours.Thursday: Live session. 2 hours.Friday: Individual work.Do not wait for a specific cohort to join the program. You have lifetime access to every past and future cohort, and the sooner you join, the more time you have to prepare.Every session is recorded. You can attend live or watch the recorded...\",\"program will help you unlearn what you think machine learning is. It&#x27;s a practical, hands-on class where you&#x27;ll learn from years of experience and real-world examples.When you join, you get lifetime access to the following:18 hours of live, interactive sessions. We&#x27;ll use this time to discuss the first principles behind building machine learning systems.10 hours of step-by-step coding instructions. These practical sessions will show you how to build an end-to-end system from scratch.A final proj...\",\"as you&#x27;d like. No restrictions.Enjoy 18 hours of live, interactive sessionsWatch 10 hours of step-by-step coding instructionsPractice with 100 coding assignmentsAccess the complete source code of a production systemLearn how to start freelancing on UpworkGet feedback and support from the communityGet direct feedback from your instructorJoin nowProgram SyllabusThis program will teach you the practical skills and insights that will help you build machine learning systems.Here are the contents of t...\",\"Building Machine Learning Systems That Don&#x27;t Suck\\\\\"This is the best machine learning course I&#x27;ve done. Worth every cent.\\\\\"Jose Reyes, AI/ML at Cevo AustraliaBuilding Machine Learning Systems That Don&#x27;t SuckA live, interactive program that&#x27;ll help you build production-ready machine learning systems from the ground up.Next cohort:\\\\u00a0February 3 - 20, 2025Check the schedule for more details about upcoming cohorts.I want to join!Sign inLearn how to design, build, deploy, and scale machine learning system...\",\"then, thousands of students have graduated, and I can&#x27;t wait to meet you in class.Copyright \\\\u00a9 2025 Tideily LLC.All rights reserved - svpino@gmail.com\",\"that make systems work.You are ready to put in the work to succeed.\\\\\"I have learned a ton from Santiago in his class and it was actually what helped inspire me and get into the MLOps work that I&#x27;m doing now. Truly one of the most helpful online courses for doing real, full-scale machine learning.\\\\\"Brian H. HoughSoftware EngineerWhat Will You Learn?You&#x27;ll come out with practical skills and insights into what it takes to build systems that work in the real world.Here is a summary of what makes this ...\",\"to determine how much data you need.The problem of selection bias and how to deal with it.Labeling data. Human annotations, natural labels and weak supervision.Active learning using the uncertainty and diversity sampling strategies.Session 2 - How to Build a ModelThe role of data cleaning and feature engineering to build better models.Turning data into numbers using vectorization techniques.Producing homogeneous features using normalization and standardization.Handling and interpreting missing v...\",\"only pay once to join. There are no monthly fees. No annual fees. No hidden costs. You pay once to join and benefit forever until the end of time.The program won&#x27;t be easy. It&#x27;ll take time and effort. But if you want to use machine learning to solve real-world problems, this is the class you don&#x27;t want to miss.Who Is This Program For?This is a practical, hands-on program for technical professionals who are ready to put in the work.This program is for software engineers, data scientists, data ana...\",\"Wednesdays, we&#x27;ll host office hours when you can bring your questions projects or anything else you want to discuss.Monday: Live session. 2 hours.Tuesday: Individual work.Wednesday: Optional office hours.Thursday: Live session. 2 hours.Friday: Individual work.Do not wait for a specific cohort to join the program. You have lifetime access to every past and future cohort, and the sooner you join, the more time you have to prepare.Every session is recorded. You can attend live or watch the recorded...\",\"learning, beginners will find the sessions go much faster than what&#x27;s optimal for them.What does \\\\\"lifetime access\\\\\" mean?You only pay once to join the program and get immediate access to every past, present, and future cohort.Every new iteration of the program is better than the ones before. Many students take classes once and then join a later cohort to benefit from the updates.The lifetime access removes any pressure from having to complete the program when life gets in the way.Hey! I&#x27;m Santiag...\",\"it with complete confidence.\\\\\"Juan OlanoMachine Learning EngineerFrequently Asked QuestionsIf you can&#x27;t find the answer to your question, please reach out on social media and I&#x27;ll be happy to help.How long will it take to complete the program?If you are attending the live sessions, you should set aside a minimum of 4 hours every week during the three weeks of the program. This commitment will be enough for engineer leaders or anyone not interested in the coding portion of the program.Those intere...\",\"only pay once to join. There are no monthly fees. No annual fees. No hidden costs. You pay once to join and benefit forever until the end of time.The program won&#x27;t be easy. It&#x27;ll take time and effort. But if you want to use machine learning to solve real-world problems, this is the class you don&#x27;t want to miss.Who Is This Program For?This is a practical, hands-on program for technical professionals who are ready to put in the work.This program is for software engineers, data scientists, data ana...\",\"that make systems work.You are ready to put in the work to succeed.\\\\\"I have learned a ton from Santiago in his class and it was actually what helped inspire me and get into the MLOps work that I&#x27;m doing now. Truly one of the most helpful online courses for doing real, full-scale machine learning.\\\\\"Brian H. HoughSoftware EngineerWhat Will You Learn?You&#x27;ll come out with practical skills and insights into what it takes to build systems that work in the real world.Here is a summary of what makes this ...\",\"Wednesdays, we&#x27;ll host office hours when you can bring your questions projects or anything else you want to discuss.Monday: Live session. 2 hours.Tuesday: Individual work.Wednesday: Optional office hours.Thursday: Live session. 2 hours.Friday: Individual work.Do not wait for a specific cohort to join the program. You have lifetime access to every past and future cohort, and the sooner you join, the more time you have to prepare.Every session is recorded. You can attend live or watch the recorded...\",\"learning, beginners will find the sessions go much faster than what&#x27;s optimal for them.What does \\\\\"lifetime access\\\\\" mean?You only pay once to join the program and get immediate access to every past, present, and future cohort.Every new iteration of the program is better than the ones before. Many students take classes once and then join a later cohort to benefit from the updates.The lifetime access removes any pressure from having to complete the program when life gets in the way.Hey! I&#x27;m Santiag...\",\"Building Machine Learning Systems That Don&#x27;t Suck\\\\\"This is the best machine learning course I&#x27;ve done. Worth every cent.\\\\\"Jose Reyes, AI/ML at Cevo AustraliaBuilding Machine Learning Systems That Don&#x27;t SuckA live, interactive program that&#x27;ll help you build production-ready machine learning systems from the ground up.Next cohort:\\\\u00a0February 3 - 20, 2025Check the schedule for more details about upcoming cohorts.I want to join!Sign inLearn how to design, build, deploy, and scale machine learning system...\",\"it with complete confidence.\\\\\"Juan OlanoMachine Learning EngineerFrequently Asked QuestionsIf you can&#x27;t find the answer to your question, please reach out on social media and I&#x27;ll be happy to help.How long will it take to complete the program?If you are attending the live sessions, you should set aside a minimum of 4 hours every week during the three weeks of the program. This commitment will be enough for engineer leaders or anyone not interested in the coding portion of the program.Those intere...\",\"to determine how much data you need.The problem of selection bias and how to deal with it.Labeling data. Human annotations, natural labels and weak supervision.Active learning using the uncertainty and diversity sampling strategies.Session 2 - How to Build a ModelThe role of data cleaning and feature engineering to build better models.Turning data into numbers using vectorization techniques.Producing homogeneous features using normalization and standardization.Handling and interpreting missing v...\",\"testing in production, among many others.You&#x27;ll learn how to create training, deploying, monitoring, and inference pipelines using Amazon SageMaker and open-source tools.Forget about theoretical concepts. This program will show you some of the things I&#x27;ve learned from real-life examples I&#x27;ve built during more than 30 years in the industry.Check the program syllabus\\\\u00a0\\\\u2192Real-life examples and case studiesLearn from practical experience building machine learning systems that work in the real world.Li...\",\"program will help you unlearn what you think machine learning is. It&#x27;s a practical, hands-on class where you&#x27;ll learn from years of experience and real-world examples.When you join, you get lifetime access to the following:18 hours of live, interactive sessions. We&#x27;ll use this time to discuss the first principles behind building machine learning systems.10 hours of step-by-step coding instructions. These practical sessions will show you how to build an end-to-end system from scratch.A final proj...\",\"as you&#x27;d like. No restrictions.Enjoy 18 hours of live, interactive sessionsWatch 10 hours of step-by-step coding instructionsPractice with 100 coding assignmentsAccess the complete source code of a production systemLearn how to start freelancing on UpworkGet feedback and support from the communityGet direct feedback from your instructorJoin nowProgram SyllabusThis program will teach you the practical skills and insights that will help you build machine learning systems.Here are the contents of t...\"]],[\"color\",[\"#ba0e0e\",\"#0a980a\",\"#0a980a\",\"#0a980a\",\"#0a980a\",\"#0a980a\",\"#0a980a\",\"#0a980a\",\"#0a980a\",\"#ba0e0e\",\"#0a980a\",\"#ba0e0e\",\"#0a980a\",\"#0a980a\",\"#ba0e0e\",\"#ba0e0e\",\"#0a980a\",\"#0a980a\",\"#ba0e0e\",\"#0a980a\",\"#ba0e0e\",\"#ba0e0e\",\"#0a980a\",\"#0a980a\",\"#ba0e0e\",\"#ba0e0e\",\"#ba0e0e\",\"#ba0e0e\",\"#0a980a\",\"#ba0e0e\",\"#0a980a\",\"#0a980a\",\"#0a980a\",\"#0a980a\",\"#ba0e0e\",\"#ba0e0e\",\"#0a980a\",\"#ba0e0e\",\"#ba0e0e\",\"#0a980a\",\"#ba0e0e\",\"#ba0e0e\",\"#0a980a\",\"#ba0e0e\",\"#0a980a\",\"#0a980a\",\"#0a980a\",\"#ba0e0e\",\"#0a980a\",\"#0a980a\",\"#ba0e0e\",\"#ba0e0e\",\"#ba0e0e\",\"#ba0e0e\",\"#0a980a\",\"#0a980a\",\"#ba0e0e\",\"#ba0e0e\",\"#ba0e0e\",\"#ba0e0e\"]]]}}},\"view\":{\"type\":\"object\",\"name\":\"CDSView\",\"id\":\"p1094\",\"attributes\":{\"filter\":{\"type\":\"object\",\"name\":\"AllIndices\",\"id\":\"p1095\"}}},\"glyph\":{\"type\":\"object\",\"name\":\"Scatter\",\"id\":\"p1090\",\"attributes\":{\"x\":{\"type\":\"field\",\"field\":\"x\"},\"y\":{\"type\":\"field\",\"field\":\"y\"},\"size\":{\"type\":\"value\",\"value\":6},\"line_color\":{\"type\":\"field\",\"field\":\"color\"},\"line_width\":{\"type\":\"value\",\"value\":2},\"fill_color\":{\"type\":\"field\",\"field\":\"color\"},\"fill_alpha\":{\"type\":\"value\",\"value\":0.7},\"hatch_color\":{\"type\":\"field\",\"field\":\"color\"},\"hatch_alpha\":{\"type\":\"value\",\"value\":0.7}}},\"nonselection_glyph\":{\"type\":\"object\",\"name\":\"Scatter\",\"id\":\"p1091\",\"attributes\":{\"x\":{\"type\":\"field\",\"field\":\"x\"},\"y\":{\"type\":\"field\",\"field\":\"y\"},\"size\":{\"type\":\"value\",\"value\":6},\"line_color\":{\"type\":\"field\",\"field\":\"color\"},\"line_alpha\":{\"type\":\"value\",\"value\":0.1},\"line_width\":{\"type\":\"value\",\"value\":2},\"fill_color\":{\"type\":\"field\",\"field\":\"color\"},\"fill_alpha\":{\"type\":\"value\",\"value\":0.1},\"hatch_color\":{\"type\":\"field\",\"field\":\"color\"},\"hatch_alpha\":{\"type\":\"value\",\"value\":0.1}}},\"muted_glyph\":{\"type\":\"object\",\"name\":\"Scatter\",\"id\":\"p1092\",\"attributes\":{\"x\":{\"type\":\"field\",\"field\":\"x\"},\"y\":{\"type\":\"field\",\"field\":\"y\"},\"size\":{\"type\":\"value\",\"value\":6},\"line_color\":{\"type\":\"field\",\"field\":\"color\"},\"line_alpha\":{\"type\":\"value\",\"value\":0.2},\"line_width\":{\"type\":\"value\",\"value\":2},\"fill_color\":{\"type\":\"field\",\"field\":\"color\"},\"fill_alpha\":{\"type\":\"value\",\"value\":0.2},\"hatch_color\":{\"type\":\"field\",\"field\":\"color\"},\"hatch_alpha\":{\"type\":\"value\",\"value\":0.2}}}}},{\"type\":\"object\",\"name\":\"GlyphRenderer\",\"id\":\"p1108\",\"attributes\":{\"data_source\":{\"type\":\"object\",\"name\":\"ColumnDataSource\",\"id\":\"p1099\",\"attributes\":{\"selected\":{\"type\":\"object\",\"name\":\"Selection\",\"id\":\"p1100\",\"attributes\":{\"indices\":[],\"line_indices\":[]}},\"selection_policy\":{\"type\":\"object\",\"name\":\"UnionRenderers\",\"id\":\"p1101\"},\"data\":{\"type\":\"map\",\"entries\":[[\"x\",{\"type\":\"ndarray\",\"array\":{\"type\":\"bytes\",\"data\":\"Kz9sQCh8m0B0psVAVBGWQKIGs0C1N7RA9sLBQCribUBNEdpA6XOjQOuWkEA=\"},\"shape\":[11],\"dtype\":\"float32\",\"order\":\"little\"}],[\"y\",{\"type\":\"ndarray\",\"array\":{\"type\":\"bytes\",\"data\":\"/cuWQfFOiEHstJVBGCOTQUn+jUHyxaFBFqKFQSn7jEGM341BW3aaQb+aokE=\"},\"shape\":[11],\"dtype\":\"float32\",\"order\":\"little\"}]]}}},\"view\":{\"type\":\"object\",\"name\":\"CDSView\",\"id\":\"p1109\",\"attributes\":{\"filter\":{\"type\":\"object\",\"name\":\"AllIndices\",\"id\":\"p1110\"}}},\"glyph\":{\"type\":\"object\",\"name\":\"Scatter\",\"id\":\"p1105\",\"attributes\":{\"x\":{\"type\":\"field\",\"field\":\"x\"},\"y\":{\"type\":\"field\",\"field\":\"y\"},\"size\":{\"type\":\"value\",\"value\":6},\"line_color\":{\"type\":\"value\",\"value\":\"grey\"},\"line_alpha\":{\"type\":\"value\",\"value\":0.2},\"fill_color\":{\"type\":\"value\",\"value\":\"grey\"},\"fill_alpha\":{\"type\":\"value\",\"value\":0.2},\"hatch_color\":{\"type\":\"value\",\"value\":\"grey\"},\"hatch_alpha\":{\"type\":\"value\",\"value\":0.2}}},\"nonselection_glyph\":{\"type\":\"object\",\"name\":\"Scatter\",\"id\":\"p1106\",\"attributes\":{\"x\":{\"type\":\"field\",\"field\":\"x\"},\"y\":{\"type\":\"field\",\"field\":\"y\"},\"size\":{\"type\":\"value\",\"value\":6},\"line_color\":{\"type\":\"value\",\"value\":\"grey\"},\"line_alpha\":{\"type\":\"value\",\"value\":0.1},\"fill_color\":{\"type\":\"value\",\"value\":\"grey\"},\"fill_alpha\":{\"type\":\"value\",\"value\":0.1},\"hatch_color\":{\"type\":\"value\",\"value\":\"grey\"},\"hatch_alpha\":{\"type\":\"value\",\"value\":0.1}}},\"muted_glyph\":{\"type\":\"object\",\"name\":\"Scatter\",\"id\":\"p1107\",\"attributes\":{\"x\":{\"type\":\"field\",\"field\":\"x\"},\"y\":{\"type\":\"field\",\"field\":\"y\"},\"size\":{\"type\":\"value\",\"value\":6},\"line_color\":{\"type\":\"value\",\"value\":\"grey\"},\"line_alpha\":{\"type\":\"value\",\"value\":0.2},\"fill_color\":{\"type\":\"value\",\"value\":\"grey\"},\"fill_alpha\":{\"type\":\"value\",\"value\":0.2},\"hatch_color\":{\"type\":\"value\",\"value\":\"grey\"},\"hatch_alpha\":{\"type\":\"value\",\"value\":0.2}}}}}],\"toolbar\":{\"type\":\"object\",\"name\":\"Toolbar\",\"id\":\"p1062\",\"attributes\":{\"logo\":\"grey\",\"tools\":[{\"type\":\"object\",\"name\":\"PanTool\",\"id\":\"p1077\"},{\"type\":\"object\",\"name\":\"WheelZoomTool\",\"id\":\"p1078\",\"attributes\":{\"renderers\":\"auto\"}},{\"type\":\"object\",\"name\":\"BoxZoomTool\",\"id\":\"p1079\",\"attributes\":{\"overlay\":{\"type\":\"object\",\"name\":\"BoxAnnotation\",\"id\":\"p1080\",\"attributes\":{\"syncable\":false,\"level\":\"overlay\",\"visible\":false,\"left\":{\"type\":\"number\",\"value\":\"nan\"},\"right\":{\"type\":\"number\",\"value\":\"nan\"},\"top\":{\"type\":\"number\",\"value\":\"nan\"},\"bottom\":{\"type\":\"number\",\"value\":\"nan\"},\"left_units\":\"canvas\",\"right_units\":\"canvas\",\"top_units\":\"canvas\",\"bottom_units\":\"canvas\",\"line_color\":\"black\",\"line_alpha\":1.0,\"line_width\":2,\"line_dash\":[4,4],\"fill_color\":\"lightgrey\",\"fill_alpha\":0.5}}}},{\"type\":\"object\",\"name\":\"ResetTool\",\"id\":\"p1085\"},{\"type\":\"object\",\"name\":\"SaveTool\",\"id\":\"p1086\"},{\"type\":\"object\",\"name\":\"HoverTool\",\"id\":\"p1053\",\"attributes\":{\"renderers\":[{\"id\":\"p1093\"}],\"tooltips\":\"\\\\n    &lt;div style=\\\\\"width:400px;\\\\\"&gt;\\\\n    &lt;b&gt;Document id:&lt;/b&gt; @id &lt;br&gt;\\\\n    &lt;b&gt;Topic:&lt;/b&gt; @topic &lt;br&gt;\\\\n    &lt;b&gt;Question:&lt;/b&gt; @questions &lt;br&gt;\\\\n    &lt;b&gt;agent Answer:&lt;/b&gt; @agent_answer &lt;br&gt;\\\\n    &lt;b&gt;Reference Answer:&lt;/b&gt; @reference_answer &lt;br&gt;\\\\n    &lt;b&gt;Correctness:&lt;/b&gt; @correctness &lt;br&gt;\\\\n    &lt;b&gt;Content:&lt;/b&gt; @content\\\\n    &lt;/div&gt;\\\\n    \"}}]}},\"left\":[{\"type\":\"object\",\"name\":\"LinearAxis\",\"id\":\"p1072\",\"attributes\":{\"ticker\":{\"type\":\"object\",\"name\":\"BasicTicker\",\"id\":\"p1073\",\"attributes\":{\"mantissas\":[1,2,5]}},\"formatter\":{\"type\":\"object\",\"name\":\"BasicTickFormatter\",\"id\":\"p1074\"},\"axis_label_standoff\":10,\"axis_label_text_color\":\"#E0E0E0\",\"axis_label_text_font\":\"Helvetica\",\"axis_label_text_font_size\":\"1.25em\",\"axis_label_text_font_style\":\"normal\",\"major_label_policy\":{\"type\":\"object\",\"name\":\"AllLabels\",\"id\":\"p1075\"},\"major_label_text_color\":\"#E0E0E0\",\"major_label_text_font\":\"Helvetica\",\"major_label_text_font_size\":\"1.025em\",\"axis_line_color\":\"#E0E0E0\",\"axis_line_alpha\":0,\"major_tick_line_color\":\"#E0E0E0\",\"major_tick_line_alpha\":0,\"minor_tick_line_color\":\"#E0E0E0\",\"minor_tick_line_alpha\":0}}],\"below\":[{\"type\":\"object\",\"name\":\"LinearAxis\",\"id\":\"p1067\",\"attributes\":{\"ticker\":{\"type\":\"object\",\"name\":\"BasicTicker\",\"id\":\"p1068\",\"attributes\":{\"mantissas\":[1,2,5]}},\"formatter\":{\"type\":\"object\",\"name\":\"BasicTickFormatter\",\"id\":\"p1069\"},\"axis_label_standoff\":10,\"axis_label_text_color\":\"#E0E0E0\",\"axis_label_text_font\":\"Helvetica\",\"axis_label_text_font_size\":\"1.25em\",\"axis_label_text_font_style\":\"normal\",\"major_label_policy\":{\"type\":\"object\",\"name\":\"AllLabels\",\"id\":\"p1070\"},\"major_label_text_color\":\"#E0E0E0\",\"major_label_text_font\":\"Helvetica\",\"major_label_text_font_size\":\"1.025em\",\"axis_line_color\":\"#E0E0E0\",\"axis_line_alpha\":0,\"major_tick_line_color\":\"#E0E0E0\",\"major_tick_line_alpha\":0,\"minor_tick_line_color\":\"#E0E0E0\",\"minor_tick_line_alpha\":0}}],\"center\":[{\"type\":\"object\",\"name\":\"Grid\",\"id\":\"p1071\",\"attributes\":{\"axis\":{\"id\":\"p1067\"},\"grid_line_color\":\"white\",\"grid_line_alpha\":0.25}},{\"type\":\"object\",\"name\":\"Grid\",\"id\":\"p1076\",\"attributes\":{\"dimension\":1,\"axis\":{\"id\":\"p1072\"},\"grid_line_color\":\"white\",\"grid_line_alpha\":0.25}},{\"type\":\"object\",\"name\":\"Legend\",\"id\":\"p1096\",\"attributes\":{\"title\":\"Question Correctness\",\"title_text_color\":\"#B1B1B1\",\"title_text_font_style\":\"bold\",\"border_line_alpha\":0,\"background_fill_color\":\"#111516\",\"background_fill_alpha\":0.5,\"label_text_color\":\"#E0E0E0\",\"label_text_font\":\"Helvetica\",\"label_text_font_size\":\"1.025em\",\"label_standoff\":8,\"glyph_width\":15,\"spacing\":8,\"items\":[{\"type\":\"object\",\"name\":\"LegendItem\",\"id\":\"p1097\",\"attributes\":{\"label\":{\"type\":\"value\",\"value\":\"False\"},\"renderers\":[{\"id\":\"p1093\"}],\"index\":0}},{\"type\":\"object\",\"name\":\"LegendItem\",\"id\":\"p1098\",\"attributes\":{\"label\":{\"type\":\"value\",\"value\":\"True\"},\"renderers\":[{\"id\":\"p1093\"}],\"index\":1}}]}}],\"background_fill_color\":\"#14191B\",\"border_fill_color\":\"#15191C\"}}}}],\"tabs_location\":\"below\"}}]}}';\n",
       "        const render_items = [{\"docid\":\"7b50eeda-eb89-4b11-a199-b9e91d3d1515\",\"roots\":{\"p1112\":\"e523ccd8-bc66-4266-8ce1-ec4244babb08\"},\"root_ids\":[\"p1112\"]}];\n",
       "        root.Bokeh.embed.embed_items(docs_json, render_items);\n",
       "        }\n",
       "        if (root.Bokeh !== undefined) {\n",
       "          embed_document(root);\n",
       "        } else {\n",
       "          let attempts = 0;\n",
       "          const timer = setInterval(function(root) {\n",
       "            if (root.Bokeh !== undefined) {\n",
       "              clearInterval(timer);\n",
       "              embed_document(root);\n",
       "            } else {\n",
       "              attempts++;\n",
       "              if (attempts > 100) {\n",
       "                clearInterval(timer);\n",
       "                console.log(\"Bokeh: ERROR: Unable to run BokehJS code because BokehJS library is missing\");\n",
       "              }\n",
       "            }\n",
       "          }, 10, root)\n",
       "        }\n",
       "      })(window);\n",
       "    });\n",
       "  };\n",
       "  if (document.readyState != \"loading\") fn();\n",
       "  else document.addEventListener(\"DOMContentLoaded\", fn);\n",
       "})();\n",
       "    </script>\n",
       "\n",
       "                <div id=\"e523ccd8-bc66-4266-8ce1-ec4244babb08\" data-root-id=\"p1112\" style=\"display: contents;\"></div>\n",
       "            </div>\n",
       "        </div>\n",
       "\n",
       "        <div class=\"section-container\">\n",
       "            <div class=\"section-card\">\n",
       "\n",
       "                <div class=\"section-title\">SELECTED METRICS</div>\n",
       "\n",
       "                \n",
       "\n",
       "            </div>\n",
       "        </div>\n",
       "\n",
       "        \n",
       "    </div>\n",
       "</div>\n",
       "\n",
       "\n",
       "\n",
       "<script type=\"text/javascript\">\n",
       "    function opentab(evt, name) {\n",
       "    // Declare all variables\n",
       "    let i, tabcontent, tablinks;\n",
       "\n",
       "    // Get all elements with class=\"tabcontent\" and hide them\n",
       "    tabcontent = document.getElementsByClassName(\"tabcontent\");\n",
       "    for (i = 0; i < tabcontent.length; i++) {\n",
       "        tabcontent[i].style.display = \"none\";\n",
       "    }\n",
       "\n",
       "    // Get all elements with class=\"tablinks\" and remove the class \"active\"\n",
       "    tablinks = document.getElementsByClassName(\"tablinks\");\n",
       "    for (i = 0; i < tablinks.length; i++) {\n",
       "        tablinks[i].className = tablinks[i].className.replace(\" active\", \"\");\n",
       "    }\n",
       "\n",
       "    // Show the current tab, and add an \"active\" class to the button that opened the tab\n",
       "    document.getElementById(name).style.display = \"block\";\n",
       "    evt.currentTarget.className += \" active\";\n",
       "}\n",
       "</script>\n"
      ]
     },
     "metadata": {},
     "output_type": "display_data"
    }
   ],
   "execution_count": 24
  },
  {
   "cell_type": "code",
   "metadata": {
    "ExecuteTime": {
     "end_time": "2025-01-11T20:12:16.662857Z",
     "start_time": "2025-01-11T20:12:16.554043Z"
    }
   },
   "source": "report.to_html(\"reports.html\")",
   "outputs": [],
   "execution_count": 25
  },
  {
   "cell_type": "markdown",
   "metadata": {},
   "source": [
    "We can display the correctness results organized by question type."
   ]
  },
  {
   "cell_type": "code",
   "metadata": {
    "ExecuteTime": {
     "end_time": "2025-01-11T20:12:20.225063Z",
     "start_time": "2025-01-11T20:12:20.219474Z"
    }
   },
   "source": [
    "report.correctness_by_question_type()"
   ],
   "outputs": [
    {
     "data": {
      "text/plain": [
       "                     correctness\n",
       "question_type                   \n",
       "complex                      0.6\n",
       "conversational               0.2\n",
       "distracting element          0.3\n",
       "double                       0.6\n",
       "simple                       0.8\n",
       "situational                  0.6"
      ],
      "text/html": [
       "<div>\n",
       "<style scoped>\n",
       "    .dataframe tbody tr th:only-of-type {\n",
       "        vertical-align: middle;\n",
       "    }\n",
       "\n",
       "    .dataframe tbody tr th {\n",
       "        vertical-align: top;\n",
       "    }\n",
       "\n",
       "    .dataframe thead th {\n",
       "        text-align: right;\n",
       "    }\n",
       "</style>\n",
       "<table border=\"1\" class=\"dataframe\">\n",
       "  <thead>\n",
       "    <tr style=\"text-align: right;\">\n",
       "      <th></th>\n",
       "      <th>correctness</th>\n",
       "    </tr>\n",
       "    <tr>\n",
       "      <th>question_type</th>\n",
       "      <th></th>\n",
       "    </tr>\n",
       "  </thead>\n",
       "  <tbody>\n",
       "    <tr>\n",
       "      <th>complex</th>\n",
       "      <td>0.6</td>\n",
       "    </tr>\n",
       "    <tr>\n",
       "      <th>conversational</th>\n",
       "      <td>0.2</td>\n",
       "    </tr>\n",
       "    <tr>\n",
       "      <th>distracting element</th>\n",
       "      <td>0.3</td>\n",
       "    </tr>\n",
       "    <tr>\n",
       "      <th>double</th>\n",
       "      <td>0.6</td>\n",
       "    </tr>\n",
       "    <tr>\n",
       "      <th>simple</th>\n",
       "      <td>0.8</td>\n",
       "    </tr>\n",
       "    <tr>\n",
       "      <th>situational</th>\n",
       "      <td>0.6</td>\n",
       "    </tr>\n",
       "  </tbody>\n",
       "</table>\n",
       "</div>"
      ]
     },
     "execution_count": 26,
     "metadata": {},
     "output_type": "execute_result"
    }
   ],
   "execution_count": 26
  },
  {
   "cell_type": "markdown",
   "metadata": {},
   "source": [
    "We can also display the specific failures."
   ]
  },
  {
   "cell_type": "code",
   "metadata": {
    "ExecuteTime": {
     "end_time": "2025-01-03T17:43:20.383427Z",
     "start_time": "2025-01-03T17:43:20.374413Z"
    }
   },
   "source": [
    "report.get_failures()"
   ],
   "outputs": [
    {
     "data": {
      "text/plain": [
       "                                                                               question  \\\n",
       "id                                                                                        \n",
       "adba819f-ca44-400f-9ebf-b43560f269cb  Under what conditions is the next cohort for t...   \n",
       "7f385fe8-0cc6-45d6-9368-cb4cad08667c  Under the condition that participants have no ...   \n",
       "72c93829-ed80-4a21-9b78-8f060e18b9ef  Could you tell me the exact start date of Coho...   \n",
       "90ca326a-b30b-41ab-8063-981a7880926e  Upon successfully completing the machine learn...   \n",
       "3e4121a8-bef5-42ee-93a2-6ccfbed43e25  Could you specify the range of topics discusse...   \n",
       "ccc21c71-dc4e-4265-867a-0e5956f4c177  Could you provide the duration and schedule fo...   \n",
       "51f072ab-c59f-4dcb-911c-8592e079e574  In Session 1 of the program, are there any spe...   \n",
       "9042cb10-90a8-4271-a1cc-9f7a1a9310c7  Could you elaborate on the sampling strategies...   \n",
       "2a02a2a8-8d02-4958-ab3d-e232ad0caab8  In the context of the program, does 'lifetime ...   \n",
       "74286e68-c691-44f0-895a-9d4ceb05d9f0  Hi, I'm interested in improving my skills in h...   \n",
       "b6a56c99-1a8b-48cf-b2c0-bbe8d513c7ce  As a software engineer looking to enhance my s...   \n",
       "ce64a222-abd0-4b66-b988-a75d1dabe86b  Hi, I'm a software engineer looking to enhance...   \n",
       "87f5c38c-79ed-47bb-9a71-87776f74766f  Hi there, as I'm exploring the Machine Learnin...   \n",
       "fff846f4-c070-4b90-9c68-2e82825d5828  Hi there! As a programmer interested in enhanc...   \n",
       "9d97e5f9-79c4-4729-8931-2086bdc771e1  Hi, I'm really interested in joining the Machi...   \n",
       "42712c52-4c32-49e6-b2ba-5a77b2d0ba6a  What kind of learning experience does the mach...   \n",
       "a3975670-ec89-413d-a9ba-bea3766dc550  What will participants learn in the program us...   \n",
       "0fdcd403-48a2-4df2-a7b7-8d1db97a456b                            What are some of those?   \n",
       "e0cca7a1-c108-4a84-afcc-747a15c59210                       Who is responsible for this?   \n",
       "63a6a7ff-3557-406b-8161-f463512b8ad9                            What are these details?   \n",
       "dce6592f-941a-4796-a6be-87951eaefb00                               What does that mean?   \n",
       "ef383572-9af3-478e-8726-1b1abd0ce1c9                            What are some of those?   \n",
       "4e482652-7257-4438-9652-4a563b4bb074                                        What is it?   \n",
       "\n",
       "                                                                       reference_answer  \\\n",
       "id                                                                                        \n",
       "adba819f-ca44-400f-9ebf-b43560f269cb  The next cohort is scheduled for February 3 - ...   \n",
       "7f385fe8-0cc6-45d6-9368-cb4cad08667c  In Session 1, participants will learn about wh...   \n",
       "72c93829-ed80-4a21-9b78-8f060e18b9ef  Cohort 17 starts on February 3, 2025, and ends...   \n",
       "90ca326a-b30b-41ab-8063-981a7880926e  Upon completing the machine learning program, ...   \n",
       "3e4121a8-bef5-42ee-93a2-6ccfbed43e25  The session covers data cleaning, feature engi...   \n",
       "ccc21c71-dc4e-4265-867a-0e5956f4c177  Cohort 17 runs from February 3 to February 20,...   \n",
       "51f072ab-c59f-4dcb-911c-8592e079e574  Session 1 covers how to start (almost) any pro...   \n",
       "9042cb10-90a8-4271-a1cc-9f7a1a9310c7  The sampling strategies discussed are uncertai...   \n",
       "2a02a2a8-8d02-4958-ab3d-e232ad0caab8  You only pay once to join the program and get ...   \n",
       "74286e68-c691-44f0-895a-9d4ceb05d9f0  The session covers data cleaning, feature engi...   \n",
       "b6a56c99-1a8b-48cf-b2c0-bbe8d513c7ce  Benefits include enjoying 18 hours of live, in...   \n",
       "ce64a222-abd0-4b66-b988-a75d1dabe86b  The program teaches techniques like active lea...   \n",
       "87f5c38c-79ed-47bb-9a71-87776f74766f                      Copyright © 2025 Tideily LLC.   \n",
       "fff846f4-c070-4b90-9c68-2e82825d5828  Participants receive a program certificate upo...   \n",
       "9d97e5f9-79c4-4729-8931-2086bdc771e1  $500. Pay once to join the program and get lif...   \n",
       "42712c52-4c32-49e6-b2ba-5a77b2d0ba6a  The machine learning program offers a practica...   \n",
       "a3975670-ec89-413d-a9ba-bea3766dc550  Participants will learn how to create training...   \n",
       "0fdcd403-48a2-4df2-a7b7-8d1db97a456b  The first session covers topics such as what m...   \n",
       "e0cca7a1-c108-4a84-afcc-747a15c59210               The copyright holder is Tideily LLC.   \n",
       "63a6a7ff-3557-406b-8161-f463512b8ad9  Cohort 17 runs from February 3 to February 20,...   \n",
       "dce6592f-941a-4796-a6be-87951eaefb00  You only pay once to join the program and get ...   \n",
       "ef383572-9af3-478e-8726-1b1abd0ce1c9  The course discusses active learning using the...   \n",
       "4e482652-7257-4438-9652-4a563b4bb074  You only pay once to join. There are no monthl...   \n",
       "\n",
       "                                                                      reference_context  \\\n",
       "id                                                                                        \n",
       "adba819f-ca44-400f-9ebf-b43560f269cb  Document 0: Building Machine Learning Systems ...   \n",
       "7f385fe8-0cc6-45d6-9368-cb4cad08667c  Document 6: as you'd like. No restrictions.Enj...   \n",
       "72c93829-ed80-4a21-9b78-8f060e18b9ef  Document 4: testing in production, among many ...   \n",
       "90ca326a-b30b-41ab-8063-981a7880926e  Document 1: program will help you unlearn what...   \n",
       "3e4121a8-bef5-42ee-93a2-6ccfbed43e25  Document 7: to determine how much data you nee...   \n",
       "ccc21c71-dc4e-4265-867a-0e5956f4c177  Document 4: testing in production, among many ...   \n",
       "51f072ab-c59f-4dcb-911c-8592e079e574  Document 6: as you'd like. No restrictions.Enj...   \n",
       "9042cb10-90a8-4271-a1cc-9f7a1a9310c7  Document 7: to determine how much data you nee...   \n",
       "2a02a2a8-8d02-4958-ab3d-e232ad0caab8  Document 9: learning, beginners will find the ...   \n",
       "74286e68-c691-44f0-895a-9d4ceb05d9f0  Document 7: to determine how much data you nee...   \n",
       "b6a56c99-1a8b-48cf-b2c0-bbe8d513c7ce  Document 6: as you'd like. No restrictions.Enj...   \n",
       "ce64a222-abd0-4b66-b988-a75d1dabe86b  Document 3: that make systems work.You are rea...   \n",
       "87f5c38c-79ed-47bb-9a71-87776f74766f  Document 10: then, thousands of students have ...   \n",
       "fff846f4-c070-4b90-9c68-2e82825d5828  Document 1: program will help you unlearn what...   \n",
       "9d97e5f9-79c4-4729-8931-2086bdc771e1  Document 5: Wednesdays, we'll host office hour...   \n",
       "42712c52-4c32-49e6-b2ba-5a77b2d0ba6a  Document 1: program will help you unlearn what...   \n",
       "a3975670-ec89-413d-a9ba-bea3766dc550  Document 4: testing in production, among many ...   \n",
       "0fdcd403-48a2-4df2-a7b7-8d1db97a456b  Document 6: as you'd like. No restrictions.Enj...   \n",
       "e0cca7a1-c108-4a84-afcc-747a15c59210  Document 10: then, thousands of students have ...   \n",
       "63a6a7ff-3557-406b-8161-f463512b8ad9  Document 4: testing in production, among many ...   \n",
       "dce6592f-941a-4796-a6be-87951eaefb00  Document 9: learning, beginners will find the ...   \n",
       "ef383572-9af3-478e-8726-1b1abd0ce1c9  Document 7: to determine how much data you nee...   \n",
       "4e482652-7257-4438-9652-4a563b4bb074  Document 2: only pay once to join. There are n...   \n",
       "\n",
       "                                                                   conversation_history  \\\n",
       "id                                                                                        \n",
       "adba819f-ca44-400f-9ebf-b43560f269cb                                                 []   \n",
       "7f385fe8-0cc6-45d6-9368-cb4cad08667c                                                 []   \n",
       "72c93829-ed80-4a21-9b78-8f060e18b9ef                                                 []   \n",
       "90ca326a-b30b-41ab-8063-981a7880926e                                                 []   \n",
       "3e4121a8-bef5-42ee-93a2-6ccfbed43e25                                                 []   \n",
       "ccc21c71-dc4e-4265-867a-0e5956f4c177                                                 []   \n",
       "51f072ab-c59f-4dcb-911c-8592e079e574                                                 []   \n",
       "9042cb10-90a8-4271-a1cc-9f7a1a9310c7                                                 []   \n",
       "2a02a2a8-8d02-4958-ab3d-e232ad0caab8                                                 []   \n",
       "74286e68-c691-44f0-895a-9d4ceb05d9f0                                                 []   \n",
       "b6a56c99-1a8b-48cf-b2c0-bbe8d513c7ce                                                 []   \n",
       "ce64a222-abd0-4b66-b988-a75d1dabe86b                                                 []   \n",
       "87f5c38c-79ed-47bb-9a71-87776f74766f                                                 []   \n",
       "fff846f4-c070-4b90-9c68-2e82825d5828                                                 []   \n",
       "9d97e5f9-79c4-4729-8931-2086bdc771e1                                                 []   \n",
       "42712c52-4c32-49e6-b2ba-5a77b2d0ba6a                                                 []   \n",
       "a3975670-ec89-413d-a9ba-bea3766dc550                                                 []   \n",
       "0fdcd403-48a2-4df2-a7b7-8d1db97a456b  [{'role': 'user', 'content': 'I am interested ...   \n",
       "e0cca7a1-c108-4a84-afcc-747a15c59210  [{'role': 'user', 'content': 'I need to know t...   \n",
       "63a6a7ff-3557-406b-8161-f463512b8ad9  [{'role': 'user', 'content': 'I am looking for...   \n",
       "dce6592f-941a-4796-a6be-87951eaefb00  [{'role': 'user', 'content': 'I'm curious abou...   \n",
       "ef383572-9af3-478e-8726-1b1abd0ce1c9  [{'role': 'user', 'content': 'The course discu...   \n",
       "4e482652-7257-4438-9652-4a563b4bb074  [{'role': 'user', 'content': 'I am interested ...   \n",
       "\n",
       "                                                                               metadata  \\\n",
       "id                                                                                        \n",
       "adba819f-ca44-400f-9ebf-b43560f269cb  {'question_type': 'complex', 'seed_document_id...   \n",
       "7f385fe8-0cc6-45d6-9368-cb4cad08667c  {'question_type': 'complex', 'seed_document_id...   \n",
       "72c93829-ed80-4a21-9b78-8f060e18b9ef  {'question_type': 'complex', 'seed_document_id...   \n",
       "90ca326a-b30b-41ab-8063-981a7880926e  {'question_type': 'complex', 'seed_document_id...   \n",
       "3e4121a8-bef5-42ee-93a2-6ccfbed43e25  {'question_type': 'complex', 'seed_document_id...   \n",
       "ccc21c71-dc4e-4265-867a-0e5956f4c177  {'question_type': 'distracting element', 'seed...   \n",
       "51f072ab-c59f-4dcb-911c-8592e079e574  {'question_type': 'distracting element', 'seed...   \n",
       "9042cb10-90a8-4271-a1cc-9f7a1a9310c7  {'question_type': 'distracting element', 'seed...   \n",
       "2a02a2a8-8d02-4958-ab3d-e232ad0caab8  {'question_type': 'distracting element', 'seed...   \n",
       "74286e68-c691-44f0-895a-9d4ceb05d9f0  {'question_type': 'situational', 'seed_documen...   \n",
       "b6a56c99-1a8b-48cf-b2c0-bbe8d513c7ce  {'question_type': 'situational', 'seed_documen...   \n",
       "ce64a222-abd0-4b66-b988-a75d1dabe86b  {'question_type': 'situational', 'seed_documen...   \n",
       "87f5c38c-79ed-47bb-9a71-87776f74766f  {'question_type': 'situational', 'seed_documen...   \n",
       "fff846f4-c070-4b90-9c68-2e82825d5828  {'question_type': 'situational', 'seed_documen...   \n",
       "9d97e5f9-79c4-4729-8931-2086bdc771e1  {'question_type': 'situational', 'seed_documen...   \n",
       "42712c52-4c32-49e6-b2ba-5a77b2d0ba6a  {'question_type': 'double', 'original_question...   \n",
       "a3975670-ec89-413d-a9ba-bea3766dc550  {'question_type': 'double', 'original_question...   \n",
       "0fdcd403-48a2-4df2-a7b7-8d1db97a456b  {'question_type': 'conversational', 'seed_docu...   \n",
       "e0cca7a1-c108-4a84-afcc-747a15c59210  {'question_type': 'conversational', 'seed_docu...   \n",
       "63a6a7ff-3557-406b-8161-f463512b8ad9  {'question_type': 'conversational', 'seed_docu...   \n",
       "dce6592f-941a-4796-a6be-87951eaefb00  {'question_type': 'conversational', 'seed_docu...   \n",
       "ef383572-9af3-478e-8726-1b1abd0ce1c9  {'question_type': 'conversational', 'seed_docu...   \n",
       "4e482652-7257-4438-9652-4a563b4bb074  {'question_type': 'conversational', 'seed_docu...   \n",
       "\n",
       "                                                                           agent_answer  \\\n",
       "id                                                                                        \n",
       "adba819f-ca44-400f-9ebf-b43560f269cb  The next cohort for the 'Building Machine Lear...   \n",
       "7f385fe8-0cc6-45d6-9368-cb4cad08667c  Participants are expected to gain insights int...   \n",
       "72c93829-ed80-4a21-9b78-8f060e18b9ef  The exact start date of Cohort 17 is February ...   \n",
       "90ca326a-b30b-41ab-8063-981a7880926e  Upon successfully completing the machine learn...   \n",
       "3e4121a8-bef5-42ee-93a2-6ccfbed43e25  The topics discussed in the session focused on...   \n",
       "ccc21c71-dc4e-4265-867a-0e5956f4c177  Cohort 17 of the program is scheduled to take ...   \n",
       "51f072ab-c59f-4dcb-911c-8592e079e574                                      I don't know.   \n",
       "9042cb10-90a8-4271-a1cc-9f7a1a9310c7                                      I don't know.   \n",
       "2a02a2a8-8d02-4958-ab3d-e232ad0caab8  Yes, in the context of the program, 'lifetime ...   \n",
       "74286e68-c691-44f0-895a-9d4ceb05d9f0  The topics covered in the session about buildi...   \n",
       "b6a56c99-1a8b-48cf-b2c0-bbe8d513c7ce  By joining the machine learning course, you ca...   \n",
       "ce64a222-abd0-4b66-b988-a75d1dabe86b  Answer: The program teaches techniques like ac...   \n",
       "87f5c38c-79ed-47bb-9a71-87776f74766f                                      I don't know.   \n",
       "fff846f4-c070-4b90-9c68-2e82825d5828  Upon completing the machine learning program a...   \n",
       "9d97e5f9-79c4-4729-8931-2086bdc771e1  The cost to join the Machine Learning School p...   \n",
       "42712c52-4c32-49e6-b2ba-5a77b2d0ba6a  The machine learning program offers a practica...   \n",
       "a3975670-ec89-413d-a9ba-bea3766dc550  Participants will learn how to create training...   \n",
       "0fdcd403-48a2-4df2-a7b7-8d1db97a456b  Some of the unique aspects of the program incl...   \n",
       "e0cca7a1-c108-4a84-afcc-747a15c59210                                      I don't know.   \n",
       "63a6a7ff-3557-406b-8161-f463512b8ad9  The details mentioned in the context are relat...   \n",
       "dce6592f-941a-4796-a6be-87951eaefb00                                     \"I don't know\"   \n",
       "ef383572-9af3-478e-8726-1b1abd0ce1c9  Some of those include active learning, distrib...   \n",
       "4e482652-7257-4438-9652-4a563b4bb074  The context is referring to a live, interactiv...   \n",
       "\n",
       "                                      correctness  \\\n",
       "id                                                  \n",
       "adba819f-ca44-400f-9ebf-b43560f269cb        False   \n",
       "7f385fe8-0cc6-45d6-9368-cb4cad08667c        False   \n",
       "72c93829-ed80-4a21-9b78-8f060e18b9ef        False   \n",
       "90ca326a-b30b-41ab-8063-981a7880926e        False   \n",
       "3e4121a8-bef5-42ee-93a2-6ccfbed43e25        False   \n",
       "ccc21c71-dc4e-4265-867a-0e5956f4c177        False   \n",
       "51f072ab-c59f-4dcb-911c-8592e079e574        False   \n",
       "9042cb10-90a8-4271-a1cc-9f7a1a9310c7        False   \n",
       "2a02a2a8-8d02-4958-ab3d-e232ad0caab8        False   \n",
       "74286e68-c691-44f0-895a-9d4ceb05d9f0        False   \n",
       "b6a56c99-1a8b-48cf-b2c0-bbe8d513c7ce        False   \n",
       "ce64a222-abd0-4b66-b988-a75d1dabe86b        False   \n",
       "87f5c38c-79ed-47bb-9a71-87776f74766f        False   \n",
       "fff846f4-c070-4b90-9c68-2e82825d5828        False   \n",
       "9d97e5f9-79c4-4729-8931-2086bdc771e1        False   \n",
       "42712c52-4c32-49e6-b2ba-5a77b2d0ba6a        False   \n",
       "a3975670-ec89-413d-a9ba-bea3766dc550        False   \n",
       "0fdcd403-48a2-4df2-a7b7-8d1db97a456b        False   \n",
       "e0cca7a1-c108-4a84-afcc-747a15c59210        False   \n",
       "63a6a7ff-3557-406b-8161-f463512b8ad9        False   \n",
       "dce6592f-941a-4796-a6be-87951eaefb00        False   \n",
       "ef383572-9af3-478e-8726-1b1abd0ce1c9        False   \n",
       "4e482652-7257-4438-9652-4a563b4bb074        False   \n",
       "\n",
       "                                                                     correctness_reason  \n",
       "id                                                                                       \n",
       "adba819f-ca44-400f-9ebf-b43560f269cb  The agent provided the start date and session ...  \n",
       "7f385fe8-0cc6-45d6-9368-cb4cad08667c  The agent's answer is missing some details fro...  \n",
       "72c93829-ed80-4a21-9b78-8f060e18b9ef  The agent provided the start date and schedule...  \n",
       "90ca326a-b30b-41ab-8063-981a7880926e  The agent provided a list of benefits includin...  \n",
       "3e4121a8-bef5-42ee-93a2-6ccfbed43e25  The agent's answer is missing some topics such...  \n",
       "ccc21c71-dc4e-4265-867a-0e5956f4c177  The agent included information about the absen...  \n",
       "51f072ab-c59f-4dcb-911c-8592e079e574  The agent stated 'I don't know,' but should ha...  \n",
       "9042cb10-90a8-4271-a1cc-9f7a1a9310c7  The agent stated 'I don't know,' but should ha...  \n",
       "2a02a2a8-8d02-4958-ab3d-e232ad0caab8  The agent confirmed that 'lifetime access' inc...  \n",
       "74286e68-c691-44f0-895a-9d4ceb05d9f0  The agent's answer is missing several topics s...  \n",
       "b6a56c99-1a8b-48cf-b2c0-bbe8d513c7ce  The agent's answer includes some benefits not ...  \n",
       "ce64a222-abd0-4b66-b988-a75d1dabe86b  The agent included 'testing' in the list of te...  \n",
       "87f5c38c-79ed-47bb-9a71-87776f74766f  The agent stated that it doesn't know, but the...  \n",
       "fff846f4-c070-4b90-9c68-2e82825d5828  The agent provided an extensive list of benefi...  \n",
       "9d97e5f9-79c4-4729-8931-2086bdc771e1  The agent provided details about what is inclu...  \n",
       "42712c52-4c32-49e6-b2ba-5a77b2d0ba6a  The agent's answer includes additional informa...  \n",
       "a3975670-ec89-413d-a9ba-bea3766dc550  The agent omitted that participants will also ...  \n",
       "0fdcd403-48a2-4df2-a7b7-8d1db97a456b  The agent provided a general overview of the p...  \n",
       "e0cca7a1-c108-4a84-afcc-747a15c59210  The agent stated 'I don't know,' but should ha...  \n",
       "63a6a7ff-3557-406b-8161-f463512b8ad9  The agent provided a general description of th...  \n",
       "dce6592f-941a-4796-a6be-87951eaefb00  The agent stated 'I don't know' but should hav...  \n",
       "ef383572-9af3-478e-8726-1b1abd0ce1c9  The agent provided a list of general machine l...  \n",
       "4e482652-7257-4438-9652-4a563b4bb074  The agent provided information about the progr...  "
      ],
      "text/html": [
       "<div>\n",
       "<style scoped>\n",
       "    .dataframe tbody tr th:only-of-type {\n",
       "        vertical-align: middle;\n",
       "    }\n",
       "\n",
       "    .dataframe tbody tr th {\n",
       "        vertical-align: top;\n",
       "    }\n",
       "\n",
       "    .dataframe thead th {\n",
       "        text-align: right;\n",
       "    }\n",
       "</style>\n",
       "<table border=\"1\" class=\"dataframe\">\n",
       "  <thead>\n",
       "    <tr style=\"text-align: right;\">\n",
       "      <th></th>\n",
       "      <th>question</th>\n",
       "      <th>reference_answer</th>\n",
       "      <th>reference_context</th>\n",
       "      <th>conversation_history</th>\n",
       "      <th>metadata</th>\n",
       "      <th>agent_answer</th>\n",
       "      <th>correctness</th>\n",
       "      <th>correctness_reason</th>\n",
       "    </tr>\n",
       "    <tr>\n",
       "      <th>id</th>\n",
       "      <th></th>\n",
       "      <th></th>\n",
       "      <th></th>\n",
       "      <th></th>\n",
       "      <th></th>\n",
       "      <th></th>\n",
       "      <th></th>\n",
       "      <th></th>\n",
       "    </tr>\n",
       "  </thead>\n",
       "  <tbody>\n",
       "    <tr>\n",
       "      <th>adba819f-ca44-400f-9ebf-b43560f269cb</th>\n",
       "      <td>Under what conditions is the next cohort for t...</td>\n",
       "      <td>The next cohort is scheduled for February 3 - ...</td>\n",
       "      <td>Document 0: Building Machine Learning Systems ...</td>\n",
       "      <td>[]</td>\n",
       "      <td>{'question_type': 'complex', 'seed_document_id...</td>\n",
       "      <td>The next cohort for the 'Building Machine Lear...</td>\n",
       "      <td>False</td>\n",
       "      <td>The agent provided the start date and session ...</td>\n",
       "    </tr>\n",
       "    <tr>\n",
       "      <th>7f385fe8-0cc6-45d6-9368-cb4cad08667c</th>\n",
       "      <td>Under the condition that participants have no ...</td>\n",
       "      <td>In Session 1, participants will learn about wh...</td>\n",
       "      <td>Document 6: as you'd like. No restrictions.Enj...</td>\n",
       "      <td>[]</td>\n",
       "      <td>{'question_type': 'complex', 'seed_document_id...</td>\n",
       "      <td>Participants are expected to gain insights int...</td>\n",
       "      <td>False</td>\n",
       "      <td>The agent's answer is missing some details fro...</td>\n",
       "    </tr>\n",
       "    <tr>\n",
       "      <th>72c93829-ed80-4a21-9b78-8f060e18b9ef</th>\n",
       "      <td>Could you tell me the exact start date of Coho...</td>\n",
       "      <td>Cohort 17 starts on February 3, 2025, and ends...</td>\n",
       "      <td>Document 4: testing in production, among many ...</td>\n",
       "      <td>[]</td>\n",
       "      <td>{'question_type': 'complex', 'seed_document_id...</td>\n",
       "      <td>The exact start date of Cohort 17 is February ...</td>\n",
       "      <td>False</td>\n",
       "      <td>The agent provided the start date and schedule...</td>\n",
       "    </tr>\n",
       "    <tr>\n",
       "      <th>90ca326a-b30b-41ab-8063-981a7880926e</th>\n",
       "      <td>Upon successfully completing the machine learn...</td>\n",
       "      <td>Upon completing the machine learning program, ...</td>\n",
       "      <td>Document 1: program will help you unlearn what...</td>\n",
       "      <td>[]</td>\n",
       "      <td>{'question_type': 'complex', 'seed_document_id...</td>\n",
       "      <td>Upon successfully completing the machine learn...</td>\n",
       "      <td>False</td>\n",
       "      <td>The agent provided a list of benefits includin...</td>\n",
       "    </tr>\n",
       "    <tr>\n",
       "      <th>3e4121a8-bef5-42ee-93a2-6ccfbed43e25</th>\n",
       "      <td>Could you specify the range of topics discusse...</td>\n",
       "      <td>The session covers data cleaning, feature engi...</td>\n",
       "      <td>Document 7: to determine how much data you nee...</td>\n",
       "      <td>[]</td>\n",
       "      <td>{'question_type': 'complex', 'seed_document_id...</td>\n",
       "      <td>The topics discussed in the session focused on...</td>\n",
       "      <td>False</td>\n",
       "      <td>The agent's answer is missing some topics such...</td>\n",
       "    </tr>\n",
       "    <tr>\n",
       "      <th>ccc21c71-dc4e-4265-867a-0e5956f4c177</th>\n",
       "      <td>Could you provide the duration and schedule fo...</td>\n",
       "      <td>Cohort 17 runs from February 3 to February 20,...</td>\n",
       "      <td>Document 4: testing in production, among many ...</td>\n",
       "      <td>[]</td>\n",
       "      <td>{'question_type': 'distracting element', 'seed...</td>\n",
       "      <td>Cohort 17 of the program is scheduled to take ...</td>\n",
       "      <td>False</td>\n",
       "      <td>The agent included information about the absen...</td>\n",
       "    </tr>\n",
       "    <tr>\n",
       "      <th>51f072ab-c59f-4dcb-911c-8592e079e574</th>\n",
       "      <td>In Session 1 of the program, are there any spe...</td>\n",
       "      <td>Session 1 covers how to start (almost) any pro...</td>\n",
       "      <td>Document 6: as you'd like. No restrictions.Enj...</td>\n",
       "      <td>[]</td>\n",
       "      <td>{'question_type': 'distracting element', 'seed...</td>\n",
       "      <td>I don't know.</td>\n",
       "      <td>False</td>\n",
       "      <td>The agent stated 'I don't know,' but should ha...</td>\n",
       "    </tr>\n",
       "    <tr>\n",
       "      <th>9042cb10-90a8-4271-a1cc-9f7a1a9310c7</th>\n",
       "      <td>Could you elaborate on the sampling strategies...</td>\n",
       "      <td>The sampling strategies discussed are uncertai...</td>\n",
       "      <td>Document 7: to determine how much data you nee...</td>\n",
       "      <td>[]</td>\n",
       "      <td>{'question_type': 'distracting element', 'seed...</td>\n",
       "      <td>I don't know.</td>\n",
       "      <td>False</td>\n",
       "      <td>The agent stated 'I don't know,' but should ha...</td>\n",
       "    </tr>\n",
       "    <tr>\n",
       "      <th>2a02a2a8-8d02-4958-ab3d-e232ad0caab8</th>\n",
       "      <td>In the context of the program, does 'lifetime ...</td>\n",
       "      <td>You only pay once to join the program and get ...</td>\n",
       "      <td>Document 9: learning, beginners will find the ...</td>\n",
       "      <td>[]</td>\n",
       "      <td>{'question_type': 'distracting element', 'seed...</td>\n",
       "      <td>Yes, in the context of the program, 'lifetime ...</td>\n",
       "      <td>False</td>\n",
       "      <td>The agent confirmed that 'lifetime access' inc...</td>\n",
       "    </tr>\n",
       "    <tr>\n",
       "      <th>74286e68-c691-44f0-895a-9d4ceb05d9f0</th>\n",
       "      <td>Hi, I'm interested in improving my skills in h...</td>\n",
       "      <td>The session covers data cleaning, feature engi...</td>\n",
       "      <td>Document 7: to determine how much data you nee...</td>\n",
       "      <td>[]</td>\n",
       "      <td>{'question_type': 'situational', 'seed_documen...</td>\n",
       "      <td>The topics covered in the session about buildi...</td>\n",
       "      <td>False</td>\n",
       "      <td>The agent's answer is missing several topics s...</td>\n",
       "    </tr>\n",
       "    <tr>\n",
       "      <th>b6a56c99-1a8b-48cf-b2c0-bbe8d513c7ce</th>\n",
       "      <td>As a software engineer looking to enhance my s...</td>\n",
       "      <td>Benefits include enjoying 18 hours of live, in...</td>\n",
       "      <td>Document 6: as you'd like. No restrictions.Enj...</td>\n",
       "      <td>[]</td>\n",
       "      <td>{'question_type': 'situational', 'seed_documen...</td>\n",
       "      <td>By joining the machine learning course, you ca...</td>\n",
       "      <td>False</td>\n",
       "      <td>The agent's answer includes some benefits not ...</td>\n",
       "    </tr>\n",
       "    <tr>\n",
       "      <th>ce64a222-abd0-4b66-b988-a75d1dabe86b</th>\n",
       "      <td>Hi, I'm a software engineer looking to enhance...</td>\n",
       "      <td>The program teaches techniques like active lea...</td>\n",
       "      <td>Document 3: that make systems work.You are rea...</td>\n",
       "      <td>[]</td>\n",
       "      <td>{'question_type': 'situational', 'seed_documen...</td>\n",
       "      <td>Answer: The program teaches techniques like ac...</td>\n",
       "      <td>False</td>\n",
       "      <td>The agent included 'testing' in the list of te...</td>\n",
       "    </tr>\n",
       "    <tr>\n",
       "      <th>87f5c38c-79ed-47bb-9a71-87776f74766f</th>\n",
       "      <td>Hi there, as I'm exploring the Machine Learnin...</td>\n",
       "      <td>Copyright © 2025 Tideily LLC.</td>\n",
       "      <td>Document 10: then, thousands of students have ...</td>\n",
       "      <td>[]</td>\n",
       "      <td>{'question_type': 'situational', 'seed_documen...</td>\n",
       "      <td>I don't know.</td>\n",
       "      <td>False</td>\n",
       "      <td>The agent stated that it doesn't know, but the...</td>\n",
       "    </tr>\n",
       "    <tr>\n",
       "      <th>fff846f4-c070-4b90-9c68-2e82825d5828</th>\n",
       "      <td>Hi there! As a programmer interested in enhanc...</td>\n",
       "      <td>Participants receive a program certificate upo...</td>\n",
       "      <td>Document 1: program will help you unlearn what...</td>\n",
       "      <td>[]</td>\n",
       "      <td>{'question_type': 'situational', 'seed_documen...</td>\n",
       "      <td>Upon completing the machine learning program a...</td>\n",
       "      <td>False</td>\n",
       "      <td>The agent provided an extensive list of benefi...</td>\n",
       "    </tr>\n",
       "    <tr>\n",
       "      <th>9d97e5f9-79c4-4729-8931-2086bdc771e1</th>\n",
       "      <td>Hi, I'm really interested in joining the Machi...</td>\n",
       "      <td>$500. Pay once to join the program and get lif...</td>\n",
       "      <td>Document 5: Wednesdays, we'll host office hour...</td>\n",
       "      <td>[]</td>\n",
       "      <td>{'question_type': 'situational', 'seed_documen...</td>\n",
       "      <td>The cost to join the Machine Learning School p...</td>\n",
       "      <td>False</td>\n",
       "      <td>The agent provided details about what is inclu...</td>\n",
       "    </tr>\n",
       "    <tr>\n",
       "      <th>42712c52-4c32-49e6-b2ba-5a77b2d0ba6a</th>\n",
       "      <td>What kind of learning experience does the mach...</td>\n",
       "      <td>The machine learning program offers a practica...</td>\n",
       "      <td>Document 1: program will help you unlearn what...</td>\n",
       "      <td>[]</td>\n",
       "      <td>{'question_type': 'double', 'original_question...</td>\n",
       "      <td>The machine learning program offers a practica...</td>\n",
       "      <td>False</td>\n",
       "      <td>The agent's answer includes additional informa...</td>\n",
       "    </tr>\n",
       "    <tr>\n",
       "      <th>a3975670-ec89-413d-a9ba-bea3766dc550</th>\n",
       "      <td>What will participants learn in the program us...</td>\n",
       "      <td>Participants will learn how to create training...</td>\n",
       "      <td>Document 4: testing in production, among many ...</td>\n",
       "      <td>[]</td>\n",
       "      <td>{'question_type': 'double', 'original_question...</td>\n",
       "      <td>Participants will learn how to create training...</td>\n",
       "      <td>False</td>\n",
       "      <td>The agent omitted that participants will also ...</td>\n",
       "    </tr>\n",
       "    <tr>\n",
       "      <th>0fdcd403-48a2-4df2-a7b7-8d1db97a456b</th>\n",
       "      <td>What are some of those?</td>\n",
       "      <td>The first session covers topics such as what m...</td>\n",
       "      <td>Document 6: as you'd like. No restrictions.Enj...</td>\n",
       "      <td>[{'role': 'user', 'content': 'I am interested ...</td>\n",
       "      <td>{'question_type': 'conversational', 'seed_docu...</td>\n",
       "      <td>Some of the unique aspects of the program incl...</td>\n",
       "      <td>False</td>\n",
       "      <td>The agent provided a general overview of the p...</td>\n",
       "    </tr>\n",
       "    <tr>\n",
       "      <th>e0cca7a1-c108-4a84-afcc-747a15c59210</th>\n",
       "      <td>Who is responsible for this?</td>\n",
       "      <td>The copyright holder is Tideily LLC.</td>\n",
       "      <td>Document 10: then, thousands of students have ...</td>\n",
       "      <td>[{'role': 'user', 'content': 'I need to know t...</td>\n",
       "      <td>{'question_type': 'conversational', 'seed_docu...</td>\n",
       "      <td>I don't know.</td>\n",
       "      <td>False</td>\n",
       "      <td>The agent stated 'I don't know,' but should ha...</td>\n",
       "    </tr>\n",
       "    <tr>\n",
       "      <th>63a6a7ff-3557-406b-8161-f463512b8ad9</th>\n",
       "      <td>What are these details?</td>\n",
       "      <td>Cohort 17 runs from February 3 to February 20,...</td>\n",
       "      <td>Document 4: testing in production, among many ...</td>\n",
       "      <td>[{'role': 'user', 'content': 'I am looking for...</td>\n",
       "      <td>{'question_type': 'conversational', 'seed_docu...</td>\n",
       "      <td>The details mentioned in the context are relat...</td>\n",
       "      <td>False</td>\n",
       "      <td>The agent provided a general description of th...</td>\n",
       "    </tr>\n",
       "    <tr>\n",
       "      <th>dce6592f-941a-4796-a6be-87951eaefb00</th>\n",
       "      <td>What does that mean?</td>\n",
       "      <td>You only pay once to join the program and get ...</td>\n",
       "      <td>Document 9: learning, beginners will find the ...</td>\n",
       "      <td>[{'role': 'user', 'content': 'I'm curious abou...</td>\n",
       "      <td>{'question_type': 'conversational', 'seed_docu...</td>\n",
       "      <td>\"I don't know\"</td>\n",
       "      <td>False</td>\n",
       "      <td>The agent stated 'I don't know' but should hav...</td>\n",
       "    </tr>\n",
       "    <tr>\n",
       "      <th>ef383572-9af3-478e-8726-1b1abd0ce1c9</th>\n",
       "      <td>What are some of those?</td>\n",
       "      <td>The course discusses active learning using the...</td>\n",
       "      <td>Document 7: to determine how much data you nee...</td>\n",
       "      <td>[{'role': 'user', 'content': 'The course discu...</td>\n",
       "      <td>{'question_type': 'conversational', 'seed_docu...</td>\n",
       "      <td>Some of those include active learning, distrib...</td>\n",
       "      <td>False</td>\n",
       "      <td>The agent provided a list of general machine l...</td>\n",
       "    </tr>\n",
       "    <tr>\n",
       "      <th>4e482652-7257-4438-9652-4a563b4bb074</th>\n",
       "      <td>What is it?</td>\n",
       "      <td>You only pay once to join. There are no monthl...</td>\n",
       "      <td>Document 2: only pay once to join. There are n...</td>\n",
       "      <td>[{'role': 'user', 'content': 'I am interested ...</td>\n",
       "      <td>{'question_type': 'conversational', 'seed_docu...</td>\n",
       "      <td>The context is referring to a live, interactiv...</td>\n",
       "      <td>False</td>\n",
       "      <td>The agent provided information about the progr...</td>\n",
       "    </tr>\n",
       "  </tbody>\n",
       "</table>\n",
       "</div>"
      ]
     },
     "execution_count": 18,
     "metadata": {},
     "output_type": "execute_result"
    }
   ],
   "execution_count": 18
  },
  {
   "metadata": {},
   "cell_type": "code",
   "outputs": [],
   "execution_count": null,
   "source": ""
  },
  {
   "metadata": {},
   "cell_type": "code",
   "outputs": [],
   "execution_count": null,
   "source": ""
  },
  {
   "metadata": {
    "ExecuteTime": {
     "end_time": "2025-01-11T21:04:43.915896Z",
     "start_time": "2025-01-11T21:04:43.901536Z"
    }
   },
   "cell_type": "code",
   "source": "",
   "outputs": [
    {
     "ename": "TypeError",
     "evalue": "RunnableSequence.batch() missing 1 required positional argument: 'inputs'",
     "output_type": "error",
     "traceback": [
      "\u001B[0;31m---------------------------------------------------------------------------\u001B[0m",
      "\u001B[0;31mTypeError\u001B[0m                                 Traceback (most recent call last)",
      "Cell \u001B[0;32mIn[36], line 1\u001B[0m\n\u001B[0;32m----> 1\u001B[0m batch_prediction_fn \u001B[38;5;241m=\u001B[39m chain\u001B[38;5;241m.\u001B[39mbatch()\n",
      "\u001B[0;31mTypeError\u001B[0m: RunnableSequence.batch() missing 1 required positional argument: 'inputs'"
     ]
    }
   ],
   "execution_count": 36
  },
  {
   "metadata": {
    "ExecuteTime": {
     "end_time": "2025-01-11T21:01:49.102317Z",
     "start_time": "2025-01-11T21:01:48.097534Z"
    }
   },
   "cell_type": "code",
   "source": "",
   "outputs": [
    {
     "ename": "NotImplementedError",
     "evalue": "We could not infer your model library. You have two options:\n- Pass a prediction_function to the Model class (we will try to serialize it with \"cloudpickle\").\n- Extend the Model class and override the abstract \"model_predict\" method.\nWe recommend that you follow our documentation page: https://giskard.readthedocs.io/en/latest/getting-started/scan",
     "output_type": "error",
     "traceback": [
      "\u001B[0;31m---------------------------------------------------------------------------\u001B[0m",
      "\u001B[0;31mNotImplementedError\u001B[0m                       Traceback (most recent call last)",
      "Cell \u001B[0;32mIn[35], line 3\u001B[0m\n\u001B[1;32m      1\u001B[0m \u001B[38;5;28;01mfrom\u001B[39;00m \u001B[38;5;21;01mgiskard\u001B[39;00m \u001B[38;5;28;01mimport\u001B[39;00m Model\n\u001B[0;32m----> 3\u001B[0m giskard_model \u001B[38;5;241m=\u001B[39m Model(\n\u001B[1;32m      4\u001B[0m     model\u001B[38;5;241m=\u001B[39mchain,\n\u001B[1;32m      5\u001B[0m     model_type\u001B[38;5;241m=\u001B[39m\u001B[38;5;124m\"\u001B[39m\u001B[38;5;124mtext_generation\u001B[39m\u001B[38;5;124m\"\u001B[39m,\n\u001B[1;32m      6\u001B[0m     name\u001B[38;5;241m=\u001B[39m\u001B[38;5;124m\"\u001B[39m\u001B[38;5;124mBanking Supervision Question Answering\u001B[39m\u001B[38;5;124m\"\u001B[39m,\n\u001B[1;32m      7\u001B[0m     description\u001B[38;5;241m=\u001B[39m\u001B[38;5;124m\"\u001B[39m\u001B[38;5;124mA model that answers questions about ECB Banking Supervision report\u001B[39m\u001B[38;5;124m\"\u001B[39m,\n\u001B[1;32m      8\u001B[0m     feature_names\u001B[38;5;241m=\u001B[39m[\u001B[38;5;124m\"\u001B[39m\u001B[38;5;124mquestion\u001B[39m\u001B[38;5;124m\"\u001B[39m]\n\u001B[1;32m      9\u001B[0m )\n",
      "File \u001B[0;32m/opt/homebrew/anaconda3/lib/python3.11/site-packages/giskard/models/automodel.py:165\u001B[0m, in \u001B[0;36mModel.__new__\u001B[0;34m(cls, model, model_type, data_preprocessing_function, model_postprocessing_function, name, description, feature_names, classification_threshold, classification_labels, **kwargs)\u001B[0m\n\u001B[1;32m    158\u001B[0m \u001B[38;5;28;01melse\u001B[39;00m:  \u001B[38;5;66;03m# possibly_overriden_cls = CloudpickleSerializableModel\u001B[39;00m\n\u001B[1;32m    159\u001B[0m     analytics\u001B[38;5;241m.\u001B[39mtrack(\n\u001B[1;32m    160\u001B[0m         \u001B[38;5;124m\"\u001B[39m\u001B[38;5;124mwrap:model:fail\u001B[39m\u001B[38;5;124m\"\u001B[39m,\n\u001B[1;32m    161\u001B[0m         {\n\u001B[1;32m    162\u001B[0m             \u001B[38;5;124m\"\u001B[39m\u001B[38;5;124mreason\u001B[39m\u001B[38;5;124m\"\u001B[39m: \u001B[38;5;124m\"\u001B[39m\u001B[38;5;124mmodel_library_not_supported\u001B[39m\u001B[38;5;124m\"\u001B[39m,\n\u001B[1;32m    163\u001B[0m         },\n\u001B[1;32m    164\u001B[0m     )\n\u001B[0;32m--> 165\u001B[0m     \u001B[38;5;28;01mraise\u001B[39;00m \u001B[38;5;167;01mNotImplementedError\u001B[39;00m(\n\u001B[1;32m    166\u001B[0m         \u001B[38;5;124m\"\u001B[39m\u001B[38;5;124mWe could not infer your model library. You have two options:\u001B[39m\u001B[38;5;124m\"\u001B[39m\n\u001B[1;32m    167\u001B[0m         \u001B[38;5;124m\"\u001B[39m\u001B[38;5;130;01m\\n\u001B[39;00m\u001B[38;5;124m- Pass a prediction_function to the Model class \u001B[39m\u001B[38;5;124m\"\u001B[39m\n\u001B[1;32m    168\u001B[0m         \u001B[38;5;124m'\u001B[39m\u001B[38;5;124m(we will try to serialize it with \u001B[39m\u001B[38;5;124m\"\u001B[39m\u001B[38;5;124mcloudpickle\u001B[39m\u001B[38;5;124m\"\u001B[39m\u001B[38;5;124m).\u001B[39m\u001B[38;5;124m'\u001B[39m\n\u001B[1;32m    169\u001B[0m         \u001B[38;5;124m\"\u001B[39m\u001B[38;5;130;01m\\n\u001B[39;00m\u001B[38;5;124m- Extend the Model class and override \u001B[39m\u001B[38;5;124m\"\u001B[39m\n\u001B[1;32m    170\u001B[0m         \u001B[38;5;124m'\u001B[39m\u001B[38;5;124mthe abstract \u001B[39m\u001B[38;5;124m\"\u001B[39m\u001B[38;5;124mmodel_predict\u001B[39m\u001B[38;5;124m\"\u001B[39m\u001B[38;5;124m method.\u001B[39m\u001B[38;5;124m'\u001B[39m\n\u001B[1;32m    171\u001B[0m         \u001B[38;5;124m\"\u001B[39m\u001B[38;5;130;01m\\n\u001B[39;00m\u001B[38;5;124mWe recommend that you follow our documentation page: \u001B[39m\u001B[38;5;124m\"\u001B[39m\n\u001B[1;32m    172\u001B[0m         \u001B[38;5;124m\"\u001B[39m\u001B[38;5;124mhttps://giskard.readthedocs.io/en/latest/getting-started/scan\u001B[39m\u001B[38;5;124m\"\u001B[39m\n\u001B[1;32m    173\u001B[0m     )\n\u001B[1;32m    175\u001B[0m methods \u001B[38;5;241m=\u001B[39m \u001B[38;5;28mdict\u001B[39m(possibly_overriden_cls\u001B[38;5;241m.\u001B[39m\u001B[38;5;18m__dict__\u001B[39m)\n\u001B[1;32m    176\u001B[0m output_cls \u001B[38;5;241m=\u001B[39m \u001B[38;5;28mtype\u001B[39m(possibly_overriden_cls\u001B[38;5;241m.\u001B[39m\u001B[38;5;18m__name__\u001B[39m, (giskard_cls,), methods)\n",
      "\u001B[0;31mNotImplementedError\u001B[0m: We could not infer your model library. You have two options:\n- Pass a prediction_function to the Model class (we will try to serialize it with \"cloudpickle\").\n- Extend the Model class and override the abstract \"model_predict\" method.\nWe recommend that you follow our documentation page: https://giskard.readthedocs.io/en/latest/getting-started/scan"
     ]
    }
   ],
   "execution_count": 35
  },
  {
   "metadata": {
    "ExecuteTime": {
     "end_time": "2025-01-11T20:57:33.619002Z",
     "start_time": "2025-01-11T20:57:22.175268Z"
    }
   },
   "cell_type": "code",
   "source": [
    "from giskard import scan\n",
    "\n",
    "scan_report = scan(giskard_model)"
   ],
   "outputs": [
    {
     "name": "stdout",
     "output_type": "stream",
     "text": [
      "2025-01-11 21:57:22,176 pid:49127 MainThread LiteLLM      INFO     \n",
      "LiteLLM completion() model= gpt-4o; provider = openai\n",
      "2025-01-11 21:57:24,777 pid:49127 MainThread httpx        INFO     HTTP Request: POST https://api.openai.com/v1/chat/completions \"HTTP/1.1 200 OK\"\n",
      "2025-01-11 21:57:24,782 pid:49127 MainThread LiteLLM      INFO     Wrapper: Completed Call, calling success_handler\n",
      "🔎 Running scan…\n",
      "Estimated calls to your model: ~365\n",
      "Estimated LLM calls for evaluation: 148\n",
      "\n",
      "2025-01-11 21:57:25,097 pid:49127 MainThread giskard.scanner.logger INFO     Running detectors: ['LLMBasicSycophancyDetector', 'LLMCharsInjectionDetector', 'LLMHarmfulContentDetector', 'LLMImplausibleOutputDetector', 'LLMInformationDisclosureDetector', 'LLMOutputFormattingDetector', 'LLMPromptInjectionDetector', 'LLMStereotypesDetector', 'LLMFaithfulnessDetector']\n",
      "Running detector LLMBasicSycophancyDetector…\n",
      "2025-01-11 21:57:25,118 pid:49127 MainThread LiteLLM      INFO     \n",
      "LiteLLM completion() model= gpt-4o; provider = openai\n",
      "2025-01-11 21:57:32,418 pid:49127 MainThread httpx        INFO     HTTP Request: POST https://api.openai.com/v1/chat/completions \"HTTP/1.1 200 OK\"\n",
      "2025-01-11 21:57:32,420 pid:49127 MainThread LiteLLM      INFO     Wrapper: Completed Call, calling success_handler\n",
      "2025-01-11 21:57:32,425 pid:49127 MainThread giskard.datasets.base INFO     Casting dataframe columns from {'question': 'object'} to {'question': 'object'}\n",
      "Received DataFrame details:\n",
      "<class 'pandas.core.frame.DataFrame'>\n",
      "RangeIndex: 10 entries, 0 to 9\n",
      "Data columns (total 1 columns):\n",
      " #   Column    Non-Null Count  Dtype \n",
      "---  ------    --------------  ----- \n",
      " 0   question  10 non-null     object\n",
      "dtypes: object(1)\n",
      "memory usage: 212.0+ bytes\n",
      "None\n",
      "First few rows of DataFrame:\n",
      "                                            question\n",
      "0  Does the ECB report indicate a 5% increase in ...\n",
      "1  What measures does the ECB suggest for improvi...\n",
      "2  How does the ECB report assess the impact of B...\n",
      "3  What is the ECB's stance on the digital euro i...\n",
      "4  Does the ECB report highlight any risks associ...\n",
      "2025-01-11 21:57:32,429 pid:49127 MainThread giskard.scanner.logger ERROR    Detector LLMBasicSycophancyDetector failed with error: An error occurred while processing the model predict function: string indices must be integers, not 'str'\n",
      "Traceback (most recent call last):\n",
      "  File \"/var/folders/xt/mj52lxfd1fd9j29gs0q1pdjc0000gn/T/ipykernel_49127/3162297049.py\", line 20, in model_predict\n",
      "    return [chain.invoke(question) for question in df[\"question\"]]\n",
      "           ^^^^^^^^^^^^^^^^^^^^^^^^^^^^^^^^^^^^^^^^^^^^^^^^^^^^^^^\n",
      "  File \"/var/folders/xt/mj52lxfd1fd9j29gs0q1pdjc0000gn/T/ipykernel_49127/3162297049.py\", line 20, in <listcomp>\n",
      "    return [chain.invoke(question) for question in df[\"question\"]]\n",
      "            ^^^^^^^^^^^^^^^^^^^^^^\n",
      "  File \"/opt/homebrew/anaconda3/lib/python3.11/site-packages/langchain_core/runnables/base.py\", line 3020, in invoke\n",
      "    input = context.run(step.invoke, input, config, **kwargs)\n",
      "            ^^^^^^^^^^^^^^^^^^^^^^^^^^^^^^^^^^^^^^^^^^^^^^^^^\n",
      "  File \"/opt/homebrew/anaconda3/lib/python3.11/site-packages/langchain_core/runnables/base.py\", line 3725, in invoke\n",
      "    output = {key: future.result() for key, future in zip(steps, futures)}\n",
      "             ^^^^^^^^^^^^^^^^^^^^^^^^^^^^^^^^^^^^^^^^^^^^^^^^^^^^^^^^^^^^^\n",
      "  File \"/opt/homebrew/anaconda3/lib/python3.11/site-packages/langchain_core/runnables/base.py\", line 3725, in <dictcomp>\n",
      "    output = {key: future.result() for key, future in zip(steps, futures)}\n",
      "                   ^^^^^^^^^^^^^^^\n",
      "  File \"/opt/homebrew/anaconda3/lib/python3.11/concurrent/futures/_base.py\", line 449, in result\n",
      "    return self.__get_result()\n",
      "           ^^^^^^^^^^^^^^^^^^^\n",
      "  File \"/opt/homebrew/anaconda3/lib/python3.11/concurrent/futures/_base.py\", line 401, in __get_result\n",
      "    raise self._exception\n",
      "  File \"/opt/homebrew/anaconda3/lib/python3.11/concurrent/futures/thread.py\", line 58, in run\n",
      "    result = self.fn(*self.args, **self.kwargs)\n",
      "             ^^^^^^^^^^^^^^^^^^^^^^^^^^^^^^^^^^\n",
      "  File \"/opt/homebrew/anaconda3/lib/python3.11/site-packages/langchain_core/runnables/base.py\", line 3709, in _invoke_step\n",
      "    return context.run(\n",
      "           ^^^^^^^^^^^^\n",
      "  File \"/opt/homebrew/anaconda3/lib/python3.11/site-packages/langchain_core/runnables/base.py\", line 3020, in invoke\n",
      "    input = context.run(step.invoke, input, config, **kwargs)\n",
      "            ^^^^^^^^^^^^^^^^^^^^^^^^^^^^^^^^^^^^^^^^^^^^^^^^^\n",
      "  File \"/opt/homebrew/anaconda3/lib/python3.11/site-packages/langchain_core/runnables/base.py\", line 4711, in invoke\n",
      "    return self._call_with_config(\n",
      "           ^^^^^^^^^^^^^^^^^^^^^^^\n",
      "  File \"/opt/homebrew/anaconda3/lib/python3.11/site-packages/langchain_core/runnables/base.py\", line 1925, in _call_with_config\n",
      "    context.run(\n",
      "  File \"/opt/homebrew/anaconda3/lib/python3.11/site-packages/langchain_core/runnables/config.py\", line 396, in call_func_with_variable_args\n",
      "    return func(input, **kwargs)  # type: ignore[call-arg]\n",
      "           ^^^^^^^^^^^^^^^^^^^^^\n",
      "  File \"/opt/homebrew/anaconda3/lib/python3.11/site-packages/langchain_core/runnables/base.py\", line 4565, in _invoke\n",
      "    output = call_func_with_variable_args(\n",
      "             ^^^^^^^^^^^^^^^^^^^^^^^^^^^^^\n",
      "  File \"/opt/homebrew/anaconda3/lib/python3.11/site-packages/langchain_core/runnables/config.py\", line 396, in call_func_with_variable_args\n",
      "    return func(input, **kwargs)  # type: ignore[call-arg]\n",
      "           ^^^^^^^^^^^^^^^^^^^^^\n",
      "TypeError: string indices must be integers, not 'str'\n",
      "\n",
      "During handling of the above exception, another exception occurred:\n",
      "\n",
      "Traceback (most recent call last):\n",
      "  File \"/opt/homebrew/anaconda3/lib/python3.11/site-packages/giskard/scanner/scanner.py\", line 162, in _run_detectors\n",
      "    detected_issues = detector.run(model, dataset, features=features)\n",
      "                      ^^^^^^^^^^^^^^^^^^^^^^^^^^^^^^^^^^^^^^^^^^^^^^^\n",
      "  File \"/opt/homebrew/anaconda3/lib/python3.11/site-packages/giskard/scanner/llm/llm_basic_sycophancy_detector.py\", line 92, in run\n",
      "    eval_result = evaluator.evaluate(model, dataset1, dataset2)\n",
      "                  ^^^^^^^^^^^^^^^^^^^^^^^^^^^^^^^^^^^^^^^^^^^^^\n",
      "  File \"/opt/homebrew/anaconda3/lib/python3.11/site-packages/giskard/llm/evaluators/coherency.py\", line 60, in evaluate\n",
      "    outputs_1 = model.predict(dataset_1).prediction\n",
      "                ^^^^^^^^^^^^^^^^^^^^^^^^\n",
      "  File \"/opt/homebrew/anaconda3/lib/python3.11/site-packages/giskard/models/base/model.py\", line 376, in predict\n",
      "    raw_prediction = self._predict_from_cache(dataset)\n",
      "                     ^^^^^^^^^^^^^^^^^^^^^^^^^^^^^^^^^\n",
      "  File \"/opt/homebrew/anaconda3/lib/python3.11/site-packages/giskard/models/base/model.py\", line 430, in _predict_from_cache\n",
      "    raw_prediction = self.predict_df(unpredicted_df)\n",
      "                     ^^^^^^^^^^^^^^^^^^^^^^^^^^^^^^^\n",
      "  File \"/opt/homebrew/anaconda3/lib/python3.11/site-packages/pydantic/_internal/_validate_call.py\", line 38, in wrapper_function\n",
      "    return wrapper(*args, **kwargs)\n",
      "           ^^^^^^^^^^^^^^^^^^^^^^^^\n",
      "  File \"/opt/homebrew/anaconda3/lib/python3.11/site-packages/pydantic/_internal/_validate_call.py\", line 111, in __call__\n",
      "    res = self.__pydantic_validator__.validate_python(pydantic_core.ArgsKwargs(args, kwargs))\n",
      "          ^^^^^^^^^^^^^^^^^^^^^^^^^^^^^^^^^^^^^^^^^^^^^^^^^^^^^^^^^^^^^^^^^^^^^^^^^^^^^^^^^^^\n",
      "  File \"/opt/homebrew/anaconda3/lib/python3.11/site-packages/giskard/models/base/wrapper.py\", line 131, in predict_df\n",
      "    output = self.model_predict(batch)\n",
      "             ^^^^^^^^^^^^^^^^^^^^^^^^^\n",
      "  File \"/opt/homebrew/anaconda3/lib/python3.11/site-packages/giskard/models/function.py\", line 40, in model_predict\n",
      "    return self.model(df)\n",
      "           ^^^^^^^^^^^^^^\n",
      "  File \"/var/folders/xt/mj52lxfd1fd9j29gs0q1pdjc0000gn/T/ipykernel_49127/3162297049.py\", line 22, in model_predict\n",
      "    raise RuntimeError(f\"An error occurred while processing the model predict function: {e}\")\n",
      "RuntimeError: An error occurred while processing the model predict function: string indices must be integers, not 'str'\n",
      "LLMBasicSycophancyDetector: 0 issue detected. (Took 0:00:07.333401)\n",
      "Running detector LLMCharsInjectionDetector…\n",
      "2025-01-11 21:57:32,440 pid:49127 MainThread giskard.datasets.base INFO     Casting dataframe columns from {'question': 'object'} to {'question': 'object'}\n",
      "Received DataFrame details:\n",
      "<class 'pandas.core.frame.DataFrame'>\n",
      "Index: 10 entries, 7 to 5\n",
      "Data columns (total 1 columns):\n",
      " #   Column    Non-Null Count  Dtype \n",
      "---  ------    --------------  ----- \n",
      " 0   question  10 non-null     object\n",
      "dtypes: object(1)\n",
      "memory usage: 160.0+ bytes\n",
      "None\n",
      "First few rows of DataFrame:\n",
      "                                            question\n",
      "7  Can you provide details on the ECB's approach ...\n",
      "0  What are the main objectives of the ECB Bankin...\n",
      "1  How does the ECB ensure the stability of Europ...\n",
      "4  How does the ECB assess the risk management pr...\n",
      "3  What measures are in place to handle non-perfo...\n",
      "2025-01-11 21:57:32,444 pid:49127 MainThread giskard.scanner.logger ERROR    Detector LLMCharsInjectionDetector failed with error: An error occurred while processing the model predict function: string indices must be integers, not 'str'\n",
      "Traceback (most recent call last):\n",
      "  File \"/var/folders/xt/mj52lxfd1fd9j29gs0q1pdjc0000gn/T/ipykernel_49127/3162297049.py\", line 20, in model_predict\n",
      "    return [chain.invoke(question) for question in df[\"question\"]]\n",
      "           ^^^^^^^^^^^^^^^^^^^^^^^^^^^^^^^^^^^^^^^^^^^^^^^^^^^^^^^\n",
      "  File \"/var/folders/xt/mj52lxfd1fd9j29gs0q1pdjc0000gn/T/ipykernel_49127/3162297049.py\", line 20, in <listcomp>\n",
      "    return [chain.invoke(question) for question in df[\"question\"]]\n",
      "            ^^^^^^^^^^^^^^^^^^^^^^\n",
      "  File \"/opt/homebrew/anaconda3/lib/python3.11/site-packages/langchain_core/runnables/base.py\", line 3020, in invoke\n",
      "    input = context.run(step.invoke, input, config, **kwargs)\n",
      "            ^^^^^^^^^^^^^^^^^^^^^^^^^^^^^^^^^^^^^^^^^^^^^^^^^\n",
      "  File \"/opt/homebrew/anaconda3/lib/python3.11/site-packages/langchain_core/runnables/base.py\", line 3725, in invoke\n",
      "    output = {key: future.result() for key, future in zip(steps, futures)}\n",
      "             ^^^^^^^^^^^^^^^^^^^^^^^^^^^^^^^^^^^^^^^^^^^^^^^^^^^^^^^^^^^^^\n",
      "  File \"/opt/homebrew/anaconda3/lib/python3.11/site-packages/langchain_core/runnables/base.py\", line 3725, in <dictcomp>\n",
      "    output = {key: future.result() for key, future in zip(steps, futures)}\n",
      "                   ^^^^^^^^^^^^^^^\n",
      "  File \"/opt/homebrew/anaconda3/lib/python3.11/concurrent/futures/_base.py\", line 449, in result\n",
      "    return self.__get_result()\n",
      "           ^^^^^^^^^^^^^^^^^^^\n",
      "  File \"/opt/homebrew/anaconda3/lib/python3.11/concurrent/futures/_base.py\", line 401, in __get_result\n",
      "    raise self._exception\n",
      "  File \"/opt/homebrew/anaconda3/lib/python3.11/concurrent/futures/thread.py\", line 58, in run\n",
      "    result = self.fn(*self.args, **self.kwargs)\n",
      "             ^^^^^^^^^^^^^^^^^^^^^^^^^^^^^^^^^^\n",
      "  File \"/opt/homebrew/anaconda3/lib/python3.11/site-packages/langchain_core/runnables/base.py\", line 3709, in _invoke_step\n",
      "    return context.run(\n",
      "           ^^^^^^^^^^^^\n",
      "  File \"/opt/homebrew/anaconda3/lib/python3.11/site-packages/langchain_core/runnables/base.py\", line 3020, in invoke\n",
      "    input = context.run(step.invoke, input, config, **kwargs)\n",
      "            ^^^^^^^^^^^^^^^^^^^^^^^^^^^^^^^^^^^^^^^^^^^^^^^^^\n",
      "  File \"/opt/homebrew/anaconda3/lib/python3.11/site-packages/langchain_core/runnables/base.py\", line 4711, in invoke\n",
      "    return self._call_with_config(\n",
      "           ^^^^^^^^^^^^^^^^^^^^^^^\n",
      "  File \"/opt/homebrew/anaconda3/lib/python3.11/site-packages/langchain_core/runnables/base.py\", line 1925, in _call_with_config\n",
      "    context.run(\n",
      "  File \"/opt/homebrew/anaconda3/lib/python3.11/site-packages/langchain_core/runnables/config.py\", line 396, in call_func_with_variable_args\n",
      "    return func(input, **kwargs)  # type: ignore[call-arg]\n",
      "           ^^^^^^^^^^^^^^^^^^^^^\n",
      "  File \"/opt/homebrew/anaconda3/lib/python3.11/site-packages/langchain_core/runnables/base.py\", line 4565, in _invoke\n",
      "    output = call_func_with_variable_args(\n",
      "             ^^^^^^^^^^^^^^^^^^^^^^^^^^^^^\n",
      "  File \"/opt/homebrew/anaconda3/lib/python3.11/site-packages/langchain_core/runnables/config.py\", line 396, in call_func_with_variable_args\n",
      "    return func(input, **kwargs)  # type: ignore[call-arg]\n",
      "           ^^^^^^^^^^^^^^^^^^^^^\n",
      "TypeError: string indices must be integers, not 'str'\n",
      "\n",
      "During handling of the above exception, another exception occurred:\n",
      "\n",
      "Traceback (most recent call last):\n",
      "  File \"/opt/homebrew/anaconda3/lib/python3.11/site-packages/giskard/scanner/scanner.py\", line 162, in _run_detectors\n",
      "    detected_issues = detector.run(model, dataset, features=features)\n",
      "                      ^^^^^^^^^^^^^^^^^^^^^^^^^^^^^^^^^^^^^^^^^^^^^^^\n",
      "  File \"/opt/homebrew/anaconda3/lib/python3.11/site-packages/giskard/scanner/llm/llm_chars_injection_detector.py\", line 97, in run\n",
      "    for res in injector.run(model, dataset_sample, features):\n",
      "  File \"/opt/homebrew/anaconda3/lib/python3.11/site-packages/giskard/testing/tests/llm/injections.py\", line 82, in run\n",
      "    ref_predictions = model.predict(dataset).prediction\n",
      "                      ^^^^^^^^^^^^^^^^^^^^^^\n",
      "  File \"/opt/homebrew/anaconda3/lib/python3.11/site-packages/giskard/models/base/model.py\", line 376, in predict\n",
      "    raw_prediction = self._predict_from_cache(dataset)\n",
      "                     ^^^^^^^^^^^^^^^^^^^^^^^^^^^^^^^^^\n",
      "  File \"/opt/homebrew/anaconda3/lib/python3.11/site-packages/giskard/models/base/model.py\", line 430, in _predict_from_cache\n",
      "    raw_prediction = self.predict_df(unpredicted_df)\n",
      "                     ^^^^^^^^^^^^^^^^^^^^^^^^^^^^^^^\n",
      "  File \"/opt/homebrew/anaconda3/lib/python3.11/site-packages/pydantic/_internal/_validate_call.py\", line 38, in wrapper_function\n",
      "    return wrapper(*args, **kwargs)\n",
      "           ^^^^^^^^^^^^^^^^^^^^^^^^\n",
      "  File \"/opt/homebrew/anaconda3/lib/python3.11/site-packages/pydantic/_internal/_validate_call.py\", line 111, in __call__\n",
      "    res = self.__pydantic_validator__.validate_python(pydantic_core.ArgsKwargs(args, kwargs))\n",
      "          ^^^^^^^^^^^^^^^^^^^^^^^^^^^^^^^^^^^^^^^^^^^^^^^^^^^^^^^^^^^^^^^^^^^^^^^^^^^^^^^^^^^\n",
      "  File \"/opt/homebrew/anaconda3/lib/python3.11/site-packages/giskard/models/base/wrapper.py\", line 131, in predict_df\n",
      "    output = self.model_predict(batch)\n",
      "             ^^^^^^^^^^^^^^^^^^^^^^^^^\n",
      "  File \"/opt/homebrew/anaconda3/lib/python3.11/site-packages/giskard/models/function.py\", line 40, in model_predict\n",
      "    return self.model(df)\n",
      "           ^^^^^^^^^^^^^^\n",
      "  File \"/var/folders/xt/mj52lxfd1fd9j29gs0q1pdjc0000gn/T/ipykernel_49127/3162297049.py\", line 22, in model_predict\n",
      "    raise RuntimeError(f\"An error occurred while processing the model predict function: {e}\")\n",
      "RuntimeError: An error occurred while processing the model predict function: string indices must be integers, not 'str'\n",
      "LLMCharsInjectionDetector: 0 issue detected. (Took 0:00:00.013719)\n",
      "Running detector LLMHarmfulContentDetector…\n",
      "2025-01-11 21:57:32,446 pid:49127 MainThread giskard.scanner.logger INFO     LLMHarmfulContentDetector: Generating test case requirements\n",
      "2025-01-11 21:57:32,447 pid:49127 MainThread LiteLLM      INFO     \n",
      "LiteLLM completion() model= gpt-4o; provider = openai\n"
     ]
    },
    {
     "ename": "KeyboardInterrupt",
     "evalue": "",
     "output_type": "error",
     "traceback": [
      "\u001B[0;31m---------------------------------------------------------------------------\u001B[0m",
      "\u001B[0;31mKeyboardInterrupt\u001B[0m                         Traceback (most recent call last)",
      "Cell \u001B[0;32mIn[34], line 3\u001B[0m\n\u001B[1;32m      1\u001B[0m \u001B[38;5;28;01mfrom\u001B[39;00m \u001B[38;5;21;01mgiskard\u001B[39;00m \u001B[38;5;28;01mimport\u001B[39;00m scan\n\u001B[0;32m----> 3\u001B[0m scan_report \u001B[38;5;241m=\u001B[39m scan(giskard_model)\n",
      "File \u001B[0;32m/opt/homebrew/anaconda3/lib/python3.11/site-packages/giskard/scanner/__init__.py:67\u001B[0m, in \u001B[0;36mscan\u001B[0;34m(model, dataset, features, params, only, verbose, raise_exceptions, max_issues_per_detector)\u001B[0m\n\u001B[1;32m     36\u001B[0m \u001B[38;5;250m\u001B[39m\u001B[38;5;124;03m\"\"\"Automatically detects model vulnerabilities.\u001B[39;00m\n\u001B[1;32m     37\u001B[0m \n\u001B[1;32m     38\u001B[0m \u001B[38;5;124;03mSee :class:`Scanner` for more details.\u001B[39;00m\n\u001B[0;32m   (...)\u001B[0m\n\u001B[1;32m     64\u001B[0m \u001B[38;5;124;03m    A scan report object containing the results of the scan.\u001B[39;00m\n\u001B[1;32m     65\u001B[0m \u001B[38;5;124;03m\"\"\"\u001B[39;00m\n\u001B[1;32m     66\u001B[0m scanner \u001B[38;5;241m=\u001B[39m Scanner(params, only\u001B[38;5;241m=\u001B[39monly)\n\u001B[0;32m---> 67\u001B[0m \u001B[38;5;28;01mreturn\u001B[39;00m scanner\u001B[38;5;241m.\u001B[39manalyze(\n\u001B[1;32m     68\u001B[0m     model,\n\u001B[1;32m     69\u001B[0m     dataset\u001B[38;5;241m=\u001B[39mdataset,\n\u001B[1;32m     70\u001B[0m     features\u001B[38;5;241m=\u001B[39mfeatures,\n\u001B[1;32m     71\u001B[0m     verbose\u001B[38;5;241m=\u001B[39mverbose,\n\u001B[1;32m     72\u001B[0m     raise_exceptions\u001B[38;5;241m=\u001B[39mraise_exceptions,\n\u001B[1;32m     73\u001B[0m     max_issues_per_detector\u001B[38;5;241m=\u001B[39mmax_issues_per_detector,\n\u001B[1;32m     74\u001B[0m )\n",
      "File \u001B[0;32m/opt/homebrew/anaconda3/lib/python3.11/site-packages/giskard/scanner/scanner.py:126\u001B[0m, in \u001B[0;36mScanner.analyze\u001B[0;34m(self, model, dataset, features, verbose, raise_exceptions, max_issues_per_detector)\u001B[0m\n\u001B[1;32m    124\u001B[0m \u001B[38;5;28;01mwith\u001B[39;00m warnings\u001B[38;5;241m.\u001B[39mcatch_warnings():\n\u001B[1;32m    125\u001B[0m     warnings\u001B[38;5;241m.\u001B[39msimplefilter(\u001B[38;5;124m\"\u001B[39m\u001B[38;5;124mignore\u001B[39m\u001B[38;5;124m\"\u001B[39m)\n\u001B[0;32m--> 126\u001B[0m     issues, errors \u001B[38;5;241m=\u001B[39m \u001B[38;5;28mself\u001B[39m\u001B[38;5;241m.\u001B[39m_run_detectors(\n\u001B[1;32m    127\u001B[0m         detectors,\n\u001B[1;32m    128\u001B[0m         model,\n\u001B[1;32m    129\u001B[0m         dataset,\n\u001B[1;32m    130\u001B[0m         features,\n\u001B[1;32m    131\u001B[0m         verbose\u001B[38;5;241m=\u001B[39mverbose,\n\u001B[1;32m    132\u001B[0m         raise_exceptions\u001B[38;5;241m=\u001B[39mraise_exceptions,\n\u001B[1;32m    133\u001B[0m         max_issues_per_detector\u001B[38;5;241m=\u001B[39mmax_issues_per_detector,\n\u001B[1;32m    134\u001B[0m     )\n\u001B[1;32m    136\u001B[0m issues \u001B[38;5;241m=\u001B[39m \u001B[38;5;28mself\u001B[39m\u001B[38;5;241m.\u001B[39m_postprocess(issues)\n\u001B[1;32m    138\u001B[0m \u001B[38;5;66;03m# Scan completed\u001B[39;00m\n",
      "File \u001B[0;32m/opt/homebrew/anaconda3/lib/python3.11/site-packages/giskard/scanner/scanner.py:162\u001B[0m, in \u001B[0;36mScanner._run_detectors\u001B[0;34m(self, detectors, model, dataset, features, verbose, raise_exceptions, max_issues_per_detector)\u001B[0m\n\u001B[1;32m    160\u001B[0m detector_start \u001B[38;5;241m=\u001B[39m perf_counter()\n\u001B[1;32m    161\u001B[0m \u001B[38;5;28;01mtry\u001B[39;00m:\n\u001B[0;32m--> 162\u001B[0m     detected_issues \u001B[38;5;241m=\u001B[39m detector\u001B[38;5;241m.\u001B[39mrun(model, dataset, features\u001B[38;5;241m=\u001B[39mfeatures)\n\u001B[1;32m    163\u001B[0m \u001B[38;5;28;01mexcept\u001B[39;00m \u001B[38;5;167;01mException\u001B[39;00m \u001B[38;5;28;01mas\u001B[39;00m err:\n\u001B[1;32m    164\u001B[0m     logger\u001B[38;5;241m.\u001B[39mexception(\u001B[38;5;124mf\u001B[39m\u001B[38;5;124m\"\u001B[39m\u001B[38;5;124mDetector \u001B[39m\u001B[38;5;132;01m{\u001B[39;00mdetector\u001B[38;5;241m.\u001B[39m\u001B[38;5;18m__class__\u001B[39m\u001B[38;5;241m.\u001B[39m\u001B[38;5;18m__name__\u001B[39m\u001B[38;5;132;01m}\u001B[39;00m\u001B[38;5;124m failed with error: \u001B[39m\u001B[38;5;132;01m{\u001B[39;00merr\u001B[38;5;132;01m}\u001B[39;00m\u001B[38;5;124m\"\u001B[39m)\n",
      "File \u001B[0;32m/opt/homebrew/anaconda3/lib/python3.11/site-packages/giskard/scanner/llm/base.py:65\u001B[0m, in \u001B[0;36mRequirementBasedDetector.run\u001B[0;34m(self, model, dataset, features)\u001B[0m\n\u001B[1;32m     63\u001B[0m logger\u001B[38;5;241m.\u001B[39minfo(\u001B[38;5;124mf\u001B[39m\u001B[38;5;124m\"\u001B[39m\u001B[38;5;132;01m{\u001B[39;00m\u001B[38;5;28mself\u001B[39m\u001B[38;5;241m.\u001B[39m\u001B[38;5;18m__class__\u001B[39m\u001B[38;5;241m.\u001B[39m\u001B[38;5;18m__name__\u001B[39m\u001B[38;5;132;01m}\u001B[39;00m\u001B[38;5;124m: Generating test case requirements\u001B[39m\u001B[38;5;124m\"\u001B[39m)\n\u001B[1;32m     64\u001B[0m requirements_gen \u001B[38;5;241m=\u001B[39m TestcaseRequirementsGenerator(issue_description)\n\u001B[0;32m---> 65\u001B[0m requirements \u001B[38;5;241m=\u001B[39m requirements_gen\u001B[38;5;241m.\u001B[39mgenerate_requirements(model, \u001B[38;5;28mself\u001B[39m\u001B[38;5;241m.\u001B[39mnum_requirements)\n\u001B[1;32m     67\u001B[0m logger\u001B[38;5;241m.\u001B[39minfo(\u001B[38;5;124mf\u001B[39m\u001B[38;5;124m\"\u001B[39m\u001B[38;5;132;01m{\u001B[39;00m\u001B[38;5;28mself\u001B[39m\u001B[38;5;241m.\u001B[39m\u001B[38;5;18m__class__\u001B[39m\u001B[38;5;241m.\u001B[39m\u001B[38;5;18m__name__\u001B[39m\u001B[38;5;132;01m}\u001B[39;00m\u001B[38;5;124m: Evaluating test cases\u001B[39m\u001B[38;5;124m\"\u001B[39m)\n\u001B[1;32m     68\u001B[0m issues \u001B[38;5;241m=\u001B[39m []\n",
      "File \u001B[0;32m/opt/homebrew/anaconda3/lib/python3.11/site-packages/giskard/llm/testcase.py:67\u001B[0m, in \u001B[0;36mTestcaseRequirementsGenerator.generate_requirements\u001B[0;34m(self, model, max_requirements)\u001B[0m\n\u001B[1;32m     60\u001B[0m usr_prompt \u001B[38;5;241m=\u001B[39m USR_PROMPT_TPL\u001B[38;5;241m.\u001B[39mformat(\n\u001B[1;32m     61\u001B[0m     description\u001B[38;5;241m=\u001B[39mmodel\u001B[38;5;241m.\u001B[39mdescription,\n\u001B[1;32m     62\u001B[0m     category\u001B[38;5;241m=\u001B[39m\u001B[38;5;28mself\u001B[39m\u001B[38;5;241m.\u001B[39missue_description,\n\u001B[1;32m     63\u001B[0m     num_requirements\u001B[38;5;241m=\u001B[39mmax_requirements,\n\u001B[1;32m     64\u001B[0m )\n\u001B[1;32m     65\u001B[0m messages \u001B[38;5;241m=\u001B[39m BASE_MESSAGES \u001B[38;5;241m+\u001B[39m [ChatMessage(role\u001B[38;5;241m=\u001B[39m\u001B[38;5;124m\"\u001B[39m\u001B[38;5;124muser\u001B[39m\u001B[38;5;124m\"\u001B[39m, content\u001B[38;5;241m=\u001B[39musr_prompt)]\n\u001B[0;32m---> 67\u001B[0m out \u001B[38;5;241m=\u001B[39m \u001B[38;5;28mself\u001B[39m\u001B[38;5;241m.\u001B[39mllm_client\u001B[38;5;241m.\u001B[39mcomplete(\n\u001B[1;32m     68\u001B[0m     messages\u001B[38;5;241m=\u001B[39mmessages,\n\u001B[1;32m     69\u001B[0m     \u001B[38;5;28mformat\u001B[39m\u001B[38;5;241m=\u001B[39m\u001B[38;5;124m\"\u001B[39m\u001B[38;5;124mjson_object\u001B[39m\u001B[38;5;124m\"\u001B[39m,\n\u001B[1;32m     70\u001B[0m     temperature\u001B[38;5;241m=\u001B[39m\u001B[38;5;28mself\u001B[39m\u001B[38;5;241m.\u001B[39mllm_temperature,\n\u001B[1;32m     71\u001B[0m     caller_id\u001B[38;5;241m=\u001B[39m\u001B[38;5;28mself\u001B[39m\u001B[38;5;241m.\u001B[39m\u001B[38;5;18m__class__\u001B[39m\u001B[38;5;241m.\u001B[39m\u001B[38;5;18m__name__\u001B[39m,\n\u001B[1;32m     72\u001B[0m     seed\u001B[38;5;241m=\u001B[39m\u001B[38;5;28mself\u001B[39m\u001B[38;5;241m.\u001B[39mllm_seed,\n\u001B[1;32m     73\u001B[0m )\n\u001B[1;32m     75\u001B[0m \u001B[38;5;28;01mreturn\u001B[39;00m \u001B[38;5;28mself\u001B[39m\u001B[38;5;241m.\u001B[39m_parse_requirements(out\u001B[38;5;241m.\u001B[39mcontent)\n",
      "File \u001B[0;32m/opt/homebrew/anaconda3/lib/python3.11/site-packages/giskard/llm/client/litellm.py:119\u001B[0m, in \u001B[0;36mLiteLLMClient.complete\u001B[0;34m(self, messages, temperature, max_tokens, caller_id, seed, format)\u001B[0m\n\u001B[1;32m    110\u001B[0m \u001B[38;5;28;01mdef\u001B[39;00m \u001B[38;5;21mcomplete\u001B[39m(\n\u001B[1;32m    111\u001B[0m     \u001B[38;5;28mself\u001B[39m,\n\u001B[1;32m    112\u001B[0m     messages: Sequence[ChatMessage],\n\u001B[0;32m   (...)\u001B[0m\n\u001B[1;32m    117\u001B[0m     \u001B[38;5;28mformat\u001B[39m\u001B[38;5;241m=\u001B[39m\u001B[38;5;28;01mNone\u001B[39;00m,\n\u001B[1;32m    118\u001B[0m ) \u001B[38;5;241m-\u001B[39m\u001B[38;5;241m>\u001B[39m ChatMessage:\n\u001B[0;32m--> 119\u001B[0m     completion \u001B[38;5;241m=\u001B[39m litellm\u001B[38;5;241m.\u001B[39mcompletion(\n\u001B[1;32m    120\u001B[0m         model\u001B[38;5;241m=\u001B[39m\u001B[38;5;28mself\u001B[39m\u001B[38;5;241m.\u001B[39mmodel,\n\u001B[1;32m    121\u001B[0m         messages\u001B[38;5;241m=\u001B[39m[{\u001B[38;5;124m\"\u001B[39m\u001B[38;5;124mrole\u001B[39m\u001B[38;5;124m\"\u001B[39m: message\u001B[38;5;241m.\u001B[39mrole, \u001B[38;5;124m\"\u001B[39m\u001B[38;5;124mcontent\u001B[39m\u001B[38;5;124m\"\u001B[39m: message\u001B[38;5;241m.\u001B[39mcontent} \u001B[38;5;28;01mfor\u001B[39;00m message \u001B[38;5;129;01min\u001B[39;00m messages],\n\u001B[1;32m    122\u001B[0m         \u001B[38;5;241m*\u001B[39m\u001B[38;5;241m*\u001B[39m\u001B[38;5;28mself\u001B[39m\u001B[38;5;241m.\u001B[39m_build_supported_completion_params(\n\u001B[1;32m    123\u001B[0m             temperature\u001B[38;5;241m=\u001B[39mtemperature,\n\u001B[1;32m    124\u001B[0m             max_tokens\u001B[38;5;241m=\u001B[39mmax_tokens,\n\u001B[1;32m    125\u001B[0m             seed\u001B[38;5;241m=\u001B[39mseed,\n\u001B[1;32m    126\u001B[0m             response_format\u001B[38;5;241m=\u001B[39m\u001B[38;5;28;01mNone\u001B[39;00m \u001B[38;5;28;01mif\u001B[39;00m \u001B[38;5;28mself\u001B[39m\u001B[38;5;241m.\u001B[39mdisable_structured_output \u001B[38;5;28;01melse\u001B[39;00m _get_response_format(\u001B[38;5;28mformat\u001B[39m),\n\u001B[1;32m    127\u001B[0m         ),\n\u001B[1;32m    128\u001B[0m         \u001B[38;5;241m*\u001B[39m\u001B[38;5;241m*\u001B[39m\u001B[38;5;28mself\u001B[39m\u001B[38;5;241m.\u001B[39mcompletion_params,\n\u001B[1;32m    129\u001B[0m     )\n\u001B[1;32m    131\u001B[0m     \u001B[38;5;28mself\u001B[39m\u001B[38;5;241m.\u001B[39mlogger\u001B[38;5;241m.\u001B[39mlog_call(\n\u001B[1;32m    132\u001B[0m         prompt_tokens\u001B[38;5;241m=\u001B[39mcompletion\u001B[38;5;241m.\u001B[39musage\u001B[38;5;241m.\u001B[39mprompt_tokens,\n\u001B[1;32m    133\u001B[0m         sampled_tokens\u001B[38;5;241m=\u001B[39mcompletion\u001B[38;5;241m.\u001B[39musage\u001B[38;5;241m.\u001B[39mcompletion_tokens,\n\u001B[0;32m   (...)\u001B[0m\n\u001B[1;32m    136\u001B[0m         caller_id\u001B[38;5;241m=\u001B[39mcaller_id,\n\u001B[1;32m    137\u001B[0m     )\n\u001B[1;32m    139\u001B[0m     response_message \u001B[38;5;241m=\u001B[39m completion\u001B[38;5;241m.\u001B[39mchoices[\u001B[38;5;241m0\u001B[39m]\u001B[38;5;241m.\u001B[39mmessage\n",
      "File \u001B[0;32m/opt/homebrew/anaconda3/lib/python3.11/site-packages/litellm/utils.py:903\u001B[0m, in \u001B[0;36mclient.<locals>.wrapper\u001B[0;34m(*args, **kwargs)\u001B[0m\n\u001B[1;32m    901\u001B[0m         print_verbose(\u001B[38;5;124mf\u001B[39m\u001B[38;5;124m\"\u001B[39m\u001B[38;5;124mError while checking max token limit: \u001B[39m\u001B[38;5;132;01m{\u001B[39;00m\u001B[38;5;28mstr\u001B[39m(e)\u001B[38;5;132;01m}\u001B[39;00m\u001B[38;5;124m\"\u001B[39m)\n\u001B[1;32m    902\u001B[0m \u001B[38;5;66;03m# MODEL CALL\u001B[39;00m\n\u001B[0;32m--> 903\u001B[0m result \u001B[38;5;241m=\u001B[39m original_function(\u001B[38;5;241m*\u001B[39margs, \u001B[38;5;241m*\u001B[39m\u001B[38;5;241m*\u001B[39mkwargs)\n\u001B[1;32m    904\u001B[0m end_time \u001B[38;5;241m=\u001B[39m datetime\u001B[38;5;241m.\u001B[39mdatetime\u001B[38;5;241m.\u001B[39mnow()\n\u001B[1;32m    905\u001B[0m \u001B[38;5;28;01mif\u001B[39;00m \u001B[38;5;124m\"\u001B[39m\u001B[38;5;124mstream\u001B[39m\u001B[38;5;124m\"\u001B[39m \u001B[38;5;129;01min\u001B[39;00m kwargs \u001B[38;5;129;01mand\u001B[39;00m kwargs[\u001B[38;5;124m\"\u001B[39m\u001B[38;5;124mstream\u001B[39m\u001B[38;5;124m\"\u001B[39m] \u001B[38;5;129;01mis\u001B[39;00m \u001B[38;5;28;01mTrue\u001B[39;00m:\n",
      "File \u001B[0;32m/opt/homebrew/anaconda3/lib/python3.11/site-packages/litellm/main.py:1570\u001B[0m, in \u001B[0;36mcompletion\u001B[0;34m(model, messages, timeout, temperature, top_p, n, stream, stream_options, stop, max_completion_tokens, max_tokens, modalities, audio, presence_penalty, frequency_penalty, logit_bias, user, response_format, seed, tools, tool_choice, logprobs, top_logprobs, parallel_tool_calls, deployment_id, extra_headers, functions, function_call, base_url, api_version, api_key, model_list, **kwargs)\u001B[0m\n\u001B[1;32m   1550\u001B[0m         response \u001B[38;5;241m=\u001B[39m openai_o1_chat_completions\u001B[38;5;241m.\u001B[39mcompletion(\n\u001B[1;32m   1551\u001B[0m             model\u001B[38;5;241m=\u001B[39mmodel,\n\u001B[1;32m   1552\u001B[0m             messages\u001B[38;5;241m=\u001B[39mmessages,\n\u001B[0;32m   (...)\u001B[0m\n\u001B[1;32m   1567\u001B[0m             custom_llm_provider\u001B[38;5;241m=\u001B[39mcustom_llm_provider,\n\u001B[1;32m   1568\u001B[0m         )\n\u001B[1;32m   1569\u001B[0m     \u001B[38;5;28;01melse\u001B[39;00m:\n\u001B[0;32m-> 1570\u001B[0m         response \u001B[38;5;241m=\u001B[39m openai_chat_completions\u001B[38;5;241m.\u001B[39mcompletion(\n\u001B[1;32m   1571\u001B[0m             model\u001B[38;5;241m=\u001B[39mmodel,\n\u001B[1;32m   1572\u001B[0m             messages\u001B[38;5;241m=\u001B[39mmessages,\n\u001B[1;32m   1573\u001B[0m             headers\u001B[38;5;241m=\u001B[39mheaders,\n\u001B[1;32m   1574\u001B[0m             model_response\u001B[38;5;241m=\u001B[39mmodel_response,\n\u001B[1;32m   1575\u001B[0m             print_verbose\u001B[38;5;241m=\u001B[39mprint_verbose,\n\u001B[1;32m   1576\u001B[0m             api_key\u001B[38;5;241m=\u001B[39mapi_key,\n\u001B[1;32m   1577\u001B[0m             api_base\u001B[38;5;241m=\u001B[39mapi_base,\n\u001B[1;32m   1578\u001B[0m             acompletion\u001B[38;5;241m=\u001B[39macompletion,\n\u001B[1;32m   1579\u001B[0m             logging_obj\u001B[38;5;241m=\u001B[39mlogging,\n\u001B[1;32m   1580\u001B[0m             optional_params\u001B[38;5;241m=\u001B[39moptional_params,\n\u001B[1;32m   1581\u001B[0m             litellm_params\u001B[38;5;241m=\u001B[39mlitellm_params,\n\u001B[1;32m   1582\u001B[0m             logger_fn\u001B[38;5;241m=\u001B[39mlogger_fn,\n\u001B[1;32m   1583\u001B[0m             timeout\u001B[38;5;241m=\u001B[39mtimeout,  \u001B[38;5;66;03m# type: ignore\u001B[39;00m\n\u001B[1;32m   1584\u001B[0m             custom_prompt_dict\u001B[38;5;241m=\u001B[39mcustom_prompt_dict,\n\u001B[1;32m   1585\u001B[0m             client\u001B[38;5;241m=\u001B[39mclient,  \u001B[38;5;66;03m# pass AsyncOpenAI, OpenAI client\u001B[39;00m\n\u001B[1;32m   1586\u001B[0m             organization\u001B[38;5;241m=\u001B[39morganization,\n\u001B[1;32m   1587\u001B[0m             custom_llm_provider\u001B[38;5;241m=\u001B[39mcustom_llm_provider,\n\u001B[1;32m   1588\u001B[0m         )\n\u001B[1;32m   1589\u001B[0m \u001B[38;5;28;01mexcept\u001B[39;00m \u001B[38;5;167;01mException\u001B[39;00m \u001B[38;5;28;01mas\u001B[39;00m e:\n\u001B[1;32m   1590\u001B[0m     \u001B[38;5;66;03m## LOGGING - log the original exception returned\u001B[39;00m\n\u001B[1;32m   1591\u001B[0m     logging\u001B[38;5;241m.\u001B[39mpost_call(\n\u001B[1;32m   1592\u001B[0m         \u001B[38;5;28minput\u001B[39m\u001B[38;5;241m=\u001B[39mmessages,\n\u001B[1;32m   1593\u001B[0m         api_key\u001B[38;5;241m=\u001B[39mapi_key,\n\u001B[1;32m   1594\u001B[0m         original_response\u001B[38;5;241m=\u001B[39m\u001B[38;5;28mstr\u001B[39m(e),\n\u001B[1;32m   1595\u001B[0m         additional_args\u001B[38;5;241m=\u001B[39m{\u001B[38;5;124m\"\u001B[39m\u001B[38;5;124mheaders\u001B[39m\u001B[38;5;124m\"\u001B[39m: headers},\n\u001B[1;32m   1596\u001B[0m     )\n",
      "File \u001B[0;32m/opt/homebrew/anaconda3/lib/python3.11/site-packages/litellm/llms/OpenAI/openai.py:790\u001B[0m, in \u001B[0;36mOpenAIChatCompletion.completion\u001B[0;34m(self, model_response, timeout, optional_params, logging_obj, model, messages, print_verbose, api_key, api_base, acompletion, litellm_params, logger_fn, headers, custom_prompt_dict, client, organization, custom_llm_provider, drop_params)\u001B[0m\n\u001B[1;32m    777\u001B[0m \u001B[38;5;66;03m## LOGGING\u001B[39;00m\n\u001B[1;32m    778\u001B[0m logging_obj\u001B[38;5;241m.\u001B[39mpre_call(\n\u001B[1;32m    779\u001B[0m     \u001B[38;5;28minput\u001B[39m\u001B[38;5;241m=\u001B[39mmessages,\n\u001B[1;32m    780\u001B[0m     api_key\u001B[38;5;241m=\u001B[39mopenai_client\u001B[38;5;241m.\u001B[39mapi_key,\n\u001B[0;32m   (...)\u001B[0m\n\u001B[1;32m    786\u001B[0m     },\n\u001B[1;32m    787\u001B[0m )\n\u001B[1;32m    789\u001B[0m headers, response \u001B[38;5;241m=\u001B[39m (\n\u001B[0;32m--> 790\u001B[0m     \u001B[38;5;28mself\u001B[39m\u001B[38;5;241m.\u001B[39mmake_sync_openai_chat_completion_request(\n\u001B[1;32m    791\u001B[0m         openai_client\u001B[38;5;241m=\u001B[39mopenai_client,\n\u001B[1;32m    792\u001B[0m         data\u001B[38;5;241m=\u001B[39mdata,\n\u001B[1;32m    793\u001B[0m         timeout\u001B[38;5;241m=\u001B[39mtimeout,\n\u001B[1;32m    794\u001B[0m     )\n\u001B[1;32m    795\u001B[0m )\n\u001B[1;32m    797\u001B[0m logging_obj\u001B[38;5;241m.\u001B[39mmodel_call_details[\u001B[38;5;124m\"\u001B[39m\u001B[38;5;124mresponse_headers\u001B[39m\u001B[38;5;124m\"\u001B[39m] \u001B[38;5;241m=\u001B[39m headers\n\u001B[1;32m    798\u001B[0m stringified_response \u001B[38;5;241m=\u001B[39m response\u001B[38;5;241m.\u001B[39mmodel_dump()\n",
      "File \u001B[0;32m/opt/homebrew/anaconda3/lib/python3.11/site-packages/litellm/llms/OpenAI/openai.py:631\u001B[0m, in \u001B[0;36mOpenAIChatCompletion.make_sync_openai_chat_completion_request\u001B[0;34m(self, openai_client, data, timeout)\u001B[0m\n\u001B[1;32m    629\u001B[0m raw_response \u001B[38;5;241m=\u001B[39m \u001B[38;5;28;01mNone\u001B[39;00m\n\u001B[1;32m    630\u001B[0m \u001B[38;5;28;01mtry\u001B[39;00m:\n\u001B[0;32m--> 631\u001B[0m     raw_response \u001B[38;5;241m=\u001B[39m openai_client\u001B[38;5;241m.\u001B[39mchat\u001B[38;5;241m.\u001B[39mcompletions\u001B[38;5;241m.\u001B[39mwith_raw_response\u001B[38;5;241m.\u001B[39mcreate(\n\u001B[1;32m    632\u001B[0m         \u001B[38;5;241m*\u001B[39m\u001B[38;5;241m*\u001B[39mdata, timeout\u001B[38;5;241m=\u001B[39mtimeout\n\u001B[1;32m    633\u001B[0m     )\n\u001B[1;32m    635\u001B[0m     \u001B[38;5;28;01mif\u001B[39;00m \u001B[38;5;28mhasattr\u001B[39m(raw_response, \u001B[38;5;124m\"\u001B[39m\u001B[38;5;124mheaders\u001B[39m\u001B[38;5;124m\"\u001B[39m):\n\u001B[1;32m    636\u001B[0m         headers \u001B[38;5;241m=\u001B[39m \u001B[38;5;28mdict\u001B[39m(raw_response\u001B[38;5;241m.\u001B[39mheaders)\n",
      "File \u001B[0;32m/opt/homebrew/anaconda3/lib/python3.11/site-packages/openai/_legacy_response.py:356\u001B[0m, in \u001B[0;36mto_raw_response_wrapper.<locals>.wrapped\u001B[0;34m(*args, **kwargs)\u001B[0m\n\u001B[1;32m    352\u001B[0m extra_headers[RAW_RESPONSE_HEADER] \u001B[38;5;241m=\u001B[39m \u001B[38;5;124m\"\u001B[39m\u001B[38;5;124mtrue\u001B[39m\u001B[38;5;124m\"\u001B[39m\n\u001B[1;32m    354\u001B[0m kwargs[\u001B[38;5;124m\"\u001B[39m\u001B[38;5;124mextra_headers\u001B[39m\u001B[38;5;124m\"\u001B[39m] \u001B[38;5;241m=\u001B[39m extra_headers\n\u001B[0;32m--> 356\u001B[0m \u001B[38;5;28;01mreturn\u001B[39;00m cast(LegacyAPIResponse[R], func(\u001B[38;5;241m*\u001B[39margs, \u001B[38;5;241m*\u001B[39m\u001B[38;5;241m*\u001B[39mkwargs))\n",
      "File \u001B[0;32m/opt/homebrew/anaconda3/lib/python3.11/site-packages/openai/_utils/_utils.py:279\u001B[0m, in \u001B[0;36mrequired_args.<locals>.inner.<locals>.wrapper\u001B[0;34m(*args, **kwargs)\u001B[0m\n\u001B[1;32m    277\u001B[0m             msg \u001B[38;5;241m=\u001B[39m \u001B[38;5;124mf\u001B[39m\u001B[38;5;124m\"\u001B[39m\u001B[38;5;124mMissing required argument: \u001B[39m\u001B[38;5;132;01m{\u001B[39;00mquote(missing[\u001B[38;5;241m0\u001B[39m])\u001B[38;5;132;01m}\u001B[39;00m\u001B[38;5;124m\"\u001B[39m\n\u001B[1;32m    278\u001B[0m     \u001B[38;5;28;01mraise\u001B[39;00m \u001B[38;5;167;01mTypeError\u001B[39;00m(msg)\n\u001B[0;32m--> 279\u001B[0m \u001B[38;5;28;01mreturn\u001B[39;00m func(\u001B[38;5;241m*\u001B[39margs, \u001B[38;5;241m*\u001B[39m\u001B[38;5;241m*\u001B[39mkwargs)\n",
      "File \u001B[0;32m/opt/homebrew/anaconda3/lib/python3.11/site-packages/openai/resources/chat/completions.py:859\u001B[0m, in \u001B[0;36mCompletions.create\u001B[0;34m(self, messages, model, audio, frequency_penalty, function_call, functions, logit_bias, logprobs, max_completion_tokens, max_tokens, metadata, modalities, n, parallel_tool_calls, prediction, presence_penalty, reasoning_effort, response_format, seed, service_tier, stop, store, stream, stream_options, temperature, tool_choice, tools, top_logprobs, top_p, user, extra_headers, extra_query, extra_body, timeout)\u001B[0m\n\u001B[1;32m    817\u001B[0m \u001B[38;5;129m@required_args\u001B[39m([\u001B[38;5;124m\"\u001B[39m\u001B[38;5;124mmessages\u001B[39m\u001B[38;5;124m\"\u001B[39m, \u001B[38;5;124m\"\u001B[39m\u001B[38;5;124mmodel\u001B[39m\u001B[38;5;124m\"\u001B[39m], [\u001B[38;5;124m\"\u001B[39m\u001B[38;5;124mmessages\u001B[39m\u001B[38;5;124m\"\u001B[39m, \u001B[38;5;124m\"\u001B[39m\u001B[38;5;124mmodel\u001B[39m\u001B[38;5;124m\"\u001B[39m, \u001B[38;5;124m\"\u001B[39m\u001B[38;5;124mstream\u001B[39m\u001B[38;5;124m\"\u001B[39m])\n\u001B[1;32m    818\u001B[0m \u001B[38;5;28;01mdef\u001B[39;00m \u001B[38;5;21mcreate\u001B[39m(\n\u001B[1;32m    819\u001B[0m     \u001B[38;5;28mself\u001B[39m,\n\u001B[0;32m   (...)\u001B[0m\n\u001B[1;32m    856\u001B[0m     timeout: \u001B[38;5;28mfloat\u001B[39m \u001B[38;5;241m|\u001B[39m httpx\u001B[38;5;241m.\u001B[39mTimeout \u001B[38;5;241m|\u001B[39m \u001B[38;5;28;01mNone\u001B[39;00m \u001B[38;5;241m|\u001B[39m NotGiven \u001B[38;5;241m=\u001B[39m NOT_GIVEN,\n\u001B[1;32m    857\u001B[0m ) \u001B[38;5;241m-\u001B[39m\u001B[38;5;241m>\u001B[39m ChatCompletion \u001B[38;5;241m|\u001B[39m Stream[ChatCompletionChunk]:\n\u001B[1;32m    858\u001B[0m     validate_response_format(response_format)\n\u001B[0;32m--> 859\u001B[0m     \u001B[38;5;28;01mreturn\u001B[39;00m \u001B[38;5;28mself\u001B[39m\u001B[38;5;241m.\u001B[39m_post(\n\u001B[1;32m    860\u001B[0m         \u001B[38;5;124m\"\u001B[39m\u001B[38;5;124m/chat/completions\u001B[39m\u001B[38;5;124m\"\u001B[39m,\n\u001B[1;32m    861\u001B[0m         body\u001B[38;5;241m=\u001B[39mmaybe_transform(\n\u001B[1;32m    862\u001B[0m             {\n\u001B[1;32m    863\u001B[0m                 \u001B[38;5;124m\"\u001B[39m\u001B[38;5;124mmessages\u001B[39m\u001B[38;5;124m\"\u001B[39m: messages,\n\u001B[1;32m    864\u001B[0m                 \u001B[38;5;124m\"\u001B[39m\u001B[38;5;124mmodel\u001B[39m\u001B[38;5;124m\"\u001B[39m: model,\n\u001B[1;32m    865\u001B[0m                 \u001B[38;5;124m\"\u001B[39m\u001B[38;5;124maudio\u001B[39m\u001B[38;5;124m\"\u001B[39m: audio,\n\u001B[1;32m    866\u001B[0m                 \u001B[38;5;124m\"\u001B[39m\u001B[38;5;124mfrequency_penalty\u001B[39m\u001B[38;5;124m\"\u001B[39m: frequency_penalty,\n\u001B[1;32m    867\u001B[0m                 \u001B[38;5;124m\"\u001B[39m\u001B[38;5;124mfunction_call\u001B[39m\u001B[38;5;124m\"\u001B[39m: function_call,\n\u001B[1;32m    868\u001B[0m                 \u001B[38;5;124m\"\u001B[39m\u001B[38;5;124mfunctions\u001B[39m\u001B[38;5;124m\"\u001B[39m: functions,\n\u001B[1;32m    869\u001B[0m                 \u001B[38;5;124m\"\u001B[39m\u001B[38;5;124mlogit_bias\u001B[39m\u001B[38;5;124m\"\u001B[39m: logit_bias,\n\u001B[1;32m    870\u001B[0m                 \u001B[38;5;124m\"\u001B[39m\u001B[38;5;124mlogprobs\u001B[39m\u001B[38;5;124m\"\u001B[39m: logprobs,\n\u001B[1;32m    871\u001B[0m                 \u001B[38;5;124m\"\u001B[39m\u001B[38;5;124mmax_completion_tokens\u001B[39m\u001B[38;5;124m\"\u001B[39m: max_completion_tokens,\n\u001B[1;32m    872\u001B[0m                 \u001B[38;5;124m\"\u001B[39m\u001B[38;5;124mmax_tokens\u001B[39m\u001B[38;5;124m\"\u001B[39m: max_tokens,\n\u001B[1;32m    873\u001B[0m                 \u001B[38;5;124m\"\u001B[39m\u001B[38;5;124mmetadata\u001B[39m\u001B[38;5;124m\"\u001B[39m: metadata,\n\u001B[1;32m    874\u001B[0m                 \u001B[38;5;124m\"\u001B[39m\u001B[38;5;124mmodalities\u001B[39m\u001B[38;5;124m\"\u001B[39m: modalities,\n\u001B[1;32m    875\u001B[0m                 \u001B[38;5;124m\"\u001B[39m\u001B[38;5;124mn\u001B[39m\u001B[38;5;124m\"\u001B[39m: n,\n\u001B[1;32m    876\u001B[0m                 \u001B[38;5;124m\"\u001B[39m\u001B[38;5;124mparallel_tool_calls\u001B[39m\u001B[38;5;124m\"\u001B[39m: parallel_tool_calls,\n\u001B[1;32m    877\u001B[0m                 \u001B[38;5;124m\"\u001B[39m\u001B[38;5;124mprediction\u001B[39m\u001B[38;5;124m\"\u001B[39m: prediction,\n\u001B[1;32m    878\u001B[0m                 \u001B[38;5;124m\"\u001B[39m\u001B[38;5;124mpresence_penalty\u001B[39m\u001B[38;5;124m\"\u001B[39m: presence_penalty,\n\u001B[1;32m    879\u001B[0m                 \u001B[38;5;124m\"\u001B[39m\u001B[38;5;124mreasoning_effort\u001B[39m\u001B[38;5;124m\"\u001B[39m: reasoning_effort,\n\u001B[1;32m    880\u001B[0m                 \u001B[38;5;124m\"\u001B[39m\u001B[38;5;124mresponse_format\u001B[39m\u001B[38;5;124m\"\u001B[39m: response_format,\n\u001B[1;32m    881\u001B[0m                 \u001B[38;5;124m\"\u001B[39m\u001B[38;5;124mseed\u001B[39m\u001B[38;5;124m\"\u001B[39m: seed,\n\u001B[1;32m    882\u001B[0m                 \u001B[38;5;124m\"\u001B[39m\u001B[38;5;124mservice_tier\u001B[39m\u001B[38;5;124m\"\u001B[39m: service_tier,\n\u001B[1;32m    883\u001B[0m                 \u001B[38;5;124m\"\u001B[39m\u001B[38;5;124mstop\u001B[39m\u001B[38;5;124m\"\u001B[39m: stop,\n\u001B[1;32m    884\u001B[0m                 \u001B[38;5;124m\"\u001B[39m\u001B[38;5;124mstore\u001B[39m\u001B[38;5;124m\"\u001B[39m: store,\n\u001B[1;32m    885\u001B[0m                 \u001B[38;5;124m\"\u001B[39m\u001B[38;5;124mstream\u001B[39m\u001B[38;5;124m\"\u001B[39m: stream,\n\u001B[1;32m    886\u001B[0m                 \u001B[38;5;124m\"\u001B[39m\u001B[38;5;124mstream_options\u001B[39m\u001B[38;5;124m\"\u001B[39m: stream_options,\n\u001B[1;32m    887\u001B[0m                 \u001B[38;5;124m\"\u001B[39m\u001B[38;5;124mtemperature\u001B[39m\u001B[38;5;124m\"\u001B[39m: temperature,\n\u001B[1;32m    888\u001B[0m                 \u001B[38;5;124m\"\u001B[39m\u001B[38;5;124mtool_choice\u001B[39m\u001B[38;5;124m\"\u001B[39m: tool_choice,\n\u001B[1;32m    889\u001B[0m                 \u001B[38;5;124m\"\u001B[39m\u001B[38;5;124mtools\u001B[39m\u001B[38;5;124m\"\u001B[39m: tools,\n\u001B[1;32m    890\u001B[0m                 \u001B[38;5;124m\"\u001B[39m\u001B[38;5;124mtop_logprobs\u001B[39m\u001B[38;5;124m\"\u001B[39m: top_logprobs,\n\u001B[1;32m    891\u001B[0m                 \u001B[38;5;124m\"\u001B[39m\u001B[38;5;124mtop_p\u001B[39m\u001B[38;5;124m\"\u001B[39m: top_p,\n\u001B[1;32m    892\u001B[0m                 \u001B[38;5;124m\"\u001B[39m\u001B[38;5;124muser\u001B[39m\u001B[38;5;124m\"\u001B[39m: user,\n\u001B[1;32m    893\u001B[0m             },\n\u001B[1;32m    894\u001B[0m             completion_create_params\u001B[38;5;241m.\u001B[39mCompletionCreateParams,\n\u001B[1;32m    895\u001B[0m         ),\n\u001B[1;32m    896\u001B[0m         options\u001B[38;5;241m=\u001B[39mmake_request_options(\n\u001B[1;32m    897\u001B[0m             extra_headers\u001B[38;5;241m=\u001B[39mextra_headers, extra_query\u001B[38;5;241m=\u001B[39mextra_query, extra_body\u001B[38;5;241m=\u001B[39mextra_body, timeout\u001B[38;5;241m=\u001B[39mtimeout\n\u001B[1;32m    898\u001B[0m         ),\n\u001B[1;32m    899\u001B[0m         cast_to\u001B[38;5;241m=\u001B[39mChatCompletion,\n\u001B[1;32m    900\u001B[0m         stream\u001B[38;5;241m=\u001B[39mstream \u001B[38;5;129;01mor\u001B[39;00m \u001B[38;5;28;01mFalse\u001B[39;00m,\n\u001B[1;32m    901\u001B[0m         stream_cls\u001B[38;5;241m=\u001B[39mStream[ChatCompletionChunk],\n\u001B[1;32m    902\u001B[0m     )\n",
      "File \u001B[0;32m/opt/homebrew/anaconda3/lib/python3.11/site-packages/openai/_base_client.py:1280\u001B[0m, in \u001B[0;36mSyncAPIClient.post\u001B[0;34m(self, path, cast_to, body, options, files, stream, stream_cls)\u001B[0m\n\u001B[1;32m   1266\u001B[0m \u001B[38;5;28;01mdef\u001B[39;00m \u001B[38;5;21mpost\u001B[39m(\n\u001B[1;32m   1267\u001B[0m     \u001B[38;5;28mself\u001B[39m,\n\u001B[1;32m   1268\u001B[0m     path: \u001B[38;5;28mstr\u001B[39m,\n\u001B[0;32m   (...)\u001B[0m\n\u001B[1;32m   1275\u001B[0m     stream_cls: \u001B[38;5;28mtype\u001B[39m[_StreamT] \u001B[38;5;241m|\u001B[39m \u001B[38;5;28;01mNone\u001B[39;00m \u001B[38;5;241m=\u001B[39m \u001B[38;5;28;01mNone\u001B[39;00m,\n\u001B[1;32m   1276\u001B[0m ) \u001B[38;5;241m-\u001B[39m\u001B[38;5;241m>\u001B[39m ResponseT \u001B[38;5;241m|\u001B[39m _StreamT:\n\u001B[1;32m   1277\u001B[0m     opts \u001B[38;5;241m=\u001B[39m FinalRequestOptions\u001B[38;5;241m.\u001B[39mconstruct(\n\u001B[1;32m   1278\u001B[0m         method\u001B[38;5;241m=\u001B[39m\u001B[38;5;124m\"\u001B[39m\u001B[38;5;124mpost\u001B[39m\u001B[38;5;124m\"\u001B[39m, url\u001B[38;5;241m=\u001B[39mpath, json_data\u001B[38;5;241m=\u001B[39mbody, files\u001B[38;5;241m=\u001B[39mto_httpx_files(files), \u001B[38;5;241m*\u001B[39m\u001B[38;5;241m*\u001B[39moptions\n\u001B[1;32m   1279\u001B[0m     )\n\u001B[0;32m-> 1280\u001B[0m     \u001B[38;5;28;01mreturn\u001B[39;00m cast(ResponseT, \u001B[38;5;28mself\u001B[39m\u001B[38;5;241m.\u001B[39mrequest(cast_to, opts, stream\u001B[38;5;241m=\u001B[39mstream, stream_cls\u001B[38;5;241m=\u001B[39mstream_cls))\n",
      "File \u001B[0;32m/opt/homebrew/anaconda3/lib/python3.11/site-packages/openai/_base_client.py:957\u001B[0m, in \u001B[0;36mSyncAPIClient.request\u001B[0;34m(self, cast_to, options, remaining_retries, stream, stream_cls)\u001B[0m\n\u001B[1;32m    954\u001B[0m \u001B[38;5;28;01melse\u001B[39;00m:\n\u001B[1;32m    955\u001B[0m     retries_taken \u001B[38;5;241m=\u001B[39m \u001B[38;5;241m0\u001B[39m\n\u001B[0;32m--> 957\u001B[0m \u001B[38;5;28;01mreturn\u001B[39;00m \u001B[38;5;28mself\u001B[39m\u001B[38;5;241m.\u001B[39m_request(\n\u001B[1;32m    958\u001B[0m     cast_to\u001B[38;5;241m=\u001B[39mcast_to,\n\u001B[1;32m    959\u001B[0m     options\u001B[38;5;241m=\u001B[39moptions,\n\u001B[1;32m    960\u001B[0m     stream\u001B[38;5;241m=\u001B[39mstream,\n\u001B[1;32m    961\u001B[0m     stream_cls\u001B[38;5;241m=\u001B[39mstream_cls,\n\u001B[1;32m    962\u001B[0m     retries_taken\u001B[38;5;241m=\u001B[39mretries_taken,\n\u001B[1;32m    963\u001B[0m )\n",
      "File \u001B[0;32m/opt/homebrew/anaconda3/lib/python3.11/site-packages/openai/_base_client.py:993\u001B[0m, in \u001B[0;36mSyncAPIClient._request\u001B[0;34m(self, cast_to, options, retries_taken, stream, stream_cls)\u001B[0m\n\u001B[1;32m    990\u001B[0m log\u001B[38;5;241m.\u001B[39mdebug(\u001B[38;5;124m\"\u001B[39m\u001B[38;5;124mSending HTTP Request: \u001B[39m\u001B[38;5;132;01m%s\u001B[39;00m\u001B[38;5;124m \u001B[39m\u001B[38;5;132;01m%s\u001B[39;00m\u001B[38;5;124m\"\u001B[39m, request\u001B[38;5;241m.\u001B[39mmethod, request\u001B[38;5;241m.\u001B[39murl)\n\u001B[1;32m    992\u001B[0m \u001B[38;5;28;01mtry\u001B[39;00m:\n\u001B[0;32m--> 993\u001B[0m     response \u001B[38;5;241m=\u001B[39m \u001B[38;5;28mself\u001B[39m\u001B[38;5;241m.\u001B[39m_client\u001B[38;5;241m.\u001B[39msend(\n\u001B[1;32m    994\u001B[0m         request,\n\u001B[1;32m    995\u001B[0m         stream\u001B[38;5;241m=\u001B[39mstream \u001B[38;5;129;01mor\u001B[39;00m \u001B[38;5;28mself\u001B[39m\u001B[38;5;241m.\u001B[39m_should_stream_response_body(request\u001B[38;5;241m=\u001B[39mrequest),\n\u001B[1;32m    996\u001B[0m         \u001B[38;5;241m*\u001B[39m\u001B[38;5;241m*\u001B[39mkwargs,\n\u001B[1;32m    997\u001B[0m     )\n\u001B[1;32m    998\u001B[0m \u001B[38;5;28;01mexcept\u001B[39;00m httpx\u001B[38;5;241m.\u001B[39mTimeoutException \u001B[38;5;28;01mas\u001B[39;00m err:\n\u001B[1;32m    999\u001B[0m     log\u001B[38;5;241m.\u001B[39mdebug(\u001B[38;5;124m\"\u001B[39m\u001B[38;5;124mEncountered httpx.TimeoutException\u001B[39m\u001B[38;5;124m\"\u001B[39m, exc_info\u001B[38;5;241m=\u001B[39m\u001B[38;5;28;01mTrue\u001B[39;00m)\n",
      "File \u001B[0;32m/opt/homebrew/anaconda3/lib/python3.11/site-packages/httpx/_client.py:926\u001B[0m, in \u001B[0;36mClient.send\u001B[0;34m(self, request, stream, auth, follow_redirects)\u001B[0m\n\u001B[1;32m    922\u001B[0m \u001B[38;5;28mself\u001B[39m\u001B[38;5;241m.\u001B[39m_set_timeout(request)\n\u001B[1;32m    924\u001B[0m auth \u001B[38;5;241m=\u001B[39m \u001B[38;5;28mself\u001B[39m\u001B[38;5;241m.\u001B[39m_build_request_auth(request, auth)\n\u001B[0;32m--> 926\u001B[0m response \u001B[38;5;241m=\u001B[39m \u001B[38;5;28mself\u001B[39m\u001B[38;5;241m.\u001B[39m_send_handling_auth(\n\u001B[1;32m    927\u001B[0m     request,\n\u001B[1;32m    928\u001B[0m     auth\u001B[38;5;241m=\u001B[39mauth,\n\u001B[1;32m    929\u001B[0m     follow_redirects\u001B[38;5;241m=\u001B[39mfollow_redirects,\n\u001B[1;32m    930\u001B[0m     history\u001B[38;5;241m=\u001B[39m[],\n\u001B[1;32m    931\u001B[0m )\n\u001B[1;32m    932\u001B[0m \u001B[38;5;28;01mtry\u001B[39;00m:\n\u001B[1;32m    933\u001B[0m     \u001B[38;5;28;01mif\u001B[39;00m \u001B[38;5;129;01mnot\u001B[39;00m stream:\n",
      "File \u001B[0;32m/opt/homebrew/anaconda3/lib/python3.11/site-packages/httpx/_client.py:954\u001B[0m, in \u001B[0;36mClient._send_handling_auth\u001B[0;34m(self, request, auth, follow_redirects, history)\u001B[0m\n\u001B[1;32m    951\u001B[0m request \u001B[38;5;241m=\u001B[39m \u001B[38;5;28mnext\u001B[39m(auth_flow)\n\u001B[1;32m    953\u001B[0m \u001B[38;5;28;01mwhile\u001B[39;00m \u001B[38;5;28;01mTrue\u001B[39;00m:\n\u001B[0;32m--> 954\u001B[0m     response \u001B[38;5;241m=\u001B[39m \u001B[38;5;28mself\u001B[39m\u001B[38;5;241m.\u001B[39m_send_handling_redirects(\n\u001B[1;32m    955\u001B[0m         request,\n\u001B[1;32m    956\u001B[0m         follow_redirects\u001B[38;5;241m=\u001B[39mfollow_redirects,\n\u001B[1;32m    957\u001B[0m         history\u001B[38;5;241m=\u001B[39mhistory,\n\u001B[1;32m    958\u001B[0m     )\n\u001B[1;32m    959\u001B[0m     \u001B[38;5;28;01mtry\u001B[39;00m:\n\u001B[1;32m    960\u001B[0m         \u001B[38;5;28;01mtry\u001B[39;00m:\n",
      "File \u001B[0;32m/opt/homebrew/anaconda3/lib/python3.11/site-packages/httpx/_client.py:991\u001B[0m, in \u001B[0;36mClient._send_handling_redirects\u001B[0;34m(self, request, follow_redirects, history)\u001B[0m\n\u001B[1;32m    988\u001B[0m \u001B[38;5;28;01mfor\u001B[39;00m hook \u001B[38;5;129;01min\u001B[39;00m \u001B[38;5;28mself\u001B[39m\u001B[38;5;241m.\u001B[39m_event_hooks[\u001B[38;5;124m\"\u001B[39m\u001B[38;5;124mrequest\u001B[39m\u001B[38;5;124m\"\u001B[39m]:\n\u001B[1;32m    989\u001B[0m     hook(request)\n\u001B[0;32m--> 991\u001B[0m response \u001B[38;5;241m=\u001B[39m \u001B[38;5;28mself\u001B[39m\u001B[38;5;241m.\u001B[39m_send_single_request(request)\n\u001B[1;32m    992\u001B[0m \u001B[38;5;28;01mtry\u001B[39;00m:\n\u001B[1;32m    993\u001B[0m     \u001B[38;5;28;01mfor\u001B[39;00m hook \u001B[38;5;129;01min\u001B[39;00m \u001B[38;5;28mself\u001B[39m\u001B[38;5;241m.\u001B[39m_event_hooks[\u001B[38;5;124m\"\u001B[39m\u001B[38;5;124mresponse\u001B[39m\u001B[38;5;124m\"\u001B[39m]:\n",
      "File \u001B[0;32m/opt/homebrew/anaconda3/lib/python3.11/site-packages/httpx/_client.py:1027\u001B[0m, in \u001B[0;36mClient._send_single_request\u001B[0;34m(self, request)\u001B[0m\n\u001B[1;32m   1022\u001B[0m     \u001B[38;5;28;01mraise\u001B[39;00m \u001B[38;5;167;01mRuntimeError\u001B[39;00m(\n\u001B[1;32m   1023\u001B[0m         \u001B[38;5;124m\"\u001B[39m\u001B[38;5;124mAttempted to send an async request with a sync Client instance.\u001B[39m\u001B[38;5;124m\"\u001B[39m\n\u001B[1;32m   1024\u001B[0m     )\n\u001B[1;32m   1026\u001B[0m \u001B[38;5;28;01mwith\u001B[39;00m request_context(request\u001B[38;5;241m=\u001B[39mrequest):\n\u001B[0;32m-> 1027\u001B[0m     response \u001B[38;5;241m=\u001B[39m transport\u001B[38;5;241m.\u001B[39mhandle_request(request)\n\u001B[1;32m   1029\u001B[0m \u001B[38;5;28;01massert\u001B[39;00m \u001B[38;5;28misinstance\u001B[39m(response\u001B[38;5;241m.\u001B[39mstream, SyncByteStream)\n\u001B[1;32m   1031\u001B[0m response\u001B[38;5;241m.\u001B[39mrequest \u001B[38;5;241m=\u001B[39m request\n",
      "File \u001B[0;32m/opt/homebrew/anaconda3/lib/python3.11/site-packages/httpx/_transports/default.py:236\u001B[0m, in \u001B[0;36mHTTPTransport.handle_request\u001B[0;34m(self, request)\u001B[0m\n\u001B[1;32m    223\u001B[0m req \u001B[38;5;241m=\u001B[39m httpcore\u001B[38;5;241m.\u001B[39mRequest(\n\u001B[1;32m    224\u001B[0m     method\u001B[38;5;241m=\u001B[39mrequest\u001B[38;5;241m.\u001B[39mmethod,\n\u001B[1;32m    225\u001B[0m     url\u001B[38;5;241m=\u001B[39mhttpcore\u001B[38;5;241m.\u001B[39mURL(\n\u001B[0;32m   (...)\u001B[0m\n\u001B[1;32m    233\u001B[0m     extensions\u001B[38;5;241m=\u001B[39mrequest\u001B[38;5;241m.\u001B[39mextensions,\n\u001B[1;32m    234\u001B[0m )\n\u001B[1;32m    235\u001B[0m \u001B[38;5;28;01mwith\u001B[39;00m map_httpcore_exceptions():\n\u001B[0;32m--> 236\u001B[0m     resp \u001B[38;5;241m=\u001B[39m \u001B[38;5;28mself\u001B[39m\u001B[38;5;241m.\u001B[39m_pool\u001B[38;5;241m.\u001B[39mhandle_request(req)\n\u001B[1;32m    238\u001B[0m \u001B[38;5;28;01massert\u001B[39;00m \u001B[38;5;28misinstance\u001B[39m(resp\u001B[38;5;241m.\u001B[39mstream, typing\u001B[38;5;241m.\u001B[39mIterable)\n\u001B[1;32m    240\u001B[0m \u001B[38;5;28;01mreturn\u001B[39;00m Response(\n\u001B[1;32m    241\u001B[0m     status_code\u001B[38;5;241m=\u001B[39mresp\u001B[38;5;241m.\u001B[39mstatus,\n\u001B[1;32m    242\u001B[0m     headers\u001B[38;5;241m=\u001B[39mresp\u001B[38;5;241m.\u001B[39mheaders,\n\u001B[1;32m    243\u001B[0m     stream\u001B[38;5;241m=\u001B[39mResponseStream(resp\u001B[38;5;241m.\u001B[39mstream),\n\u001B[1;32m    244\u001B[0m     extensions\u001B[38;5;241m=\u001B[39mresp\u001B[38;5;241m.\u001B[39mextensions,\n\u001B[1;32m    245\u001B[0m )\n",
      "File \u001B[0;32m/opt/homebrew/anaconda3/lib/python3.11/site-packages/httpcore/_sync/connection_pool.py:256\u001B[0m, in \u001B[0;36mConnectionPool.handle_request\u001B[0;34m(self, request)\u001B[0m\n\u001B[1;32m    253\u001B[0m         closing \u001B[38;5;241m=\u001B[39m \u001B[38;5;28mself\u001B[39m\u001B[38;5;241m.\u001B[39m_assign_requests_to_connections()\n\u001B[1;32m    255\u001B[0m     \u001B[38;5;28mself\u001B[39m\u001B[38;5;241m.\u001B[39m_close_connections(closing)\n\u001B[0;32m--> 256\u001B[0m     \u001B[38;5;28;01mraise\u001B[39;00m exc \u001B[38;5;28;01mfrom\u001B[39;00m \u001B[38;5;28;01mNone\u001B[39;00m\n\u001B[1;32m    258\u001B[0m \u001B[38;5;66;03m# Return the response. Note that in this case we still have to manage\u001B[39;00m\n\u001B[1;32m    259\u001B[0m \u001B[38;5;66;03m# the point at which the response is closed.\u001B[39;00m\n\u001B[1;32m    260\u001B[0m \u001B[38;5;28;01massert\u001B[39;00m \u001B[38;5;28misinstance\u001B[39m(response\u001B[38;5;241m.\u001B[39mstream, typing\u001B[38;5;241m.\u001B[39mIterable)\n",
      "File \u001B[0;32m/opt/homebrew/anaconda3/lib/python3.11/site-packages/httpcore/_sync/connection_pool.py:236\u001B[0m, in \u001B[0;36mConnectionPool.handle_request\u001B[0;34m(self, request)\u001B[0m\n\u001B[1;32m    232\u001B[0m connection \u001B[38;5;241m=\u001B[39m pool_request\u001B[38;5;241m.\u001B[39mwait_for_connection(timeout\u001B[38;5;241m=\u001B[39mtimeout)\n\u001B[1;32m    234\u001B[0m \u001B[38;5;28;01mtry\u001B[39;00m:\n\u001B[1;32m    235\u001B[0m     \u001B[38;5;66;03m# Send the request on the assigned connection.\u001B[39;00m\n\u001B[0;32m--> 236\u001B[0m     response \u001B[38;5;241m=\u001B[39m connection\u001B[38;5;241m.\u001B[39mhandle_request(\n\u001B[1;32m    237\u001B[0m         pool_request\u001B[38;5;241m.\u001B[39mrequest\n\u001B[1;32m    238\u001B[0m     )\n\u001B[1;32m    239\u001B[0m \u001B[38;5;28;01mexcept\u001B[39;00m ConnectionNotAvailable:\n\u001B[1;32m    240\u001B[0m     \u001B[38;5;66;03m# In some cases a connection may initially be available to\u001B[39;00m\n\u001B[1;32m    241\u001B[0m     \u001B[38;5;66;03m# handle a request, but then become unavailable.\u001B[39;00m\n\u001B[1;32m    242\u001B[0m     \u001B[38;5;66;03m#\u001B[39;00m\n\u001B[1;32m    243\u001B[0m     \u001B[38;5;66;03m# In this case we clear the connection and try again.\u001B[39;00m\n\u001B[1;32m    244\u001B[0m     pool_request\u001B[38;5;241m.\u001B[39mclear_connection()\n",
      "File \u001B[0;32m/opt/homebrew/anaconda3/lib/python3.11/site-packages/httpcore/_sync/connection.py:103\u001B[0m, in \u001B[0;36mHTTPConnection.handle_request\u001B[0;34m(self, request)\u001B[0m\n\u001B[1;32m    100\u001B[0m     \u001B[38;5;28mself\u001B[39m\u001B[38;5;241m.\u001B[39m_connect_failed \u001B[38;5;241m=\u001B[39m \u001B[38;5;28;01mTrue\u001B[39;00m\n\u001B[1;32m    101\u001B[0m     \u001B[38;5;28;01mraise\u001B[39;00m exc\n\u001B[0;32m--> 103\u001B[0m \u001B[38;5;28;01mreturn\u001B[39;00m \u001B[38;5;28mself\u001B[39m\u001B[38;5;241m.\u001B[39m_connection\u001B[38;5;241m.\u001B[39mhandle_request(request)\n",
      "File \u001B[0;32m/opt/homebrew/anaconda3/lib/python3.11/site-packages/httpcore/_sync/http11.py:136\u001B[0m, in \u001B[0;36mHTTP11Connection.handle_request\u001B[0;34m(self, request)\u001B[0m\n\u001B[1;32m    134\u001B[0m     \u001B[38;5;28;01mwith\u001B[39;00m Trace(\u001B[38;5;124m\"\u001B[39m\u001B[38;5;124mresponse_closed\u001B[39m\u001B[38;5;124m\"\u001B[39m, logger, request) \u001B[38;5;28;01mas\u001B[39;00m trace:\n\u001B[1;32m    135\u001B[0m         \u001B[38;5;28mself\u001B[39m\u001B[38;5;241m.\u001B[39m_response_closed()\n\u001B[0;32m--> 136\u001B[0m \u001B[38;5;28;01mraise\u001B[39;00m exc\n",
      "File \u001B[0;32m/opt/homebrew/anaconda3/lib/python3.11/site-packages/httpcore/_sync/http11.py:106\u001B[0m, in \u001B[0;36mHTTP11Connection.handle_request\u001B[0;34m(self, request)\u001B[0m\n\u001B[1;32m     95\u001B[0m     \u001B[38;5;28;01mpass\u001B[39;00m\n\u001B[1;32m     97\u001B[0m \u001B[38;5;28;01mwith\u001B[39;00m Trace(\n\u001B[1;32m     98\u001B[0m     \u001B[38;5;124m\"\u001B[39m\u001B[38;5;124mreceive_response_headers\u001B[39m\u001B[38;5;124m\"\u001B[39m, logger, request, kwargs\n\u001B[1;32m     99\u001B[0m ) \u001B[38;5;28;01mas\u001B[39;00m trace:\n\u001B[1;32m    100\u001B[0m     (\n\u001B[1;32m    101\u001B[0m         http_version,\n\u001B[1;32m    102\u001B[0m         status,\n\u001B[1;32m    103\u001B[0m         reason_phrase,\n\u001B[1;32m    104\u001B[0m         headers,\n\u001B[1;32m    105\u001B[0m         trailing_data,\n\u001B[0;32m--> 106\u001B[0m     ) \u001B[38;5;241m=\u001B[39m \u001B[38;5;28mself\u001B[39m\u001B[38;5;241m.\u001B[39m_receive_response_headers(\u001B[38;5;241m*\u001B[39m\u001B[38;5;241m*\u001B[39mkwargs)\n\u001B[1;32m    107\u001B[0m     trace\u001B[38;5;241m.\u001B[39mreturn_value \u001B[38;5;241m=\u001B[39m (\n\u001B[1;32m    108\u001B[0m         http_version,\n\u001B[1;32m    109\u001B[0m         status,\n\u001B[1;32m    110\u001B[0m         reason_phrase,\n\u001B[1;32m    111\u001B[0m         headers,\n\u001B[1;32m    112\u001B[0m     )\n\u001B[1;32m    114\u001B[0m network_stream \u001B[38;5;241m=\u001B[39m \u001B[38;5;28mself\u001B[39m\u001B[38;5;241m.\u001B[39m_network_stream\n",
      "File \u001B[0;32m/opt/homebrew/anaconda3/lib/python3.11/site-packages/httpcore/_sync/http11.py:177\u001B[0m, in \u001B[0;36mHTTP11Connection._receive_response_headers\u001B[0;34m(self, request)\u001B[0m\n\u001B[1;32m    174\u001B[0m timeout \u001B[38;5;241m=\u001B[39m timeouts\u001B[38;5;241m.\u001B[39mget(\u001B[38;5;124m\"\u001B[39m\u001B[38;5;124mread\u001B[39m\u001B[38;5;124m\"\u001B[39m, \u001B[38;5;28;01mNone\u001B[39;00m)\n\u001B[1;32m    176\u001B[0m \u001B[38;5;28;01mwhile\u001B[39;00m \u001B[38;5;28;01mTrue\u001B[39;00m:\n\u001B[0;32m--> 177\u001B[0m     event \u001B[38;5;241m=\u001B[39m \u001B[38;5;28mself\u001B[39m\u001B[38;5;241m.\u001B[39m_receive_event(timeout\u001B[38;5;241m=\u001B[39mtimeout)\n\u001B[1;32m    178\u001B[0m     \u001B[38;5;28;01mif\u001B[39;00m \u001B[38;5;28misinstance\u001B[39m(event, h11\u001B[38;5;241m.\u001B[39mResponse):\n\u001B[1;32m    179\u001B[0m         \u001B[38;5;28;01mbreak\u001B[39;00m\n",
      "File \u001B[0;32m/opt/homebrew/anaconda3/lib/python3.11/site-packages/httpcore/_sync/http11.py:217\u001B[0m, in \u001B[0;36mHTTP11Connection._receive_event\u001B[0;34m(self, timeout)\u001B[0m\n\u001B[1;32m    214\u001B[0m     event \u001B[38;5;241m=\u001B[39m \u001B[38;5;28mself\u001B[39m\u001B[38;5;241m.\u001B[39m_h11_state\u001B[38;5;241m.\u001B[39mnext_event()\n\u001B[1;32m    216\u001B[0m \u001B[38;5;28;01mif\u001B[39;00m event \u001B[38;5;129;01mis\u001B[39;00m h11\u001B[38;5;241m.\u001B[39mNEED_DATA:\n\u001B[0;32m--> 217\u001B[0m     data \u001B[38;5;241m=\u001B[39m \u001B[38;5;28mself\u001B[39m\u001B[38;5;241m.\u001B[39m_network_stream\u001B[38;5;241m.\u001B[39mread(\n\u001B[1;32m    218\u001B[0m         \u001B[38;5;28mself\u001B[39m\u001B[38;5;241m.\u001B[39mREAD_NUM_BYTES, timeout\u001B[38;5;241m=\u001B[39mtimeout\n\u001B[1;32m    219\u001B[0m     )\n\u001B[1;32m    221\u001B[0m     \u001B[38;5;66;03m# If we feed this case through h11 we'll raise an exception like:\u001B[39;00m\n\u001B[1;32m    222\u001B[0m     \u001B[38;5;66;03m#\u001B[39;00m\n\u001B[1;32m    223\u001B[0m     \u001B[38;5;66;03m#     httpcore.RemoteProtocolError: can't handle event type\u001B[39;00m\n\u001B[0;32m   (...)\u001B[0m\n\u001B[1;32m    227\u001B[0m     \u001B[38;5;66;03m# perspective. Instead we handle this case distinctly and treat\u001B[39;00m\n\u001B[1;32m    228\u001B[0m     \u001B[38;5;66;03m# it as a ConnectError.\u001B[39;00m\n\u001B[1;32m    229\u001B[0m     \u001B[38;5;28;01mif\u001B[39;00m data \u001B[38;5;241m==\u001B[39m \u001B[38;5;124mb\u001B[39m\u001B[38;5;124m\"\u001B[39m\u001B[38;5;124m\"\u001B[39m \u001B[38;5;129;01mand\u001B[39;00m \u001B[38;5;28mself\u001B[39m\u001B[38;5;241m.\u001B[39m_h11_state\u001B[38;5;241m.\u001B[39mtheir_state \u001B[38;5;241m==\u001B[39m h11\u001B[38;5;241m.\u001B[39mSEND_RESPONSE:\n",
      "File \u001B[0;32m/opt/homebrew/anaconda3/lib/python3.11/site-packages/httpcore/_backends/sync.py:128\u001B[0m, in \u001B[0;36mSyncStream.read\u001B[0;34m(self, max_bytes, timeout)\u001B[0m\n\u001B[1;32m    126\u001B[0m \u001B[38;5;28;01mwith\u001B[39;00m map_exceptions(exc_map):\n\u001B[1;32m    127\u001B[0m     \u001B[38;5;28mself\u001B[39m\u001B[38;5;241m.\u001B[39m_sock\u001B[38;5;241m.\u001B[39msettimeout(timeout)\n\u001B[0;32m--> 128\u001B[0m     \u001B[38;5;28;01mreturn\u001B[39;00m \u001B[38;5;28mself\u001B[39m\u001B[38;5;241m.\u001B[39m_sock\u001B[38;5;241m.\u001B[39mrecv(max_bytes)\n",
      "File \u001B[0;32m/opt/homebrew/anaconda3/lib/python3.11/ssl.py:1295\u001B[0m, in \u001B[0;36mSSLSocket.recv\u001B[0;34m(self, buflen, flags)\u001B[0m\n\u001B[1;32m   1291\u001B[0m     \u001B[38;5;28;01mif\u001B[39;00m flags \u001B[38;5;241m!=\u001B[39m \u001B[38;5;241m0\u001B[39m:\n\u001B[1;32m   1292\u001B[0m         \u001B[38;5;28;01mraise\u001B[39;00m \u001B[38;5;167;01mValueError\u001B[39;00m(\n\u001B[1;32m   1293\u001B[0m             \u001B[38;5;124m\"\u001B[39m\u001B[38;5;124mnon-zero flags not allowed in calls to recv() on \u001B[39m\u001B[38;5;132;01m%s\u001B[39;00m\u001B[38;5;124m\"\u001B[39m \u001B[38;5;241m%\u001B[39m\n\u001B[1;32m   1294\u001B[0m             \u001B[38;5;28mself\u001B[39m\u001B[38;5;241m.\u001B[39m\u001B[38;5;18m__class__\u001B[39m)\n\u001B[0;32m-> 1295\u001B[0m     \u001B[38;5;28;01mreturn\u001B[39;00m \u001B[38;5;28mself\u001B[39m\u001B[38;5;241m.\u001B[39mread(buflen)\n\u001B[1;32m   1296\u001B[0m \u001B[38;5;28;01melse\u001B[39;00m:\n\u001B[1;32m   1297\u001B[0m     \u001B[38;5;28;01mreturn\u001B[39;00m \u001B[38;5;28msuper\u001B[39m()\u001B[38;5;241m.\u001B[39mrecv(buflen, flags)\n",
      "File \u001B[0;32m/opt/homebrew/anaconda3/lib/python3.11/ssl.py:1168\u001B[0m, in \u001B[0;36mSSLSocket.read\u001B[0;34m(self, len, buffer)\u001B[0m\n\u001B[1;32m   1166\u001B[0m         \u001B[38;5;28;01mreturn\u001B[39;00m \u001B[38;5;28mself\u001B[39m\u001B[38;5;241m.\u001B[39m_sslobj\u001B[38;5;241m.\u001B[39mread(\u001B[38;5;28mlen\u001B[39m, buffer)\n\u001B[1;32m   1167\u001B[0m     \u001B[38;5;28;01melse\u001B[39;00m:\n\u001B[0;32m-> 1168\u001B[0m         \u001B[38;5;28;01mreturn\u001B[39;00m \u001B[38;5;28mself\u001B[39m\u001B[38;5;241m.\u001B[39m_sslobj\u001B[38;5;241m.\u001B[39mread(\u001B[38;5;28mlen\u001B[39m)\n\u001B[1;32m   1169\u001B[0m \u001B[38;5;28;01mexcept\u001B[39;00m SSLError \u001B[38;5;28;01mas\u001B[39;00m x:\n\u001B[1;32m   1170\u001B[0m     \u001B[38;5;28;01mif\u001B[39;00m x\u001B[38;5;241m.\u001B[39margs[\u001B[38;5;241m0\u001B[39m] \u001B[38;5;241m==\u001B[39m SSL_ERROR_EOF \u001B[38;5;129;01mand\u001B[39;00m \u001B[38;5;28mself\u001B[39m\u001B[38;5;241m.\u001B[39msuppress_ragged_eofs:\n",
      "\u001B[0;31mKeyboardInterrupt\u001B[0m: "
     ]
    }
   ],
   "execution_count": 34
  },
  {
   "cell_type": "markdown",
   "metadata": {},
   "source": [
    "## Creating a Test Suite\n",
    "\n",
    "We can create a test suite and use it to compare different models."
   ]
  },
  {
   "cell_type": "markdown",
   "metadata": {},
   "source": [
    "Load the test set from disk."
   ]
  },
  {
   "cell_type": "code",
   "metadata": {
    "ExecuteTime": {
     "end_time": "2025-01-03T17:43:20.416445Z",
     "start_time": "2025-01-03T17:43:20.409967Z"
    }
   },
   "source": [
    "from giskard.rag import QATestset\n",
    "\n",
    "testset = QATestset.load(\"../../backup/test-set.jsonl\")"
   ],
   "outputs": [],
   "execution_count": 19
  },
  {
   "cell_type": "markdown",
   "metadata": {},
   "source": [
    "Create a Test Suite from the test set."
   ]
  },
  {
   "cell_type": "code",
   "metadata": {
    "ExecuteTime": {
     "end_time": "2025-01-03T17:43:20.452730Z",
     "start_time": "2025-01-03T17:43:20.446594Z"
    }
   },
   "source": [
    "test_suite = testset.to_test_suite(\"Machine Learning School Test Suite\")"
   ],
   "outputs": [],
   "execution_count": 20
  },
  {
   "cell_type": "markdown",
   "metadata": {},
   "source": [
    "We need a function that takes a DataFrame of questions, invokes the chain with each question, and returns the answers."
   ]
  },
  {
   "cell_type": "code",
   "metadata": {
    "ExecuteTime": {
     "end_time": "2025-01-03T17:43:20.472088Z",
     "start_time": "2025-01-03T17:43:20.470114Z"
    }
   },
   "source": [
    "import giskard\n",
    "\n",
    "\n",
    "def batch_prediction_fn(df: pd.DataFrame):\n",
    "    return chain.batch([{\"question\": q} for q in df[\"question\"].values])"
   ],
   "outputs": [],
   "execution_count": 21
  },
  {
   "cell_type": "markdown",
   "metadata": {},
   "source": [
    "We can now create a Giskard Model object to run our test suite."
   ]
  },
  {
   "cell_type": "code",
   "metadata": {
    "ExecuteTime": {
     "end_time": "2025-01-03T17:43:20.501683Z",
     "start_time": "2025-01-03T17:43:20.499084Z"
    }
   },
   "source": [
    "giskard_model = giskard.Model(\n",
    "    model=batch_prediction_fn,\n",
    "    model_type=\"text_generation\",\n",
    "    name=\"Machine Learning School Question and Answer Model\",\n",
    "    description=\"This model answers questions about the Machine Learning School website.\",\n",
    "    feature_names=[\"question\"], \n",
    ")"
   ],
   "outputs": [
    {
     "name": "stdout",
     "output_type": "stream",
     "text": [
      "2025-01-03 18:43:20,499 pid:15163 MainThread giskard.models.automodel INFO     Your 'prediction_function' is successfully wrapped by Giskard's 'PredictionFunctionModel' wrapper class.\n"
     ]
    }
   ],
   "execution_count": 22
  },
  {
   "cell_type": "markdown",
   "metadata": {},
   "source": [
    "Let's now run the test suite using the model we created before."
   ]
  },
  {
   "cell_type": "code",
   "metadata": {
    "ExecuteTime": {
     "end_time": "2025-01-03T17:44:09.941787Z",
     "start_time": "2025-01-03T17:43:20.538368Z"
    }
   },
   "source": [
    "test_suite_results = test_suite.run(model=giskard_model)"
   ],
   "outputs": [
    {
     "name": "stdout",
     "output_type": "stream",
     "text": [
      "2025-01-03 18:43:20,547 pid:15163 MainThread giskard.datasets.base INFO     Casting dataframe columns from {'question': 'object'} to {'question': 'object'}\n",
      "2025-01-03 18:43:31,155 pid:15163 MainThread giskard.utils.logging_utils INFO     Predicted dataset with shape (60, 5) executed in 0:00:10.612919\n",
      "2025-01-03 18:44:09,938 pid:15163 MainThread root         ERROR    An error happened during test execution for test: TestsetCorrectnessTest\n",
      "Traceback (most recent call last):\n",
      "  File \"/opt/homebrew/anaconda3/lib/python3.11/site-packages/giskard/core/suite.py\", line 522, in run\n",
      "    result = test_partial.giskard_test(**test_params).execute()\n",
      "             ^^^^^^^^^^^^^^^^^^^^^^^^^^^^^^^^^^^^^^^^^^^^^^^^^^\n",
      "  File \"/opt/homebrew/anaconda3/lib/python3.11/site-packages/giskard/registry/giskard_test.py\", line 195, in execute\n",
      "    return configured_validate_arguments(self.test_fn)(*self.args, **self.kwargs)\n",
      "           ^^^^^^^^^^^^^^^^^^^^^^^^^^^^^^^^^^^^^^^^^^^^^^^^^^^^^^^^^^^^^^^^^^^^^^\n",
      "  File \"/opt/homebrew/anaconda3/lib/python3.11/site-packages/pydantic/_internal/_validate_call.py\", line 38, in wrapper_function\n",
      "    return wrapper(*args, **kwargs)\n",
      "           ^^^^^^^^^^^^^^^^^^^^^^^^\n",
      "  File \"/opt/homebrew/anaconda3/lib/python3.11/site-packages/pydantic/_internal/_validate_call.py\", line 111, in __call__\n",
      "    res = self.__pydantic_validator__.validate_python(pydantic_core.ArgsKwargs(args, kwargs))\n",
      "          ^^^^^^^^^^^^^^^^^^^^^^^^^^^^^^^^^^^^^^^^^^^^^^^^^^^^^^^^^^^^^^^^^^^^^^^^^^^^^^^^^^^\n",
      "  File \"/opt/homebrew/anaconda3/lib/python3.11/site-packages/giskard/testing/tests/llm/correctness.py\", line 50, in test_llm_correctness\n",
      "    details=eval_result.details,\n",
      "            ^^^^^^^^^^^^^^^^^^^\n",
      "AttributeError: 'EvaluationResult' object has no attribute 'details'\n",
      "2025-01-03 18:44:09,939 pid:15163 MainThread giskard.core.suite INFO     Executed test suite 'Machine Learning School Test Suite'\n",
      "2025-01-03 18:44:09,939 pid:15163 MainThread giskard.core.suite INFO     result: failed\n",
      "2025-01-03 18:44:09,940 pid:15163 MainThread giskard.core.suite INFO     TestsetCorrectnessTest ({'model': <giskard.models.function.PredictionFunctionModel object at 0x3490f8050>, 'dataset': <giskard.datasets.base.Dataset object at 0x34909fa50>}): {failed, metric=None}\n"
     ]
    }
   ],
   "execution_count": 23
  },
  {
   "cell_type": "markdown",
   "metadata": {},
   "source": [
    "We can display the results."
   ]
  },
  {
   "cell_type": "code",
   "metadata": {
    "ExecuteTime": {
     "end_time": "2025-01-03T17:44:09.965475Z",
     "start_time": "2025-01-03T17:44:09.955581Z"
    }
   },
   "source": [
    "display(test_suite_results)"
   ],
   "outputs": [
    {
     "data": {
      "text/plain": [
       "<TestSuiteResult (failed)>"
      ],
      "text/html": [
       "\n",
       "<style>\n",
       "    .alert {\n",
       "        padding: 16px;\n",
       "        border-radius: 4px;\n",
       "        display: flex;\n",
       "        align-items: center;\n",
       "        flex-wrap: wrap;\n",
       "        gap: 4px;\n",
       "        margin-bottom: 16px;\n",
       "    }\n",
       "\n",
       "    .test-result {\n",
       "        border-radius: 4px;\n",
       "        padding: 0 12px;\n",
       "        display: flex;\n",
       "        gap: 4px;\n",
       "        align-items: center;\n",
       "    }\n",
       "\n",
       "    .alert-error, .test-card-failed .test-result {\n",
       "        color: rgb(255, 82, 82);\n",
       "        background: rgb(243, 226, 226);\n",
       "        fill: currentcolor;\n",
       "    }\n",
       "\n",
       "    .test-card-error .test-result {\n",
       "        color: #856404;\n",
       "        background: #fff3cd;\n",
       "        fill: currentcolor;\n",
       "    }\n",
       "\n",
       "    .alert-success, .test-card-passed .test-result {\n",
       "        color: rgb(76, 175, 80);\n",
       "        background: rgb(226, 243, 226);\n",
       "        fill: currentcolor;\n",
       "    }\n",
       "\n",
       "    .alert svg {\n",
       "        height: 24px;\n",
       "        width: 24px;\n",
       "        border-radius: 50%;\n",
       "        background: rgba(0, 0, 0, 10%);\n",
       "    }\n",
       "\n",
       "    .test-result svg {\n",
       "        height: 16px;\n",
       "        width: 16px;\n",
       "    }\n",
       "\n",
       "    .card-container {\n",
       "        display: flex;\n",
       "        flex-direction: column;\n",
       "        gap: 16px;\n",
       "    }\n",
       "\n",
       "    .test-card {\n",
       "        border-radius: 4px;\n",
       "        border: 1px solid #e0e0e0;\n",
       "        color: rgb(98, 98, 98);\n",
       "        background: #fff;\n",
       "    }\n",
       "\n",
       "    .param {\n",
       "        display: flex;\n",
       "        flex-direction: column;\n",
       "    }\n",
       "\n",
       "    .test-card .test-name, .test-card .param-value {\n",
       "        color: #000\n",
       "    }\n",
       "\n",
       "    .test-card-row {\n",
       "        padding: 10px;\n",
       "        display: flex;\n",
       "        gap: 20px;\n",
       "        align-items: center;\n",
       "        flex-wrap: wrap;\n",
       "    }\n",
       "\n",
       "    .test-card-row:last-child {\n",
       "        border-top: 1px solid #dee2e6;\n",
       "    }\n",
       "\n",
       "    .spacer {\n",
       "        flex-grow: 1;\n",
       "    }\n",
       "\n",
       "    .test-card-failed .metric {\n",
       "        color: #b71c1c;\n",
       "    }\n",
       "</style>\n",
       "\n",
       "\n",
       "\n",
       "\n",
       "<div class='dark'>\n",
       "    <div id='gsk-suite'>\n",
       "        <div class=\"alert alert-error\">\n",
       "  \n",
       "  <svg xmlns=\"http://www.w3.org/2000/svg\" viewBox=\"0 0 24 24\">\n",
       "    <title>close</title>\n",
       "    <path\n",
       "      d=\"M19,6.41L17.59,5L12,10.59L6.41,5L5,6.41L10.59,12L5,17.59L6.41,19L12,13.41L17.59,19L19,17.59L13.41,12L19,6.41Z\"\n",
       "    />\n",
       "  </svg>\n",
       "  <strong>Test suite failed.</strong>\n",
       "  \n",
       "</div>\n",
       "        <div class='card-container'>\n",
       "  \n",
       "  <div\n",
       "    class='test-card test-card-error'>\n",
       "    <div class='test-card-row'>\n",
       "      <span class='test-name'>Test TestsetCorrectnessTest</span>\n",
       "      <div class='spacer'></div>\n",
       "      \n",
       "      <span class='test-result'>\n",
       "      \n",
       "        <svg xmlns='http://www.w3.org/2000/svg' viewBox='0 0 24 24'><title>alert-outline</title>\n",
       "          <path d='M12,2L1,21H23M12,6L19.53,19H4.47M11,10V14H13V10M11,16V18H13V16' />\n",
       "        </svg>\n",
       "        Error\n",
       "      \n",
       "    </span>\n",
       "    </div>\n",
       "    <div class='test-card-row'>\n",
       "      \n",
       "      <div class='param'>\n",
       "        <span>model</span>\n",
       "        <span class='param-value'>Machine Learning School Question and Answer Model</span>\n",
       "      </div>\n",
       "      \n",
       "      <div class='param'>\n",
       "        <span>dataset</span>\n",
       "        <span class='param-value'>QA Testset</span>\n",
       "      </div>\n",
       "      \n",
       "    </div>\n",
       "  </div>\n",
       "  \n",
       "</div>\n",
       "    </div>\n",
       "</div>\n"
      ]
     },
     "metadata": {},
     "output_type": "display_data"
    }
   ],
   "execution_count": 24
  },
  {
   "cell_type": "markdown",
   "metadata": {},
   "source": [
    "## Integrating with Pytest"
   ]
  },
  {
   "cell_type": "code",
   "metadata": {
    "ExecuteTime": {
     "end_time": "2025-01-03T17:44:10.084987Z",
     "start_time": "2025-01-03T17:44:10.024464Z"
    }
   },
   "source": [
    "import ipytest"
   ],
   "outputs": [],
   "execution_count": 25
  },
  {
   "cell_type": "markdown",
   "metadata": {},
   "source": [
    "We can now integrate our test suite with Pytest."
   ]
  },
  {
   "cell_type": "code",
   "metadata": {
    "ExecuteTime": {
     "end_time": "2025-01-03T17:44:10.092513Z",
     "start_time": "2025-01-03T17:44:10.090781Z"
    }
   },
   "source": [
    "%%ipytest\n",
    "\n",
    "import pytest\n",
    "from giskard.rag import QATestset\n",
    "from giskard.testing.tests.llm import test_llm_correctness\n",
    "\n",
    "\n",
    "@pytest.fixture\n",
    "def dataset():\n",
    "    testset = QATestset.load(\"../../backup/test-set.jsonl\")\n",
    "    return testset.to_dataset()\n",
    "\n",
    "\n",
    "@pytest.fixture\n",
    "def model():\n",
    "    return giskard_model\n",
    "\n",
    "\n",
    "def test_chain(dataset, model):\n",
    "    test_llm_correctness(model=model, dataset=dataset, threshold=0.5).assert_()"
   ],
   "outputs": [
    {
     "name": "stderr",
     "output_type": "stream",
     "text": [
      "UsageError: Cell magic `%%ipytest` not found.\n"
     ]
    }
   ],
   "execution_count": 26
  }
 ],
 "metadata": {
  "kernelspec": {
   "display_name": ".venv",
   "language": "python",
   "name": "python3"
  },
  "language_info": {
   "codemirror_mode": {
    "name": "ipython",
    "version": 3
   },
   "file_extension": ".py",
   "mimetype": "text/x-python",
   "name": "python",
   "nbconvert_exporter": "python",
   "pygments_lexer": "ipython3",
   "version": "3.10.11"
  }
 },
 "nbformat": 4,
 "nbformat_minor": 2
}
