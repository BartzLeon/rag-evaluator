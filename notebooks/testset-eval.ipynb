{
 "cells": [
  {
   "cell_type": "code",
   "execution_count": 4,
   "metadata": {},
   "outputs": [],
   "source": [
    "import requests\n",
    "import random\n",
    "import json\n",
    "\n",
    "def get_random_questions(testset_id, host=\"localhost\", port=9876):\n",
    "    response = requests.get(f\"http://{host}:{port}/testsets/{testset_id}\")\n",
    "    content = response.json()\n",
    "\n",
    "    questions_json = content[\"questions\"]\n",
    "\n",
    "    #get random 10 questions\n",
    "    questions = json.loads(questions_json)\n",
    "\n",
    "    # Get all question IDs\n",
    "    question_ids = list(questions['question'].keys())\n",
    "\n",
    "    # Select 10 random question IDs\n",
    "    random_question_ids = random.sample(question_ids, min(10, len(question_ids)))\n",
    "\n",
    "    # Create array of question objects with all attributes\n",
    "    random_questions = []\n",
    "    for q_id in random_question_ids:\n",
    "        question_obj = {\n",
    "            'id': q_id,\n",
    "            'question': questions['question'][q_id],\n",
    "            'reference_answer': questions['reference_answer'][q_id],\n",
    "            'reference_context': questions['reference_context'][q_id],\n",
    "            'metadata': questions['metadata'][q_id]\n",
    "        }\n",
    "        # Add conversation history if it exists for this question\n",
    "        if q_id in questions['conversation_history']:\n",
    "            question_obj['conversation_history'] = questions['conversation_history'][q_id]\n",
    "        random_questions.append(question_obj)\n",
    "\n",
    "    # Print the first question as an example\n",
    "    return json.dumps(random_questions, indent=2, ensure_ascii=False)\n",
    "\n",
    "\n",
    "def copy_to_clipboard(text):\n",
    "    #!pip install pyperclip\n",
    "    import pyperclip\n",
    "\n",
    "    pyperclip.copy(text)"
   ]
  },
  {
   "cell_type": "code",
   "execution_count": 5,
   "metadata": {},
   "outputs": [],
   "source": [
    "copy_to_clipboard(get_random_questions(47))"
   ]
  },
  {
   "cell_type": "code",
   "execution_count": 35,
   "metadata": {},
   "outputs": [],
   "source": []
  },
  {
   "cell_type": "code",
   "execution_count": null,
   "metadata": {},
   "outputs": [],
   "source": []
  },
  {
   "cell_type": "code",
   "execution_count": null,
   "metadata": {},
   "outputs": [],
   "source": []
  }
 ],
 "metadata": {
  "kernelspec": {
   "display_name": "rag-eval-bachelor",
   "language": "python",
   "name": "python3"
  },
  "language_info": {
   "codemirror_mode": {
    "name": "ipython",
    "version": 3
   },
   "file_extension": ".py",
   "mimetype": "text/x-python",
   "name": "python",
   "nbconvert_exporter": "python",
   "pygments_lexer": "ipython3",
   "version": "3.10.11"
  }
 },
 "nbformat": 4,
 "nbformat_minor": 2
}
